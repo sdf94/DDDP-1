{
 "cells": [
  {
   "cell_type": "code",
   "execution_count": 17,
   "metadata": {
    "collapsed": true
   },
   "outputs": [],
   "source": [
    "import numpy as np\n",
    "import pandas as pd\n",
    "import matplotlib.pyplot as plt\n",
    "%matplotlib inline"
   ]
  },
  {
   "cell_type": "code",
   "execution_count": 89,
   "metadata": {
    "collapsed": true
   },
   "outputs": [],
   "source": [
    "# load the dataframe with assigned ratio on A, B, and X site\n",
    "df = pd.read_csv('Final_Ratio_dataframe.csv')"
   ]
  },
  {
   "cell_type": "code",
   "execution_count": 90,
   "metadata": {
    "collapsed": false
   },
   "outputs": [
    {
     "data": {
      "text/html": [
       "<div>\n",
       "<table border=\"1\" class=\"dataframe\">\n",
       "  <thead>\n",
       "    <tr style=\"text-align: right;\">\n",
       "      <th></th>\n",
       "      <th>MA/FA</th>\n",
       "      <th>MA</th>\n",
       "      <th>Al/MA</th>\n",
       "      <th>FA/Cs</th>\n",
       "      <th>MA/Cs</th>\n",
       "      <th>FA</th>\n",
       "      <th>MA/HA</th>\n",
       "      <th>FA/Rb</th>\n",
       "      <th>Cs</th>\n",
       "      <th>MA/Ag</th>\n",
       "      <th>...</th>\n",
       "      <th>Sn</th>\n",
       "      <th>Ge</th>\n",
       "      <th>Cu</th>\n",
       "      <th>I/Br</th>\n",
       "      <th>I</th>\n",
       "      <th>I/SCN</th>\n",
       "      <th>I/Cl</th>\n",
       "      <th>Br</th>\n",
       "      <th>Cl/Br</th>\n",
       "      <th>PCE</th>\n",
       "    </tr>\n",
       "  </thead>\n",
       "  <tbody>\n",
       "    <tr>\n",
       "      <th>0</th>\n",
       "      <td>0.17</td>\n",
       "      <td>NaN</td>\n",
       "      <td>NaN</td>\n",
       "      <td>NaN</td>\n",
       "      <td>NaN</td>\n",
       "      <td>NaN</td>\n",
       "      <td>NaN</td>\n",
       "      <td>NaN</td>\n",
       "      <td>NaN</td>\n",
       "      <td>NaN</td>\n",
       "      <td>...</td>\n",
       "      <td>NaN</td>\n",
       "      <td>NaN</td>\n",
       "      <td>NaN</td>\n",
       "      <td>0.83</td>\n",
       "      <td>NaN</td>\n",
       "      <td>NaN</td>\n",
       "      <td>NaN</td>\n",
       "      <td>NaN</td>\n",
       "      <td>NaN</td>\n",
       "      <td>13.4</td>\n",
       "    </tr>\n",
       "    <tr>\n",
       "      <th>1</th>\n",
       "      <td>0.17</td>\n",
       "      <td>NaN</td>\n",
       "      <td>NaN</td>\n",
       "      <td>NaN</td>\n",
       "      <td>NaN</td>\n",
       "      <td>NaN</td>\n",
       "      <td>NaN</td>\n",
       "      <td>NaN</td>\n",
       "      <td>NaN</td>\n",
       "      <td>NaN</td>\n",
       "      <td>...</td>\n",
       "      <td>NaN</td>\n",
       "      <td>NaN</td>\n",
       "      <td>NaN</td>\n",
       "      <td>0.83</td>\n",
       "      <td>NaN</td>\n",
       "      <td>NaN</td>\n",
       "      <td>NaN</td>\n",
       "      <td>NaN</td>\n",
       "      <td>NaN</td>\n",
       "      <td>12.9</td>\n",
       "    </tr>\n",
       "    <tr>\n",
       "      <th>2</th>\n",
       "      <td>NaN</td>\n",
       "      <td>1.0</td>\n",
       "      <td>NaN</td>\n",
       "      <td>NaN</td>\n",
       "      <td>NaN</td>\n",
       "      <td>NaN</td>\n",
       "      <td>NaN</td>\n",
       "      <td>NaN</td>\n",
       "      <td>NaN</td>\n",
       "      <td>NaN</td>\n",
       "      <td>...</td>\n",
       "      <td>NaN</td>\n",
       "      <td>NaN</td>\n",
       "      <td>NaN</td>\n",
       "      <td>NaN</td>\n",
       "      <td>1.0</td>\n",
       "      <td>NaN</td>\n",
       "      <td>NaN</td>\n",
       "      <td>NaN</td>\n",
       "      <td>NaN</td>\n",
       "      <td>13.2</td>\n",
       "    </tr>\n",
       "    <tr>\n",
       "      <th>3</th>\n",
       "      <td>NaN</td>\n",
       "      <td>NaN</td>\n",
       "      <td>0.075</td>\n",
       "      <td>NaN</td>\n",
       "      <td>NaN</td>\n",
       "      <td>NaN</td>\n",
       "      <td>NaN</td>\n",
       "      <td>NaN</td>\n",
       "      <td>NaN</td>\n",
       "      <td>NaN</td>\n",
       "      <td>...</td>\n",
       "      <td>NaN</td>\n",
       "      <td>NaN</td>\n",
       "      <td>NaN</td>\n",
       "      <td>NaN</td>\n",
       "      <td>1.0</td>\n",
       "      <td>NaN</td>\n",
       "      <td>NaN</td>\n",
       "      <td>NaN</td>\n",
       "      <td>NaN</td>\n",
       "      <td>13.6</td>\n",
       "    </tr>\n",
       "    <tr>\n",
       "      <th>4</th>\n",
       "      <td>NaN</td>\n",
       "      <td>NaN</td>\n",
       "      <td>0.150</td>\n",
       "      <td>NaN</td>\n",
       "      <td>NaN</td>\n",
       "      <td>NaN</td>\n",
       "      <td>NaN</td>\n",
       "      <td>NaN</td>\n",
       "      <td>NaN</td>\n",
       "      <td>NaN</td>\n",
       "      <td>...</td>\n",
       "      <td>NaN</td>\n",
       "      <td>NaN</td>\n",
       "      <td>NaN</td>\n",
       "      <td>NaN</td>\n",
       "      <td>1.0</td>\n",
       "      <td>NaN</td>\n",
       "      <td>NaN</td>\n",
       "      <td>NaN</td>\n",
       "      <td>NaN</td>\n",
       "      <td>15.8</td>\n",
       "    </tr>\n",
       "  </tbody>\n",
       "</table>\n",
       "<p>5 rows × 34 columns</p>\n",
       "</div>"
      ],
      "text/plain": [
       "   MA/FA   MA  Al/MA  FA/Cs  MA/Cs  FA  MA/HA  FA/Rb  Cs  MA/Ag  ...   Sn  Ge  \\\n",
       "0   0.17  NaN    NaN    NaN    NaN NaN    NaN    NaN NaN    NaN  ...  NaN NaN   \n",
       "1   0.17  NaN    NaN    NaN    NaN NaN    NaN    NaN NaN    NaN  ...  NaN NaN   \n",
       "2    NaN  1.0    NaN    NaN    NaN NaN    NaN    NaN NaN    NaN  ...  NaN NaN   \n",
       "3    NaN  NaN  0.075    NaN    NaN NaN    NaN    NaN NaN    NaN  ...  NaN NaN   \n",
       "4    NaN  NaN  0.150    NaN    NaN NaN    NaN    NaN NaN    NaN  ...  NaN NaN   \n",
       "\n",
       "   Cu  I/Br    I  I/SCN  I/Cl  Br  Cl/Br   PCE  \n",
       "0 NaN  0.83  NaN    NaN   NaN NaN    NaN  13.4  \n",
       "1 NaN  0.83  NaN    NaN   NaN NaN    NaN  12.9  \n",
       "2 NaN   NaN  1.0    NaN   NaN NaN    NaN  13.2  \n",
       "3 NaN   NaN  1.0    NaN   NaN NaN    NaN  13.6  \n",
       "4 NaN   NaN  1.0    NaN   NaN NaN    NaN  15.8  \n",
       "\n",
       "[5 rows x 34 columns]"
      ]
     },
     "execution_count": 90,
     "metadata": {},
     "output_type": "execute_result"
    }
   ],
   "source": [
    "# use the ratio of first compound to represent the pair\n",
    "# for instance MA/FA = 0.17 means MA/FA = 0.17/0.83\n",
    "# the total ratio of each pair for A, B, and X sites should all equal to 1\n",
    "df.head()"
   ]
  },
  {
   "cell_type": "code",
   "execution_count": 91,
   "metadata": {
    "collapsed": false
   },
   "outputs": [
    {
     "data": {
      "text/html": [
       "<div>\n",
       "<table border=\"1\" class=\"dataframe\">\n",
       "  <thead>\n",
       "    <tr style=\"text-align: right;\">\n",
       "      <th></th>\n",
       "      <th>MA/FA</th>\n",
       "      <th>MA</th>\n",
       "      <th>Al/MA</th>\n",
       "      <th>FA/Cs</th>\n",
       "      <th>MA/Cs</th>\n",
       "      <th>FA</th>\n",
       "      <th>MA/HA</th>\n",
       "      <th>FA/Rb</th>\n",
       "      <th>Cs</th>\n",
       "      <th>MA/Ag</th>\n",
       "      <th>...</th>\n",
       "      <th>Sn</th>\n",
       "      <th>Ge</th>\n",
       "      <th>Cu</th>\n",
       "      <th>I/Br</th>\n",
       "      <th>I</th>\n",
       "      <th>I/SCN</th>\n",
       "      <th>I/Cl</th>\n",
       "      <th>Br</th>\n",
       "      <th>Cl/Br</th>\n",
       "      <th>PCE</th>\n",
       "    </tr>\n",
       "  </thead>\n",
       "  <tbody>\n",
       "    <tr>\n",
       "      <th>0</th>\n",
       "      <td>0.17</td>\n",
       "      <td>0.0</td>\n",
       "      <td>0.000</td>\n",
       "      <td>0.0</td>\n",
       "      <td>0.0</td>\n",
       "      <td>0.0</td>\n",
       "      <td>0.0</td>\n",
       "      <td>0.0</td>\n",
       "      <td>0.0</td>\n",
       "      <td>0.0</td>\n",
       "      <td>...</td>\n",
       "      <td>0.0</td>\n",
       "      <td>0.0</td>\n",
       "      <td>0.0</td>\n",
       "      <td>0.83</td>\n",
       "      <td>0.0</td>\n",
       "      <td>0.0</td>\n",
       "      <td>0.0</td>\n",
       "      <td>0.0</td>\n",
       "      <td>0.0</td>\n",
       "      <td>13.4</td>\n",
       "    </tr>\n",
       "    <tr>\n",
       "      <th>1</th>\n",
       "      <td>0.17</td>\n",
       "      <td>0.0</td>\n",
       "      <td>0.000</td>\n",
       "      <td>0.0</td>\n",
       "      <td>0.0</td>\n",
       "      <td>0.0</td>\n",
       "      <td>0.0</td>\n",
       "      <td>0.0</td>\n",
       "      <td>0.0</td>\n",
       "      <td>0.0</td>\n",
       "      <td>...</td>\n",
       "      <td>0.0</td>\n",
       "      <td>0.0</td>\n",
       "      <td>0.0</td>\n",
       "      <td>0.83</td>\n",
       "      <td>0.0</td>\n",
       "      <td>0.0</td>\n",
       "      <td>0.0</td>\n",
       "      <td>0.0</td>\n",
       "      <td>0.0</td>\n",
       "      <td>12.9</td>\n",
       "    </tr>\n",
       "    <tr>\n",
       "      <th>2</th>\n",
       "      <td>0.00</td>\n",
       "      <td>1.0</td>\n",
       "      <td>0.000</td>\n",
       "      <td>0.0</td>\n",
       "      <td>0.0</td>\n",
       "      <td>0.0</td>\n",
       "      <td>0.0</td>\n",
       "      <td>0.0</td>\n",
       "      <td>0.0</td>\n",
       "      <td>0.0</td>\n",
       "      <td>...</td>\n",
       "      <td>0.0</td>\n",
       "      <td>0.0</td>\n",
       "      <td>0.0</td>\n",
       "      <td>0.00</td>\n",
       "      <td>1.0</td>\n",
       "      <td>0.0</td>\n",
       "      <td>0.0</td>\n",
       "      <td>0.0</td>\n",
       "      <td>0.0</td>\n",
       "      <td>13.2</td>\n",
       "    </tr>\n",
       "    <tr>\n",
       "      <th>3</th>\n",
       "      <td>0.00</td>\n",
       "      <td>0.0</td>\n",
       "      <td>0.075</td>\n",
       "      <td>0.0</td>\n",
       "      <td>0.0</td>\n",
       "      <td>0.0</td>\n",
       "      <td>0.0</td>\n",
       "      <td>0.0</td>\n",
       "      <td>0.0</td>\n",
       "      <td>0.0</td>\n",
       "      <td>...</td>\n",
       "      <td>0.0</td>\n",
       "      <td>0.0</td>\n",
       "      <td>0.0</td>\n",
       "      <td>0.00</td>\n",
       "      <td>1.0</td>\n",
       "      <td>0.0</td>\n",
       "      <td>0.0</td>\n",
       "      <td>0.0</td>\n",
       "      <td>0.0</td>\n",
       "      <td>13.6</td>\n",
       "    </tr>\n",
       "    <tr>\n",
       "      <th>4</th>\n",
       "      <td>0.00</td>\n",
       "      <td>0.0</td>\n",
       "      <td>0.150</td>\n",
       "      <td>0.0</td>\n",
       "      <td>0.0</td>\n",
       "      <td>0.0</td>\n",
       "      <td>0.0</td>\n",
       "      <td>0.0</td>\n",
       "      <td>0.0</td>\n",
       "      <td>0.0</td>\n",
       "      <td>...</td>\n",
       "      <td>0.0</td>\n",
       "      <td>0.0</td>\n",
       "      <td>0.0</td>\n",
       "      <td>0.00</td>\n",
       "      <td>1.0</td>\n",
       "      <td>0.0</td>\n",
       "      <td>0.0</td>\n",
       "      <td>0.0</td>\n",
       "      <td>0.0</td>\n",
       "      <td>15.8</td>\n",
       "    </tr>\n",
       "  </tbody>\n",
       "</table>\n",
       "<p>5 rows × 34 columns</p>\n",
       "</div>"
      ],
      "text/plain": [
       "   MA/FA   MA  Al/MA  FA/Cs  MA/Cs   FA  MA/HA  FA/Rb   Cs  MA/Ag  ...    Sn  \\\n",
       "0   0.17  0.0  0.000    0.0    0.0  0.0    0.0    0.0  0.0    0.0  ...   0.0   \n",
       "1   0.17  0.0  0.000    0.0    0.0  0.0    0.0    0.0  0.0    0.0  ...   0.0   \n",
       "2   0.00  1.0  0.000    0.0    0.0  0.0    0.0    0.0  0.0    0.0  ...   0.0   \n",
       "3   0.00  0.0  0.075    0.0    0.0  0.0    0.0    0.0  0.0    0.0  ...   0.0   \n",
       "4   0.00  0.0  0.150    0.0    0.0  0.0    0.0    0.0  0.0    0.0  ...   0.0   \n",
       "\n",
       "    Ge   Cu  I/Br    I  I/SCN  I/Cl   Br  Cl/Br   PCE  \n",
       "0  0.0  0.0  0.83  0.0    0.0   0.0  0.0    0.0  13.4  \n",
       "1  0.0  0.0  0.83  0.0    0.0   0.0  0.0    0.0  12.9  \n",
       "2  0.0  0.0  0.00  1.0    0.0   0.0  0.0    0.0  13.2  \n",
       "3  0.0  0.0  0.00  1.0    0.0   0.0  0.0    0.0  13.6  \n",
       "4  0.0  0.0  0.00  1.0    0.0   0.0  0.0    0.0  15.8  \n",
       "\n",
       "[5 rows x 34 columns]"
      ]
     },
     "execution_count": 91,
     "metadata": {},
     "output_type": "execute_result"
    }
   ],
   "source": [
    "# replace NA with 0\n",
    "df1 = df.fillna(0)\n",
    "df1.head()"
   ]
  },
  {
   "cell_type": "code",
   "execution_count": 92,
   "metadata": {
    "collapsed": false
   },
   "outputs": [
    {
     "data": {
      "text/html": [
       "<div>\n",
       "<table border=\"1\" class=\"dataframe\">\n",
       "  <thead>\n",
       "    <tr style=\"text-align: right;\">\n",
       "      <th></th>\n",
       "      <th>MA/FA</th>\n",
       "      <th>MA</th>\n",
       "      <th>Al/MA</th>\n",
       "      <th>FA/Cs</th>\n",
       "      <th>MA/Cs</th>\n",
       "      <th>FA</th>\n",
       "      <th>MA/HA</th>\n",
       "      <th>FA/Rb</th>\n",
       "      <th>Cs</th>\n",
       "      <th>MA/Ag</th>\n",
       "      <th>...</th>\n",
       "      <th>Pb/Zn</th>\n",
       "      <th>Sn</th>\n",
       "      <th>Ge</th>\n",
       "      <th>Cu</th>\n",
       "      <th>I/Br</th>\n",
       "      <th>I</th>\n",
       "      <th>I/SCN</th>\n",
       "      <th>I/Cl</th>\n",
       "      <th>Br</th>\n",
       "      <th>Cl/Br</th>\n",
       "    </tr>\n",
       "  </thead>\n",
       "  <tbody>\n",
       "    <tr>\n",
       "      <th>0</th>\n",
       "      <td>1.0</td>\n",
       "      <td>0.0</td>\n",
       "      <td>0.0</td>\n",
       "      <td>0.0</td>\n",
       "      <td>0.0</td>\n",
       "      <td>0.0</td>\n",
       "      <td>0.0</td>\n",
       "      <td>0.0</td>\n",
       "      <td>0.0</td>\n",
       "      <td>0.0</td>\n",
       "      <td>...</td>\n",
       "      <td>0.0</td>\n",
       "      <td>0.0</td>\n",
       "      <td>0.0</td>\n",
       "      <td>0.0</td>\n",
       "      <td>1.0</td>\n",
       "      <td>0.0</td>\n",
       "      <td>0.0</td>\n",
       "      <td>0.0</td>\n",
       "      <td>0.0</td>\n",
       "      <td>0.0</td>\n",
       "    </tr>\n",
       "    <tr>\n",
       "      <th>1</th>\n",
       "      <td>1.0</td>\n",
       "      <td>0.0</td>\n",
       "      <td>0.0</td>\n",
       "      <td>0.0</td>\n",
       "      <td>0.0</td>\n",
       "      <td>0.0</td>\n",
       "      <td>0.0</td>\n",
       "      <td>0.0</td>\n",
       "      <td>0.0</td>\n",
       "      <td>0.0</td>\n",
       "      <td>...</td>\n",
       "      <td>0.0</td>\n",
       "      <td>0.0</td>\n",
       "      <td>0.0</td>\n",
       "      <td>0.0</td>\n",
       "      <td>1.0</td>\n",
       "      <td>0.0</td>\n",
       "      <td>0.0</td>\n",
       "      <td>0.0</td>\n",
       "      <td>0.0</td>\n",
       "      <td>0.0</td>\n",
       "    </tr>\n",
       "    <tr>\n",
       "      <th>2</th>\n",
       "      <td>0.0</td>\n",
       "      <td>1.0</td>\n",
       "      <td>0.0</td>\n",
       "      <td>0.0</td>\n",
       "      <td>0.0</td>\n",
       "      <td>0.0</td>\n",
       "      <td>0.0</td>\n",
       "      <td>0.0</td>\n",
       "      <td>0.0</td>\n",
       "      <td>0.0</td>\n",
       "      <td>...</td>\n",
       "      <td>0.0</td>\n",
       "      <td>0.0</td>\n",
       "      <td>0.0</td>\n",
       "      <td>0.0</td>\n",
       "      <td>0.0</td>\n",
       "      <td>1.0</td>\n",
       "      <td>0.0</td>\n",
       "      <td>0.0</td>\n",
       "      <td>0.0</td>\n",
       "      <td>0.0</td>\n",
       "    </tr>\n",
       "    <tr>\n",
       "      <th>3</th>\n",
       "      <td>0.0</td>\n",
       "      <td>0.0</td>\n",
       "      <td>1.0</td>\n",
       "      <td>0.0</td>\n",
       "      <td>0.0</td>\n",
       "      <td>0.0</td>\n",
       "      <td>0.0</td>\n",
       "      <td>0.0</td>\n",
       "      <td>0.0</td>\n",
       "      <td>0.0</td>\n",
       "      <td>...</td>\n",
       "      <td>0.0</td>\n",
       "      <td>0.0</td>\n",
       "      <td>0.0</td>\n",
       "      <td>0.0</td>\n",
       "      <td>0.0</td>\n",
       "      <td>1.0</td>\n",
       "      <td>0.0</td>\n",
       "      <td>0.0</td>\n",
       "      <td>0.0</td>\n",
       "      <td>0.0</td>\n",
       "    </tr>\n",
       "    <tr>\n",
       "      <th>4</th>\n",
       "      <td>0.0</td>\n",
       "      <td>0.0</td>\n",
       "      <td>1.0</td>\n",
       "      <td>0.0</td>\n",
       "      <td>0.0</td>\n",
       "      <td>0.0</td>\n",
       "      <td>0.0</td>\n",
       "      <td>0.0</td>\n",
       "      <td>0.0</td>\n",
       "      <td>0.0</td>\n",
       "      <td>...</td>\n",
       "      <td>0.0</td>\n",
       "      <td>0.0</td>\n",
       "      <td>0.0</td>\n",
       "      <td>0.0</td>\n",
       "      <td>0.0</td>\n",
       "      <td>1.0</td>\n",
       "      <td>0.0</td>\n",
       "      <td>0.0</td>\n",
       "      <td>0.0</td>\n",
       "      <td>0.0</td>\n",
       "    </tr>\n",
       "  </tbody>\n",
       "</table>\n",
       "<p>5 rows × 33 columns</p>\n",
       "</div>"
      ],
      "text/plain": [
       "   MA/FA   MA  Al/MA  FA/Cs  MA/Cs   FA  MA/HA  FA/Rb   Cs  MA/Ag  ...    \\\n",
       "0    1.0  0.0    0.0    0.0    0.0  0.0    0.0    0.0  0.0    0.0  ...     \n",
       "1    1.0  0.0    0.0    0.0    0.0  0.0    0.0    0.0  0.0    0.0  ...     \n",
       "2    0.0  1.0    0.0    0.0    0.0  0.0    0.0    0.0  0.0    0.0  ...     \n",
       "3    0.0  0.0    1.0    0.0    0.0  0.0    0.0    0.0  0.0    0.0  ...     \n",
       "4    0.0  0.0    1.0    0.0    0.0  0.0    0.0    0.0  0.0    0.0  ...     \n",
       "\n",
       "   Pb/Zn   Sn   Ge   Cu  I/Br    I  I/SCN  I/Cl   Br  Cl/Br  \n",
       "0    0.0  0.0  0.0  0.0   1.0  0.0    0.0   0.0  0.0    0.0  \n",
       "1    0.0  0.0  0.0  0.0   1.0  0.0    0.0   0.0  0.0    0.0  \n",
       "2    0.0  0.0  0.0  0.0   0.0  1.0    0.0   0.0  0.0    0.0  \n",
       "3    0.0  0.0  0.0  0.0   0.0  1.0    0.0   0.0  0.0    0.0  \n",
       "4    0.0  0.0  0.0  0.0   0.0  1.0    0.0   0.0  0.0    0.0  \n",
       "\n",
       "[5 rows x 33 columns]"
      ]
     },
     "execution_count": 92,
     "metadata": {},
     "output_type": "execute_result"
    }
   ],
   "source": [
    "# replce all non-zero values to 1 except last 'PCE' column\n",
    "df2 = df1.drop('PCE', axis=1)\n",
    "df2[df2 != 0] = 1\n",
    "df2.head()"
   ]
  },
  {
   "cell_type": "code",
   "execution_count": 93,
   "metadata": {
    "collapsed": false
   },
   "outputs": [
    {
     "data": {
      "text/html": [
       "<div>\n",
       "<table border=\"1\" class=\"dataframe\">\n",
       "  <thead>\n",
       "    <tr style=\"text-align: right;\">\n",
       "      <th></th>\n",
       "      <th>MA/FA</th>\n",
       "      <th>MA</th>\n",
       "      <th>Al/MA</th>\n",
       "      <th>FA/Cs</th>\n",
       "      <th>MA/Cs</th>\n",
       "      <th>FA</th>\n",
       "      <th>MA/HA</th>\n",
       "      <th>FA/Rb</th>\n",
       "      <th>Cs</th>\n",
       "      <th>MA/Ag</th>\n",
       "      <th>...</th>\n",
       "      <th>Sn</th>\n",
       "      <th>Ge</th>\n",
       "      <th>Cu</th>\n",
       "      <th>I/Br</th>\n",
       "      <th>I</th>\n",
       "      <th>I/SCN</th>\n",
       "      <th>I/Cl</th>\n",
       "      <th>Br</th>\n",
       "      <th>Cl/Br</th>\n",
       "      <th>PCE</th>\n",
       "    </tr>\n",
       "  </thead>\n",
       "  <tbody>\n",
       "    <tr>\n",
       "      <th>0</th>\n",
       "      <td>1.0</td>\n",
       "      <td>0.0</td>\n",
       "      <td>0.0</td>\n",
       "      <td>0.0</td>\n",
       "      <td>0.0</td>\n",
       "      <td>0.0</td>\n",
       "      <td>0.0</td>\n",
       "      <td>0.0</td>\n",
       "      <td>0.0</td>\n",
       "      <td>0.0</td>\n",
       "      <td>...</td>\n",
       "      <td>0.0</td>\n",
       "      <td>0.0</td>\n",
       "      <td>0.0</td>\n",
       "      <td>1.0</td>\n",
       "      <td>0.0</td>\n",
       "      <td>0.0</td>\n",
       "      <td>0.0</td>\n",
       "      <td>0.0</td>\n",
       "      <td>0.0</td>\n",
       "      <td>13.4</td>\n",
       "    </tr>\n",
       "    <tr>\n",
       "      <th>1</th>\n",
       "      <td>1.0</td>\n",
       "      <td>0.0</td>\n",
       "      <td>0.0</td>\n",
       "      <td>0.0</td>\n",
       "      <td>0.0</td>\n",
       "      <td>0.0</td>\n",
       "      <td>0.0</td>\n",
       "      <td>0.0</td>\n",
       "      <td>0.0</td>\n",
       "      <td>0.0</td>\n",
       "      <td>...</td>\n",
       "      <td>0.0</td>\n",
       "      <td>0.0</td>\n",
       "      <td>0.0</td>\n",
       "      <td>1.0</td>\n",
       "      <td>0.0</td>\n",
       "      <td>0.0</td>\n",
       "      <td>0.0</td>\n",
       "      <td>0.0</td>\n",
       "      <td>0.0</td>\n",
       "      <td>12.9</td>\n",
       "    </tr>\n",
       "    <tr>\n",
       "      <th>2</th>\n",
       "      <td>0.0</td>\n",
       "      <td>1.0</td>\n",
       "      <td>0.0</td>\n",
       "      <td>0.0</td>\n",
       "      <td>0.0</td>\n",
       "      <td>0.0</td>\n",
       "      <td>0.0</td>\n",
       "      <td>0.0</td>\n",
       "      <td>0.0</td>\n",
       "      <td>0.0</td>\n",
       "      <td>...</td>\n",
       "      <td>0.0</td>\n",
       "      <td>0.0</td>\n",
       "      <td>0.0</td>\n",
       "      <td>0.0</td>\n",
       "      <td>1.0</td>\n",
       "      <td>0.0</td>\n",
       "      <td>0.0</td>\n",
       "      <td>0.0</td>\n",
       "      <td>0.0</td>\n",
       "      <td>13.2</td>\n",
       "    </tr>\n",
       "    <tr>\n",
       "      <th>3</th>\n",
       "      <td>0.0</td>\n",
       "      <td>0.0</td>\n",
       "      <td>1.0</td>\n",
       "      <td>0.0</td>\n",
       "      <td>0.0</td>\n",
       "      <td>0.0</td>\n",
       "      <td>0.0</td>\n",
       "      <td>0.0</td>\n",
       "      <td>0.0</td>\n",
       "      <td>0.0</td>\n",
       "      <td>...</td>\n",
       "      <td>0.0</td>\n",
       "      <td>0.0</td>\n",
       "      <td>0.0</td>\n",
       "      <td>0.0</td>\n",
       "      <td>1.0</td>\n",
       "      <td>0.0</td>\n",
       "      <td>0.0</td>\n",
       "      <td>0.0</td>\n",
       "      <td>0.0</td>\n",
       "      <td>13.6</td>\n",
       "    </tr>\n",
       "    <tr>\n",
       "      <th>4</th>\n",
       "      <td>0.0</td>\n",
       "      <td>0.0</td>\n",
       "      <td>1.0</td>\n",
       "      <td>0.0</td>\n",
       "      <td>0.0</td>\n",
       "      <td>0.0</td>\n",
       "      <td>0.0</td>\n",
       "      <td>0.0</td>\n",
       "      <td>0.0</td>\n",
       "      <td>0.0</td>\n",
       "      <td>...</td>\n",
       "      <td>0.0</td>\n",
       "      <td>0.0</td>\n",
       "      <td>0.0</td>\n",
       "      <td>0.0</td>\n",
       "      <td>1.0</td>\n",
       "      <td>0.0</td>\n",
       "      <td>0.0</td>\n",
       "      <td>0.0</td>\n",
       "      <td>0.0</td>\n",
       "      <td>15.8</td>\n",
       "    </tr>\n",
       "  </tbody>\n",
       "</table>\n",
       "<p>5 rows × 34 columns</p>\n",
       "</div>"
      ],
      "text/plain": [
       "   MA/FA   MA  Al/MA  FA/Cs  MA/Cs   FA  MA/HA  FA/Rb   Cs  MA/Ag  ...    Sn  \\\n",
       "0    1.0  0.0    0.0    0.0    0.0  0.0    0.0    0.0  0.0    0.0  ...   0.0   \n",
       "1    1.0  0.0    0.0    0.0    0.0  0.0    0.0    0.0  0.0    0.0  ...   0.0   \n",
       "2    0.0  1.0    0.0    0.0    0.0  0.0    0.0    0.0  0.0    0.0  ...   0.0   \n",
       "3    0.0  0.0    1.0    0.0    0.0  0.0    0.0    0.0  0.0    0.0  ...   0.0   \n",
       "4    0.0  0.0    1.0    0.0    0.0  0.0    0.0    0.0  0.0    0.0  ...   0.0   \n",
       "\n",
       "    Ge   Cu  I/Br    I  I/SCN  I/Cl   Br  Cl/Br   PCE  \n",
       "0  0.0  0.0   1.0  0.0    0.0   0.0  0.0    0.0  13.4  \n",
       "1  0.0  0.0   1.0  0.0    0.0   0.0  0.0    0.0  12.9  \n",
       "2  0.0  0.0   0.0  1.0    0.0   0.0  0.0    0.0  13.2  \n",
       "3  0.0  0.0   0.0  1.0    0.0   0.0  0.0    0.0  13.6  \n",
       "4  0.0  0.0   0.0  1.0    0.0   0.0  0.0    0.0  15.8  \n",
       "\n",
       "[5 rows x 34 columns]"
      ]
     },
     "execution_count": 93,
     "metadata": {},
     "output_type": "execute_result"
    }
   ],
   "source": [
    "df2['PCE'] = df1.PCE\n",
    "df2.head()"
   ]
  },
  {
   "cell_type": "code",
   "execution_count": 94,
   "metadata": {
    "collapsed": false
   },
   "outputs": [
    {
     "data": {
      "text/html": [
       "<div>\n",
       "<table border=\"1\" class=\"dataframe\">\n",
       "  <thead>\n",
       "    <tr style=\"text-align: right;\">\n",
       "      <th></th>\n",
       "      <th>MA/FA</th>\n",
       "      <th>MA</th>\n",
       "      <th>Al/MA</th>\n",
       "      <th>FA/Cs</th>\n",
       "      <th>MA/Cs</th>\n",
       "      <th>FA</th>\n",
       "      <th>MA/HA</th>\n",
       "      <th>FA/Rb</th>\n",
       "      <th>Cs</th>\n",
       "      <th>MA/Ag</th>\n",
       "      <th>...</th>\n",
       "      <th>Sn</th>\n",
       "      <th>Ge</th>\n",
       "      <th>Cu</th>\n",
       "      <th>I/Br</th>\n",
       "      <th>I</th>\n",
       "      <th>I/SCN</th>\n",
       "      <th>I/Cl</th>\n",
       "      <th>Br</th>\n",
       "      <th>Cl/Br</th>\n",
       "      <th>PCE</th>\n",
       "    </tr>\n",
       "  </thead>\n",
       "  <tbody>\n",
       "    <tr>\n",
       "      <th>0</th>\n",
       "      <td>0.17</td>\n",
       "      <td>0.0</td>\n",
       "      <td>0.000</td>\n",
       "      <td>0.0</td>\n",
       "      <td>0.0</td>\n",
       "      <td>0.0</td>\n",
       "      <td>0.0</td>\n",
       "      <td>0.0</td>\n",
       "      <td>0.0</td>\n",
       "      <td>0.0</td>\n",
       "      <td>...</td>\n",
       "      <td>0.0</td>\n",
       "      <td>0.0</td>\n",
       "      <td>0.0</td>\n",
       "      <td>0.83</td>\n",
       "      <td>0.0</td>\n",
       "      <td>0.0</td>\n",
       "      <td>0.0</td>\n",
       "      <td>0.0</td>\n",
       "      <td>0.0</td>\n",
       "      <td>13.4</td>\n",
       "    </tr>\n",
       "    <tr>\n",
       "      <th>1</th>\n",
       "      <td>0.17</td>\n",
       "      <td>0.0</td>\n",
       "      <td>0.000</td>\n",
       "      <td>0.0</td>\n",
       "      <td>0.0</td>\n",
       "      <td>0.0</td>\n",
       "      <td>0.0</td>\n",
       "      <td>0.0</td>\n",
       "      <td>0.0</td>\n",
       "      <td>0.0</td>\n",
       "      <td>...</td>\n",
       "      <td>0.0</td>\n",
       "      <td>0.0</td>\n",
       "      <td>0.0</td>\n",
       "      <td>0.83</td>\n",
       "      <td>0.0</td>\n",
       "      <td>0.0</td>\n",
       "      <td>0.0</td>\n",
       "      <td>0.0</td>\n",
       "      <td>0.0</td>\n",
       "      <td>12.9</td>\n",
       "    </tr>\n",
       "    <tr>\n",
       "      <th>2</th>\n",
       "      <td>0.00</td>\n",
       "      <td>1.0</td>\n",
       "      <td>0.000</td>\n",
       "      <td>0.0</td>\n",
       "      <td>0.0</td>\n",
       "      <td>0.0</td>\n",
       "      <td>0.0</td>\n",
       "      <td>0.0</td>\n",
       "      <td>0.0</td>\n",
       "      <td>0.0</td>\n",
       "      <td>...</td>\n",
       "      <td>0.0</td>\n",
       "      <td>0.0</td>\n",
       "      <td>0.0</td>\n",
       "      <td>0.00</td>\n",
       "      <td>1.0</td>\n",
       "      <td>0.0</td>\n",
       "      <td>0.0</td>\n",
       "      <td>0.0</td>\n",
       "      <td>0.0</td>\n",
       "      <td>13.2</td>\n",
       "    </tr>\n",
       "    <tr>\n",
       "      <th>3</th>\n",
       "      <td>0.00</td>\n",
       "      <td>0.0</td>\n",
       "      <td>0.075</td>\n",
       "      <td>0.0</td>\n",
       "      <td>0.0</td>\n",
       "      <td>0.0</td>\n",
       "      <td>0.0</td>\n",
       "      <td>0.0</td>\n",
       "      <td>0.0</td>\n",
       "      <td>0.0</td>\n",
       "      <td>...</td>\n",
       "      <td>0.0</td>\n",
       "      <td>0.0</td>\n",
       "      <td>0.0</td>\n",
       "      <td>0.00</td>\n",
       "      <td>1.0</td>\n",
       "      <td>0.0</td>\n",
       "      <td>0.0</td>\n",
       "      <td>0.0</td>\n",
       "      <td>0.0</td>\n",
       "      <td>13.6</td>\n",
       "    </tr>\n",
       "    <tr>\n",
       "      <th>4</th>\n",
       "      <td>0.00</td>\n",
       "      <td>0.0</td>\n",
       "      <td>0.150</td>\n",
       "      <td>0.0</td>\n",
       "      <td>0.0</td>\n",
       "      <td>0.0</td>\n",
       "      <td>0.0</td>\n",
       "      <td>0.0</td>\n",
       "      <td>0.0</td>\n",
       "      <td>0.0</td>\n",
       "      <td>...</td>\n",
       "      <td>0.0</td>\n",
       "      <td>0.0</td>\n",
       "      <td>0.0</td>\n",
       "      <td>0.00</td>\n",
       "      <td>1.0</td>\n",
       "      <td>0.0</td>\n",
       "      <td>0.0</td>\n",
       "      <td>0.0</td>\n",
       "      <td>0.0</td>\n",
       "      <td>15.8</td>\n",
       "    </tr>\n",
       "  </tbody>\n",
       "</table>\n",
       "<p>5 rows × 34 columns</p>\n",
       "</div>"
      ],
      "text/plain": [
       "   MA/FA   MA  Al/MA  FA/Cs  MA/Cs   FA  MA/HA  FA/Rb   Cs  MA/Ag  ...    Sn  \\\n",
       "0   0.17  0.0  0.000    0.0    0.0  0.0    0.0    0.0  0.0    0.0  ...   0.0   \n",
       "1   0.17  0.0  0.000    0.0    0.0  0.0    0.0    0.0  0.0    0.0  ...   0.0   \n",
       "2   0.00  1.0  0.000    0.0    0.0  0.0    0.0    0.0  0.0    0.0  ...   0.0   \n",
       "3   0.00  0.0  0.075    0.0    0.0  0.0    0.0    0.0  0.0    0.0  ...   0.0   \n",
       "4   0.00  0.0  0.150    0.0    0.0  0.0    0.0    0.0  0.0    0.0  ...   0.0   \n",
       "\n",
       "    Ge   Cu  I/Br    I  I/SCN  I/Cl   Br  Cl/Br   PCE  \n",
       "0  0.0  0.0  0.83  0.0    0.0   0.0  0.0    0.0  13.4  \n",
       "1  0.0  0.0  0.83  0.0    0.0   0.0  0.0    0.0  12.9  \n",
       "2  0.0  0.0  0.00  1.0    0.0   0.0  0.0    0.0  13.2  \n",
       "3  0.0  0.0  0.00  1.0    0.0   0.0  0.0    0.0  13.6  \n",
       "4  0.0  0.0  0.00  1.0    0.0   0.0  0.0    0.0  15.8  \n",
       "\n",
       "[5 rows x 34 columns]"
      ]
     },
     "execution_count": 94,
     "metadata": {},
     "output_type": "execute_result"
    }
   ],
   "source": [
    "df1.head()"
   ]
  },
  {
   "cell_type": "code",
   "execution_count": 95,
   "metadata": {
    "collapsed": false
   },
   "outputs": [
    {
     "data": {
      "text/plain": [
       "303"
      ]
     },
     "execution_count": 95,
     "metadata": {},
     "output_type": "execute_result"
    }
   ],
   "source": [
    "len(df1)"
   ]
  },
  {
   "cell_type": "code",
   "execution_count": 96,
   "metadata": {
    "collapsed": false
   },
   "outputs": [
    {
     "data": {
      "text/plain": [
       "['MA/FA',\n",
       " 'MA',\n",
       " 'Al/MA',\n",
       " 'FA/Cs',\n",
       " 'MA/Cs',\n",
       " 'FA',\n",
       " 'MA/HA',\n",
       " 'FA/Rb',\n",
       " 'Cs',\n",
       " 'MA/Ag',\n",
       " 'MA/EA',\n",
       " 'FA/PEA',\n",
       " 'MA/EDA',\n",
       " 'Pb',\n",
       " 'Pb/Sn',\n",
       " 'Pb/Sb',\n",
       " 'Pb/Co',\n",
       " 'Pb/Cu',\n",
       " 'Pb/Fe',\n",
       " 'Pb/Mg',\n",
       " 'Pb/Mn',\n",
       " 'Pb/Ni',\n",
       " 'Pb/Sr',\n",
       " 'Pb/Zn',\n",
       " 'Sn',\n",
       " 'Ge',\n",
       " 'Cu',\n",
       " 'I/Br',\n",
       " 'I',\n",
       " 'I/SCN',\n",
       " 'I/Cl',\n",
       " 'Br',\n",
       " 'Cl/Br',\n",
       " 'PCE']"
      ]
     },
     "execution_count": 96,
     "metadata": {},
     "output_type": "execute_result"
    }
   ],
   "source": [
    "list(df1)"
   ]
  },
  {
   "cell_type": "code",
   "execution_count": 97,
   "metadata": {
    "collapsed": false
   },
   "outputs": [
    {
     "data": {
      "text/plain": [
       "<bound method NDFrame.as_matrix of      MA/FA   MA  Al/MA  FA/Cs  MA/Cs   FA  MA/HA  FA/Rb   Cs  MA/Ag  ...    \\\n",
       "0     0.17  0.0  0.000   0.00   0.00  0.0    0.0    0.0  0.0    0.0  ...     \n",
       "1     0.17  0.0  0.000   0.00   0.00  0.0    0.0    0.0  0.0    0.0  ...     \n",
       "2     0.00  1.0  0.000   0.00   0.00  0.0    0.0    0.0  0.0    0.0  ...     \n",
       "3     0.00  0.0  0.075   0.00   0.00  0.0    0.0    0.0  0.0    0.0  ...     \n",
       "4     0.00  0.0  0.150   0.00   0.00  0.0    0.0    0.0  0.0    0.0  ...     \n",
       "5     0.00  0.0  0.300   0.00   0.00  0.0    0.0    0.0  0.0    0.0  ...     \n",
       "6     0.00  0.0  0.750   0.00   0.00  0.0    0.0    0.0  0.0    0.0  ...     \n",
       "7     0.00  0.0  1.500   0.00   0.00  0.0    0.0    0.0  0.0    0.0  ...     \n",
       "8     0.00  0.0  0.000   0.83   0.00  0.0    0.0    0.0  0.0    0.0  ...     \n",
       "9     0.00  1.0  0.000   0.00   0.00  0.0    0.0    0.0  0.0    0.0  ...     \n",
       "10    0.00  1.0  0.000   0.00   0.00  0.0    0.0    0.0  0.0    0.0  ...     \n",
       "11    0.00  1.0  0.000   0.00   0.00  0.0    0.0    0.0  0.0    0.0  ...     \n",
       "12    0.00  1.0  0.000   0.00   0.00  0.0    0.0    0.0  0.0    0.0  ...     \n",
       "13    0.00  1.0  0.000   0.00   0.00  0.0    0.0    0.0  0.0    0.0  ...     \n",
       "14    0.05  0.0  0.000   0.00   0.00  0.0    0.0    0.0  0.0    0.0  ...     \n",
       "15    0.15  0.0  0.000   0.00   0.00  0.0    0.0    0.0  0.0    0.0  ...     \n",
       "16    0.00  1.0  0.000   0.00   0.00  0.0    0.0    0.0  0.0    0.0  ...     \n",
       "17    0.00  0.0  0.000   0.00   0.95  0.0    0.0    0.0  0.0    0.0  ...     \n",
       "18    0.00  1.0  0.000   0.00   0.00  0.0    0.0    0.0  0.0    0.0  ...     \n",
       "19    0.00  1.0  0.000   0.00   0.00  0.0    0.0    0.0  0.0    0.0  ...     \n",
       "20    0.00  1.0  0.000   0.00   0.00  0.0    0.0    0.0  0.0    0.0  ...     \n",
       "21    0.00  0.0  0.000   0.00   0.95  0.0    0.0    0.0  0.0    0.0  ...     \n",
       "22    0.00  0.0  0.000   0.00   0.90  0.0    0.0    0.0  0.0    0.0  ...     \n",
       "23    0.00  0.0  0.000   0.00   0.95  0.0    0.0    0.0  0.0    0.0  ...     \n",
       "24    0.00  0.0  0.000   0.00   0.90  0.0    0.0    0.0  0.0    0.0  ...     \n",
       "25    0.11  0.0  0.000   0.00   0.00  0.0    0.0    0.0  0.0    0.0  ...     \n",
       "26    0.16  0.0  0.000   0.00   0.00  0.0    0.0    0.0  0.0    0.0  ...     \n",
       "27    0.22  0.0  0.000   0.00   0.00  0.0    0.0    0.0  0.0    0.0  ...     \n",
       "28    0.66  0.0  0.000   0.00   0.00  0.0    0.0    0.0  0.0    0.0  ...     \n",
       "29    0.33  0.0  0.000   0.00   0.00  0.0    0.0    0.0  0.0    0.0  ...     \n",
       "..     ...  ...    ...    ...    ...  ...    ...    ...  ...    ...  ...     \n",
       "273   0.00  1.0  0.000   0.00   0.00  0.0    0.0    0.0  0.0    0.0  ...     \n",
       "274   0.00  0.0  0.000   0.00   0.00  1.0    0.0    0.0  0.0    0.0  ...     \n",
       "275   0.00  0.0  0.000   0.00   0.00  1.0    0.0    0.0  0.0    0.0  ...     \n",
       "276   0.00  0.0  0.000   0.00   0.00  1.0    0.0    0.0  0.0    0.0  ...     \n",
       "277   0.00  0.0  0.000   0.00   0.00  1.0    0.0    0.0  0.0    0.0  ...     \n",
       "278   0.00  0.0  0.000   0.90   0.00  0.0    0.0    0.0  0.0    0.0  ...     \n",
       "279   0.00  0.0  0.000   0.90   0.00  0.0    0.0    0.0  0.0    0.0  ...     \n",
       "280   0.00  0.0  0.000   0.90   0.00  0.0    0.0    0.0  0.0    0.0  ...     \n",
       "281   0.00  0.0  0.000   0.90   0.00  0.0    0.0    0.0  0.0    0.0  ...     \n",
       "282   0.00  0.0  0.000   0.80   0.00  0.0    0.0    0.0  0.0    0.0  ...     \n",
       "283   0.00  0.0  0.000   0.80   0.00  0.0    0.0    0.0  0.0    0.0  ...     \n",
       "284   0.00  0.0  0.000   0.80   0.00  0.0    0.0    0.0  0.0    0.0  ...     \n",
       "285   0.00  0.0  0.000   0.80   0.00  0.0    0.0    0.0  0.0    0.0  ...     \n",
       "286   0.00  0.0  0.000   0.00   0.00  1.0    0.0    0.0  0.0    0.0  ...     \n",
       "287   0.00  0.0  0.000   0.00   0.00  0.0    0.0    0.0  0.0    0.0  ...     \n",
       "288   0.00  0.0  0.000   0.00   0.00  0.0    0.0    0.0  0.0    0.0  ...     \n",
       "289   0.00  0.0  0.000   0.00   0.00  0.0    0.0    0.0  0.0    0.0  ...     \n",
       "290   0.00  0.0  0.000   0.00   0.00  0.0    0.0    0.0  0.0    0.0  ...     \n",
       "291   0.25  0.0  0.000   0.00   0.00  0.0    0.0    0.0  0.0    0.0  ...     \n",
       "292   0.00  0.0  0.000   0.75   0.00  0.0    0.0    0.0  0.0    0.0  ...     \n",
       "293   0.00  1.0  0.000   0.00   0.00  0.0    0.0    0.0  0.0    0.0  ...     \n",
       "294   0.00  0.0  0.000   0.00   0.00  0.0    0.0    0.0  0.0    0.0  ...     \n",
       "295   0.00  0.0  0.000   0.00   0.00  0.0    0.0    0.0  0.0    0.0  ...     \n",
       "296   0.00  0.0  0.000   0.00   0.00  0.0    0.0    0.0  0.0    0.0  ...     \n",
       "297   0.00  0.0  0.000   0.00   0.00  0.0    0.0    0.0  0.0    0.0  ...     \n",
       "298   0.00  0.0  0.000   0.00   0.00  1.0    0.0    0.0  0.0    0.0  ...     \n",
       "299   0.00  0.0  0.000   0.00   0.00  1.0    0.0    0.0  0.0    0.0  ...     \n",
       "300   0.00  0.0  0.000   0.00   0.00  1.0    0.0    0.0  0.0    0.0  ...     \n",
       "301   0.00  0.0  0.000   0.00   0.00  1.0    0.0    0.0  0.0    0.0  ...     \n",
       "302   0.00  0.0  0.000   0.00   0.00  1.0    0.0    0.0  0.0    0.0  ...     \n",
       "\n",
       "      Sn   Ge   Cu   I/Br    I  I/SCN  I/Cl   Br  Cl/Br    PCE  \n",
       "0    0.0  0.0  0.0  0.830  0.0    0.0  0.00  0.0    0.0  13.40  \n",
       "1    0.0  0.0  0.0  0.830  0.0    0.0  0.00  0.0    0.0  12.90  \n",
       "2    0.0  0.0  0.0  0.000  1.0    0.0  0.00  0.0    0.0  13.20  \n",
       "3    0.0  0.0  0.0  0.000  1.0    0.0  0.00  0.0    0.0  13.60  \n",
       "4    0.0  0.0  0.0  0.000  1.0    0.0  0.00  0.0    0.0  15.80  \n",
       "5    0.0  0.0  0.0  0.000  1.0    0.0  0.00  0.0    0.0  14.20  \n",
       "6    0.0  0.0  0.0  0.000  1.0    0.0  0.00  0.0    0.0   9.80  \n",
       "7    0.0  0.0  0.0  0.000  1.0    0.0  0.00  0.0    0.0   5.50  \n",
       "8    0.0  0.0  0.0  0.600  0.0    0.0  0.00  0.0    0.0  16.80  \n",
       "9    0.0  0.0  0.0  0.000  1.0    0.0  0.00  0.0    0.0   7.50  \n",
       "10   0.0  0.0  0.0  0.970  0.0    0.0  0.00  0.0    0.0  11.20  \n",
       "11   0.0  0.0  0.0  0.890  0.0    0.0  0.00  0.0    0.0  15.80  \n",
       "12   0.0  0.0  0.0  0.800  0.0    0.0  0.00  0.0    0.0  13.80  \n",
       "13   0.0  0.0  0.0  0.710  0.0    0.0  0.00  0.0    0.0   4.60  \n",
       "14   0.0  0.0  0.0  0.950  0.0    0.0  0.00  0.0    0.0  10.10  \n",
       "15   0.0  0.0  0.0  0.850  0.0    0.0  0.00  0.0    0.0  10.90  \n",
       "16   0.0  0.0  0.0  0.000  1.0    0.0  0.00  0.0    0.0   3.38  \n",
       "17   0.0  0.0  0.0  0.000  1.0    0.0  0.00  0.0    0.0   6.59  \n",
       "18   0.0  0.0  0.0  0.980  0.0    0.0  0.00  0.0    0.0   5.24  \n",
       "19   0.0  0.0  0.0  0.967  0.0    0.0  0.00  0.0    0.0   7.59  \n",
       "20   0.0  0.0  0.0  0.933  0.0    0.0  0.00  0.0    0.0   4.74  \n",
       "21   0.0  0.0  0.0  0.967  0.0    0.0  0.00  0.0    0.0   8.25  \n",
       "22   0.0  0.0  0.0  0.933  0.0    0.0  0.00  0.0    0.0   6.50  \n",
       "23   0.0  0.0  0.0  0.950  0.0    0.0  0.00  0.0    0.0   6.50  \n",
       "24   0.0  0.0  0.0  0.900  0.0    0.0  0.00  0.0    0.0   5.94  \n",
       "25   0.0  0.0  0.0  0.890  0.0    0.0  0.00  0.0    0.0  17.80  \n",
       "26   0.0  0.0  0.0  0.840  0.0    0.0  0.00  0.0    0.0  18.30  \n",
       "27   0.0  0.0  0.0  0.780  0.0    0.0  0.00  0.0    0.0  17.00  \n",
       "28   0.0  0.0  0.0  0.340  0.0    0.0  0.00  0.0    0.0  15.90  \n",
       "29   0.0  0.0  0.0  0.670  0.0    0.0  0.00  0.0    0.0  14.90  \n",
       "..   ...  ...  ...    ...  ...    ...   ...  ...    ...    ...  \n",
       "273  1.0  0.0  0.0  0.000  1.0    0.0  0.00  0.0    0.0   3.20  \n",
       "274  0.0  0.0  0.0  0.000  1.0    0.0  0.00  0.0    0.0  17.50  \n",
       "275  0.0  0.0  0.0  0.950  0.0    0.0  0.00  0.0    0.0  17.60  \n",
       "276  0.0  0.0  0.0  0.920  0.0    0.0  0.00  0.0    0.0  17.50  \n",
       "277  0.0  0.0  0.0  0.880  0.0    0.0  0.00  0.0    0.0  12.80  \n",
       "278  0.0  0.0  0.0  0.000  1.0    0.0  0.00  0.0    0.0  17.80  \n",
       "279  0.0  0.0  0.0  0.955  0.0    0.0  0.00  0.0    0.0  19.30  \n",
       "280  0.0  0.0  0.0  0.925  0.0    0.0  0.00  0.0    0.0  18.80  \n",
       "281  0.0  0.0  0.0  0.895  0.0    0.0  0.00  0.0    0.0  18.50  \n",
       "282  0.0  0.0  0.0  0.000  1.0    0.0  0.00  0.0    0.0  18.20  \n",
       "283  0.0  0.0  0.0  0.960  0.0    0.0  0.00  0.0    0.0  17.50  \n",
       "284  0.0  0.0  0.0  0.930  0.0    0.0  0.00  0.0    0.0  17.20  \n",
       "285  0.0  0.0  0.0  0.910  0.0    0.0  0.00  0.0    0.0  17.00  \n",
       "286  0.0  0.0  0.0  0.000  1.0    0.0  0.00  0.0    0.0  14.05  \n",
       "287  0.0  0.0  0.0  0.000  1.0    0.0  0.00  0.0    0.0  15.98  \n",
       "288  0.0  0.0  0.0  0.000  1.0    0.0  0.00  0.0    0.0  17.71  \n",
       "289  0.0  0.0  0.0  0.000  1.0    0.0  0.00  0.0    0.0  16.64  \n",
       "290  0.0  0.0  0.0  0.000  1.0    0.0  0.00  0.0    0.0  14.62  \n",
       "291  0.0  0.0  0.0  0.670  0.0    0.0  0.00  0.0    0.0  13.80  \n",
       "292  0.0  0.0  0.0  0.670  0.0    0.0  0.00  0.0    0.0  15.30  \n",
       "293  0.0  0.0  0.0  0.000  1.0    0.0  0.00  0.0    0.0  16.70  \n",
       "294  0.0  0.0  0.0  0.000  1.0    0.0  0.00  0.0    0.0  17.90  \n",
       "295  0.0  0.0  0.0  0.000  1.0    0.0  0.00  0.0    0.0  16.50  \n",
       "296  0.0  0.0  0.0  0.000  1.0    0.0  0.00  0.0    0.0  14.90  \n",
       "297  0.0  0.0  0.0  0.000  1.0    0.0  0.00  0.0    0.0  12.40  \n",
       "298  0.0  0.0  0.0  0.000  1.0    0.0  0.00  0.0    0.0  15.73  \n",
       "299  0.0  0.0  0.0  0.000  0.0    0.0  0.97  0.0    0.0  15.58  \n",
       "300  0.0  0.0  0.0  0.000  0.0    0.0  0.93  0.0    0.0  17.35  \n",
       "301  0.0  0.0  0.0  0.000  0.0    0.0  0.90  0.0    0.0  15.81  \n",
       "302  0.0  0.0  0.0  0.000  0.0    0.0  0.87  0.0    0.0  15.01  \n",
       "\n",
       "[303 rows x 34 columns]>"
      ]
     },
     "execution_count": 97,
     "metadata": {},
     "output_type": "execute_result"
    }
   ],
   "source": [
    "df1.as_matrix"
   ]
  },
  {
   "cell_type": "code",
   "execution_count": 98,
   "metadata": {
    "collapsed": false
   },
   "outputs": [
    {
     "data": {
      "text/plain": [
       "array([  1.34000000e+01,   1.29000000e+01,   1.32000000e+01,\n",
       "         1.36000000e+01,   1.58000000e+01,   1.42000000e+01,\n",
       "         9.80000000e+00,   5.50000000e+00,   1.68000000e+01,\n",
       "         7.50000000e+00,   1.12000000e+01,   1.58000000e+01,\n",
       "         1.38000000e+01,   4.60000000e+00,   1.01000000e+01,\n",
       "         1.09000000e+01,   3.38000000e+00,   6.59000000e+00,\n",
       "         5.24000000e+00,   7.59000000e+00,   4.74000000e+00,\n",
       "         8.25000000e+00,   6.50000000e+00,   6.50000000e+00,\n",
       "         5.94000000e+00,   1.78000000e+01,   1.83000000e+01,\n",
       "         1.70000000e+01,   1.59000000e+01,   1.49000000e+01,\n",
       "         1.45000000e+01,   1.49000000e+01,   1.59000000e+01,\n",
       "         1.27000000e+01,   1.45700000e+01,   1.52700000e+01,\n",
       "         1.55800000e+01,   1.57800000e+01,   1.64800000e+01,\n",
       "         1.56700000e+01,   1.39700000e+01,   1.56400000e+01,\n",
       "         1.62000000e+01,   1.37200000e+01,   1.10100000e+01,\n",
       "         8.80000000e+00,   1.05000000e+01,   1.11000000e+01,\n",
       "         3.50000000e+00,   1.61000000e+01,   1.72000000e+01,\n",
       "         1.50800000e+01,   1.57000000e+01,   1.64200000e+01,\n",
       "         1.43100000e+01,   1.68400000e+01,   1.74100000e+01,\n",
       "         1.81400000e+01,   1.77400000e+01,   1.66800000e+01,\n",
       "         1.64800000e+01,   5.46000000e+00,   6.47000000e+00,\n",
       "         1.01000000e+01,   1.03000000e+01,   1.16000000e+01,\n",
       "         1.00000000e+01,   7.20000000e+00,   5.50000000e+00,\n",
       "         1.90000000e+00,   1.35600000e+01,   1.71600000e+01,\n",
       "         1.55700000e+01,   1.33000000e+01,   1.24500000e+01,\n",
       "         1.55100000e+01,   8.80000000e+00,   1.93000000e+01,\n",
       "         2.08000000e+01,   1.98000000e+01,   2.00000000e+01,\n",
       "         1.92000000e+01,   1.22000000e+01,   1.09000000e+01,\n",
       "         1.58000000e+01,   1.64000000e+01,   1.82000000e+01,\n",
       "         1.66000000e+01,   1.17000000e+01,   6.70000000e+00,\n",
       "         1.56000000e+01,   1.63100000e+01,   1.67500000e+01,\n",
       "         1.80200000e+01,   1.71100000e+01,   3.83000000e+00,\n",
       "         1.02700000e+01,   1.13700000e+01,   1.11100000e+01,\n",
       "         1.02100000e+01,   8.66000000e+00,   4.14000000e+00,\n",
       "         1.01400000e+01,   8.37000000e+00,   6.57000000e+00,\n",
       "         5.46000000e+00,   8.29000000e+00,   1.78000000e+00,\n",
       "         1.75000000e+00,   2.29000000e+00,   1.00000000e-02,\n",
       "         2.20000000e-01,   9.37000000e+00,   9.71000000e+00,\n",
       "         7.11000000e+00,   1.74000000e+00,   7.60000000e-01,\n",
       "         1.03800000e+01,   1.00200000e+01,   7.17000000e+00,\n",
       "         4.30000000e+00,   6.80000000e-01,   9.95000000e+00,\n",
       "         8.53000000e+00,   6.01000000e+00,   6.00000000e-02,\n",
       "         4.00000000e-02,   2.32000000e+00,   5.30000000e+00,\n",
       "         2.38000000e+00,   4.89000000e+00,   9.25000000e+00,\n",
       "         1.08100000e+01,   9.29000000e+00,   5.58000000e+00,\n",
       "         1.16000000e+00,   2.10000000e-01,   1.06200000e+01,\n",
       "         1.04100000e+01,   7.69000000e+00,   9.88000000e+00,\n",
       "         6.04000000e+00,   5.23000000e+00,   5.48000000e+00,\n",
       "         5.73000000e+00,   4.27000000e+00,   6.07000000e+00,\n",
       "         1.10000000e-01,   2.00000000e-01,   5.80000000e+00,\n",
       "         1.21000000e+01,   1.18000000e+01,   1.30000000e+01,\n",
       "         1.47000000e+01,   1.27000000e+01,   1.05000000e+01,\n",
       "         9.60000000e+00,   8.90000000e+00,   7.80000000e+00,\n",
       "         1.04000000e+01,   1.56900000e+01,   1.73500000e+01,\n",
       "         4.80000000e+00,   1.21000000e+01,   1.39000000e+01,\n",
       "         1.28000000e+01,   1.43000000e+01,   1.18000000e+01,\n",
       "         1.03000000e+01,   9.60000000e+00,   1.74000000e+01,\n",
       "         2.07000000e+01,   1.29000000e+01,   1.10000000e+01,\n",
       "         1.60000000e+01,   1.32000000e+01,   1.90000000e+00,\n",
       "         1.47000000e+01,   1.85000000e+01,   1.53000000e+01,\n",
       "         1.75000000e+01,   1.22000000e+01,   8.50000000e+00,\n",
       "         3.70000000e+00,   1.14000000e+01,   1.17000000e+01,\n",
       "         1.19000000e+01,   1.07000000e+01,   8.70000000e+00,\n",
       "         8.60000000e+00,   7.50000000e+00,   5.80000000e+00,\n",
       "         5.60000000e+00,   7.90000000e+00,   6.20000000e+00,\n",
       "         3.50000000e+00,   6.30000000e+00,   5.00000000e+00,\n",
       "         3.30000000e+00,   3.40000000e+00,   3.90000000e+00,\n",
       "         2.90000000e+00,   2.30000000e+00,   3.50000000e+00,\n",
       "         5.00000000e+00,   6.50000000e+00,   5.50000000e+00,\n",
       "         7.10000000e+00,   6.40000000e+00,   7.10000000e+00,\n",
       "         5.60000000e+00,   1.43500000e+01,   1.38700000e+01,\n",
       "         1.41900000e+01,   7.53000000e+00,   7.32000000e+00,\n",
       "         1.40700000e+01,   1.43500000e+01,   3.68000000e+00,\n",
       "         2.36000000e+00,   2.60000000e-01,   1.40100000e+01,\n",
       "         1.59000000e+01,   1.60000000e+01,   1.84000000e+01,\n",
       "         1.79000000e+01,   1.52000000e+01,   1.30000000e+01,\n",
       "         3.85000000e+00,   6.15000000e+00,   3.85000000e+00,\n",
       "         1.47300000e+00,   1.60100000e+00,   2.02500000e+00,\n",
       "         1.08100000e+00,   2.00000000e-03,   1.34000000e+01,\n",
       "         1.34000000e+01,   1.16000000e+01,   1.14000000e+01,\n",
       "         1.03000000e+01,   1.09000000e+01,   1.11000000e+01,\n",
       "         9.20000000e+00,   8.00000000e+00,   1.90000000e+00,\n",
       "         8.20000000e+00,   6.90000000e+00,   4.20000000e+00,\n",
       "         5.60000000e+00,   5.70000000e+00,   5.50000000e+00,\n",
       "         6.80000000e+00,   6.10000000e+00,   7.70000000e+00,\n",
       "         6.80000000e+00,   6.80000000e+00,   5.70000000e+00,\n",
       "         1.55000000e+01,   1.69000000e+01,   1.82000000e+01,\n",
       "         1.78000000e+01,   1.49000000e+01,   6.40000000e+00,\n",
       "         1.10000000e-01,   2.00000000e-01,   1.70000000e-02,\n",
       "         2.00000000e-03,   1.44000000e+01,   5.90000000e+00,\n",
       "         8.20000000e+00,   1.00000000e+01,   7.60000000e+00,\n",
       "         3.20000000e+00,   1.75000000e+01,   1.76000000e+01,\n",
       "         1.75000000e+01,   1.28000000e+01,   1.78000000e+01,\n",
       "         1.93000000e+01,   1.88000000e+01,   1.85000000e+01,\n",
       "         1.82000000e+01,   1.75000000e+01,   1.72000000e+01,\n",
       "         1.70000000e+01,   1.40500000e+01,   1.59800000e+01,\n",
       "         1.77100000e+01,   1.66400000e+01,   1.46200000e+01,\n",
       "         1.38000000e+01,   1.53000000e+01,   1.67000000e+01,\n",
       "         1.79000000e+01,   1.65000000e+01,   1.49000000e+01,\n",
       "         1.24000000e+01,   1.57300000e+01,   1.55800000e+01,\n",
       "         1.73500000e+01,   1.58100000e+01,   1.50100000e+01])"
      ]
     },
     "execution_count": 98,
     "metadata": {},
     "output_type": "execute_result"
    }
   ],
   "source": [
    "y=df1['PCE'].values\n",
    "y"
   ]
  },
  {
   "cell_type": "code",
   "execution_count": 99,
   "metadata": {
    "collapsed": true
   },
   "outputs": [],
   "source": [
    "tmpdf1=df1.drop(['PCE'],axis=1)\n",
    "X=tmpdf1.as_matrix()"
   ]
  },
  {
   "cell_type": "code",
   "execution_count": 100,
   "metadata": {
    "collapsed": false
   },
   "outputs": [
    {
     "name": "stdout",
     "output_type": "stream",
     "text": [
      "<class 'numpy.ndarray'>\n",
      "(303, 33)\n",
      "(303,)\n"
     ]
    }
   ],
   "source": [
    "print (type(X))\n",
    "print (X.shape)\n",
    "print (y.shape)"
   ]
  },
  {
   "cell_type": "code",
   "execution_count": 101,
   "metadata": {
    "collapsed": false
   },
   "outputs": [],
   "source": [
    "from sklearn.model_selection import train_test_split"
   ]
  },
  {
   "cell_type": "code",
   "execution_count": 102,
   "metadata": {
    "collapsed": true
   },
   "outputs": [],
   "source": [
    "X_train,X_test,y_train,y_test = train_test_split(X,y,test_size=0.10)"
   ]
  },
  {
   "cell_type": "code",
   "execution_count": 103,
   "metadata": {
    "collapsed": false
   },
   "outputs": [
    {
     "data": {
      "text/plain": [
       "array([  0.06 ,   9.95 ,  11.4  ,  12.8  ,  18.8  ,   7.8  ,  16.6  ,\n",
       "        20.   ,  14.2  ,  15.78 ,   0.68 ,  17.5  ,   5.5  ,   8.7  ,\n",
       "         3.4  ,   5.46 ,   6.2  ,  17.11 ,   7.7  ,   1.75 ,  10.9  ,\n",
       "        10.5  ,  12.4  ,  13.8  ,   1.081,  18.02 ,  17.5  ,   3.85 ,\n",
       "         3.83 ,  15.3  ,   5.5  ])"
      ]
     },
     "execution_count": 103,
     "metadata": {},
     "output_type": "execute_result"
    }
   ],
   "source": [
    "y_test"
   ]
  },
  {
   "cell_type": "code",
   "execution_count": 104,
   "metadata": {
    "collapsed": true
   },
   "outputs": [],
   "source": [
    "from sklearn.linear_model import Lasso\n",
    "from sklearn.model_selection import GridSearchCV"
   ]
  },
  {
   "cell_type": "code",
   "execution_count": 105,
   "metadata": {
    "collapsed": false
   },
   "outputs": [
    {
     "data": {
      "text/plain": [
       "array([  6.04000000e+00,   1.30000000e+01,   1.85000000e+01,\n",
       "         1.78000000e+00,   1.03000000e+01,   2.30000000e+00,\n",
       "         7.60000000e+00,   1.43500000e+01,   1.50800000e+01,\n",
       "         1.21000000e+01,   1.33000000e+01,   8.20000000e+00,\n",
       "         3.30000000e+00,   1.16000000e+01,   1.03000000e+01,\n",
       "         1.56900000e+01,   7.90000000e+00,   8.80000000e+00,\n",
       "         5.24000000e+00,   1.58000000e+01,   1.74000000e+00,\n",
       "         6.10000000e+00,   1.92000000e+01,   1.60000000e+01,\n",
       "         5.60000000e+00,   1.04000000e+01,   1.13700000e+01,\n",
       "         8.37000000e+00,   1.57300000e+01,   1.11100000e+01,\n",
       "         8.90000000e+00,   1.90000000e+00,   1.70000000e-02,\n",
       "         1.38700000e+01,   1.66800000e+01,   1.55100000e+01,\n",
       "         1.40500000e+01,   1.17000000e+01,   1.82000000e+01,\n",
       "         9.29000000e+00,   4.27000000e+00,   1.39700000e+01,\n",
       "         1.55000000e+01,   1.00000000e+01,   5.73000000e+00,\n",
       "         7.11000000e+00,   1.40700000e+01,   1.71600000e+01,\n",
       "         3.50000000e+00,   1.61000000e+01,   6.40000000e+00,\n",
       "         1.69000000e+01,   3.85000000e+00,   1.68400000e+01,\n",
       "         2.38000000e+00,   1.77100000e+01,   1.49000000e+01,\n",
       "         1.41900000e+01,   1.28000000e+01,   1.63100000e+01,\n",
       "         1.78000000e+01,   1.01000000e+01,   1.34000000e+01,\n",
       "         6.70000000e+00,   8.66000000e+00,   1.55700000e+01,\n",
       "         1.75000000e+01,   1.79000000e+01,   1.85000000e+01,\n",
       "         1.00000000e-02,   9.71000000e+00,   1.56000000e+01,\n",
       "         2.36000000e+00,   1.57000000e+01,   1.84000000e+01,\n",
       "         1.58000000e+01,   4.14000000e+00,   1.49000000e+01,\n",
       "         1.24500000e+01,   7.17000000e+00,   5.50000000e+00,\n",
       "         1.43100000e+01,   1.45700000e+01,   5.80000000e+00,\n",
       "         1.64800000e+01,   2.08000000e+01,   1.35600000e+01,\n",
       "         6.50000000e+00,   4.00000000e-02,   1.83000000e+01,\n",
       "         1.60100000e+00,   1.05000000e+01,   1.74100000e+01,\n",
       "         1.17000000e+01,   1.34000000e+01,   3.68000000e+00,\n",
       "         8.80000000e+00,   1.22000000e+01,   3.90000000e+00,\n",
       "         6.50000000e+00,   5.70000000e+00,   2.00000000e-01,\n",
       "         1.02100000e+01,   1.82000000e+01,   1.27000000e+01,\n",
       "         1.43000000e+01,   6.80000000e+00,   1.78000000e+01,\n",
       "         9.37000000e+00,   4.80000000e+00,   1.09000000e+01,\n",
       "         1.67000000e+01,   8.53000000e+00,   1.16000000e+01,\n",
       "         1.59000000e+01,   7.59000000e+00,   1.03000000e+01,\n",
       "         5.90000000e+00,   1.29000000e+01,   1.67500000e+01,\n",
       "         9.80000000e+00,   6.15000000e+00,   9.60000000e+00,\n",
       "         9.88000000e+00,   5.46000000e+00,   5.00000000e+00,\n",
       "         1.62000000e+01,   6.50000000e+00,   1.10100000e+01,\n",
       "         1.82000000e+01,   1.72000000e+01,   1.98000000e+01,\n",
       "         1.58100000e+01,   1.27000000e+01,   1.01400000e+01,\n",
       "         7.20000000e+00,   1.93000000e+01,   1.32000000e+01,\n",
       "         8.25000000e+00,   1.52000000e+01,   1.45000000e+01,\n",
       "         8.00000000e+00,   1.22000000e+01,   1.32000000e+01,\n",
       "         6.59000000e+00,   1.06200000e+01,   6.47000000e+00,\n",
       "         3.20000000e+00,   2.90000000e+00,   1.18000000e+01,\n",
       "         3.38000000e+00,   4.20000000e+00,   1.56700000e+01,\n",
       "         1.59000000e+01,   6.80000000e+00,   2.20000000e-01,\n",
       "         2.00000000e-03,   1.65000000e+01,   5.00000000e+00,\n",
       "         9.25000000e+00,   1.14000000e+01,   5.60000000e+00,\n",
       "         6.57000000e+00,   1.49000000e+01,   5.58000000e+00,\n",
       "         1.11000000e+01,   7.69000000e+00,   1.44000000e+01,\n",
       "         6.07000000e+00,   1.90000000e+00,   9.20000000e+00,\n",
       "         1.00000000e+01,   1.68000000e+01,   1.79000000e+01,\n",
       "         1.10000000e-01,   2.07000000e+01,   1.47300000e+00,\n",
       "         1.29000000e+01,   1.11000000e+01,   1.78000000e+01,\n",
       "         1.02700000e+01,   1.03800000e+01,   9.60000000e+00,\n",
       "         1.55800000e+01,   1.36000000e+01,   1.64800000e+01,\n",
       "         7.53000000e+00,   5.70000000e+00,   8.20000000e+00,\n",
       "         3.70000000e+00,   1.73500000e+01,   1.47000000e+01,\n",
       "         5.60000000e+00,   7.32000000e+00,   1.90000000e+00,\n",
       "         1.09000000e+01,   2.10000000e-01,   1.58000000e+01,\n",
       "         7.50000000e+00,   4.30000000e+00,   1.77400000e+01,\n",
       "         8.50000000e+00,   1.93000000e+01,   1.70000000e+01,\n",
       "         4.60000000e+00,   6.01000000e+00,   1.39000000e+01,\n",
       "         1.70000000e+01,   1.75000000e+01,   1.00200000e+01,\n",
       "         5.80000000e+00,   6.80000000e+00,   1.74000000e+01,\n",
       "         1.73500000e+01,   3.50000000e+00,   1.56400000e+01,\n",
       "         1.04100000e+01,   1.19000000e+01,   1.64000000e+01,\n",
       "         7.60000000e-01,   5.30000000e+00,   2.00000000e-01,\n",
       "         1.66400000e+01,   1.72000000e+01,   8.60000000e+00,\n",
       "         1.10000000e-01,   1.01000000e+01,   1.37200000e+01,\n",
       "         1.53000000e+01,   1.76000000e+01,   3.50000000e+00,\n",
       "         1.81400000e+01,   2.29000000e+00,   1.60000000e+01,\n",
       "         7.10000000e+00,   5.50000000e+00,   1.64200000e+01,\n",
       "         1.46200000e+01,   1.16000000e+00,   1.43500000e+01,\n",
       "         1.52700000e+01,   5.94000000e+00,   1.50100000e+01,\n",
       "         6.90000000e+00,   1.38000000e+01,   1.30000000e+01,\n",
       "         1.59800000e+01,   5.48000000e+00,   6.40000000e+00,\n",
       "         1.59000000e+01,   4.74000000e+00,   7.10000000e+00,\n",
       "         7.50000000e+00,   2.02500000e+00,   1.12000000e+01,\n",
       "         1.40100000e+01,   1.18000000e+01,   1.07000000e+01,\n",
       "         8.29000000e+00,   1.47000000e+01,   5.23000000e+00,\n",
       "         1.21000000e+01,   6.30000000e+00,   1.34000000e+01,\n",
       "         2.00000000e-03,   2.60000000e-01,   1.10000000e+01,\n",
       "         4.89000000e+00,   1.08100000e+01,   1.55800000e+01,\n",
       "         1.49000000e+01,   2.32000000e+00])"
      ]
     },
     "execution_count": 105,
     "metadata": {},
     "output_type": "execute_result"
    }
   ],
   "source": [
    "y_train.ravel()"
   ]
  },
  {
   "cell_type": "code",
   "execution_count": 106,
   "metadata": {
    "collapsed": true
   },
   "outputs": [],
   "source": [
    "lasso = Lasso(alpha=0.001, fit_intercept=True, normalize=False, precompute=False,\n",
    "              copy_X=True, max_iter=10000, tol=0.00001, positive=False, random_state=None, selection='cyclic')"
   ]
  },
  {
   "cell_type": "code",
   "execution_count": 107,
   "metadata": {
    "collapsed": true
   },
   "outputs": [],
   "source": [
    "alphas = np.array([0.1,0.01,0.001,0.0001])"
   ]
  },
  {
   "cell_type": "code",
   "execution_count": 108,
   "metadata": {
    "collapsed": true
   },
   "outputs": [],
   "source": [
    "gs = GridSearchCV(lasso, param_grid=dict(alpha=alphas))"
   ]
  },
  {
   "cell_type": "code",
   "execution_count": 109,
   "metadata": {
    "collapsed": false
   },
   "outputs": [
    {
     "data": {
      "text/plain": [
       "GridSearchCV(cv=None, error_score='raise',\n",
       "       estimator=Lasso(alpha=0.001, copy_X=True, fit_intercept=True, max_iter=10000,\n",
       "   normalize=False, positive=False, precompute=False, random_state=None,\n",
       "   selection='cyclic', tol=1e-05, warm_start=False),\n",
       "       fit_params={}, iid=True, n_jobs=1,\n",
       "       param_grid={'alpha': array([ 0.1   ,  0.01  ,  0.001 ,  0.0001])},\n",
       "       pre_dispatch='2*n_jobs', refit=True, return_train_score=True,\n",
       "       scoring=None, verbose=0)"
      ]
     },
     "execution_count": 109,
     "metadata": {},
     "output_type": "execute_result"
    }
   ],
   "source": [
    "gs.fit(X_train,y_train)"
   ]
  },
  {
   "cell_type": "code",
   "execution_count": 110,
   "metadata": {
    "collapsed": false
   },
   "outputs": [
    {
     "data": {
      "text/plain": [
       "<matplotlib.text.Text at 0x1b8bf3dd6d8>"
      ]
     },
     "execution_count": 110,
     "metadata": {},
     "output_type": "execute_result"
    },
    {
     "data": {
      "image/png": "[encoded data removed]",
      "text/plain": [
       "<matplotlib.figure.Figure at 0x1b8bf3e6518>"
      ]
     },
     "metadata": {},
     "output_type": "display_data"
    }
   ],
   "source": [
    "lasso.alpha_ = gs.best_params_['alpha']\n",
    "obj=lasso.fit(X_train,y_train)\n",
    "predict_train=obj.predict(X_train)\n",
    "\n",
    "# make the plot of prediction on training data\n",
    "plt.figure(figsize=(10,8))\n",
    "plt.scatter(y_train,predict_train,s=0.5,color='blue')\n",
    "plt.title('Prediction on training data')\n",
    "plt.plot(np.linspace(0,25,1000),np.linspace(0,25,1000),color='black')\n",
    "plt.xlim((0,25))\n",
    "plt.ylim((0,25))\n",
    "plt.xlabel(\"Experiment($S*m^2/mol$)\")\n",
    "plt.ylabel(\"Prediction($S*m^2/mol$)\")"
   ]
  },
  {
   "cell_type": "code",
   "execution_count": 111,
   "metadata": {
    "collapsed": false
   },
   "outputs": [
    {
     "data": {
      "text/plain": [
       "<matplotlib.text.Text at 0x1b8bff57ac8>"
      ]
     },
     "execution_count": 111,
     "metadata": {},
     "output_type": "execute_result"
    },
    {
     "data": {
      "image/png": "[encoded data removed]",
      "text/plain": [
       "<matplotlib.figure.Figure at 0x1b8bf3dd390>"
      ]
     },
     "metadata": {},
     "output_type": "display_data"
    }
   ],
   "source": [
    "predict_test=obj.predict(X_test)\n",
    "\n",
    "# make the plot of predition on testing data\n",
    "plt.figure(figsize=(10,8))\n",
    "plt.scatter(y_test,predict_test,s=0.5,color='blue')\n",
    "plt.title('Prediction on testing data')\n",
    "plt.plot(np.linspace(0,25,1000),np.linspace(0,25,1000),color='black')\n",
    "plt.xlim((0,25))\n",
    "plt.ylim((0,25))\n",
    "plt.xlabel(\"Experiment PCE\")\n",
    "plt.ylabel(\"Prediction PCE\")"
   ]
  },
  {
   "cell_type": "code",
   "execution_count": 112,
   "metadata": {
    "collapsed": false
   },
   "outputs": [
    {
     "data": {
      "text/plain": [
       "0.001"
      ]
     },
     "execution_count": 112,
     "metadata": {},
     "output_type": "execute_result"
    }
   ],
   "source": [
    "lasso.alpha"
   ]
  },
  {
   "cell_type": "code",
   "execution_count": 113,
   "metadata": {
    "collapsed": false
   },
   "outputs": [
    {
     "data": {
      "text/plain": [
       "<bound method BaseEstimator.get_params of Lasso(alpha=0.001, copy_X=True, fit_intercept=True, max_iter=10000,\n",
       "   normalize=False, positive=False, precompute=False, random_state=None,\n",
       "   selection='cyclic', tol=1e-05, warm_start=False)>"
      ]
     },
     "execution_count": 113,
     "metadata": {},
     "output_type": "execute_result"
    }
   ],
   "source": [
    "lasso.get_params"
   ]
  },
  {
   "cell_type": "code",
   "execution_count": 114,
   "metadata": {
    "collapsed": false
   },
   "outputs": [
    {
     "data": {
      "text/plain": [
       "0.6826229817615832"
      ]
     },
     "execution_count": 114,
     "metadata": {},
     "output_type": "execute_result"
    }
   ],
   "source": [
    "lasso.score(X_train,y_train)"
   ]
  },
  {
   "cell_type": "code",
   "execution_count": 115,
   "metadata": {
    "collapsed": false
   },
   "outputs": [
    {
     "data": {
      "text/plain": [
       "0.62674993812820179"
      ]
     },
     "execution_count": 115,
     "metadata": {},
     "output_type": "execute_result"
    }
   ],
   "source": [
    "lasso.score(X_test,y_test)"
   ]
  },
  {
   "cell_type": "code",
   "execution_count": 60,
   "metadata": {
    "collapsed": true
   },
   "outputs": [],
   "source": [
    "rdata1 = pd.read_csv('reduced_coefficient_3.csv')"
   ]
  },
  {
   "cell_type": "code",
   "execution_count": 61,
   "metadata": {
    "collapsed": false
   },
   "outputs": [
    {
     "data": {
      "text/html": [
       "<div>\n",
       "<table border=\"1\" class=\"dataframe\">\n",
       "  <thead>\n",
       "    <tr style=\"text-align: right;\">\n",
       "      <th></th>\n",
       "      <th>MA/FA</th>\n",
       "      <th>MA</th>\n",
       "      <th>Al/MA</th>\n",
       "      <th>FA/Cs</th>\n",
       "      <th>MA/Cs</th>\n",
       "      <th>FA</th>\n",
       "      <th>MA/EA</th>\n",
       "      <th>Pb</th>\n",
       "      <th>Pb/Sn</th>\n",
       "      <th>Sn</th>\n",
       "      <th>I/Br</th>\n",
       "      <th>I</th>\n",
       "      <th>I/SCN</th>\n",
       "      <th>I/Cl</th>\n",
       "      <th>Br</th>\n",
       "      <th>PCE</th>\n",
       "    </tr>\n",
       "  </thead>\n",
       "  <tbody>\n",
       "    <tr>\n",
       "      <th>0</th>\n",
       "      <td>0.17</td>\n",
       "      <td>NaN</td>\n",
       "      <td>NaN</td>\n",
       "      <td>NaN</td>\n",
       "      <td>NaN</td>\n",
       "      <td>NaN</td>\n",
       "      <td>NaN</td>\n",
       "      <td>1.0</td>\n",
       "      <td>NaN</td>\n",
       "      <td>NaN</td>\n",
       "      <td>0.83</td>\n",
       "      <td>NaN</td>\n",
       "      <td>NaN</td>\n",
       "      <td>NaN</td>\n",
       "      <td>NaN</td>\n",
       "      <td>13.4</td>\n",
       "    </tr>\n",
       "    <tr>\n",
       "      <th>1</th>\n",
       "      <td>0.17</td>\n",
       "      <td>NaN</td>\n",
       "      <td>NaN</td>\n",
       "      <td>NaN</td>\n",
       "      <td>NaN</td>\n",
       "      <td>NaN</td>\n",
       "      <td>NaN</td>\n",
       "      <td>1.0</td>\n",
       "      <td>NaN</td>\n",
       "      <td>NaN</td>\n",
       "      <td>0.83</td>\n",
       "      <td>NaN</td>\n",
       "      <td>NaN</td>\n",
       "      <td>NaN</td>\n",
       "      <td>NaN</td>\n",
       "      <td>12.9</td>\n",
       "    </tr>\n",
       "    <tr>\n",
       "      <th>2</th>\n",
       "      <td>NaN</td>\n",
       "      <td>1.0</td>\n",
       "      <td>NaN</td>\n",
       "      <td>NaN</td>\n",
       "      <td>NaN</td>\n",
       "      <td>NaN</td>\n",
       "      <td>NaN</td>\n",
       "      <td>1.0</td>\n",
       "      <td>NaN</td>\n",
       "      <td>NaN</td>\n",
       "      <td>NaN</td>\n",
       "      <td>1.0</td>\n",
       "      <td>NaN</td>\n",
       "      <td>NaN</td>\n",
       "      <td>NaN</td>\n",
       "      <td>13.2</td>\n",
       "    </tr>\n",
       "    <tr>\n",
       "      <th>3</th>\n",
       "      <td>NaN</td>\n",
       "      <td>NaN</td>\n",
       "      <td>0.075</td>\n",
       "      <td>NaN</td>\n",
       "      <td>NaN</td>\n",
       "      <td>NaN</td>\n",
       "      <td>NaN</td>\n",
       "      <td>1.0</td>\n",
       "      <td>NaN</td>\n",
       "      <td>NaN</td>\n",
       "      <td>NaN</td>\n",
       "      <td>1.0</td>\n",
       "      <td>NaN</td>\n",
       "      <td>NaN</td>\n",
       "      <td>NaN</td>\n",
       "      <td>13.6</td>\n",
       "    </tr>\n",
       "    <tr>\n",
       "      <th>4</th>\n",
       "      <td>NaN</td>\n",
       "      <td>NaN</td>\n",
       "      <td>0.150</td>\n",
       "      <td>NaN</td>\n",
       "      <td>NaN</td>\n",
       "      <td>NaN</td>\n",
       "      <td>NaN</td>\n",
       "      <td>1.0</td>\n",
       "      <td>NaN</td>\n",
       "      <td>NaN</td>\n",
       "      <td>NaN</td>\n",
       "      <td>1.0</td>\n",
       "      <td>NaN</td>\n",
       "      <td>NaN</td>\n",
       "      <td>NaN</td>\n",
       "      <td>15.8</td>\n",
       "    </tr>\n",
       "  </tbody>\n",
       "</table>\n",
       "</div>"
      ],
      "text/plain": [
       "   MA/FA   MA  Al/MA  FA/Cs  MA/Cs  FA  MA/EA   Pb  Pb/Sn  Sn  I/Br    I  \\\n",
       "0   0.17  NaN    NaN    NaN    NaN NaN    NaN  1.0    NaN NaN  0.83  NaN   \n",
       "1   0.17  NaN    NaN    NaN    NaN NaN    NaN  1.0    NaN NaN  0.83  NaN   \n",
       "2    NaN  1.0    NaN    NaN    NaN NaN    NaN  1.0    NaN NaN   NaN  1.0   \n",
       "3    NaN  NaN  0.075    NaN    NaN NaN    NaN  1.0    NaN NaN   NaN  1.0   \n",
       "4    NaN  NaN  0.150    NaN    NaN NaN    NaN  1.0    NaN NaN   NaN  1.0   \n",
       "\n",
       "   I/SCN  I/Cl  Br   PCE  \n",
       "0    NaN   NaN NaN  13.4  \n",
       "1    NaN   NaN NaN  12.9  \n",
       "2    NaN   NaN NaN  13.2  \n",
       "3    NaN   NaN NaN  13.6  \n",
       "4    NaN   NaN NaN  15.8  "
      ]
     },
     "execution_count": 61,
     "metadata": {},
     "output_type": "execute_result"
    }
   ],
   "source": [
    "rdata1.head()"
   ]
  },
  {
   "cell_type": "code",
   "execution_count": 62,
   "metadata": {
    "collapsed": false
   },
   "outputs": [
    {
     "data": {
      "text/html": [
       "<div>\n",
       "<table border=\"1\" class=\"dataframe\">\n",
       "  <thead>\n",
       "    <tr style=\"text-align: right;\">\n",
       "      <th></th>\n",
       "      <th>MA/FA</th>\n",
       "      <th>MA</th>\n",
       "      <th>Al/MA</th>\n",
       "      <th>FA/Cs</th>\n",
       "      <th>MA/Cs</th>\n",
       "      <th>FA</th>\n",
       "      <th>MA/EA</th>\n",
       "      <th>Pb</th>\n",
       "      <th>Pb/Sn</th>\n",
       "      <th>Sn</th>\n",
       "      <th>I/Br</th>\n",
       "      <th>I</th>\n",
       "      <th>I/SCN</th>\n",
       "      <th>I/Cl</th>\n",
       "      <th>Br</th>\n",
       "      <th>PCE</th>\n",
       "    </tr>\n",
       "  </thead>\n",
       "  <tbody>\n",
       "    <tr>\n",
       "      <th>0</th>\n",
       "      <td>0.17</td>\n",
       "      <td>0.0</td>\n",
       "      <td>0.000</td>\n",
       "      <td>0.0</td>\n",
       "      <td>0.0</td>\n",
       "      <td>0.0</td>\n",
       "      <td>0.0</td>\n",
       "      <td>1.0</td>\n",
       "      <td>0.0</td>\n",
       "      <td>0.0</td>\n",
       "      <td>0.83</td>\n",
       "      <td>0.0</td>\n",
       "      <td>0.0</td>\n",
       "      <td>0.0</td>\n",
       "      <td>0.0</td>\n",
       "      <td>13.4</td>\n",
       "    </tr>\n",
       "    <tr>\n",
       "      <th>1</th>\n",
       "      <td>0.17</td>\n",
       "      <td>0.0</td>\n",
       "      <td>0.000</td>\n",
       "      <td>0.0</td>\n",
       "      <td>0.0</td>\n",
       "      <td>0.0</td>\n",
       "      <td>0.0</td>\n",
       "      <td>1.0</td>\n",
       "      <td>0.0</td>\n",
       "      <td>0.0</td>\n",
       "      <td>0.83</td>\n",
       "      <td>0.0</td>\n",
       "      <td>0.0</td>\n",
       "      <td>0.0</td>\n",
       "      <td>0.0</td>\n",
       "      <td>12.9</td>\n",
       "    </tr>\n",
       "    <tr>\n",
       "      <th>2</th>\n",
       "      <td>0.00</td>\n",
       "      <td>1.0</td>\n",
       "      <td>0.000</td>\n",
       "      <td>0.0</td>\n",
       "      <td>0.0</td>\n",
       "      <td>0.0</td>\n",
       "      <td>0.0</td>\n",
       "      <td>1.0</td>\n",
       "      <td>0.0</td>\n",
       "      <td>0.0</td>\n",
       "      <td>0.00</td>\n",
       "      <td>1.0</td>\n",
       "      <td>0.0</td>\n",
       "      <td>0.0</td>\n",
       "      <td>0.0</td>\n",
       "      <td>13.2</td>\n",
       "    </tr>\n",
       "    <tr>\n",
       "      <th>3</th>\n",
       "      <td>0.00</td>\n",
       "      <td>0.0</td>\n",
       "      <td>0.075</td>\n",
       "      <td>0.0</td>\n",
       "      <td>0.0</td>\n",
       "      <td>0.0</td>\n",
       "      <td>0.0</td>\n",
       "      <td>1.0</td>\n",
       "      <td>0.0</td>\n",
       "      <td>0.0</td>\n",
       "      <td>0.00</td>\n",
       "      <td>1.0</td>\n",
       "      <td>0.0</td>\n",
       "      <td>0.0</td>\n",
       "      <td>0.0</td>\n",
       "      <td>13.6</td>\n",
       "    </tr>\n",
       "    <tr>\n",
       "      <th>4</th>\n",
       "      <td>0.00</td>\n",
       "      <td>0.0</td>\n",
       "      <td>0.150</td>\n",
       "      <td>0.0</td>\n",
       "      <td>0.0</td>\n",
       "      <td>0.0</td>\n",
       "      <td>0.0</td>\n",
       "      <td>1.0</td>\n",
       "      <td>0.0</td>\n",
       "      <td>0.0</td>\n",
       "      <td>0.00</td>\n",
       "      <td>1.0</td>\n",
       "      <td>0.0</td>\n",
       "      <td>0.0</td>\n",
       "      <td>0.0</td>\n",
       "      <td>15.8</td>\n",
       "    </tr>\n",
       "  </tbody>\n",
       "</table>\n",
       "</div>"
      ],
      "text/plain": [
       "   MA/FA   MA  Al/MA  FA/Cs  MA/Cs   FA  MA/EA   Pb  Pb/Sn   Sn  I/Br    I  \\\n",
       "0   0.17  0.0  0.000    0.0    0.0  0.0    0.0  1.0    0.0  0.0  0.83  0.0   \n",
       "1   0.17  0.0  0.000    0.0    0.0  0.0    0.0  1.0    0.0  0.0  0.83  0.0   \n",
       "2   0.00  1.0  0.000    0.0    0.0  0.0    0.0  1.0    0.0  0.0  0.00  1.0   \n",
       "3   0.00  0.0  0.075    0.0    0.0  0.0    0.0  1.0    0.0  0.0  0.00  1.0   \n",
       "4   0.00  0.0  0.150    0.0    0.0  0.0    0.0  1.0    0.0  0.0  0.00  1.0   \n",
       "\n",
       "   I/SCN  I/Cl   Br   PCE  \n",
       "0    0.0   0.0  0.0  13.4  \n",
       "1    0.0   0.0  0.0  12.9  \n",
       "2    0.0   0.0  0.0  13.2  \n",
       "3    0.0   0.0  0.0  13.6  \n",
       "4    0.0   0.0  0.0  15.8  "
      ]
     },
     "execution_count": 62,
     "metadata": {},
     "output_type": "execute_result"
    }
   ],
   "source": [
    "rdata1 = rdata1.fillna(0)\n",
    "rdata1.head()"
   ]
  },
  {
   "cell_type": "code",
   "execution_count": 63,
   "metadata": {
    "collapsed": true
   },
   "outputs": [],
   "source": [
    "XX=rdata1.drop(['PCE'],axis=1).as_matrix()\n",
    "yy=rdata1['PCE'].values"
   ]
  },
  {
   "cell_type": "code",
   "execution_count": 64,
   "metadata": {
    "collapsed": false
   },
   "outputs": [
    {
     "data": {
      "text/plain": [
       "numpy.ndarray"
      ]
     },
     "execution_count": 64,
     "metadata": {},
     "output_type": "execute_result"
    }
   ],
   "source": [
    "type(XX)"
   ]
  },
  {
   "cell_type": "code",
   "execution_count": 65,
   "metadata": {
    "collapsed": false
   },
   "outputs": [
    {
     "name": "stdout",
     "output_type": "stream",
     "text": [
      "(222, 15)\n",
      "(222,)\n"
     ]
    }
   ],
   "source": [
    "print (XX.shape)\n",
    "print (yy.shape)"
   ]
  },
  {
   "cell_type": "code",
   "execution_count": 66,
   "metadata": {
    "collapsed": false
   },
   "outputs": [],
   "source": [
    "XX_train,XX_test,yy_train,yy_test = train_test_split(XX,yy,test_size=0.10)"
   ]
  },
  {
   "cell_type": "code",
   "execution_count": 67,
   "metadata": {
    "collapsed": false
   },
   "outputs": [
    {
     "data": {
      "text/plain": [
       "array([  3.68,  14.2 ,   7.32,  10.  ,   5.9 ,  20.7 ,  10.9 ,   3.5 ,\n",
       "         8.25,  13.  ,   7.53,  15.51,  15.73,   6.2 ,  10.3 ,   8.  ,\n",
       "         7.5 ,  14.01,   6.9 ,   5.  ,  13.8 ,  11.8 ,   4.2 ,   8.8 ,\n",
       "        18.14,  14.19,  14.5 ,  17.4 ,  15.78,  18.3 ,   2.36,   4.6 ,\n",
       "        17.2 ,  16.68,   5.48,  13.97,  15.3 ,  12.7 ,   6.7 ,  15.01,\n",
       "         5.  ,  12.2 ,  16.  ,   7.1 ,  14.57,   1.9 ,   3.5 ,  16.48,\n",
       "        16.48,   5.7 ,  16.42,   6.3 ,   4.74,   5.24,  13.87,  18.2 ,\n",
       "        12.1 ,  11.01,  15.3 ,  10.7 ,   5.3 ,   3.83,  11.4 ,  11.7 ,\n",
       "         5.8 ,   6.5 ,   5.8 ,   3.5 ,  10.1 ,  17.5 ,   2.38,   8.5 ,\n",
       "         3.85,  16.2 ,  17.35,  11.9 ,  15.8 ,   3.9 ,  14.35,  11.2 ,\n",
       "        12.1 ,  14.7 ,   4.8 ,   9.6 ,  18.2 ,  15.58,   9.25,  15.8 ,\n",
       "         3.85,  11.7 ,  17.  ,  14.35,  13.4 ,   9.2 ,   7.1 ,   5.6 ,\n",
       "         9.6 ,   5.73,  16.84,  17.35,  13.4 ,   5.5 ,   1.9 ,  15.5 ,\n",
       "         6.07,  18.02,  14.9 ,  10.3 ,   5.5 ,   8.2 ,   2.32,   2.3 ,\n",
       "        12.8 ,  16.8 ,   5.5 ,  17.5 ,  12.9 ,  18.5 ,  17.6 ,  15.9 ,\n",
       "         7.9 ,  16.75,  17.  ,  12.9 ,  10.9 ,   6.5 ,   5.6 ,   3.3 ,\n",
       "         5.94,  19.3 ,  11.6 ,  14.9 ,  15.8 ,  18.8 ,  13.4 ,  13.9 ,\n",
       "        16.31,  15.81,  14.3 ,  15.6 ,   6.5 ,   6.15,   5.46,  16.7 ,\n",
       "         3.4 ,   7.8 ,  13.72,  16.4 ,   6.4 ,  13.6 ,  13.8 ,   9.8 ,\n",
       "         3.2 ,  11.1 ,   8.9 ,  14.31,  10.5 ,  18.2 ,  14.4 ,  15.7 ,\n",
       "         8.6 ,  19.8 ,  17.5 ,  17.8 ,   3.38,  17.8 ,  13.2 ,  12.2 ,\n",
       "        12.8 ,  19.3 ,  11.8 ,  15.64,  14.07,   7.5 ,  10.1 ,  17.74,\n",
       "         6.4 ,  10.9 ,  13.2 ,   8.2 ,  14.05,   0.26,  17.5 ,  15.69,\n",
       "         6.59,  16.9 ,   7.59,   5.23,  15.67,  18.5 ,   8.7 ,  14.7 ,\n",
       "        13.56,   4.27,  15.58,   3.7 ,  17.11,  10.27,  14.9 ])"
      ]
     },
     "execution_count": 67,
     "metadata": {},
     "output_type": "execute_result"
    }
   ],
   "source": [
    "yy_train.ravel()"
   ]
  },
  {
   "cell_type": "code",
   "execution_count": 68,
   "metadata": {
    "collapsed": false
   },
   "outputs": [
    {
     "data": {
      "text/plain": [
       "array([ 11.1 ,  17.41,  17.2 ,   5.6 ,  19.2 ,  10.5 ,  15.9 ,  11.  ,\n",
       "        20.8 ,  20.  ,  12.7 ,  16.1 ,  17.8 ,  15.27,  15.08,   7.6 ,\n",
       "         2.9 ,   8.8 ,  10.4 ,  11.4 ,  16.  ,  16.6 ,   4.89])"
      ]
     },
     "execution_count": 68,
     "metadata": {},
     "output_type": "execute_result"
    }
   ],
   "source": [
    "yy_test.ravel()"
   ]
  },
  {
   "cell_type": "code",
   "execution_count": 69,
   "metadata": {
    "collapsed": false
   },
   "outputs": [],
   "source": [
    "lasso = Lasso(alpha=0.001, fit_intercept=True, normalize=False, precompute=False,\n",
    "        copy_X=True, max_iter=10000, tol=0.00001, positive=False, random_state=None, selection='cyclic')"
   ]
  },
  {
   "cell_type": "code",
   "execution_count": 70,
   "metadata": {
    "collapsed": false
   },
   "outputs": [
    {
     "data": {
      "text/plain": [
       "Lasso(alpha=0.001, copy_X=True, fit_intercept=True, max_iter=10000,\n",
       "   normalize=False, positive=False, precompute=False, random_state=None,\n",
       "   selection='cyclic', tol=1e-05, warm_start=False)"
      ]
     },
     "execution_count": 70,
     "metadata": {},
     "output_type": "execute_result"
    }
   ],
   "source": [
    "lasso.fit(XX_train,yy_train)"
   ]
  },
  {
   "cell_type": "code",
   "execution_count": 71,
   "metadata": {
    "collapsed": true
   },
   "outputs": [],
   "source": [
    "predict_XX_train = lasso.predict(XX_train)\n",
    "predict_XX_test=lasso.predict(XX_test)"
   ]
  },
  {
   "cell_type": "code",
   "execution_count": 72,
   "metadata": {
    "collapsed": false
   },
   "outputs": [
    {
     "data": {
      "text/plain": [
       "0.60402612463882654"
      ]
     },
     "execution_count": 72,
     "metadata": {},
     "output_type": "execute_result"
    }
   ],
   "source": [
    "lasso.score(XX_train,yy_train)"
   ]
  },
  {
   "cell_type": "code",
   "execution_count": 73,
   "metadata": {
    "collapsed": false
   },
   "outputs": [
    {
     "data": {
      "text/plain": [
       "0.63582746847064853"
      ]
     },
     "execution_count": 73,
     "metadata": {},
     "output_type": "execute_result"
    }
   ],
   "source": [
    "lasso.score(XX_test,yy_test)"
   ]
  },
  {
   "cell_type": "code",
   "execution_count": 74,
   "metadata": {
    "collapsed": false
   },
   "outputs": [
    {
     "data": {
      "text/plain": [
       "array([  1.25675263,  -2.4430199 ,  -5.45726909,   1.95027939,\n",
       "        -2.94735381,  -1.39542431,  -3.28255771,   1.13093331,\n",
       "        -5.24855749,  -4.09416295,  15.77046159,  12.53379392,\n",
       "         8.68375158,  17.28910783,   5.60970507])"
      ]
     },
     "execution_count": 74,
     "metadata": {},
     "output_type": "execute_result"
    }
   ],
   "source": [
    "lasso.coef_"
   ]
  },
  {
   "cell_type": "code",
   "execution_count": 75,
   "metadata": {
    "collapsed": false
   },
   "outputs": [
    {
     "data": {
      "text/plain": [
       "['MA/FA',\n",
       " 'MA',\n",
       " 'Al/MA',\n",
       " 'FA/Cs',\n",
       " 'MA/Cs',\n",
       " 'FA',\n",
       " 'MA/EA',\n",
       " 'Pb',\n",
       " 'Pb/Sn',\n",
       " 'Sn',\n",
       " 'I/Br',\n",
       " 'I',\n",
       " 'I/SCN',\n",
       " 'I/Cl',\n",
       " 'Br',\n",
       " 'PCE']"
      ]
     },
     "execution_count": 75,
     "metadata": {},
     "output_type": "execute_result"
    }
   ],
   "source": [
    "list(rdata1)"
   ]
  },
  {
   "cell_type": "code",
   "execution_count": 76,
   "metadata": {
    "collapsed": false
   },
   "outputs": [
    {
     "data": {
      "text/plain": [
       "<matplotlib.text.Text at 0x1b8bfa18f60>"
      ]
     },
     "execution_count": 76,
     "metadata": {},
     "output_type": "execute_result"
    },
    {
     "data": {
      "image/png": "[encoded data removed]",
      "text/plain": [
       "<matplotlib.figure.Figure at 0x1b8bfa0a2e8>"
      ]
     },
     "metadata": {},
     "output_type": "display_data"
    }
   ],
   "source": [
    "plt.figure(figsize=(10,8))\n",
    "plt.scatter(yy_train,predict_XX_train,s=0.5,color='blue')\n",
    "plt.title('Prediction on training data')\n",
    "plt.plot(np.linspace(0,25,1000),np.linspace(0,25,1000),color='black')\n",
    "plt.xlim((0,25))\n",
    "plt.ylim((0,25))\n",
    "plt.xlabel(\"Experiment($S*m^2/mol$)\")\n",
    "plt.ylabel(\"Prediction($S*m^2/mol$)\")"
   ]
  },
  {
   "cell_type": "code",
   "execution_count": 77,
   "metadata": {
    "collapsed": false
   },
   "outputs": [
    {
     "data": {
      "text/plain": [
       "<matplotlib.text.Text at 0x1b8bf781e10>"
      ]
     },
     "execution_count": 77,
     "metadata": {},
     "output_type": "execute_result"
    },
    {
     "data": {
      "image/png": "[encoded data removed]",
      "text/plain": [
       "<matplotlib.figure.Figure at 0x1b8bf744710>"
      ]
     },
     "metadata": {},
     "output_type": "display_data"
    }
   ],
   "source": [
    "plt.figure(figsize=(10,8))\n",
    "plt.scatter(yy_test,predict_XX_test,s=0.5,color='blue')\n",
    "plt.title('Prediction on testing data')\n",
    "plt.plot(np.linspace(0,25,1000),np.linspace(0,25,1000),color='black')\n",
    "plt.xlim((0,25))\n",
    "plt.ylim((0,25))\n",
    "plt.xlabel(\"Experiment($S*m^2/mol$)\")\n",
    "plt.ylabel(\"Prediction($S*m^2/mol$)\")"
   ]
  },
  {
   "cell_type": "code",
   "execution_count": 78,
   "metadata": {
    "collapsed": true
   },
   "outputs": [],
   "source": [
    "from sklearn.svm import SVR"
   ]
  },
  {
   "cell_type": "code",
   "execution_count": 79,
   "metadata": {
    "collapsed": true
   },
   "outputs": [],
   "source": [
    "svr = SVR(kernel='rbf', C=1e3, degree=2)"
   ]
  },
  {
   "cell_type": "code",
   "execution_count": 80,
   "metadata": {
    "collapsed": false
   },
   "outputs": [
    {
     "data": {
      "text/plain": [
       "SVR(C=1000.0, cache_size=200, coef0=0.0, degree=2, epsilon=0.1, gamma='auto',\n",
       "  kernel='rbf', max_iter=-1, shrinking=True, tol=0.001, verbose=False)"
      ]
     },
     "execution_count": 80,
     "metadata": {},
     "output_type": "execute_result"
    }
   ],
   "source": [
    "svr.fit(XX_train,yy_train)"
   ]
  },
  {
   "cell_type": "code",
   "execution_count": 81,
   "metadata": {
    "collapsed": false
   },
   "outputs": [
    {
     "data": {
      "text/plain": [
       "0.62723092565103822"
      ]
     },
     "execution_count": 81,
     "metadata": {},
     "output_type": "execute_result"
    }
   ],
   "source": [
    "svr.score(XX_train,yy_train)"
   ]
  },
  {
   "cell_type": "code",
   "execution_count": 82,
   "metadata": {
    "collapsed": false
   },
   "outputs": [
    {
     "data": {
      "text/plain": [
       "0.65471025473286648"
      ]
     },
     "execution_count": 82,
     "metadata": {},
     "output_type": "execute_result"
    }
   ],
   "source": [
    "svr.score(XX_test,yy_test)"
   ]
  },
  {
   "cell_type": "code",
   "execution_count": 83,
   "metadata": {
    "collapsed": true
   },
   "outputs": [],
   "source": [
    "predict_XX_train = svr.predict(XX_train)"
   ]
  },
  {
   "cell_type": "code",
   "execution_count": 84,
   "metadata": {
    "collapsed": false
   },
   "outputs": [
    {
     "data": {
      "text/plain": [
       "<matplotlib.text.Text at 0x1b8bffd96a0>"
      ]
     },
     "execution_count": 84,
     "metadata": {},
     "output_type": "execute_result"
    },
    {
     "data": {
      "image/png": "[encoded data removed]",
      "text/plain": [
       "<matplotlib.figure.Figure at 0x1b8bffdd780>"
      ]
     },
     "metadata": {},
     "output_type": "display_data"
    }
   ],
   "source": [
    "plt.figure(figsize=(10,8))\n",
    "plt.scatter(yy_train,predict_XX_train,s=0.5,color='blue')\n",
    "plt.title('Prediction on training data')\n",
    "plt.plot(np.linspace(0,25,1000),np.linspace(0,25,1000),color='black')\n",
    "plt.xlim((0,25))\n",
    "plt.ylim((0,25))\n",
    "plt.xlabel(\"Experiment($S*m^2/mol$)\")\n",
    "plt.ylabel(\"Prediction($S*m^2/mol$)\")"
   ]
  },
  {
   "cell_type": "code",
   "execution_count": 85,
   "metadata": {
    "collapsed": true
   },
   "outputs": [],
   "source": [
    "predict_XX_test = svr.predict(XX_test)"
   ]
  },
  {
   "cell_type": "code",
   "execution_count": 86,
   "metadata": {
    "collapsed": false
   },
   "outputs": [
    {
     "data": {
      "text/plain": [
       "<matplotlib.text.Text at 0x1b8bfa23160>"
      ]
     },
     "execution_count": 86,
     "metadata": {},
     "output_type": "execute_result"
    },
    {
     "data": {
      "image/png": "[encoded data removed]",
      "text/plain": [
       "<matplotlib.figure.Figure at 0x1b8c09281d0>"
      ]
     },
     "metadata": {},
     "output_type": "display_data"
    }
   ],
   "source": [
    "plt.figure(figsize=(10,8))\n",
    "plt.scatter(yy_test,predict_XX_test,s=0.5,color='blue')\n",
    "plt.title('Prediction on testing data')\n",
    "plt.plot(np.linspace(0,25,1000),np.linspace(0,25,1000),color='black')\n",
    "plt.xlim((0,25))\n",
    "plt.ylim((0,25))\n",
    "plt.xlabel(\"Experiment($S*m^2/mol$)\")\n",
    "plt.ylabel(\"Prediction($S*m^2/mol$)\")"
   ]
  },
  {
   "cell_type": "code",
   "execution_count": 121,
   "metadata": {
    "collapsed": false
   },
   "outputs": [
    {
     "data": {
      "text/html": [
       "<div>\n",
       "<table border=\"1\" class=\"dataframe\">\n",
       "  <thead>\n",
       "    <tr style=\"text-align: right;\">\n",
       "      <th></th>\n",
       "      <th>MA/FA</th>\n",
       "      <th>Pb</th>\n",
       "      <th>I/Br</th>\n",
       "      <th>PCE</th>\n",
       "    </tr>\n",
       "  </thead>\n",
       "  <tbody>\n",
       "    <tr>\n",
       "      <th>0</th>\n",
       "      <td>0.17</td>\n",
       "      <td>1.0</td>\n",
       "      <td>0.83</td>\n",
       "      <td>13.4</td>\n",
       "    </tr>\n",
       "    <tr>\n",
       "      <th>1</th>\n",
       "      <td>0.17</td>\n",
       "      <td>1.0</td>\n",
       "      <td>0.83</td>\n",
       "      <td>12.9</td>\n",
       "    </tr>\n",
       "    <tr>\n",
       "      <th>2</th>\n",
       "      <td>1.00</td>\n",
       "      <td>1.0</td>\n",
       "      <td>1.00</td>\n",
       "      <td>13.2</td>\n",
       "    </tr>\n",
       "    <tr>\n",
       "      <th>3</th>\n",
       "      <td>1.00</td>\n",
       "      <td>1.0</td>\n",
       "      <td>1.00</td>\n",
       "      <td>7.5</td>\n",
       "    </tr>\n",
       "    <tr>\n",
       "      <th>4</th>\n",
       "      <td>1.00</td>\n",
       "      <td>1.0</td>\n",
       "      <td>0.97</td>\n",
       "      <td>11.2</td>\n",
       "    </tr>\n",
       "  </tbody>\n",
       "</table>\n",
       "</div>"
      ],
      "text/plain": [
       "   MA/FA   Pb  I/Br   PCE\n",
       "0   0.17  1.0  0.83  13.4\n",
       "1   0.17  1.0  0.83  12.9\n",
       "2   1.00  1.0  1.00  13.2\n",
       "3   1.00  1.0  1.00   7.5\n",
       "4   1.00  1.0  0.97  11.2"
      ]
     },
     "execution_count": 121,
     "metadata": {},
     "output_type": "execute_result"
    }
   ],
   "source": [
    "comb = pd.read_csv('contributors.csv')\n",
    "comb = comb.fillna(0)\n",
    "combx = comb.drop(['PCE','Pb'],axis=1).as_matrix()\n",
    "comb.head()"
   ]
  },
  {
   "cell_type": "code",
   "execution_count": 122,
   "metadata": {
    "collapsed": true
   },
   "outputs": [],
   "source": [
    "comby = comb['PCE'].values"
   ]
  },
  {
   "cell_type": "code",
   "execution_count": 123,
   "metadata": {
    "collapsed": true
   },
   "outputs": [],
   "source": [
    "svr = SVR(kernel='rbf', C=1e3, gamma=10000000)"
   ]
  },
  {
   "cell_type": "code",
   "execution_count": 124,
   "metadata": {
    "collapsed": false
   },
   "outputs": [
    {
     "data": {
      "text/plain": [
       "SVR(C=1000.0, cache_size=200, coef0=0.0, degree=3, epsilon=0.1,\n",
       "  gamma=10000000, kernel='rbf', max_iter=-1, shrinking=True, tol=0.001,\n",
       "  verbose=False)"
      ]
     },
     "execution_count": 124,
     "metadata": {},
     "output_type": "execute_result"
    }
   ],
   "source": [
    "svr.fit(combx,comby)"
   ]
  },
  {
   "cell_type": "code",
   "execution_count": 125,
   "metadata": {
    "collapsed": false
   },
   "outputs": [
    {
     "data": {
      "text/plain": [
       "0.39752713893842673"
      ]
     },
     "execution_count": 125,
     "metadata": {},
     "output_type": "execute_result"
    }
   ],
   "source": [
    "svr.score(combx,comby)"
   ]
  },
  {
   "cell_type": "code",
   "execution_count": 126,
   "metadata": {
    "collapsed": true
   },
   "outputs": [],
   "source": [
    "predict_combx = svr.predict(combx)"
   ]
  },
  {
   "cell_type": "code",
   "execution_count": 127,
   "metadata": {
    "collapsed": false
   },
   "outputs": [
    {
     "data": {
      "text/plain": [
       "<matplotlib.text.Text at 0x1b8c217c6d8>"
      ]
     },
     "execution_count": 127,
     "metadata": {},
     "output_type": "execute_result"
    },
    {
     "data": {
      "image/png": "[encoded data removed]",
      "text/plain": [
       "<matplotlib.figure.Figure at 0x1b8bff5ce48>"
      ]
     },
     "metadata": {},
     "output_type": "display_data"
    }
   ],
   "source": [
    "plt.figure(figsize=(10,8))\n",
    "plt.scatter(comby,predict_combx,s=0.5,color='blue')\n",
    "plt.title('Prediction on training data')\n",
    "plt.plot(np.linspace(0,25,1000),np.linspace(0,25,1000),color='black')\n",
    "plt.xlim((0,25))\n",
    "plt.ylim((0,25))\n",
    "plt.xlabel(\"Experiment($S*m^2/mol$)\")\n",
    "plt.ylabel(\"Prediction($S*m^2/mol$)\")"
   ]
  },
  {
   "cell_type": "code",
   "execution_count": null,
   "metadata": {
    "collapsed": true
   },
   "outputs": [],
   "source": []
  }
 ],
 "metadata": {
  "anaconda-cloud": {},
  "kernelspec": {
   "display_name": "Python [default]",
   "language": "python",
   "name": "python3"
  },
  "language_info": {
   "codemirror_mode": {
    "name": "ipython",
    "version": 3
   },
   "file_extension": ".py",
   "mimetype": "text/x-python",
   "name": "python",
   "nbconvert_exporter": "python",
   "pygments_lexer": "ipython3",
   "version": "3.5.2"
  }
 },
 "nbformat": 4,
 "nbformat_minor": 2
}
