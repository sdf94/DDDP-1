{
 "cells": [
  {
   "cell_type": "code",
   "execution_count": 2,
   "metadata": {
    "collapsed": true
   },
   "outputs": [],
   "source": [
    "import numpy as np\n",
    "import pandas as pd\n",
    "import matplotlib.pyplot as plt\n",
    "%matplotlib inline"
   ]
  },
  {
   "cell_type": "code",
   "execution_count": 2,
   "metadata": {
    "collapsed": true
   },
   "outputs": [],
   "source": [
    "# load the dataframe with assigned ratio on A, B, and X site\n",
    "df = pd.read_csv('Final_Ratio_dataframe.csv')"
   ]
  },
  {
   "cell_type": "code",
   "execution_count": 3,
   "metadata": {
    "collapsed": false
   },
   "outputs": [
    {
     "data": {
      "text/html": [
       "<div>\n",
       "<table border=\"1\" class=\"dataframe\">\n",
       "  <thead>\n",
       "    <tr style=\"text-align: right;\">\n",
       "      <th></th>\n",
       "      <th>MA/FA</th>\n",
       "      <th>MA</th>\n",
       "      <th>Al/MA</th>\n",
       "      <th>FA/Cs</th>\n",
       "      <th>MA/Cs</th>\n",
       "      <th>FA</th>\n",
       "      <th>MA/HA</th>\n",
       "      <th>FA/Rb</th>\n",
       "      <th>Cs</th>\n",
       "      <th>MA/Ag</th>\n",
       "      <th>...</th>\n",
       "      <th>Sn</th>\n",
       "      <th>Ge</th>\n",
       "      <th>Cu</th>\n",
       "      <th>I/Br</th>\n",
       "      <th>I</th>\n",
       "      <th>I/SCN</th>\n",
       "      <th>I/Cl</th>\n",
       "      <th>Br</th>\n",
       "      <th>Cl/Br</th>\n",
       "      <th>PCE</th>\n",
       "    </tr>\n",
       "  </thead>\n",
       "  <tbody>\n",
       "    <tr>\n",
       "      <th>0</th>\n",
       "      <td>0.17</td>\n",
       "      <td>NaN</td>\n",
       "      <td>NaN</td>\n",
       "      <td>NaN</td>\n",
       "      <td>NaN</td>\n",
       "      <td>NaN</td>\n",
       "      <td>NaN</td>\n",
       "      <td>NaN</td>\n",
       "      <td>NaN</td>\n",
       "      <td>NaN</td>\n",
       "      <td>...</td>\n",
       "      <td>NaN</td>\n",
       "      <td>NaN</td>\n",
       "      <td>NaN</td>\n",
       "      <td>0.83</td>\n",
       "      <td>NaN</td>\n",
       "      <td>NaN</td>\n",
       "      <td>NaN</td>\n",
       "      <td>NaN</td>\n",
       "      <td>NaN</td>\n",
       "      <td>13.4</td>\n",
       "    </tr>\n",
       "    <tr>\n",
       "      <th>1</th>\n",
       "      <td>0.17</td>\n",
       "      <td>NaN</td>\n",
       "      <td>NaN</td>\n",
       "      <td>NaN</td>\n",
       "      <td>NaN</td>\n",
       "      <td>NaN</td>\n",
       "      <td>NaN</td>\n",
       "      <td>NaN</td>\n",
       "      <td>NaN</td>\n",
       "      <td>NaN</td>\n",
       "      <td>...</td>\n",
       "      <td>NaN</td>\n",
       "      <td>NaN</td>\n",
       "      <td>NaN</td>\n",
       "      <td>0.83</td>\n",
       "      <td>NaN</td>\n",
       "      <td>NaN</td>\n",
       "      <td>NaN</td>\n",
       "      <td>NaN</td>\n",
       "      <td>NaN</td>\n",
       "      <td>12.9</td>\n",
       "    </tr>\n",
       "    <tr>\n",
       "      <th>2</th>\n",
       "      <td>NaN</td>\n",
       "      <td>1.0</td>\n",
       "      <td>NaN</td>\n",
       "      <td>NaN</td>\n",
       "      <td>NaN</td>\n",
       "      <td>NaN</td>\n",
       "      <td>NaN</td>\n",
       "      <td>NaN</td>\n",
       "      <td>NaN</td>\n",
       "      <td>NaN</td>\n",
       "      <td>...</td>\n",
       "      <td>NaN</td>\n",
       "      <td>NaN</td>\n",
       "      <td>NaN</td>\n",
       "      <td>NaN</td>\n",
       "      <td>1.0</td>\n",
       "      <td>NaN</td>\n",
       "      <td>NaN</td>\n",
       "      <td>NaN</td>\n",
       "      <td>NaN</td>\n",
       "      <td>13.2</td>\n",
       "    </tr>\n",
       "    <tr>\n",
       "      <th>3</th>\n",
       "      <td>NaN</td>\n",
       "      <td>NaN</td>\n",
       "      <td>0.075</td>\n",
       "      <td>NaN</td>\n",
       "      <td>NaN</td>\n",
       "      <td>NaN</td>\n",
       "      <td>NaN</td>\n",
       "      <td>NaN</td>\n",
       "      <td>NaN</td>\n",
       "      <td>NaN</td>\n",
       "      <td>...</td>\n",
       "      <td>NaN</td>\n",
       "      <td>NaN</td>\n",
       "      <td>NaN</td>\n",
       "      <td>NaN</td>\n",
       "      <td>1.0</td>\n",
       "      <td>NaN</td>\n",
       "      <td>NaN</td>\n",
       "      <td>NaN</td>\n",
       "      <td>NaN</td>\n",
       "      <td>13.6</td>\n",
       "    </tr>\n",
       "    <tr>\n",
       "      <th>4</th>\n",
       "      <td>NaN</td>\n",
       "      <td>NaN</td>\n",
       "      <td>0.150</td>\n",
       "      <td>NaN</td>\n",
       "      <td>NaN</td>\n",
       "      <td>NaN</td>\n",
       "      <td>NaN</td>\n",
       "      <td>NaN</td>\n",
       "      <td>NaN</td>\n",
       "      <td>NaN</td>\n",
       "      <td>...</td>\n",
       "      <td>NaN</td>\n",
       "      <td>NaN</td>\n",
       "      <td>NaN</td>\n",
       "      <td>NaN</td>\n",
       "      <td>1.0</td>\n",
       "      <td>NaN</td>\n",
       "      <td>NaN</td>\n",
       "      <td>NaN</td>\n",
       "      <td>NaN</td>\n",
       "      <td>15.8</td>\n",
       "    </tr>\n",
       "  </tbody>\n",
       "</table>\n",
       "<p>5 rows × 34 columns</p>\n",
       "</div>"
      ],
      "text/plain": [
       "   MA/FA   MA  Al/MA  FA/Cs  MA/Cs  FA  MA/HA  FA/Rb  Cs  MA/Ag  ...   Sn  Ge  \\\n",
       "0   0.17  NaN    NaN    NaN    NaN NaN    NaN    NaN NaN    NaN  ...  NaN NaN   \n",
       "1   0.17  NaN    NaN    NaN    NaN NaN    NaN    NaN NaN    NaN  ...  NaN NaN   \n",
       "2    NaN  1.0    NaN    NaN    NaN NaN    NaN    NaN NaN    NaN  ...  NaN NaN   \n",
       "3    NaN  NaN  0.075    NaN    NaN NaN    NaN    NaN NaN    NaN  ...  NaN NaN   \n",
       "4    NaN  NaN  0.150    NaN    NaN NaN    NaN    NaN NaN    NaN  ...  NaN NaN   \n",
       "\n",
       "   Cu  I/Br    I  I/SCN  I/Cl  Br  Cl/Br   PCE  \n",
       "0 NaN  0.83  NaN    NaN   NaN NaN    NaN  13.4  \n",
       "1 NaN  0.83  NaN    NaN   NaN NaN    NaN  12.9  \n",
       "2 NaN   NaN  1.0    NaN   NaN NaN    NaN  13.2  \n",
       "3 NaN   NaN  1.0    NaN   NaN NaN    NaN  13.6  \n",
       "4 NaN   NaN  1.0    NaN   NaN NaN    NaN  15.8  \n",
       "\n",
       "[5 rows x 34 columns]"
      ]
     },
     "execution_count": 3,
     "metadata": {},
     "output_type": "execute_result"
    }
   ],
   "source": [
    "# use the ratio of first compound to represent the pair\n",
    "# for instance MA/FA = 0.17 means MA/FA = 0.17/0.83\n",
    "# the total ratio of each pair for A, B, and X sites should all equal to 1\n",
    "df.head()"
   ]
  },
  {
   "cell_type": "code",
   "execution_count": 4,
   "metadata": {
    "collapsed": false
   },
   "outputs": [
    {
     "data": {
      "text/html": [
       "<div>\n",
       "<table border=\"1\" class=\"dataframe\">\n",
       "  <thead>\n",
       "    <tr style=\"text-align: right;\">\n",
       "      <th></th>\n",
       "      <th>MA/FA</th>\n",
       "      <th>MA</th>\n",
       "      <th>Al/MA</th>\n",
       "      <th>FA/Cs</th>\n",
       "      <th>MA/Cs</th>\n",
       "      <th>FA</th>\n",
       "      <th>MA/HA</th>\n",
       "      <th>FA/Rb</th>\n",
       "      <th>Cs</th>\n",
       "      <th>MA/Ag</th>\n",
       "      <th>...</th>\n",
       "      <th>Sn</th>\n",
       "      <th>Ge</th>\n",
       "      <th>Cu</th>\n",
       "      <th>I/Br</th>\n",
       "      <th>I</th>\n",
       "      <th>I/SCN</th>\n",
       "      <th>I/Cl</th>\n",
       "      <th>Br</th>\n",
       "      <th>Cl/Br</th>\n",
       "      <th>PCE</th>\n",
       "    </tr>\n",
       "  </thead>\n",
       "  <tbody>\n",
       "    <tr>\n",
       "      <th>0</th>\n",
       "      <td>0.17</td>\n",
       "      <td>0.0</td>\n",
       "      <td>0.000</td>\n",
       "      <td>0.0</td>\n",
       "      <td>0.0</td>\n",
       "      <td>0.0</td>\n",
       "      <td>0.0</td>\n",
       "      <td>0.0</td>\n",
       "      <td>0.0</td>\n",
       "      <td>0.0</td>\n",
       "      <td>...</td>\n",
       "      <td>0.0</td>\n",
       "      <td>0.0</td>\n",
       "      <td>0.0</td>\n",
       "      <td>0.83</td>\n",
       "      <td>0.0</td>\n",
       "      <td>0.0</td>\n",
       "      <td>0.0</td>\n",
       "      <td>0.0</td>\n",
       "      <td>0.0</td>\n",
       "      <td>13.4</td>\n",
       "    </tr>\n",
       "    <tr>\n",
       "      <th>1</th>\n",
       "      <td>0.17</td>\n",
       "      <td>0.0</td>\n",
       "      <td>0.000</td>\n",
       "      <td>0.0</td>\n",
       "      <td>0.0</td>\n",
       "      <td>0.0</td>\n",
       "      <td>0.0</td>\n",
       "      <td>0.0</td>\n",
       "      <td>0.0</td>\n",
       "      <td>0.0</td>\n",
       "      <td>...</td>\n",
       "      <td>0.0</td>\n",
       "      <td>0.0</td>\n",
       "      <td>0.0</td>\n",
       "      <td>0.83</td>\n",
       "      <td>0.0</td>\n",
       "      <td>0.0</td>\n",
       "      <td>0.0</td>\n",
       "      <td>0.0</td>\n",
       "      <td>0.0</td>\n",
       "      <td>12.9</td>\n",
       "    </tr>\n",
       "    <tr>\n",
       "      <th>2</th>\n",
       "      <td>0.00</td>\n",
       "      <td>1.0</td>\n",
       "      <td>0.000</td>\n",
       "      <td>0.0</td>\n",
       "      <td>0.0</td>\n",
       "      <td>0.0</td>\n",
       "      <td>0.0</td>\n",
       "      <td>0.0</td>\n",
       "      <td>0.0</td>\n",
       "      <td>0.0</td>\n",
       "      <td>...</td>\n",
       "      <td>0.0</td>\n",
       "      <td>0.0</td>\n",
       "      <td>0.0</td>\n",
       "      <td>0.00</td>\n",
       "      <td>1.0</td>\n",
       "      <td>0.0</td>\n",
       "      <td>0.0</td>\n",
       "      <td>0.0</td>\n",
       "      <td>0.0</td>\n",
       "      <td>13.2</td>\n",
       "    </tr>\n",
       "    <tr>\n",
       "      <th>3</th>\n",
       "      <td>0.00</td>\n",
       "      <td>0.0</td>\n",
       "      <td>0.075</td>\n",
       "      <td>0.0</td>\n",
       "      <td>0.0</td>\n",
       "      <td>0.0</td>\n",
       "      <td>0.0</td>\n",
       "      <td>0.0</td>\n",
       "      <td>0.0</td>\n",
       "      <td>0.0</td>\n",
       "      <td>...</td>\n",
       "      <td>0.0</td>\n",
       "      <td>0.0</td>\n",
       "      <td>0.0</td>\n",
       "      <td>0.00</td>\n",
       "      <td>1.0</td>\n",
       "      <td>0.0</td>\n",
       "      <td>0.0</td>\n",
       "      <td>0.0</td>\n",
       "      <td>0.0</td>\n",
       "      <td>13.6</td>\n",
       "    </tr>\n",
       "    <tr>\n",
       "      <th>4</th>\n",
       "      <td>0.00</td>\n",
       "      <td>0.0</td>\n",
       "      <td>0.150</td>\n",
       "      <td>0.0</td>\n",
       "      <td>0.0</td>\n",
       "      <td>0.0</td>\n",
       "      <td>0.0</td>\n",
       "      <td>0.0</td>\n",
       "      <td>0.0</td>\n",
       "      <td>0.0</td>\n",
       "      <td>...</td>\n",
       "      <td>0.0</td>\n",
       "      <td>0.0</td>\n",
       "      <td>0.0</td>\n",
       "      <td>0.00</td>\n",
       "      <td>1.0</td>\n",
       "      <td>0.0</td>\n",
       "      <td>0.0</td>\n",
       "      <td>0.0</td>\n",
       "      <td>0.0</td>\n",
       "      <td>15.8</td>\n",
       "    </tr>\n",
       "  </tbody>\n",
       "</table>\n",
       "<p>5 rows × 34 columns</p>\n",
       "</div>"
      ],
      "text/plain": [
       "   MA/FA   MA  Al/MA  FA/Cs  MA/Cs   FA  MA/HA  FA/Rb   Cs  MA/Ag  ...    Sn  \\\n",
       "0   0.17  0.0  0.000    0.0    0.0  0.0    0.0    0.0  0.0    0.0  ...   0.0   \n",
       "1   0.17  0.0  0.000    0.0    0.0  0.0    0.0    0.0  0.0    0.0  ...   0.0   \n",
       "2   0.00  1.0  0.000    0.0    0.0  0.0    0.0    0.0  0.0    0.0  ...   0.0   \n",
       "3   0.00  0.0  0.075    0.0    0.0  0.0    0.0    0.0  0.0    0.0  ...   0.0   \n",
       "4   0.00  0.0  0.150    0.0    0.0  0.0    0.0    0.0  0.0    0.0  ...   0.0   \n",
       "\n",
       "    Ge   Cu  I/Br    I  I/SCN  I/Cl   Br  Cl/Br   PCE  \n",
       "0  0.0  0.0  0.83  0.0    0.0   0.0  0.0    0.0  13.4  \n",
       "1  0.0  0.0  0.83  0.0    0.0   0.0  0.0    0.0  12.9  \n",
       "2  0.0  0.0  0.00  1.0    0.0   0.0  0.0    0.0  13.2  \n",
       "3  0.0  0.0  0.00  1.0    0.0   0.0  0.0    0.0  13.6  \n",
       "4  0.0  0.0  0.00  1.0    0.0   0.0  0.0    0.0  15.8  \n",
       "\n",
       "[5 rows x 34 columns]"
      ]
     },
     "execution_count": 4,
     "metadata": {},
     "output_type": "execute_result"
    }
   ],
   "source": [
    "# replace NA with 0\n",
    "df1 = df.fillna(0)\n",
    "df1.head()"
   ]
  },
  {
   "cell_type": "code",
   "execution_count": 5,
   "metadata": {
    "collapsed": false
   },
   "outputs": [
    {
     "data": {
      "text/html": [
       "<div>\n",
       "<table border=\"1\" class=\"dataframe\">\n",
       "  <thead>\n",
       "    <tr style=\"text-align: right;\">\n",
       "      <th></th>\n",
       "      <th>MA/FA</th>\n",
       "      <th>MA</th>\n",
       "      <th>Al/MA</th>\n",
       "      <th>FA/Cs</th>\n",
       "      <th>MA/Cs</th>\n",
       "      <th>FA</th>\n",
       "      <th>MA/HA</th>\n",
       "      <th>FA/Rb</th>\n",
       "      <th>Cs</th>\n",
       "      <th>MA/Ag</th>\n",
       "      <th>...</th>\n",
       "      <th>Pb/Zn</th>\n",
       "      <th>Sn</th>\n",
       "      <th>Ge</th>\n",
       "      <th>Cu</th>\n",
       "      <th>I/Br</th>\n",
       "      <th>I</th>\n",
       "      <th>I/SCN</th>\n",
       "      <th>I/Cl</th>\n",
       "      <th>Br</th>\n",
       "      <th>Cl/Br</th>\n",
       "    </tr>\n",
       "  </thead>\n",
       "  <tbody>\n",
       "    <tr>\n",
       "      <th>0</th>\n",
       "      <td>1.0</td>\n",
       "      <td>0.0</td>\n",
       "      <td>0.0</td>\n",
       "      <td>0.0</td>\n",
       "      <td>0.0</td>\n",
       "      <td>0.0</td>\n",
       "      <td>0.0</td>\n",
       "      <td>0.0</td>\n",
       "      <td>0.0</td>\n",
       "      <td>0.0</td>\n",
       "      <td>...</td>\n",
       "      <td>0.0</td>\n",
       "      <td>0.0</td>\n",
       "      <td>0.0</td>\n",
       "      <td>0.0</td>\n",
       "      <td>1.0</td>\n",
       "      <td>0.0</td>\n",
       "      <td>0.0</td>\n",
       "      <td>0.0</td>\n",
       "      <td>0.0</td>\n",
       "      <td>0.0</td>\n",
       "    </tr>\n",
       "    <tr>\n",
       "      <th>1</th>\n",
       "      <td>1.0</td>\n",
       "      <td>0.0</td>\n",
       "      <td>0.0</td>\n",
       "      <td>0.0</td>\n",
       "      <td>0.0</td>\n",
       "      <td>0.0</td>\n",
       "      <td>0.0</td>\n",
       "      <td>0.0</td>\n",
       "      <td>0.0</td>\n",
       "      <td>0.0</td>\n",
       "      <td>...</td>\n",
       "      <td>0.0</td>\n",
       "      <td>0.0</td>\n",
       "      <td>0.0</td>\n",
       "      <td>0.0</td>\n",
       "      <td>1.0</td>\n",
       "      <td>0.0</td>\n",
       "      <td>0.0</td>\n",
       "      <td>0.0</td>\n",
       "      <td>0.0</td>\n",
       "      <td>0.0</td>\n",
       "    </tr>\n",
       "    <tr>\n",
       "      <th>2</th>\n",
       "      <td>0.0</td>\n",
       "      <td>1.0</td>\n",
       "      <td>0.0</td>\n",
       "      <td>0.0</td>\n",
       "      <td>0.0</td>\n",
       "      <td>0.0</td>\n",
       "      <td>0.0</td>\n",
       "      <td>0.0</td>\n",
       "      <td>0.0</td>\n",
       "      <td>0.0</td>\n",
       "      <td>...</td>\n",
       "      <td>0.0</td>\n",
       "      <td>0.0</td>\n",
       "      <td>0.0</td>\n",
       "      <td>0.0</td>\n",
       "      <td>0.0</td>\n",
       "      <td>1.0</td>\n",
       "      <td>0.0</td>\n",
       "      <td>0.0</td>\n",
       "      <td>0.0</td>\n",
       "      <td>0.0</td>\n",
       "    </tr>\n",
       "    <tr>\n",
       "      <th>3</th>\n",
       "      <td>0.0</td>\n",
       "      <td>0.0</td>\n",
       "      <td>1.0</td>\n",
       "      <td>0.0</td>\n",
       "      <td>0.0</td>\n",
       "      <td>0.0</td>\n",
       "      <td>0.0</td>\n",
       "      <td>0.0</td>\n",
       "      <td>0.0</td>\n",
       "      <td>0.0</td>\n",
       "      <td>...</td>\n",
       "      <td>0.0</td>\n",
       "      <td>0.0</td>\n",
       "      <td>0.0</td>\n",
       "      <td>0.0</td>\n",
       "      <td>0.0</td>\n",
       "      <td>1.0</td>\n",
       "      <td>0.0</td>\n",
       "      <td>0.0</td>\n",
       "      <td>0.0</td>\n",
       "      <td>0.0</td>\n",
       "    </tr>\n",
       "    <tr>\n",
       "      <th>4</th>\n",
       "      <td>0.0</td>\n",
       "      <td>0.0</td>\n",
       "      <td>1.0</td>\n",
       "      <td>0.0</td>\n",
       "      <td>0.0</td>\n",
       "      <td>0.0</td>\n",
       "      <td>0.0</td>\n",
       "      <td>0.0</td>\n",
       "      <td>0.0</td>\n",
       "      <td>0.0</td>\n",
       "      <td>...</td>\n",
       "      <td>0.0</td>\n",
       "      <td>0.0</td>\n",
       "      <td>0.0</td>\n",
       "      <td>0.0</td>\n",
       "      <td>0.0</td>\n",
       "      <td>1.0</td>\n",
       "      <td>0.0</td>\n",
       "      <td>0.0</td>\n",
       "      <td>0.0</td>\n",
       "      <td>0.0</td>\n",
       "    </tr>\n",
       "  </tbody>\n",
       "</table>\n",
       "<p>5 rows × 33 columns</p>\n",
       "</div>"
      ],
      "text/plain": [
       "   MA/FA   MA  Al/MA  FA/Cs  MA/Cs   FA  MA/HA  FA/Rb   Cs  MA/Ag  ...    \\\n",
       "0    1.0  0.0    0.0    0.0    0.0  0.0    0.0    0.0  0.0    0.0  ...     \n",
       "1    1.0  0.0    0.0    0.0    0.0  0.0    0.0    0.0  0.0    0.0  ...     \n",
       "2    0.0  1.0    0.0    0.0    0.0  0.0    0.0    0.0  0.0    0.0  ...     \n",
       "3    0.0  0.0    1.0    0.0    0.0  0.0    0.0    0.0  0.0    0.0  ...     \n",
       "4    0.0  0.0    1.0    0.0    0.0  0.0    0.0    0.0  0.0    0.0  ...     \n",
       "\n",
       "   Pb/Zn   Sn   Ge   Cu  I/Br    I  I/SCN  I/Cl   Br  Cl/Br  \n",
       "0    0.0  0.0  0.0  0.0   1.0  0.0    0.0   0.0  0.0    0.0  \n",
       "1    0.0  0.0  0.0  0.0   1.0  0.0    0.0   0.0  0.0    0.0  \n",
       "2    0.0  0.0  0.0  0.0   0.0  1.0    0.0   0.0  0.0    0.0  \n",
       "3    0.0  0.0  0.0  0.0   0.0  1.0    0.0   0.0  0.0    0.0  \n",
       "4    0.0  0.0  0.0  0.0   0.0  1.0    0.0   0.0  0.0    0.0  \n",
       "\n",
       "[5 rows x 33 columns]"
      ]
     },
     "execution_count": 5,
     "metadata": {},
     "output_type": "execute_result"
    }
   ],
   "source": [
    "# replce all non-zero values to 1 except last 'PCE' column\n",
    "df2 = df1.drop('PCE', axis=1)\n",
    "df2[df2 != 0] = 1\n",
    "df2.head()"
   ]
  },
  {
   "cell_type": "code",
   "execution_count": 6,
   "metadata": {
    "collapsed": false
   },
   "outputs": [
    {
     "data": {
      "text/html": [
       "<div>\n",
       "<table border=\"1\" class=\"dataframe\">\n",
       "  <thead>\n",
       "    <tr style=\"text-align: right;\">\n",
       "      <th></th>\n",
       "      <th>MA/FA</th>\n",
       "      <th>MA</th>\n",
       "      <th>Al/MA</th>\n",
       "      <th>FA/Cs</th>\n",
       "      <th>MA/Cs</th>\n",
       "      <th>FA</th>\n",
       "      <th>MA/HA</th>\n",
       "      <th>FA/Rb</th>\n",
       "      <th>Cs</th>\n",
       "      <th>MA/Ag</th>\n",
       "      <th>...</th>\n",
       "      <th>Sn</th>\n",
       "      <th>Ge</th>\n",
       "      <th>Cu</th>\n",
       "      <th>I/Br</th>\n",
       "      <th>I</th>\n",
       "      <th>I/SCN</th>\n",
       "      <th>I/Cl</th>\n",
       "      <th>Br</th>\n",
       "      <th>Cl/Br</th>\n",
       "      <th>PCE</th>\n",
       "    </tr>\n",
       "  </thead>\n",
       "  <tbody>\n",
       "    <tr>\n",
       "      <th>0</th>\n",
       "      <td>1.0</td>\n",
       "      <td>0.0</td>\n",
       "      <td>0.0</td>\n",
       "      <td>0.0</td>\n",
       "      <td>0.0</td>\n",
       "      <td>0.0</td>\n",
       "      <td>0.0</td>\n",
       "      <td>0.0</td>\n",
       "      <td>0.0</td>\n",
       "      <td>0.0</td>\n",
       "      <td>...</td>\n",
       "      <td>0.0</td>\n",
       "      <td>0.0</td>\n",
       "      <td>0.0</td>\n",
       "      <td>1.0</td>\n",
       "      <td>0.0</td>\n",
       "      <td>0.0</td>\n",
       "      <td>0.0</td>\n",
       "      <td>0.0</td>\n",
       "      <td>0.0</td>\n",
       "      <td>13.4</td>\n",
       "    </tr>\n",
       "    <tr>\n",
       "      <th>1</th>\n",
       "      <td>1.0</td>\n",
       "      <td>0.0</td>\n",
       "      <td>0.0</td>\n",
       "      <td>0.0</td>\n",
       "      <td>0.0</td>\n",
       "      <td>0.0</td>\n",
       "      <td>0.0</td>\n",
       "      <td>0.0</td>\n",
       "      <td>0.0</td>\n",
       "      <td>0.0</td>\n",
       "      <td>...</td>\n",
       "      <td>0.0</td>\n",
       "      <td>0.0</td>\n",
       "      <td>0.0</td>\n",
       "      <td>1.0</td>\n",
       "      <td>0.0</td>\n",
       "      <td>0.0</td>\n",
       "      <td>0.0</td>\n",
       "      <td>0.0</td>\n",
       "      <td>0.0</td>\n",
       "      <td>12.9</td>\n",
       "    </tr>\n",
       "    <tr>\n",
       "      <th>2</th>\n",
       "      <td>0.0</td>\n",
       "      <td>1.0</td>\n",
       "      <td>0.0</td>\n",
       "      <td>0.0</td>\n",
       "      <td>0.0</td>\n",
       "      <td>0.0</td>\n",
       "      <td>0.0</td>\n",
       "      <td>0.0</td>\n",
       "      <td>0.0</td>\n",
       "      <td>0.0</td>\n",
       "      <td>...</td>\n",
       "      <td>0.0</td>\n",
       "      <td>0.0</td>\n",
       "      <td>0.0</td>\n",
       "      <td>0.0</td>\n",
       "      <td>1.0</td>\n",
       "      <td>0.0</td>\n",
       "      <td>0.0</td>\n",
       "      <td>0.0</td>\n",
       "      <td>0.0</td>\n",
       "      <td>13.2</td>\n",
       "    </tr>\n",
       "    <tr>\n",
       "      <th>3</th>\n",
       "      <td>0.0</td>\n",
       "      <td>0.0</td>\n",
       "      <td>1.0</td>\n",
       "      <td>0.0</td>\n",
       "      <td>0.0</td>\n",
       "      <td>0.0</td>\n",
       "      <td>0.0</td>\n",
       "      <td>0.0</td>\n",
       "      <td>0.0</td>\n",
       "      <td>0.0</td>\n",
       "      <td>...</td>\n",
       "      <td>0.0</td>\n",
       "      <td>0.0</td>\n",
       "      <td>0.0</td>\n",
       "      <td>0.0</td>\n",
       "      <td>1.0</td>\n",
       "      <td>0.0</td>\n",
       "      <td>0.0</td>\n",
       "      <td>0.0</td>\n",
       "      <td>0.0</td>\n",
       "      <td>13.6</td>\n",
       "    </tr>\n",
       "    <tr>\n",
       "      <th>4</th>\n",
       "      <td>0.0</td>\n",
       "      <td>0.0</td>\n",
       "      <td>1.0</td>\n",
       "      <td>0.0</td>\n",
       "      <td>0.0</td>\n",
       "      <td>0.0</td>\n",
       "      <td>0.0</td>\n",
       "      <td>0.0</td>\n",
       "      <td>0.0</td>\n",
       "      <td>0.0</td>\n",
       "      <td>...</td>\n",
       "      <td>0.0</td>\n",
       "      <td>0.0</td>\n",
       "      <td>0.0</td>\n",
       "      <td>0.0</td>\n",
       "      <td>1.0</td>\n",
       "      <td>0.0</td>\n",
       "      <td>0.0</td>\n",
       "      <td>0.0</td>\n",
       "      <td>0.0</td>\n",
       "      <td>15.8</td>\n",
       "    </tr>\n",
       "  </tbody>\n",
       "</table>\n",
       "<p>5 rows × 34 columns</p>\n",
       "</div>"
      ],
      "text/plain": [
       "   MA/FA   MA  Al/MA  FA/Cs  MA/Cs   FA  MA/HA  FA/Rb   Cs  MA/Ag  ...    Sn  \\\n",
       "0    1.0  0.0    0.0    0.0    0.0  0.0    0.0    0.0  0.0    0.0  ...   0.0   \n",
       "1    1.0  0.0    0.0    0.0    0.0  0.0    0.0    0.0  0.0    0.0  ...   0.0   \n",
       "2    0.0  1.0    0.0    0.0    0.0  0.0    0.0    0.0  0.0    0.0  ...   0.0   \n",
       "3    0.0  0.0    1.0    0.0    0.0  0.0    0.0    0.0  0.0    0.0  ...   0.0   \n",
       "4    0.0  0.0    1.0    0.0    0.0  0.0    0.0    0.0  0.0    0.0  ...   0.0   \n",
       "\n",
       "    Ge   Cu  I/Br    I  I/SCN  I/Cl   Br  Cl/Br   PCE  \n",
       "0  0.0  0.0   1.0  0.0    0.0   0.0  0.0    0.0  13.4  \n",
       "1  0.0  0.0   1.0  0.0    0.0   0.0  0.0    0.0  12.9  \n",
       "2  0.0  0.0   0.0  1.0    0.0   0.0  0.0    0.0  13.2  \n",
       "3  0.0  0.0   0.0  1.0    0.0   0.0  0.0    0.0  13.6  \n",
       "4  0.0  0.0   0.0  1.0    0.0   0.0  0.0    0.0  15.8  \n",
       "\n",
       "[5 rows x 34 columns]"
      ]
     },
     "execution_count": 6,
     "metadata": {},
     "output_type": "execute_result"
    }
   ],
   "source": [
    "df2['PCE'] = df1.PCE\n",
    "df2.head()"
   ]
  },
  {
   "cell_type": "code",
   "execution_count": 7,
   "metadata": {
    "collapsed": false
   },
   "outputs": [
    {
     "data": {
      "text/html": [
       "<div>\n",
       "<table border=\"1\" class=\"dataframe\">\n",
       "  <thead>\n",
       "    <tr style=\"text-align: right;\">\n",
       "      <th></th>\n",
       "      <th>MA/FA</th>\n",
       "      <th>MA</th>\n",
       "      <th>Al/MA</th>\n",
       "      <th>FA/Cs</th>\n",
       "      <th>MA/Cs</th>\n",
       "      <th>FA</th>\n",
       "      <th>MA/HA</th>\n",
       "      <th>FA/Rb</th>\n",
       "      <th>Cs</th>\n",
       "      <th>MA/Ag</th>\n",
       "      <th>...</th>\n",
       "      <th>Sn</th>\n",
       "      <th>Ge</th>\n",
       "      <th>Cu</th>\n",
       "      <th>I/Br</th>\n",
       "      <th>I</th>\n",
       "      <th>I/SCN</th>\n",
       "      <th>I/Cl</th>\n",
       "      <th>Br</th>\n",
       "      <th>Cl/Br</th>\n",
       "      <th>PCE</th>\n",
       "    </tr>\n",
       "  </thead>\n",
       "  <tbody>\n",
       "    <tr>\n",
       "      <th>0</th>\n",
       "      <td>0.17</td>\n",
       "      <td>0.0</td>\n",
       "      <td>0.000</td>\n",
       "      <td>0.0</td>\n",
       "      <td>0.0</td>\n",
       "      <td>0.0</td>\n",
       "      <td>0.0</td>\n",
       "      <td>0.0</td>\n",
       "      <td>0.0</td>\n",
       "      <td>0.0</td>\n",
       "      <td>...</td>\n",
       "      <td>0.0</td>\n",
       "      <td>0.0</td>\n",
       "      <td>0.0</td>\n",
       "      <td>0.83</td>\n",
       "      <td>0.0</td>\n",
       "      <td>0.0</td>\n",
       "      <td>0.0</td>\n",
       "      <td>0.0</td>\n",
       "      <td>0.0</td>\n",
       "      <td>13.4</td>\n",
       "    </tr>\n",
       "    <tr>\n",
       "      <th>1</th>\n",
       "      <td>0.17</td>\n",
       "      <td>0.0</td>\n",
       "      <td>0.000</td>\n",
       "      <td>0.0</td>\n",
       "      <td>0.0</td>\n",
       "      <td>0.0</td>\n",
       "      <td>0.0</td>\n",
       "      <td>0.0</td>\n",
       "      <td>0.0</td>\n",
       "      <td>0.0</td>\n",
       "      <td>...</td>\n",
       "      <td>0.0</td>\n",
       "      <td>0.0</td>\n",
       "      <td>0.0</td>\n",
       "      <td>0.83</td>\n",
       "      <td>0.0</td>\n",
       "      <td>0.0</td>\n",
       "      <td>0.0</td>\n",
       "      <td>0.0</td>\n",
       "      <td>0.0</td>\n",
       "      <td>12.9</td>\n",
       "    </tr>\n",
       "    <tr>\n",
       "      <th>2</th>\n",
       "      <td>0.00</td>\n",
       "      <td>1.0</td>\n",
       "      <td>0.000</td>\n",
       "      <td>0.0</td>\n",
       "      <td>0.0</td>\n",
       "      <td>0.0</td>\n",
       "      <td>0.0</td>\n",
       "      <td>0.0</td>\n",
       "      <td>0.0</td>\n",
       "      <td>0.0</td>\n",
       "      <td>...</td>\n",
       "      <td>0.0</td>\n",
       "      <td>0.0</td>\n",
       "      <td>0.0</td>\n",
       "      <td>0.00</td>\n",
       "      <td>1.0</td>\n",
       "      <td>0.0</td>\n",
       "      <td>0.0</td>\n",
       "      <td>0.0</td>\n",
       "      <td>0.0</td>\n",
       "      <td>13.2</td>\n",
       "    </tr>\n",
       "    <tr>\n",
       "      <th>3</th>\n",
       "      <td>0.00</td>\n",
       "      <td>0.0</td>\n",
       "      <td>0.075</td>\n",
       "      <td>0.0</td>\n",
       "      <td>0.0</td>\n",
       "      <td>0.0</td>\n",
       "      <td>0.0</td>\n",
       "      <td>0.0</td>\n",
       "      <td>0.0</td>\n",
       "      <td>0.0</td>\n",
       "      <td>...</td>\n",
       "      <td>0.0</td>\n",
       "      <td>0.0</td>\n",
       "      <td>0.0</td>\n",
       "      <td>0.00</td>\n",
       "      <td>1.0</td>\n",
       "      <td>0.0</td>\n",
       "      <td>0.0</td>\n",
       "      <td>0.0</td>\n",
       "      <td>0.0</td>\n",
       "      <td>13.6</td>\n",
       "    </tr>\n",
       "    <tr>\n",
       "      <th>4</th>\n",
       "      <td>0.00</td>\n",
       "      <td>0.0</td>\n",
       "      <td>0.150</td>\n",
       "      <td>0.0</td>\n",
       "      <td>0.0</td>\n",
       "      <td>0.0</td>\n",
       "      <td>0.0</td>\n",
       "      <td>0.0</td>\n",
       "      <td>0.0</td>\n",
       "      <td>0.0</td>\n",
       "      <td>...</td>\n",
       "      <td>0.0</td>\n",
       "      <td>0.0</td>\n",
       "      <td>0.0</td>\n",
       "      <td>0.00</td>\n",
       "      <td>1.0</td>\n",
       "      <td>0.0</td>\n",
       "      <td>0.0</td>\n",
       "      <td>0.0</td>\n",
       "      <td>0.0</td>\n",
       "      <td>15.8</td>\n",
       "    </tr>\n",
       "  </tbody>\n",
       "</table>\n",
       "<p>5 rows × 34 columns</p>\n",
       "</div>"
      ],
      "text/plain": [
       "   MA/FA   MA  Al/MA  FA/Cs  MA/Cs   FA  MA/HA  FA/Rb   Cs  MA/Ag  ...    Sn  \\\n",
       "0   0.17  0.0  0.000    0.0    0.0  0.0    0.0    0.0  0.0    0.0  ...   0.0   \n",
       "1   0.17  0.0  0.000    0.0    0.0  0.0    0.0    0.0  0.0    0.0  ...   0.0   \n",
       "2   0.00  1.0  0.000    0.0    0.0  0.0    0.0    0.0  0.0    0.0  ...   0.0   \n",
       "3   0.00  0.0  0.075    0.0    0.0  0.0    0.0    0.0  0.0    0.0  ...   0.0   \n",
       "4   0.00  0.0  0.150    0.0    0.0  0.0    0.0    0.0  0.0    0.0  ...   0.0   \n",
       "\n",
       "    Ge   Cu  I/Br    I  I/SCN  I/Cl   Br  Cl/Br   PCE  \n",
       "0  0.0  0.0  0.83  0.0    0.0   0.0  0.0    0.0  13.4  \n",
       "1  0.0  0.0  0.83  0.0    0.0   0.0  0.0    0.0  12.9  \n",
       "2  0.0  0.0  0.00  1.0    0.0   0.0  0.0    0.0  13.2  \n",
       "3  0.0  0.0  0.00  1.0    0.0   0.0  0.0    0.0  13.6  \n",
       "4  0.0  0.0  0.00  1.0    0.0   0.0  0.0    0.0  15.8  \n",
       "\n",
       "[5 rows x 34 columns]"
      ]
     },
     "execution_count": 7,
     "metadata": {},
     "output_type": "execute_result"
    }
   ],
   "source": [
    "df1.head()"
   ]
  },
  {
   "cell_type": "code",
   "execution_count": 8,
   "metadata": {
    "collapsed": false
   },
   "outputs": [
    {
     "data": {
      "text/plain": [
       "303"
      ]
     },
     "execution_count": 8,
     "metadata": {},
     "output_type": "execute_result"
    }
   ],
   "source": [
    "len(df1)"
   ]
  },
  {
   "cell_type": "code",
   "execution_count": 9,
   "metadata": {
    "collapsed": false
   },
   "outputs": [
    {
     "data": {
      "text/plain": [
       "['MA/FA',\n",
       " 'MA',\n",
       " 'Al/MA',\n",
       " 'FA/Cs',\n",
       " 'MA/Cs',\n",
       " 'FA',\n",
       " 'MA/HA',\n",
       " 'FA/Rb',\n",
       " 'Cs',\n",
       " 'MA/Ag',\n",
       " 'MA/EA',\n",
       " 'FA/PEA',\n",
       " 'MA/EDA',\n",
       " 'Pb',\n",
       " 'Pb/Sn',\n",
       " 'Pb/Sb',\n",
       " 'Pb/Co',\n",
       " 'Pb/Cu',\n",
       " 'Pb/Fe',\n",
       " 'Pb/Mg',\n",
       " 'Pb/Mn',\n",
       " 'Pb/Ni',\n",
       " 'Pb/Sr',\n",
       " 'Pb/Zn',\n",
       " 'Sn',\n",
       " 'Ge',\n",
       " 'Cu',\n",
       " 'I/Br',\n",
       " 'I',\n",
       " 'I/SCN',\n",
       " 'I/Cl',\n",
       " 'Br',\n",
       " 'Cl/Br',\n",
       " 'PCE']"
      ]
     },
     "execution_count": 9,
     "metadata": {},
     "output_type": "execute_result"
    }
   ],
   "source": [
    "list(df1)"
   ]
  },
  {
   "cell_type": "code",
   "execution_count": 10,
   "metadata": {
    "collapsed": false
   },
   "outputs": [
    {
     "data": {
      "text/plain": [
       "<bound method NDFrame.as_matrix of      MA/FA   MA  Al/MA  FA/Cs  MA/Cs   FA  MA/HA  FA/Rb   Cs  MA/Ag  ...    \\\n",
       "0     0.17  0.0  0.000   0.00   0.00  0.0    0.0    0.0  0.0    0.0  ...     \n",
       "1     0.17  0.0  0.000   0.00   0.00  0.0    0.0    0.0  0.0    0.0  ...     \n",
       "2     0.00  1.0  0.000   0.00   0.00  0.0    0.0    0.0  0.0    0.0  ...     \n",
       "3     0.00  0.0  0.075   0.00   0.00  0.0    0.0    0.0  0.0    0.0  ...     \n",
       "4     0.00  0.0  0.150   0.00   0.00  0.0    0.0    0.0  0.0    0.0  ...     \n",
       "5     0.00  0.0  0.300   0.00   0.00  0.0    0.0    0.0  0.0    0.0  ...     \n",
       "6     0.00  0.0  0.750   0.00   0.00  0.0    0.0    0.0  0.0    0.0  ...     \n",
       "7     0.00  0.0  1.500   0.00   0.00  0.0    0.0    0.0  0.0    0.0  ...     \n",
       "8     0.00  0.0  0.000   0.83   0.00  0.0    0.0    0.0  0.0    0.0  ...     \n",
       "9     0.00  1.0  0.000   0.00   0.00  0.0    0.0    0.0  0.0    0.0  ...     \n",
       "10    0.00  1.0  0.000   0.00   0.00  0.0    0.0    0.0  0.0    0.0  ...     \n",
       "11    0.00  1.0  0.000   0.00   0.00  0.0    0.0    0.0  0.0    0.0  ...     \n",
       "12    0.00  1.0  0.000   0.00   0.00  0.0    0.0    0.0  0.0    0.0  ...     \n",
       "13    0.00  1.0  0.000   0.00   0.00  0.0    0.0    0.0  0.0    0.0  ...     \n",
       "14    0.05  0.0  0.000   0.00   0.00  0.0    0.0    0.0  0.0    0.0  ...     \n",
       "15    0.15  0.0  0.000   0.00   0.00  0.0    0.0    0.0  0.0    0.0  ...     \n",
       "16    0.00  1.0  0.000   0.00   0.00  0.0    0.0    0.0  0.0    0.0  ...     \n",
       "17    0.00  0.0  0.000   0.00   0.95  0.0    0.0    0.0  0.0    0.0  ...     \n",
       "18    0.00  1.0  0.000   0.00   0.00  0.0    0.0    0.0  0.0    0.0  ...     \n",
       "19    0.00  1.0  0.000   0.00   0.00  0.0    0.0    0.0  0.0    0.0  ...     \n",
       "20    0.00  1.0  0.000   0.00   0.00  0.0    0.0    0.0  0.0    0.0  ...     \n",
       "21    0.00  0.0  0.000   0.00   0.95  0.0    0.0    0.0  0.0    0.0  ...     \n",
       "22    0.00  0.0  0.000   0.00   0.90  0.0    0.0    0.0  0.0    0.0  ...     \n",
       "23    0.00  0.0  0.000   0.00   0.95  0.0    0.0    0.0  0.0    0.0  ...     \n",
       "24    0.00  0.0  0.000   0.00   0.90  0.0    0.0    0.0  0.0    0.0  ...     \n",
       "25    0.11  0.0  0.000   0.00   0.00  0.0    0.0    0.0  0.0    0.0  ...     \n",
       "26    0.16  0.0  0.000   0.00   0.00  0.0    0.0    0.0  0.0    0.0  ...     \n",
       "27    0.22  0.0  0.000   0.00   0.00  0.0    0.0    0.0  0.0    0.0  ...     \n",
       "28    0.66  0.0  0.000   0.00   0.00  0.0    0.0    0.0  0.0    0.0  ...     \n",
       "29    0.33  0.0  0.000   0.00   0.00  0.0    0.0    0.0  0.0    0.0  ...     \n",
       "..     ...  ...    ...    ...    ...  ...    ...    ...  ...    ...  ...     \n",
       "273   0.00  1.0  0.000   0.00   0.00  0.0    0.0    0.0  0.0    0.0  ...     \n",
       "274   0.00  0.0  0.000   0.00   0.00  1.0    0.0    0.0  0.0    0.0  ...     \n",
       "275   0.00  0.0  0.000   0.00   0.00  1.0    0.0    0.0  0.0    0.0  ...     \n",
       "276   0.00  0.0  0.000   0.00   0.00  1.0    0.0    0.0  0.0    0.0  ...     \n",
       "277   0.00  0.0  0.000   0.00   0.00  1.0    0.0    0.0  0.0    0.0  ...     \n",
       "278   0.00  0.0  0.000   0.90   0.00  0.0    0.0    0.0  0.0    0.0  ...     \n",
       "279   0.00  0.0  0.000   0.90   0.00  0.0    0.0    0.0  0.0    0.0  ...     \n",
       "280   0.00  0.0  0.000   0.90   0.00  0.0    0.0    0.0  0.0    0.0  ...     \n",
       "281   0.00  0.0  0.000   0.90   0.00  0.0    0.0    0.0  0.0    0.0  ...     \n",
       "282   0.00  0.0  0.000   0.80   0.00  0.0    0.0    0.0  0.0    0.0  ...     \n",
       "283   0.00  0.0  0.000   0.80   0.00  0.0    0.0    0.0  0.0    0.0  ...     \n",
       "284   0.00  0.0  0.000   0.80   0.00  0.0    0.0    0.0  0.0    0.0  ...     \n",
       "285   0.00  0.0  0.000   0.80   0.00  0.0    0.0    0.0  0.0    0.0  ...     \n",
       "286   0.00  0.0  0.000   0.00   0.00  1.0    0.0    0.0  0.0    0.0  ...     \n",
       "287   0.00  0.0  0.000   0.00   0.00  0.0    0.0    0.0  0.0    0.0  ...     \n",
       "288   0.00  0.0  0.000   0.00   0.00  0.0    0.0    0.0  0.0    0.0  ...     \n",
       "289   0.00  0.0  0.000   0.00   0.00  0.0    0.0    0.0  0.0    0.0  ...     \n",
       "290   0.00  0.0  0.000   0.00   0.00  0.0    0.0    0.0  0.0    0.0  ...     \n",
       "291   0.25  0.0  0.000   0.00   0.00  0.0    0.0    0.0  0.0    0.0  ...     \n",
       "292   0.00  0.0  0.000   0.75   0.00  0.0    0.0    0.0  0.0    0.0  ...     \n",
       "293   0.00  1.0  0.000   0.00   0.00  0.0    0.0    0.0  0.0    0.0  ...     \n",
       "294   0.00  0.0  0.000   0.00   0.00  0.0    0.0    0.0  0.0    0.0  ...     \n",
       "295   0.00  0.0  0.000   0.00   0.00  0.0    0.0    0.0  0.0    0.0  ...     \n",
       "296   0.00  0.0  0.000   0.00   0.00  0.0    0.0    0.0  0.0    0.0  ...     \n",
       "297   0.00  0.0  0.000   0.00   0.00  0.0    0.0    0.0  0.0    0.0  ...     \n",
       "298   0.00  0.0  0.000   0.00   0.00  1.0    0.0    0.0  0.0    0.0  ...     \n",
       "299   0.00  0.0  0.000   0.00   0.00  1.0    0.0    0.0  0.0    0.0  ...     \n",
       "300   0.00  0.0  0.000   0.00   0.00  1.0    0.0    0.0  0.0    0.0  ...     \n",
       "301   0.00  0.0  0.000   0.00   0.00  1.0    0.0    0.0  0.0    0.0  ...     \n",
       "302   0.00  0.0  0.000   0.00   0.00  1.0    0.0    0.0  0.0    0.0  ...     \n",
       "\n",
       "      Sn   Ge   Cu   I/Br    I  I/SCN  I/Cl   Br  Cl/Br    PCE  \n",
       "0    0.0  0.0  0.0  0.830  0.0    0.0  0.00  0.0    0.0  13.40  \n",
       "1    0.0  0.0  0.0  0.830  0.0    0.0  0.00  0.0    0.0  12.90  \n",
       "2    0.0  0.0  0.0  0.000  1.0    0.0  0.00  0.0    0.0  13.20  \n",
       "3    0.0  0.0  0.0  0.000  1.0    0.0  0.00  0.0    0.0  13.60  \n",
       "4    0.0  0.0  0.0  0.000  1.0    0.0  0.00  0.0    0.0  15.80  \n",
       "5    0.0  0.0  0.0  0.000  1.0    0.0  0.00  0.0    0.0  14.20  \n",
       "6    0.0  0.0  0.0  0.000  1.0    0.0  0.00  0.0    0.0   9.80  \n",
       "7    0.0  0.0  0.0  0.000  1.0    0.0  0.00  0.0    0.0   5.50  \n",
       "8    0.0  0.0  0.0  0.600  0.0    0.0  0.00  0.0    0.0  16.80  \n",
       "9    0.0  0.0  0.0  0.000  1.0    0.0  0.00  0.0    0.0   7.50  \n",
       "10   0.0  0.0  0.0  0.970  0.0    0.0  0.00  0.0    0.0  11.20  \n",
       "11   0.0  0.0  0.0  0.890  0.0    0.0  0.00  0.0    0.0  15.80  \n",
       "12   0.0  0.0  0.0  0.800  0.0    0.0  0.00  0.0    0.0  13.80  \n",
       "13   0.0  0.0  0.0  0.710  0.0    0.0  0.00  0.0    0.0   4.60  \n",
       "14   0.0  0.0  0.0  0.950  0.0    0.0  0.00  0.0    0.0  10.10  \n",
       "15   0.0  0.0  0.0  0.850  0.0    0.0  0.00  0.0    0.0  10.90  \n",
       "16   0.0  0.0  0.0  0.000  1.0    0.0  0.00  0.0    0.0   3.38  \n",
       "17   0.0  0.0  0.0  0.000  1.0    0.0  0.00  0.0    0.0   6.59  \n",
       "18   0.0  0.0  0.0  0.980  0.0    0.0  0.00  0.0    0.0   5.24  \n",
       "19   0.0  0.0  0.0  0.967  0.0    0.0  0.00  0.0    0.0   7.59  \n",
       "20   0.0  0.0  0.0  0.933  0.0    0.0  0.00  0.0    0.0   4.74  \n",
       "21   0.0  0.0  0.0  0.967  0.0    0.0  0.00  0.0    0.0   8.25  \n",
       "22   0.0  0.0  0.0  0.933  0.0    0.0  0.00  0.0    0.0   6.50  \n",
       "23   0.0  0.0  0.0  0.950  0.0    0.0  0.00  0.0    0.0   6.50  \n",
       "24   0.0  0.0  0.0  0.900  0.0    0.0  0.00  0.0    0.0   5.94  \n",
       "25   0.0  0.0  0.0  0.890  0.0    0.0  0.00  0.0    0.0  17.80  \n",
       "26   0.0  0.0  0.0  0.840  0.0    0.0  0.00  0.0    0.0  18.30  \n",
       "27   0.0  0.0  0.0  0.780  0.0    0.0  0.00  0.0    0.0  17.00  \n",
       "28   0.0  0.0  0.0  0.340  0.0    0.0  0.00  0.0    0.0  15.90  \n",
       "29   0.0  0.0  0.0  0.670  0.0    0.0  0.00  0.0    0.0  14.90  \n",
       "..   ...  ...  ...    ...  ...    ...   ...  ...    ...    ...  \n",
       "273  1.0  0.0  0.0  0.000  1.0    0.0  0.00  0.0    0.0   3.20  \n",
       "274  0.0  0.0  0.0  0.000  1.0    0.0  0.00  0.0    0.0  17.50  \n",
       "275  0.0  0.0  0.0  0.950  0.0    0.0  0.00  0.0    0.0  17.60  \n",
       "276  0.0  0.0  0.0  0.920  0.0    0.0  0.00  0.0    0.0  17.50  \n",
       "277  0.0  0.0  0.0  0.880  0.0    0.0  0.00  0.0    0.0  12.80  \n",
       "278  0.0  0.0  0.0  0.000  1.0    0.0  0.00  0.0    0.0  17.80  \n",
       "279  0.0  0.0  0.0  0.955  0.0    0.0  0.00  0.0    0.0  19.30  \n",
       "280  0.0  0.0  0.0  0.925  0.0    0.0  0.00  0.0    0.0  18.80  \n",
       "281  0.0  0.0  0.0  0.895  0.0    0.0  0.00  0.0    0.0  18.50  \n",
       "282  0.0  0.0  0.0  0.000  1.0    0.0  0.00  0.0    0.0  18.20  \n",
       "283  0.0  0.0  0.0  0.960  0.0    0.0  0.00  0.0    0.0  17.50  \n",
       "284  0.0  0.0  0.0  0.930  0.0    0.0  0.00  0.0    0.0  17.20  \n",
       "285  0.0  0.0  0.0  0.910  0.0    0.0  0.00  0.0    0.0  17.00  \n",
       "286  0.0  0.0  0.0  0.000  1.0    0.0  0.00  0.0    0.0  14.05  \n",
       "287  0.0  0.0  0.0  0.000  1.0    0.0  0.00  0.0    0.0  15.98  \n",
       "288  0.0  0.0  0.0  0.000  1.0    0.0  0.00  0.0    0.0  17.71  \n",
       "289  0.0  0.0  0.0  0.000  1.0    0.0  0.00  0.0    0.0  16.64  \n",
       "290  0.0  0.0  0.0  0.000  1.0    0.0  0.00  0.0    0.0  14.62  \n",
       "291  0.0  0.0  0.0  0.670  0.0    0.0  0.00  0.0    0.0  13.80  \n",
       "292  0.0  0.0  0.0  0.670  0.0    0.0  0.00  0.0    0.0  15.30  \n",
       "293  0.0  0.0  0.0  0.000  1.0    0.0  0.00  0.0    0.0  16.70  \n",
       "294  0.0  0.0  0.0  0.000  1.0    0.0  0.00  0.0    0.0  17.90  \n",
       "295  0.0  0.0  0.0  0.000  1.0    0.0  0.00  0.0    0.0  16.50  \n",
       "296  0.0  0.0  0.0  0.000  1.0    0.0  0.00  0.0    0.0  14.90  \n",
       "297  0.0  0.0  0.0  0.000  1.0    0.0  0.00  0.0    0.0  12.40  \n",
       "298  0.0  0.0  0.0  0.000  1.0    0.0  0.00  0.0    0.0  15.73  \n",
       "299  0.0  0.0  0.0  0.000  0.0    0.0  0.97  0.0    0.0  15.58  \n",
       "300  0.0  0.0  0.0  0.000  0.0    0.0  0.93  0.0    0.0  17.35  \n",
       "301  0.0  0.0  0.0  0.000  0.0    0.0  0.90  0.0    0.0  15.81  \n",
       "302  0.0  0.0  0.0  0.000  0.0    0.0  0.87  0.0    0.0  15.01  \n",
       "\n",
       "[303 rows x 34 columns]>"
      ]
     },
     "execution_count": 10,
     "metadata": {},
     "output_type": "execute_result"
    }
   ],
   "source": [
    "df1.as_matrix"
   ]
  },
  {
   "cell_type": "code",
   "execution_count": 11,
   "metadata": {
    "collapsed": false
   },
   "outputs": [
    {
     "data": {
      "text/plain": [
       "array([  1.34000000e+01,   1.29000000e+01,   1.32000000e+01,\n",
       "         1.36000000e+01,   1.58000000e+01,   1.42000000e+01,\n",
       "         9.80000000e+00,   5.50000000e+00,   1.68000000e+01,\n",
       "         7.50000000e+00,   1.12000000e+01,   1.58000000e+01,\n",
       "         1.38000000e+01,   4.60000000e+00,   1.01000000e+01,\n",
       "         1.09000000e+01,   3.38000000e+00,   6.59000000e+00,\n",
       "         5.24000000e+00,   7.59000000e+00,   4.74000000e+00,\n",
       "         8.25000000e+00,   6.50000000e+00,   6.50000000e+00,\n",
       "         5.94000000e+00,   1.78000000e+01,   1.83000000e+01,\n",
       "         1.70000000e+01,   1.59000000e+01,   1.49000000e+01,\n",
       "         1.45000000e+01,   1.49000000e+01,   1.59000000e+01,\n",
       "         1.27000000e+01,   1.45700000e+01,   1.52700000e+01,\n",
       "         1.55800000e+01,   1.57800000e+01,   1.64800000e+01,\n",
       "         1.56700000e+01,   1.39700000e+01,   1.56400000e+01,\n",
       "         1.62000000e+01,   1.37200000e+01,   1.10100000e+01,\n",
       "         8.80000000e+00,   1.05000000e+01,   1.11000000e+01,\n",
       "         3.50000000e+00,   1.61000000e+01,   1.72000000e+01,\n",
       "         1.50800000e+01,   1.57000000e+01,   1.64200000e+01,\n",
       "         1.43100000e+01,   1.68400000e+01,   1.74100000e+01,\n",
       "         1.81400000e+01,   1.77400000e+01,   1.66800000e+01,\n",
       "         1.64800000e+01,   5.46000000e+00,   6.47000000e+00,\n",
       "         1.01000000e+01,   1.03000000e+01,   1.16000000e+01,\n",
       "         1.00000000e+01,   7.20000000e+00,   5.50000000e+00,\n",
       "         1.90000000e+00,   1.35600000e+01,   1.71600000e+01,\n",
       "         1.55700000e+01,   1.33000000e+01,   1.24500000e+01,\n",
       "         1.55100000e+01,   8.80000000e+00,   1.93000000e+01,\n",
       "         2.08000000e+01,   1.98000000e+01,   2.00000000e+01,\n",
       "         1.92000000e+01,   1.22000000e+01,   1.09000000e+01,\n",
       "         1.58000000e+01,   1.64000000e+01,   1.82000000e+01,\n",
       "         1.66000000e+01,   1.17000000e+01,   6.70000000e+00,\n",
       "         1.56000000e+01,   1.63100000e+01,   1.67500000e+01,\n",
       "         1.80200000e+01,   1.71100000e+01,   3.83000000e+00,\n",
       "         1.02700000e+01,   1.13700000e+01,   1.11100000e+01,\n",
       "         1.02100000e+01,   8.66000000e+00,   4.14000000e+00,\n",
       "         1.01400000e+01,   8.37000000e+00,   6.57000000e+00,\n",
       "         5.46000000e+00,   8.29000000e+00,   1.78000000e+00,\n",
       "         1.75000000e+00,   2.29000000e+00,   1.00000000e-02,\n",
       "         2.20000000e-01,   9.37000000e+00,   9.71000000e+00,\n",
       "         7.11000000e+00,   1.74000000e+00,   7.60000000e-01,\n",
       "         1.03800000e+01,   1.00200000e+01,   7.17000000e+00,\n",
       "         4.30000000e+00,   6.80000000e-01,   9.95000000e+00,\n",
       "         8.53000000e+00,   6.01000000e+00,   6.00000000e-02,\n",
       "         4.00000000e-02,   2.32000000e+00,   5.30000000e+00,\n",
       "         2.38000000e+00,   4.89000000e+00,   9.25000000e+00,\n",
       "         1.08100000e+01,   9.29000000e+00,   5.58000000e+00,\n",
       "         1.16000000e+00,   2.10000000e-01,   1.06200000e+01,\n",
       "         1.04100000e+01,   7.69000000e+00,   9.88000000e+00,\n",
       "         6.04000000e+00,   5.23000000e+00,   5.48000000e+00,\n",
       "         5.73000000e+00,   4.27000000e+00,   6.07000000e+00,\n",
       "         1.10000000e-01,   2.00000000e-01,   5.80000000e+00,\n",
       "         1.21000000e+01,   1.18000000e+01,   1.30000000e+01,\n",
       "         1.47000000e+01,   1.27000000e+01,   1.05000000e+01,\n",
       "         9.60000000e+00,   8.90000000e+00,   7.80000000e+00,\n",
       "         1.04000000e+01,   1.56900000e+01,   1.73500000e+01,\n",
       "         4.80000000e+00,   1.21000000e+01,   1.39000000e+01,\n",
       "         1.28000000e+01,   1.43000000e+01,   1.18000000e+01,\n",
       "         1.03000000e+01,   9.60000000e+00,   1.74000000e+01,\n",
       "         2.07000000e+01,   1.29000000e+01,   1.10000000e+01,\n",
       "         1.60000000e+01,   1.32000000e+01,   1.90000000e+00,\n",
       "         1.47000000e+01,   1.85000000e+01,   1.53000000e+01,\n",
       "         1.75000000e+01,   1.22000000e+01,   8.50000000e+00,\n",
       "         3.70000000e+00,   1.14000000e+01,   1.17000000e+01,\n",
       "         1.19000000e+01,   1.07000000e+01,   8.70000000e+00,\n",
       "         8.60000000e+00,   7.50000000e+00,   5.80000000e+00,\n",
       "         5.60000000e+00,   7.90000000e+00,   6.20000000e+00,\n",
       "         3.50000000e+00,   6.30000000e+00,   5.00000000e+00,\n",
       "         3.30000000e+00,   3.40000000e+00,   3.90000000e+00,\n",
       "         2.90000000e+00,   2.30000000e+00,   3.50000000e+00,\n",
       "         5.00000000e+00,   6.50000000e+00,   5.50000000e+00,\n",
       "         7.10000000e+00,   6.40000000e+00,   7.10000000e+00,\n",
       "         5.60000000e+00,   1.43500000e+01,   1.38700000e+01,\n",
       "         1.41900000e+01,   7.53000000e+00,   7.32000000e+00,\n",
       "         1.40700000e+01,   1.43500000e+01,   3.68000000e+00,\n",
       "         2.36000000e+00,   2.60000000e-01,   1.40100000e+01,\n",
       "         1.59000000e+01,   1.60000000e+01,   1.84000000e+01,\n",
       "         1.79000000e+01,   1.52000000e+01,   1.30000000e+01,\n",
       "         3.85000000e+00,   6.15000000e+00,   3.85000000e+00,\n",
       "         1.47300000e+00,   1.60100000e+00,   2.02500000e+00,\n",
       "         1.08100000e+00,   2.00000000e-03,   1.34000000e+01,\n",
       "         1.34000000e+01,   1.16000000e+01,   1.14000000e+01,\n",
       "         1.03000000e+01,   1.09000000e+01,   1.11000000e+01,\n",
       "         9.20000000e+00,   8.00000000e+00,   1.90000000e+00,\n",
       "         8.20000000e+00,   6.90000000e+00,   4.20000000e+00,\n",
       "         5.60000000e+00,   5.70000000e+00,   5.50000000e+00,\n",
       "         6.80000000e+00,   6.10000000e+00,   7.70000000e+00,\n",
       "         6.80000000e+00,   6.80000000e+00,   5.70000000e+00,\n",
       "         1.55000000e+01,   1.69000000e+01,   1.82000000e+01,\n",
       "         1.78000000e+01,   1.49000000e+01,   6.40000000e+00,\n",
       "         1.10000000e-01,   2.00000000e-01,   1.70000000e-02,\n",
       "         2.00000000e-03,   1.44000000e+01,   5.90000000e+00,\n",
       "         8.20000000e+00,   1.00000000e+01,   7.60000000e+00,\n",
       "         3.20000000e+00,   1.75000000e+01,   1.76000000e+01,\n",
       "         1.75000000e+01,   1.28000000e+01,   1.78000000e+01,\n",
       "         1.93000000e+01,   1.88000000e+01,   1.85000000e+01,\n",
       "         1.82000000e+01,   1.75000000e+01,   1.72000000e+01,\n",
       "         1.70000000e+01,   1.40500000e+01,   1.59800000e+01,\n",
       "         1.77100000e+01,   1.66400000e+01,   1.46200000e+01,\n",
       "         1.38000000e+01,   1.53000000e+01,   1.67000000e+01,\n",
       "         1.79000000e+01,   1.65000000e+01,   1.49000000e+01,\n",
       "         1.24000000e+01,   1.57300000e+01,   1.55800000e+01,\n",
       "         1.73500000e+01,   1.58100000e+01,   1.50100000e+01])"
      ]
     },
     "execution_count": 11,
     "metadata": {},
     "output_type": "execute_result"
    }
   ],
   "source": [
    "y=df1['PCE'].values\n",
    "y"
   ]
  },
  {
   "cell_type": "code",
   "execution_count": 12,
   "metadata": {
    "collapsed": true
   },
   "outputs": [],
   "source": [
    "tmpdf1=df1.drop(['PCE'],axis=1)\n",
    "X=tmpdf1.as_matrix()"
   ]
  },
  {
   "cell_type": "code",
   "execution_count": 13,
   "metadata": {
    "collapsed": false
   },
   "outputs": [
    {
     "name": "stdout",
     "output_type": "stream",
     "text": [
      "<class 'numpy.ndarray'>\n",
      "(303, 33)\n",
      "(303,)\n"
     ]
    }
   ],
   "source": [
    "print (type(X))\n",
    "print (X.shape)\n",
    "print (y.shape)"
   ]
  },
  {
   "cell_type": "code",
   "execution_count": 14,
   "metadata": {
    "collapsed": false
   },
   "outputs": [],
   "source": [
    "from sklearn.model_selection import train_test_split"
   ]
  },
  {
   "cell_type": "code",
   "execution_count": 15,
   "metadata": {
    "collapsed": true
   },
   "outputs": [],
   "source": [
    "X_train,X_test,y_train,y_test = train_test_split(X,y,test_size=0.10)"
   ]
  },
  {
   "cell_type": "code",
   "execution_count": 16,
   "metadata": {
    "collapsed": false
   },
   "outputs": [
    {
     "data": {
      "text/plain": [
       "array([  7.5 ,   7.9 ,  14.07,   1.75,  16.68,   6.3 ,  12.2 ,   6.4 ,\n",
       "        15.01,  11.1 ,  13.87,  11.01,  10.  ,   4.89,  18.4 ,  16.1 ,\n",
       "        10.4 ,  16.48,  17.8 ,   1.16,  15.58,  10.41,  20.7 ,  16.31,\n",
       "        10.3 ,   9.2 ,  14.35,  18.3 ,   1.9 ,   2.9 ,   3.5 ])"
      ]
     },
     "execution_count": 16,
     "metadata": {},
     "output_type": "execute_result"
    }
   ],
   "source": [
    "y_test"
   ]
  },
  {
   "cell_type": "code",
   "execution_count": 17,
   "metadata": {
    "collapsed": true
   },
   "outputs": [],
   "source": [
    "from sklearn.linear_model import Lasso\n",
    "from sklearn.model_selection import GridSearchCV"
   ]
  },
  {
   "cell_type": "code",
   "execution_count": 18,
   "metadata": {
    "collapsed": false
   },
   "outputs": [
    {
     "data": {
      "text/plain": [
       "array([  1.10000000e+01,   1.07000000e+01,   7.10000000e+00,\n",
       "         1.33000000e+01,   7.60000000e-01,   6.00000000e-02,\n",
       "         1.53000000e+01,   1.32000000e+01,   2.00000000e-01,\n",
       "         1.57300000e+01,   2.38000000e+00,   1.34000000e+01,\n",
       "         1.81400000e+01,   1.74100000e+01,   1.66000000e+01,\n",
       "         2.00000000e+01,   2.32000000e+00,   5.48000000e+00,\n",
       "         1.90000000e+00,   7.53000000e+00,   8.20000000e+00,\n",
       "         1.88000000e+01,   7.59000000e+00,   6.01000000e+00,\n",
       "         6.47000000e+00,   1.32000000e+01,   1.37200000e+01,\n",
       "         1.34000000e+01,   1.16000000e+01,   5.00000000e+00,\n",
       "         8.80000000e+00,   4.80000000e+00,   4.14000000e+00,\n",
       "         6.50000000e+00,   1.68000000e+01,   9.71000000e+00,\n",
       "         1.53000000e+01,   1.19000000e+01,   2.00000000e-01,\n",
       "         1.49000000e+01,   1.58000000e+01,   3.68000000e+00,\n",
       "         1.40100000e+01,   6.80000000e+00,   5.60000000e+00,\n",
       "         1.80200000e+01,   7.20000000e+00,   1.41900000e+01,\n",
       "         1.82000000e+01,   4.00000000e-02,   1.27000000e+01,\n",
       "         7.69000000e+00,   1.55100000e+01,   3.85000000e+00,\n",
       "         2.02500000e+00,   1.78000000e+01,   1.78000000e+00,\n",
       "         3.38000000e+00,   1.74000000e+01,   5.94000000e+00,\n",
       "         6.80000000e+00,   8.66000000e+00,   1.52700000e+01,\n",
       "         1.46200000e+01,   1.49000000e+01,   5.50000000e+00,\n",
       "         7.17000000e+00,   1.38000000e+01,   1.09000000e+01,\n",
       "         1.56700000e+01,   1.00000000e+01,   3.70000000e+00,\n",
       "         1.09000000e+01,   6.10000000e+00,   9.88000000e+00,\n",
       "         1.64800000e+01,   3.90000000e+00,   1.14000000e+01,\n",
       "         1.65000000e+01,   2.29000000e+00,   1.50800000e+01,\n",
       "         1.10000000e-01,   5.46000000e+00,   1.56400000e+01,\n",
       "         1.75000000e+01,   1.30000000e+01,   1.75000000e+01,\n",
       "         1.56000000e+01,   5.90000000e+00,   2.60000000e-01,\n",
       "         1.14000000e+01,   3.83000000e+00,   7.11000000e+00,\n",
       "         1.82000000e+01,   1.16000000e+01,   7.10000000e+00,\n",
       "         1.05000000e+01,   9.37000000e+00,   1.72000000e+01,\n",
       "         7.32000000e+00,   3.30000000e+00,   6.80000000e-01,\n",
       "         1.66400000e+01,   8.20000000e+00,   5.73000000e+00,\n",
       "         5.50000000e+00,   1.77100000e+01,   1.38000000e+01,\n",
       "         1.64200000e+01,   7.60000000e+00,   3.85000000e+00,\n",
       "         1.09000000e+01,   1.39000000e+01,   5.00000000e+00,\n",
       "         1.55800000e+01,   8.29000000e+00,   1.02100000e+01,\n",
       "         1.75000000e+01,   8.60000000e+00,   5.23000000e+00,\n",
       "         1.79000000e+01,   1.59000000e+01,   1.69000000e+01,\n",
       "         1.21000000e+01,   1.43100000e+01,   1.17000000e+01,\n",
       "         1.57000000e+01,   1.60100000e+00,   1.27000000e+01,\n",
       "         1.17000000e+01,   2.00000000e-03,   1.28000000e+01,\n",
       "         7.50000000e+00,   1.01000000e+01,   1.30000000e+01,\n",
       "         1.08100000e+01,   2.08000000e+01,   1.72000000e+01,\n",
       "         1.03000000e+01,   9.25000000e+00,   3.50000000e+00,\n",
       "         1.10000000e-01,   6.70000000e+00,   7.70000000e+00,\n",
       "         5.58000000e+00,   1.67000000e+01,   1.08100000e+00,\n",
       "         2.10000000e-01,   1.02700000e+01,   6.40000000e+00,\n",
       "         1.70000000e+01,   1.22000000e+01,   1.98000000e+01,\n",
       "         6.07000000e+00,   6.59000000e+00,   5.80000000e+00,\n",
       "         5.30000000e+00,   8.37000000e+00,   4.30000000e+00,\n",
       "         1.47000000e+01,   2.00000000e-03,   1.11000000e+01,\n",
       "         1.44000000e+01,   6.90000000e+00,   5.46000000e+00,\n",
       "         5.50000000e+00,   4.74000000e+00,   2.36000000e+00,\n",
       "         1.71600000e+01,   1.68400000e+01,   1.70000000e+01,\n",
       "         6.50000000e+00,   1.58000000e+01,   1.11100000e+01,\n",
       "         1.75000000e+01,   1.00200000e+01,   1.70000000e-02,\n",
       "         6.57000000e+00,   9.80000000e+00,   6.04000000e+00,\n",
       "         8.80000000e+00,   1.01000000e+01,   1.40500000e+01,\n",
       "         2.30000000e+00,   1.01400000e+01,   4.60000000e+00,\n",
       "         9.29000000e+00,   4.20000000e+00,   6.50000000e+00,\n",
       "         8.00000000e+00,   8.90000000e+00,   6.15000000e+00,\n",
       "         3.50000000e+00,   1.13700000e+01,   1.45700000e+01,\n",
       "         1.55700000e+01,   1.18000000e+01,   1.92000000e+01,\n",
       "         1.58100000e+01,   1.79000000e+01,   1.67500000e+01,\n",
       "         5.80000000e+00,   8.50000000e+00,   1.77400000e+01,\n",
       "         1.06200000e+01,   1.29000000e+01,   6.20000000e+00,\n",
       "         6.80000000e+00,   1.73500000e+01,   1.78000000e+01,\n",
       "         1.47300000e+00,   1.56900000e+01,   1.59000000e+01,\n",
       "         5.70000000e+00,   1.03000000e+01,   1.59800000e+01,\n",
       "         1.39700000e+01,   8.53000000e+00,   5.24000000e+00,\n",
       "         1.93000000e+01,   5.60000000e+00,   1.90000000e+00,\n",
       "         3.20000000e+00,   9.60000000e+00,   1.21000000e+01,\n",
       "         1.12000000e+01,   1.85000000e+01,   1.49000000e+01,\n",
       "         1.24500000e+01,   1.60000000e+01,   1.60000000e+01,\n",
       "         1.34000000e+01,   1.47000000e+01,   1.71100000e+01,\n",
       "         4.27000000e+00,   1.43500000e+01,   1.36000000e+01,\n",
       "         1.85000000e+01,   3.40000000e+00,   1.64000000e+01,\n",
       "         1.43000000e+01,   1.45000000e+01,   1.42000000e+01,\n",
       "         8.70000000e+00,   1.05000000e+01,   1.57800000e+01,\n",
       "         1.74000000e+00,   1.24000000e+01,   2.20000000e-01,\n",
       "         9.95000000e+00,   5.60000000e+00,   7.80000000e+00,\n",
       "         1.82000000e+01,   1.28000000e+01,   1.62000000e+01,\n",
       "         1.29000000e+01,   1.55000000e+01,   1.49000000e+01,\n",
       "         5.50000000e+00,   1.52000000e+01,   1.59000000e+01,\n",
       "         5.70000000e+00,   1.93000000e+01,   1.58000000e+01,\n",
       "         1.00000000e-02,   8.25000000e+00,   1.03800000e+01,\n",
       "         1.76000000e+01,   1.35600000e+01,   1.18000000e+01,\n",
       "         1.73500000e+01,   9.60000000e+00])"
      ]
     },
     "execution_count": 18,
     "metadata": {},
     "output_type": "execute_result"
    }
   ],
   "source": [
    "y_train.ravel()"
   ]
  },
  {
   "cell_type": "code",
   "execution_count": 19,
   "metadata": {
    "collapsed": true
   },
   "outputs": [],
   "source": [
    "lasso = Lasso(alpha=0.001, fit_intercept=True, normalize=False, precompute=False,\n",
    "              copy_X=True, max_iter=10000, tol=0.00001, positive=False, random_state=None, selection='cyclic')"
   ]
  },
  {
   "cell_type": "code",
   "execution_count": 20,
   "metadata": {
    "collapsed": true
   },
   "outputs": [],
   "source": [
    "alphas = np.array([0.1,0.01,0.001,0.0001])"
   ]
  },
  {
   "cell_type": "code",
   "execution_count": 21,
   "metadata": {
    "collapsed": true
   },
   "outputs": [],
   "source": [
    "gs = GridSearchCV(lasso, param_grid=dict(alpha=alphas))"
   ]
  },
  {
   "cell_type": "code",
   "execution_count": 22,
   "metadata": {
    "collapsed": false
   },
   "outputs": [
    {
     "data": {
      "text/plain": [
       "GridSearchCV(cv=None, error_score='raise',\n",
       "       estimator=Lasso(alpha=0.001, copy_X=True, fit_intercept=True, max_iter=10000,\n",
       "   normalize=False, positive=False, precompute=False, random_state=None,\n",
       "   selection='cyclic', tol=1e-05, warm_start=False),\n",
       "       fit_params={}, iid=True, n_jobs=1,\n",
       "       param_grid={'alpha': array([ 0.1   ,  0.01  ,  0.001 ,  0.0001])},\n",
       "       pre_dispatch='2*n_jobs', refit=True, return_train_score=True,\n",
       "       scoring=None, verbose=0)"
      ]
     },
     "execution_count": 22,
     "metadata": {},
     "output_type": "execute_result"
    }
   ],
   "source": [
    "gs.fit(X_train,y_train)"
   ]
  },
  {
   "cell_type": "code",
   "execution_count": 66,
   "metadata": {
    "collapsed": false
   },
   "outputs": [
    {
     "data": {
      "text/plain": [
       "<matplotlib.text.Text at 0x1b4c7d32c18>"
      ]
     },
     "execution_count": 66,
     "metadata": {},
     "output_type": "execute_result"
    },
    {
     "data": {
      "image/png": "[encoded data removed]",
      "text/plain": [
       "<matplotlib.figure.Figure at 0x1b4c7d37e80>"
      ]
     },
     "metadata": {},
     "output_type": "display_data"
    }
   ],
   "source": [
    "lasso.alpha_ = gs.best_params_['alpha']\n",
    "obj=lasso.fit(X_train,y_train)\n",
    "predict_train=obj.predict(X_train)\n",
    "\n",
    "# make the plot of prediction on training data\n",
    "plt.figure(figsize=(5,4))\n",
    "plt.rcParams.update({'font.size': 10})\n",
    "plt.scatter(y_train,predict_train,s=1,color='blue')\n",
    "#plt.title('Prediction on training data')\n",
    "plt.plot(np.linspace(0,25,1000),np.linspace(0,25,1000),color='red')\n",
    "plt.xlim((0,25))\n",
    "plt.ylim((0,25))\n",
    "plt.xlabel(\"Experiment PCE\")\n",
    "plt.ylabel(\"Prediction PCE\")"
   ]
  },
  {
   "cell_type": "code",
   "execution_count": 63,
   "metadata": {
    "collapsed": false
   },
   "outputs": [
    {
     "data": {
      "text/plain": [
       "<matplotlib.text.Text at 0x1b4c78ca748>"
      ]
     },
     "execution_count": 63,
     "metadata": {},
     "output_type": "execute_result"
    },
    {
     "data": {
      "image/png": "[encoded data removed]",
      "text/plain": [
       "<matplotlib.figure.Figure at 0x1b4c7968080>"
      ]
     },
     "metadata": {},
     "output_type": "display_data"
    }
   ],
   "source": [
    "predict_test=obj.predict(X_test)\n",
    "\n",
    "# make the plot of predition on testing data\n",
    "plt.figure(figsize=(5,4))\n",
    "plt.rcParams.update({'font.size': 10})\n",
    "plt.scatter(y_test,predict_test,s=1,color='blue')\n",
    "#plt.title('Prediction on testing data')\n",
    "plt.plot(np.linspace(0,25,1000),np.linspace(0,25,1000),color='red')\n",
    "plt.xlim((0,25))\n",
    "plt.ylim((0,25))\n",
    "plt.xlabel(\"Experiment PCE\")\n",
    "plt.ylabel(\"Prediction PCE\")"
   ]
  },
  {
   "cell_type": "code",
   "execution_count": 34,
   "metadata": {
    "collapsed": false
   },
   "outputs": [
    {
     "data": {
      "text/plain": [
       "0.001"
      ]
     },
     "execution_count": 34,
     "metadata": {},
     "output_type": "execute_result"
    }
   ],
   "source": [
    "lasso.alpha"
   ]
  },
  {
   "cell_type": "code",
   "execution_count": 35,
   "metadata": {
    "collapsed": false
   },
   "outputs": [
    {
     "data": {
      "text/plain": [
       "<bound method BaseEstimator.get_params of Lasso(alpha=0.001, copy_X=True, fit_intercept=True, max_iter=10000,\n",
       "   normalize=False, positive=False, precompute=False, random_state=None,\n",
       "   selection='cyclic', tol=1e-05, warm_start=False)>"
      ]
     },
     "execution_count": 35,
     "metadata": {},
     "output_type": "execute_result"
    }
   ],
   "source": [
    "lasso.get_params"
   ]
  },
  {
   "cell_type": "code",
   "execution_count": 36,
   "metadata": {
    "collapsed": false
   },
   "outputs": [
    {
     "data": {
      "text/plain": [
       "0.68627509760494743"
      ]
     },
     "execution_count": 36,
     "metadata": {},
     "output_type": "execute_result"
    }
   ],
   "source": [
    "lasso.score(X_train,y_train)"
   ]
  },
  {
   "cell_type": "code",
   "execution_count": 37,
   "metadata": {
    "collapsed": false
   },
   "outputs": [
    {
     "data": {
      "text/plain": [
       "0.56309002693678289"
      ]
     },
     "execution_count": 37,
     "metadata": {},
     "output_type": "execute_result"
    }
   ],
   "source": [
    "lasso.score(X_test,y_test)"
   ]
  },
  {
   "cell_type": "code",
   "execution_count": 38,
   "metadata": {
    "collapsed": true
   },
   "outputs": [],
   "source": [
    "rdata1 = pd.read_csv('reduced_coefficient_2.csv')"
   ]
  },
  {
   "cell_type": "code",
   "execution_count": 39,
   "metadata": {
    "collapsed": false
   },
   "outputs": [
    {
     "data": {
      "text/html": [
       "<div>\n",
       "<table border=\"1\" class=\"dataframe\">\n",
       "  <thead>\n",
       "    <tr style=\"text-align: right;\">\n",
       "      <th></th>\n",
       "      <th>MA/FA</th>\n",
       "      <th>MA</th>\n",
       "      <th>Al/MA</th>\n",
       "      <th>FA/Cs</th>\n",
       "      <th>MA/Cs</th>\n",
       "      <th>FA</th>\n",
       "      <th>Cs</th>\n",
       "      <th>MA/EA</th>\n",
       "      <th>Pb</th>\n",
       "      <th>Pb/Sn</th>\n",
       "      <th>Sn</th>\n",
       "      <th>I/Br</th>\n",
       "      <th>I</th>\n",
       "      <th>I/SCN</th>\n",
       "      <th>I/Cl</th>\n",
       "      <th>Br</th>\n",
       "      <th>PCE</th>\n",
       "    </tr>\n",
       "  </thead>\n",
       "  <tbody>\n",
       "    <tr>\n",
       "      <th>0</th>\n",
       "      <td>0.17</td>\n",
       "      <td>NaN</td>\n",
       "      <td>NaN</td>\n",
       "      <td>NaN</td>\n",
       "      <td>NaN</td>\n",
       "      <td>NaN</td>\n",
       "      <td>NaN</td>\n",
       "      <td>NaN</td>\n",
       "      <td>1.0</td>\n",
       "      <td>NaN</td>\n",
       "      <td>NaN</td>\n",
       "      <td>0.83</td>\n",
       "      <td>NaN</td>\n",
       "      <td>NaN</td>\n",
       "      <td>NaN</td>\n",
       "      <td>NaN</td>\n",
       "      <td>13.4</td>\n",
       "    </tr>\n",
       "    <tr>\n",
       "      <th>1</th>\n",
       "      <td>0.17</td>\n",
       "      <td>NaN</td>\n",
       "      <td>NaN</td>\n",
       "      <td>NaN</td>\n",
       "      <td>NaN</td>\n",
       "      <td>NaN</td>\n",
       "      <td>NaN</td>\n",
       "      <td>NaN</td>\n",
       "      <td>1.0</td>\n",
       "      <td>NaN</td>\n",
       "      <td>NaN</td>\n",
       "      <td>0.83</td>\n",
       "      <td>NaN</td>\n",
       "      <td>NaN</td>\n",
       "      <td>NaN</td>\n",
       "      <td>NaN</td>\n",
       "      <td>12.9</td>\n",
       "    </tr>\n",
       "    <tr>\n",
       "      <th>2</th>\n",
       "      <td>NaN</td>\n",
       "      <td>1.0</td>\n",
       "      <td>NaN</td>\n",
       "      <td>NaN</td>\n",
       "      <td>NaN</td>\n",
       "      <td>NaN</td>\n",
       "      <td>NaN</td>\n",
       "      <td>NaN</td>\n",
       "      <td>1.0</td>\n",
       "      <td>NaN</td>\n",
       "      <td>NaN</td>\n",
       "      <td>NaN</td>\n",
       "      <td>1.0</td>\n",
       "      <td>NaN</td>\n",
       "      <td>NaN</td>\n",
       "      <td>NaN</td>\n",
       "      <td>13.2</td>\n",
       "    </tr>\n",
       "    <tr>\n",
       "      <th>3</th>\n",
       "      <td>NaN</td>\n",
       "      <td>NaN</td>\n",
       "      <td>0.075</td>\n",
       "      <td>NaN</td>\n",
       "      <td>NaN</td>\n",
       "      <td>NaN</td>\n",
       "      <td>NaN</td>\n",
       "      <td>NaN</td>\n",
       "      <td>1.0</td>\n",
       "      <td>NaN</td>\n",
       "      <td>NaN</td>\n",
       "      <td>NaN</td>\n",
       "      <td>1.0</td>\n",
       "      <td>NaN</td>\n",
       "      <td>NaN</td>\n",
       "      <td>NaN</td>\n",
       "      <td>13.6</td>\n",
       "    </tr>\n",
       "    <tr>\n",
       "      <th>4</th>\n",
       "      <td>NaN</td>\n",
       "      <td>NaN</td>\n",
       "      <td>0.150</td>\n",
       "      <td>NaN</td>\n",
       "      <td>NaN</td>\n",
       "      <td>NaN</td>\n",
       "      <td>NaN</td>\n",
       "      <td>NaN</td>\n",
       "      <td>1.0</td>\n",
       "      <td>NaN</td>\n",
       "      <td>NaN</td>\n",
       "      <td>NaN</td>\n",
       "      <td>1.0</td>\n",
       "      <td>NaN</td>\n",
       "      <td>NaN</td>\n",
       "      <td>NaN</td>\n",
       "      <td>15.8</td>\n",
       "    </tr>\n",
       "  </tbody>\n",
       "</table>\n",
       "</div>"
      ],
      "text/plain": [
       "   MA/FA   MA  Al/MA  FA/Cs  MA/Cs  FA  Cs  MA/EA   Pb  Pb/Sn  Sn  I/Br    I  \\\n",
       "0   0.17  NaN    NaN    NaN    NaN NaN NaN    NaN  1.0    NaN NaN  0.83  NaN   \n",
       "1   0.17  NaN    NaN    NaN    NaN NaN NaN    NaN  1.0    NaN NaN  0.83  NaN   \n",
       "2    NaN  1.0    NaN    NaN    NaN NaN NaN    NaN  1.0    NaN NaN   NaN  1.0   \n",
       "3    NaN  NaN  0.075    NaN    NaN NaN NaN    NaN  1.0    NaN NaN   NaN  1.0   \n",
       "4    NaN  NaN  0.150    NaN    NaN NaN NaN    NaN  1.0    NaN NaN   NaN  1.0   \n",
       "\n",
       "   I/SCN  I/Cl  Br   PCE  \n",
       "0    NaN   NaN NaN  13.4  \n",
       "1    NaN   NaN NaN  12.9  \n",
       "2    NaN   NaN NaN  13.2  \n",
       "3    NaN   NaN NaN  13.6  \n",
       "4    NaN   NaN NaN  15.8  "
      ]
     },
     "execution_count": 39,
     "metadata": {},
     "output_type": "execute_result"
    }
   ],
   "source": [
    "rdata1.head()"
   ]
  },
  {
   "cell_type": "code",
   "execution_count": 40,
   "metadata": {
    "collapsed": false
   },
   "outputs": [
    {
     "data": {
      "text/html": [
       "<div>\n",
       "<table border=\"1\" class=\"dataframe\">\n",
       "  <thead>\n",
       "    <tr style=\"text-align: right;\">\n",
       "      <th></th>\n",
       "      <th>MA/FA</th>\n",
       "      <th>MA</th>\n",
       "      <th>Al/MA</th>\n",
       "      <th>FA/Cs</th>\n",
       "      <th>MA/Cs</th>\n",
       "      <th>FA</th>\n",
       "      <th>Cs</th>\n",
       "      <th>MA/EA</th>\n",
       "      <th>Pb</th>\n",
       "      <th>Pb/Sn</th>\n",
       "      <th>Sn</th>\n",
       "      <th>I/Br</th>\n",
       "      <th>I</th>\n",
       "      <th>I/SCN</th>\n",
       "      <th>I/Cl</th>\n",
       "      <th>Br</th>\n",
       "      <th>PCE</th>\n",
       "    </tr>\n",
       "  </thead>\n",
       "  <tbody>\n",
       "    <tr>\n",
       "      <th>0</th>\n",
       "      <td>0.17</td>\n",
       "      <td>0.0</td>\n",
       "      <td>0.000</td>\n",
       "      <td>0.0</td>\n",
       "      <td>0.0</td>\n",
       "      <td>0.0</td>\n",
       "      <td>0.0</td>\n",
       "      <td>0.0</td>\n",
       "      <td>1.0</td>\n",
       "      <td>0.0</td>\n",
       "      <td>0.0</td>\n",
       "      <td>0.83</td>\n",
       "      <td>0.0</td>\n",
       "      <td>0.0</td>\n",
       "      <td>0.0</td>\n",
       "      <td>0.0</td>\n",
       "      <td>13.4</td>\n",
       "    </tr>\n",
       "    <tr>\n",
       "      <th>1</th>\n",
       "      <td>0.17</td>\n",
       "      <td>0.0</td>\n",
       "      <td>0.000</td>\n",
       "      <td>0.0</td>\n",
       "      <td>0.0</td>\n",
       "      <td>0.0</td>\n",
       "      <td>0.0</td>\n",
       "      <td>0.0</td>\n",
       "      <td>1.0</td>\n",
       "      <td>0.0</td>\n",
       "      <td>0.0</td>\n",
       "      <td>0.83</td>\n",
       "      <td>0.0</td>\n",
       "      <td>0.0</td>\n",
       "      <td>0.0</td>\n",
       "      <td>0.0</td>\n",
       "      <td>12.9</td>\n",
       "    </tr>\n",
       "    <tr>\n",
       "      <th>2</th>\n",
       "      <td>0.00</td>\n",
       "      <td>1.0</td>\n",
       "      <td>0.000</td>\n",
       "      <td>0.0</td>\n",
       "      <td>0.0</td>\n",
       "      <td>0.0</td>\n",
       "      <td>0.0</td>\n",
       "      <td>0.0</td>\n",
       "      <td>1.0</td>\n",
       "      <td>0.0</td>\n",
       "      <td>0.0</td>\n",
       "      <td>0.00</td>\n",
       "      <td>1.0</td>\n",
       "      <td>0.0</td>\n",
       "      <td>0.0</td>\n",
       "      <td>0.0</td>\n",
       "      <td>13.2</td>\n",
       "    </tr>\n",
       "    <tr>\n",
       "      <th>3</th>\n",
       "      <td>0.00</td>\n",
       "      <td>0.0</td>\n",
       "      <td>0.075</td>\n",
       "      <td>0.0</td>\n",
       "      <td>0.0</td>\n",
       "      <td>0.0</td>\n",
       "      <td>0.0</td>\n",
       "      <td>0.0</td>\n",
       "      <td>1.0</td>\n",
       "      <td>0.0</td>\n",
       "      <td>0.0</td>\n",
       "      <td>0.00</td>\n",
       "      <td>1.0</td>\n",
       "      <td>0.0</td>\n",
       "      <td>0.0</td>\n",
       "      <td>0.0</td>\n",
       "      <td>13.6</td>\n",
       "    </tr>\n",
       "    <tr>\n",
       "      <th>4</th>\n",
       "      <td>0.00</td>\n",
       "      <td>0.0</td>\n",
       "      <td>0.150</td>\n",
       "      <td>0.0</td>\n",
       "      <td>0.0</td>\n",
       "      <td>0.0</td>\n",
       "      <td>0.0</td>\n",
       "      <td>0.0</td>\n",
       "      <td>1.0</td>\n",
       "      <td>0.0</td>\n",
       "      <td>0.0</td>\n",
       "      <td>0.00</td>\n",
       "      <td>1.0</td>\n",
       "      <td>0.0</td>\n",
       "      <td>0.0</td>\n",
       "      <td>0.0</td>\n",
       "      <td>15.8</td>\n",
       "    </tr>\n",
       "  </tbody>\n",
       "</table>\n",
       "</div>"
      ],
      "text/plain": [
       "   MA/FA   MA  Al/MA  FA/Cs  MA/Cs   FA   Cs  MA/EA   Pb  Pb/Sn   Sn  I/Br  \\\n",
       "0   0.17  0.0  0.000    0.0    0.0  0.0  0.0    0.0  1.0    0.0  0.0  0.83   \n",
       "1   0.17  0.0  0.000    0.0    0.0  0.0  0.0    0.0  1.0    0.0  0.0  0.83   \n",
       "2   0.00  1.0  0.000    0.0    0.0  0.0  0.0    0.0  1.0    0.0  0.0  0.00   \n",
       "3   0.00  0.0  0.075    0.0    0.0  0.0  0.0    0.0  1.0    0.0  0.0  0.00   \n",
       "4   0.00  0.0  0.150    0.0    0.0  0.0  0.0    0.0  1.0    0.0  0.0  0.00   \n",
       "\n",
       "     I  I/SCN  I/Cl   Br   PCE  \n",
       "0  0.0    0.0   0.0  0.0  13.4  \n",
       "1  0.0    0.0   0.0  0.0  12.9  \n",
       "2  1.0    0.0   0.0  0.0  13.2  \n",
       "3  1.0    0.0   0.0  0.0  13.6  \n",
       "4  1.0    0.0   0.0  0.0  15.8  "
      ]
     },
     "execution_count": 40,
     "metadata": {},
     "output_type": "execute_result"
    }
   ],
   "source": [
    "rdata1 = rdata1.fillna(0)\n",
    "rdata1.head()"
   ]
  },
  {
   "cell_type": "code",
   "execution_count": 41,
   "metadata": {
    "collapsed": true
   },
   "outputs": [],
   "source": [
    "XX=rdata1.drop(['PCE'],axis=1).as_matrix()\n",
    "yy=rdata1['PCE'].values"
   ]
  },
  {
   "cell_type": "code",
   "execution_count": 42,
   "metadata": {
    "collapsed": false
   },
   "outputs": [
    {
     "data": {
      "text/plain": [
       "numpy.ndarray"
      ]
     },
     "execution_count": 42,
     "metadata": {},
     "output_type": "execute_result"
    }
   ],
   "source": [
    "type(XX)"
   ]
  },
  {
   "cell_type": "code",
   "execution_count": 43,
   "metadata": {
    "collapsed": false
   },
   "outputs": [
    {
     "name": "stdout",
     "output_type": "stream",
     "text": [
      "(233, 16)\n",
      "(233,)\n"
     ]
    }
   ],
   "source": [
    "print (XX.shape)\n",
    "print (yy.shape)"
   ]
  },
  {
   "cell_type": "code",
   "execution_count": 44,
   "metadata": {
    "collapsed": false
   },
   "outputs": [],
   "source": [
    "XX_train,XX_test,yy_train,yy_test = train_test_split(XX,yy,test_size=0.10)"
   ]
  },
  {
   "cell_type": "code",
   "execution_count": 45,
   "metadata": {
    "collapsed": false
   },
   "outputs": [
    {
     "data": {
      "text/plain": [
       "array([ 11.6  ,  10.3  ,  20.8  ,   9.25 ,   8.8  ,   5.6  ,   1.9  ,\n",
       "         9.6  ,  13.9  ,  17.5  ,  14.31 ,   6.1  ,  17.41 ,   5.23 ,\n",
       "        17.5  ,  14.05 ,   8.9  ,  12.7  ,   6.8  ,   8.8  ,  13.8  ,\n",
       "        15.8  ,  14.7  ,  10.1  ,   4.6  ,   3.85 ,  19.3  ,  11.7  ,\n",
       "        11.1  ,   3.5  ,  18.02 ,  12.8  ,   7.6  ,   5.5  ,  15.78 ,\n",
       "        16.4  ,   6.5  ,  17.8  ,  17.35 ,   3.68 ,   1.9  ,  19.2  ,\n",
       "         8.2  ,   7.7  ,   1.601,  18.5  ,  10.1  ,  11.1  ,   1.081,\n",
       "         0.26 ,   3.3  ,  15.01 ,  10.9  ,   4.89 ,  13.87 ,   8.25 ,\n",
       "        16.48 ,   1.473,  13.4  ,  14.7  ,   7.1  ,  15.69 ,  16.75 ,\n",
       "        16.8  ,  15.08 ,  17.74 ,   6.8  ,   2.9  ,  19.8  ,  13.56 ,\n",
       "         5.5  ,   5.   ,  15.6  ,  20.   ,  10.4  ,  16.1  ,  13.97 ,\n",
       "        15.3  ,   3.4  ,   8.2  ,   2.025,   9.6  ,  15.3  ,  15.7  ,\n",
       "         7.5  ,   5.7  ,  10.3  ,   5.3  ,  13.2  ,  15.9  ,  16.9  ,\n",
       "        12.1  ,  13.8  ,  15.9  ,   4.74 ,  14.2  ,  12.9  ,   3.5  ,\n",
       "        14.35 ,   6.59 ,  12.1  ,   5.6  ,  14.9  ,   7.9  ,  15.58 ,\n",
       "         5.7  ,  13.4  ,   6.8  ,  20.7  ,  15.27 ,  10.7  ,   3.38 ,\n",
       "        13.72 ,  16.42 ,  14.3  ,   6.7  ,  17.8  ,   6.4  ,   4.27 ,\n",
       "        16.2  ,   3.83 ,   5.94 ,  14.9  ,   5.48 ,   6.07 ,  18.3  ,\n",
       "         3.5  ,  12.2  ,  13.2  ,  12.8  ,  13.4  ,  17.2  ,   8.7  ,\n",
       "        15.51 ,  19.3  ,   8.6  ,  15.5  ,  11.8  ,  10.27 ,  11.01 ,\n",
       "         4.2  ,  15.73 ,  16.84 ,  17.   ,  12.9  ,   2.36 ,   5.8  ,\n",
       "         5.   ,  11.9  ,  14.5  ,  11.   ,   5.46 ,  14.07 ,  17.5  ,\n",
       "        17.4  ,  15.64 ,   8.   ,   9.2  ,   6.5  ,   8.5  ,  15.58 ,\n",
       "        16.   ,  18.14 ,  12.2  ,  16.31 ,  16.48 ,   3.7  ,  18.2  ,\n",
       "         7.5  ,  14.01 ,   5.73 ,   5.6  ,   6.4  ,  11.2  ,   5.24 ,\n",
       "        17.11 ,   2.32 ,  11.8  ,  18.8  ,   6.2  ,  11.7  ,  13.6  ,\n",
       "         7.53 ,   5.8  ,   6.9  ,   6.15 ,  18.2  ,  17.2  ,  10.9  ,\n",
       "        13.   ,   9.8  ,  14.19 ,   7.59 ,  18.5  ,  14.35 ,   7.32 ,\n",
       "        10.5  ,  10.5  ,  15.81 ,  14.57 ,  18.2  ,  17.   ,   7.1  ,\n",
       "        16.7  ,  17.5  ,   7.8  ,  15.67 ,  14.9  ,  14.4  ])"
      ]
     },
     "execution_count": 45,
     "metadata": {},
     "output_type": "execute_result"
    }
   ],
   "source": [
    "yy_train.ravel()"
   ]
  },
  {
   "cell_type": "code",
   "execution_count": 46,
   "metadata": {
    "collapsed": false
   },
   "outputs": [
    {
     "data": {
      "text/plain": [
       "array([  3.90000000e+00,   1.76000000e+01,   2.30000000e+00,\n",
       "         1.66000000e+01,   1.58000000e+01,   1.78000000e+01,\n",
       "         1.00000000e+01,   1.66800000e+01,   3.85000000e+00,\n",
       "         1.09000000e+01,   5.50000000e+00,   1.60000000e+01,\n",
       "         4.80000000e+00,   6.30000000e+00,   2.38000000e+00,\n",
       "         1.73500000e+01,   6.50000000e+00,   1.14000000e+01,\n",
       "         1.14000000e+01,   1.27000000e+01,   2.00000000e-03,\n",
       "         3.20000000e+00,   1.58000000e+01,   5.90000000e+00])"
      ]
     },
     "execution_count": 46,
     "metadata": {},
     "output_type": "execute_result"
    }
   ],
   "source": [
    "yy_test.ravel()"
   ]
  },
  {
   "cell_type": "code",
   "execution_count": 47,
   "metadata": {
    "collapsed": false
   },
   "outputs": [],
   "source": [
    "lasso = Lasso(alpha=0.001, fit_intercept=True, normalize=False, precompute=False,\n",
    "        copy_X=True, max_iter=10000, tol=0.00001, positive=False, random_state=None, selection='cyclic')"
   ]
  },
  {
   "cell_type": "code",
   "execution_count": 48,
   "metadata": {
    "collapsed": false
   },
   "outputs": [
    {
     "data": {
      "text/plain": [
       "Lasso(alpha=0.001, copy_X=True, fit_intercept=True, max_iter=10000,\n",
       "   normalize=False, positive=False, precompute=False, random_state=None,\n",
       "   selection='cyclic', tol=1e-05, warm_start=False)"
      ]
     },
     "execution_count": 48,
     "metadata": {},
     "output_type": "execute_result"
    }
   ],
   "source": [
    "lasso.fit(XX_train,yy_train)"
   ]
  },
  {
   "cell_type": "code",
   "execution_count": 49,
   "metadata": {
    "collapsed": true
   },
   "outputs": [],
   "source": [
    "predict_XX_train = lasso.predict(XX_train)\n",
    "predict_XX_test=lasso.predict(XX_test)"
   ]
  },
  {
   "cell_type": "code",
   "execution_count": 50,
   "metadata": {
    "collapsed": false
   },
   "outputs": [
    {
     "data": {
      "text/plain": [
       "0.62325253461865882"
      ]
     },
     "execution_count": 50,
     "metadata": {},
     "output_type": "execute_result"
    }
   ],
   "source": [
    "lasso.score(XX_train,yy_train)"
   ]
  },
  {
   "cell_type": "code",
   "execution_count": 51,
   "metadata": {
    "collapsed": false
   },
   "outputs": [
    {
     "data": {
      "text/plain": [
       "0.73926640919548647"
      ]
     },
     "execution_count": 51,
     "metadata": {},
     "output_type": "execute_result"
    }
   ],
   "source": [
    "lasso.score(XX_test,yy_test)"
   ]
  },
  {
   "cell_type": "code",
   "execution_count": 52,
   "metadata": {
    "collapsed": false
   },
   "outputs": [
    {
     "data": {
      "text/plain": [
       "array([  1.55150898,  -2.14663424,  -5.50165537,   2.21894557,\n",
       "        -2.31718315,  -0.43938344,  -4.8410556 ,  -3.24765126,\n",
       "         2.93644847,  -3.1475804 ,  -2.23332801,  15.33399661,\n",
       "        12.38673318,   8.29557999,  16.72914331,   5.38602317])"
      ]
     },
     "execution_count": 52,
     "metadata": {},
     "output_type": "execute_result"
    }
   ],
   "source": [
    "lasso.coef_"
   ]
  },
  {
   "cell_type": "code",
   "execution_count": 53,
   "metadata": {
    "collapsed": false
   },
   "outputs": [
    {
     "data": {
      "text/plain": [
       "['MA/FA',\n",
       " 'MA',\n",
       " 'Al/MA',\n",
       " 'FA/Cs',\n",
       " 'MA/Cs',\n",
       " 'FA',\n",
       " 'Cs',\n",
       " 'MA/EA',\n",
       " 'Pb',\n",
       " 'Pb/Sn',\n",
       " 'Sn',\n",
       " 'I/Br',\n",
       " 'I',\n",
       " 'I/SCN',\n",
       " 'I/Cl',\n",
       " 'Br',\n",
       " 'PCE']"
      ]
     },
     "execution_count": 53,
     "metadata": {},
     "output_type": "execute_result"
    }
   ],
   "source": [
    "list(rdata1)"
   ]
  },
  {
   "cell_type": "code",
   "execution_count": 61,
   "metadata": {
    "collapsed": false
   },
   "outputs": [
    {
     "data": {
      "text/plain": [
       "<matplotlib.text.Text at 0x1b4c78b3358>"
      ]
     },
     "execution_count": 61,
     "metadata": {},
     "output_type": "execute_result"
    },
    {
     "data": {
      "image/png": "[encoded data removed]",
      "text/plain": [
       "<matplotlib.figure.Figure at 0x1b4c78af198>"
      ]
     },
     "metadata": {},
     "output_type": "display_data"
    }
   ],
   "source": [
    "plt.figure(figsize=(5,4))\n",
    "plt.rcParams.update({'font.size': 10})\n",
    "plt.scatter(yy_train,predict_XX_train,s=1,color='blue')\n",
    "#plt.title('Prediction on training data')\n",
    "plt.plot(np.linspace(0,25,1000),np.linspace(0,25,1000),color='red')\n",
    "plt.xlim((0,25))\n",
    "plt.ylim((0,25))\n",
    "plt.xlabel(\"Experiment PCE\")\n",
    "plt.ylabel(\"Prediction PCE\")"
   ]
  },
  {
   "cell_type": "code",
   "execution_count": 62,
   "metadata": {
    "collapsed": false
   },
   "outputs": [
    {
     "data": {
      "text/plain": [
       "<matplotlib.text.Text at 0x1b4c790d438>"
      ]
     },
     "execution_count": 62,
     "metadata": {},
     "output_type": "execute_result"
    },
    {
     "data": {
      "image/png": "[encoded data removed]",
      "text/plain": [
       "<matplotlib.figure.Figure at 0x1b4c79044a8>"
      ]
     },
     "metadata": {},
     "output_type": "display_data"
    }
   ],
   "source": [
    "plt.figure(figsize=(5,4))\n",
    "plt.rcParams.update({'font.size': 10})\n",
    "plt.scatter(yy_test,predict_XX_test,s=1,color='blue')\n",
    "#plt.title('Prediction on testing data')\n",
    "plt.plot(np.linspace(0,25,1000),np.linspace(0,25,1000),color='red')\n",
    "plt.xlim((0,25))\n",
    "plt.ylim((0,25))\n",
    "plt.xlabel(\"Experiment PCE\")\n",
    "plt.ylabel(\"Prediction PCE\")"
   ]
  },
  {
   "cell_type": "code",
   "execution_count": 61,
   "metadata": {
    "collapsed": true
   },
   "outputs": [],
   "source": [
    "from sklearn.svm import SVR"
   ]
  },
  {
   "cell_type": "code",
   "execution_count": 62,
   "metadata": {
    "collapsed": true
   },
   "outputs": [],
   "source": [
    "svr = SVR(kernel='rbf', C=1e3, degree=2)"
   ]
  },
  {
   "cell_type": "code",
   "execution_count": 63,
   "metadata": {
    "collapsed": false
   },
   "outputs": [
    {
     "data": {
      "text/plain": [
       "SVR(C=1000.0, cache_size=200, coef0=0.0, degree=2, epsilon=0.1, gamma='auto',\n",
       "  kernel='rbf', max_iter=-1, shrinking=True, tol=0.001, verbose=False)"
      ]
     },
     "execution_count": 63,
     "metadata": {},
     "output_type": "execute_result"
    }
   ],
   "source": [
    "svr.fit(XX_train,yy_train)"
   ]
  },
  {
   "cell_type": "code",
   "execution_count": 64,
   "metadata": {
    "collapsed": false
   },
   "outputs": [
    {
     "data": {
      "text/plain": [
       "0.70049294523616745"
      ]
     },
     "execution_count": 64,
     "metadata": {},
     "output_type": "execute_result"
    }
   ],
   "source": [
    "svr.score(XX_train,yy_train)"
   ]
  },
  {
   "cell_type": "code",
   "execution_count": 65,
   "metadata": {
    "collapsed": false
   },
   "outputs": [
    {
     "data": {
      "text/plain": [
       "0.47642419556925053"
      ]
     },
     "execution_count": 65,
     "metadata": {},
     "output_type": "execute_result"
    }
   ],
   "source": [
    "svr.score(XX_test,yy_test)"
   ]
  },
  {
   "cell_type": "code",
   "execution_count": 66,
   "metadata": {
    "collapsed": true
   },
   "outputs": [],
   "source": [
    "predict_XX_train = svr.predict(XX_train)"
   ]
  },
  {
   "cell_type": "code",
   "execution_count": 67,
   "metadata": {
    "collapsed": false
   },
   "outputs": [
    {
     "data": {
      "text/plain": [
       "<matplotlib.text.Text at 0x1f40a2d56a0>"
      ]
     },
     "execution_count": 67,
     "metadata": {},
     "output_type": "execute_result"
    },
    {
     "data": {
      "image/png": "[encoded data removed]",
      "text/plain": [
       "<matplotlib.figure.Figure at 0x1f40a2c5d68>"
      ]
     },
     "metadata": {},
     "output_type": "display_data"
    }
   ],
   "source": [
    "plt.figure(figsize=(10,8))\n",
    "plt.scatter(yy_train,predict_XX_train,s=0.5,color='blue')\n",
    "plt.title('Prediction on training data')\n",
    "plt.plot(np.linspace(0,25,1000),np.linspace(0,25,1000),color='black')\n",
    "plt.xlim((0,25))\n",
    "plt.ylim((0,25))\n",
    "plt.xlabel(\"Experiment($S*m^2/mol$)\")\n",
    "plt.ylabel(\"Prediction($S*m^2/mol$)\")"
   ]
  },
  {
   "cell_type": "code",
   "execution_count": 68,
   "metadata": {
    "collapsed": true
   },
   "outputs": [],
   "source": [
    "predict_XX_test = svr.predict(XX_test)"
   ]
  },
  {
   "cell_type": "code",
   "execution_count": 69,
   "metadata": {
    "collapsed": false
   },
   "outputs": [
    {
     "data": {
      "text/plain": [
       "<matplotlib.text.Text at 0x1f40ac3ae10>"
      ]
     },
     "execution_count": 69,
     "metadata": {},
     "output_type": "execute_result"
    },
    {
     "data": {
      "image/png": "[encoded data removed]",
      "text/plain": [
       "<matplotlib.figure.Figure at 0x1f40ac18d68>"
      ]
     },
     "metadata": {},
     "output_type": "display_data"
    }
   ],
   "source": [
    "plt.figure(figsize=(10,8))\n",
    "plt.scatter(yy_test,predict_XX_test,s=0.5,color='blue')\n",
    "plt.title('Prediction on testing data')\n",
    "plt.plot(np.linspace(0,25,1000),np.linspace(0,25,1000),color='black')\n",
    "plt.xlim((0,25))\n",
    "plt.ylim((0,25))\n",
    "plt.xlabel(\"Experiment($S*m^2/mol$)\")\n",
    "plt.ylabel(\"Prediction($S*m^2/mol$)\")"
   ]
  },
  {
   "cell_type": "code",
   "execution_count": 4,
   "metadata": {
    "collapsed": false
   },
   "outputs": [
    {
     "data": {
      "text/plain": [
       "0     13.40\n",
       "1     12.90\n",
       "2     13.20\n",
       "3      7.50\n",
       "4     11.20\n",
       "5     15.80\n",
       "6     13.80\n",
       "7      4.60\n",
       "8     10.10\n",
       "9     10.90\n",
       "10     3.38\n",
       "11    17.80\n",
       "12    18.30\n",
       "13    17.00\n",
       "14    15.90\n",
       "15    14.90\n",
       "16    14.50\n",
       "17    14.57\n",
       "18    15.27\n",
       "19    15.58\n",
       "20    15.78\n",
       "21    16.48\n",
       "22    15.67\n",
       "23    16.10\n",
       "24    17.20\n",
       "25    15.08\n",
       "26     5.46\n",
       "27    10.10\n",
       "28    13.56\n",
       "29    15.51\n",
       "      ...  \n",
       "60    13.20\n",
       "61     1.90\n",
       "62    14.70\n",
       "63    18.50\n",
       "64    15.30\n",
       "65    17.50\n",
       "66    12.20\n",
       "67     8.50\n",
       "68     3.70\n",
       "69    11.40\n",
       "70    11.70\n",
       "71    11.90\n",
       "72    10.70\n",
       "73     8.70\n",
       "74     8.60\n",
       "75     7.50\n",
       "76     5.80\n",
       "77     5.60\n",
       "78     7.90\n",
       "79     6.20\n",
       "80     3.50\n",
       "81     6.30\n",
       "82     5.00\n",
       "83     3.30\n",
       "84     3.40\n",
       "85     3.90\n",
       "86     2.90\n",
       "87     2.30\n",
       "88     3.50\n",
       "89     5.00\n",
       "Name: PCE, dtype: float64"
      ]
     },
     "execution_count": 4,
     "metadata": {},
     "output_type": "execute_result"
    }
   ],
   "source": [
    "comb = pd.read_csv('contributors.csv')\n",
    "comb.dropna(how='all', inplace = True)\n",
    "combx = comb.drop(['PCE','Pb'],axis=1).as_matrix()\n",
    "comb['PCE'].head(90)"
   ]
  },
  {
   "cell_type": "code",
   "execution_count": 9,
   "metadata": {
    "collapsed": false
   },
   "outputs": [
    {
     "data": {
      "image/png": "[encoded data removed]",
      "text/plain": [
       "<matplotlib.figure.Figure at 0x24f1eeb0b70>"
      ]
     },
     "metadata": {},
     "output_type": "display_data"
    }
   ],
   "source": [
    "a = comb['MA/FA']\n",
    "b = comb['I/Br']\n",
    "plt.scatter(a, b, alpha=1)\n",
    "#plt.xlim((0,1.2))\n",
    "#plt.ylim((0,1.2))\n",
    "plt.xlabel('MA/FA')\n",
    "plt.ylabel('I/Br')\n",
    "plt.show()"
   ]
  },
  {
   "cell_type": "code",
   "execution_count": 72,
   "metadata": {
    "collapsed": true
   },
   "outputs": [],
   "source": [
    "comby = comb['PCE'].values"
   ]
  },
  {
   "cell_type": "code",
   "execution_count": 73,
   "metadata": {
    "collapsed": false
   },
   "outputs": [],
   "source": [
    "svr = SVR(kernel='rbf', C=1e3, gamma=10000000)"
   ]
  },
  {
   "cell_type": "code",
   "execution_count": 74,
   "metadata": {
    "collapsed": false
   },
   "outputs": [
    {
     "data": {
      "text/plain": [
       "SVR(C=1000.0, cache_size=200, coef0=0.0, degree=3, epsilon=0.1,\n",
       "  gamma=10000000, kernel='rbf', max_iter=-1, shrinking=True, tol=0.001,\n",
       "  verbose=False)"
      ]
     },
     "execution_count": 74,
     "metadata": {},
     "output_type": "execute_result"
    }
   ],
   "source": [
    "svr.fit(combx,comby)"
   ]
  },
  {
   "cell_type": "code",
   "execution_count": 75,
   "metadata": {
    "collapsed": false
   },
   "outputs": [
    {
     "data": {
      "text/plain": [
       "0.80811552255255892"
      ]
     },
     "execution_count": 75,
     "metadata": {},
     "output_type": "execute_result"
    }
   ],
   "source": [
    "svr.score(combx,comby)"
   ]
  },
  {
   "cell_type": "code",
   "execution_count": 76,
   "metadata": {
    "collapsed": false
   },
   "outputs": [],
   "source": [
    "svr_PCE = svr.predict(combx)"
   ]
  },
  {
   "cell_type": "code",
   "execution_count": 77,
   "metadata": {
    "collapsed": false,
    "scrolled": false
   },
   "outputs": [
    {
     "data": {
      "text/plain": [
       "<matplotlib.text.Text at 0x1f40b27fba8>"
      ]
     },
     "execution_count": 77,
     "metadata": {},
     "output_type": "execute_result"
    },
    {
     "data": {
      "image/png": "[encoded data removed]",
      "text/plain": [
       "<matplotlib.figure.Figure at 0x1f40af28a90>"
      ]
     },
     "metadata": {},
     "output_type": "display_data"
    }
   ],
   "source": [
    "plt.figure(figsize=(10,8))\n",
    "plt.scatter(comby,svr_PCE,s=0.5,color='blue')\n",
    "plt.title('Prediction on training data')\n",
    "plt.plot(np.linspace(0,25,1000),np.linspace(0,25,1000),color='black')\n",
    "plt.xlim((0,25))\n",
    "plt.ylim((0,25))\n",
    "plt.xlabel(\"Experiment($S*m^2/mol$)\")\n",
    "plt.ylabel(\"Prediction($S*m^2/mol$)\")"
   ]
  },
  {
   "cell_type": "code",
   "execution_count": 78,
   "metadata": {
    "collapsed": false
   },
   "outputs": [
    {
     "data": {
      "text/plain": [
       "Lasso(alpha=0.001, copy_X=True, fit_intercept=True, max_iter=10000,\n",
       "   normalize=False, positive=False, precompute=False, random_state=None,\n",
       "   selection='cyclic', tol=1e-05, warm_start=False)"
      ]
     },
     "execution_count": 78,
     "metadata": {},
     "output_type": "execute_result"
    }
   ],
   "source": [
    "lasso.fit(combx,comby)"
   ]
  },
  {
   "cell_type": "code",
   "execution_count": 79,
   "metadata": {
    "collapsed": false
   },
   "outputs": [
    {
     "data": {
      "text/plain": [
       "0.4458100502245303"
      ]
     },
     "execution_count": 79,
     "metadata": {},
     "output_type": "execute_result"
    }
   ],
   "source": [
    "lasso.score(combx,comby)"
   ]
  },
  {
   "cell_type": "code",
   "execution_count": 80,
   "metadata": {
    "collapsed": true
   },
   "outputs": [],
   "source": [
    "lasso_PCE = lasso.predict(combx)"
   ]
  },
  {
   "cell_type": "code",
   "execution_count": 81,
   "metadata": {
    "collapsed": false
   },
   "outputs": [
    {
     "data": {
      "text/plain": [
       "<matplotlib.text.Text at 0x1f40b9da4a8>"
      ]
     },
     "execution_count": 81,
     "metadata": {},
     "output_type": "execute_result"
    },
    {
     "data": {
      "image/png": "[encoded data removed]",
      "text/plain": [
       "<matplotlib.figure.Figure at 0x1f40b71b6a0>"
      ]
     },
     "metadata": {},
     "output_type": "display_data"
    }
   ],
   "source": [
    "plt.figure(figsize=(10,8))\n",
    "plt.scatter(comby,lasso_PCE,s=0.5,color='blue')\n",
    "plt.title('Prediction on training data')\n",
    "plt.plot(np.linspace(0,25,1000),np.linspace(0,25,1000),color='black')\n",
    "plt.xlim((0,25))\n",
    "plt.ylim((0,25))\n",
    "plt.xlabel(\"Experiment($S*m^2/mol$)\")\n",
    "plt.ylabel(\"Prediction($S*m^2/mol$)\")"
   ]
  },
  {
   "cell_type": "code",
   "execution_count": 82,
   "metadata": {
    "collapsed": false
   },
   "outputs": [
    {
     "data": {
      "text/plain": [
       "(113, 4)"
      ]
     },
     "execution_count": 82,
     "metadata": {},
     "output_type": "execute_result"
    }
   ],
   "source": [
    "comb.shape"
   ]
  },
  {
   "cell_type": "code",
   "execution_count": 83,
   "metadata": {
    "collapsed": false
   },
   "outputs": [
    {
     "data": {
      "image/png": "[encoded data removed]",
      "text/plain": [
       "<matplotlib.figure.Figure at 0x1f40bd7e8d0>"
      ]
     },
     "metadata": {},
     "output_type": "display_data"
    }
   ],
   "source": [
    "# setup x, y, z axis\n",
    "x = comb['MA/FA'].values\n",
    "y = comb['I/Br'].values\n",
    "z = comb['PCE'].values\n",
    "\n",
    "# adjust font size,lines, and spacer\n",
    "plt.rcParams.update({'font.size': 10})\n",
    "spacer = 2.5\n",
    "lines = 10\n",
    "levels=np.linspace(0,lines*spacer,num=(lines+1),endpoint=True)\n",
    "\n",
    "# make the plot \n",
    "fig=plt.figure(figsize=(6,6)) \n",
    "plt.tricontourf(x,y,z, levels)\n",
    "clb = plt.colorbar()\n",
    "plt.xlabel('MA/FA')\n",
    "plt.ylabel('I/Br')\n",
    "plt.title('Experiment')\n",
    "clb.set_label('PCE', rotation = 270)\n",
    "#clb.set_label('PCE')"
   ]
  },
  {
   "cell_type": "code",
   "execution_count": 84,
   "metadata": {
    "collapsed": false
   },
   "outputs": [
    {
     "data": {
      "text/plain": [
       "array([ 0.60500216,  0.54516179,  0.15452142,  0.89595738,  0.03943173,\n",
       "        0.04086304,  0.75339258,  0.73276032,  0.61636538,  0.05511317,\n",
       "        0.17556632,  0.90983855,  0.33709658,  0.09712732,  0.67203368,\n",
       "        0.5508625 ,  0.68757545,  0.01216487,  0.62133625,  0.39591735])"
      ]
     },
     "execution_count": 84,
     "metadata": {},
     "output_type": "execute_result"
    }
   ],
   "source": [
    "feature_1 = np.random.uniform(low=0,high=1,size=20) \n",
    "feature_1"
   ]
  },
  {
   "cell_type": "code",
   "execution_count": 85,
   "metadata": {
    "collapsed": false
   },
   "outputs": [
    {
     "data": {
      "text/plain": [
       "array([ 0.8751262 ,  0.06074332,  0.01303458,  0.63359219,  0.68552036,\n",
       "        0.36610921,  0.25286826,  0.19156758,  0.9674565 ,  0.30685463,\n",
       "        0.45474579,  0.97237033,  0.04500475,  0.71777788,  0.37823574,\n",
       "        0.73327369,  0.17437795,  0.80682967,  0.84899835,  0.80127232])"
      ]
     },
     "execution_count": 85,
     "metadata": {},
     "output_type": "execute_result"
    }
   ],
   "source": [
    "feature_2 = np.random.uniform(low=0,high=1,size=20)\n",
    "feature_2"
   ]
  },
  {
   "cell_type": "code",
   "execution_count": 86,
   "metadata": {
    "collapsed": false
   },
   "outputs": [
    {
     "data": {
      "image/png": "[encoded data removed]",
      "text/plain": [
       "<matplotlib.figure.Figure at 0x1f40bd88908>"
      ]
     },
     "metadata": {},
     "output_type": "display_data"
    }
   ],
   "source": [
    "\n",
    "plt.scatter(feature_1, feature_2, alpha=0.5)\n",
    "plt.xlabel('MA/FA')\n",
    "plt.ylabel('I/Br')\n",
    "plt.show()"
   ]
  },
  {
   "cell_type": "code",
   "execution_count": 87,
   "metadata": {
    "collapsed": false
   },
   "outputs": [
    {
     "data": {
      "text/plain": [
       "array([[ 0.60500216,  0.8751262 ],\n",
       "       [ 0.54516179,  0.06074332],\n",
       "       [ 0.15452142,  0.01303458],\n",
       "       [ 0.89595738,  0.63359219],\n",
       "       [ 0.03943173,  0.68552036],\n",
       "       [ 0.04086304,  0.36610921],\n",
       "       [ 0.75339258,  0.25286826],\n",
       "       [ 0.73276032,  0.19156758],\n",
       "       [ 0.61636538,  0.9674565 ],\n",
       "       [ 0.05511317,  0.30685463],\n",
       "       [ 0.17556632,  0.45474579],\n",
       "       [ 0.90983855,  0.97237033],\n",
       "       [ 0.33709658,  0.04500475],\n",
       "       [ 0.09712732,  0.71777788],\n",
       "       [ 0.67203368,  0.37823574],\n",
       "       [ 0.5508625 ,  0.73327369],\n",
       "       [ 0.68757545,  0.17437795],\n",
       "       [ 0.01216487,  0.80682967],\n",
       "       [ 0.62133625,  0.84899835],\n",
       "       [ 0.39591735,  0.80127232]])"
      ]
     },
     "execution_count": 87,
     "metadata": {},
     "output_type": "execute_result"
    }
   ],
   "source": [
    "combined_x = np.vstack((feature_1, feature_2)).T\n",
    "combined_x"
   ]
  },
  {
   "cell_type": "code",
   "execution_count": 88,
   "metadata": {
    "collapsed": false,
    "scrolled": true
   },
   "outputs": [
    {
     "data": {
      "text/plain": [
       "array([ 13.09669093,   4.95811549,   5.38674889,   9.96092851,\n",
       "        12.49200203,   9.24171261,   6.42414167,   5.84924952,\n",
       "        14.00868951,   8.60603861,   9.82770096,  13.37227901,\n",
       "         5.28474005,  12.68497677,   7.88883064,  11.78132284,\n",
       "         5.78018638,  13.78893015,  12.79288942,  12.83493468])"
      ]
     },
     "execution_count": 88,
     "metadata": {},
     "output_type": "execute_result"
    }
   ],
   "source": [
    "lasso_predict_pce = lasso.predict(combined_x)\n",
    "lasso_predict_pce"
   ]
  },
  {
   "cell_type": "code",
   "execution_count": 89,
   "metadata": {
    "collapsed": false
   },
   "outputs": [
    {
     "data": {
      "text/plain": [
       "<matplotlib.text.Text at 0x1f40c17add8>"
      ]
     },
     "execution_count": 89,
     "metadata": {},
     "output_type": "execute_result"
    },
    {
     "data": {
      "image/png": "[encoded data removed]",
      "text/plain": [
       "<matplotlib.figure.Figure at 0x1f40c0d0d30>"
      ]
     },
     "metadata": {},
     "output_type": "display_data"
    }
   ],
   "source": [
    "# setup x, y, z axis\n",
    "x = feature_1\n",
    "y = feature_2\n",
    "z = lasso_predict_pce\n",
    "\n",
    "# adjust font size,lines, and spacer\n",
    "plt.rcParams.update({'font.size': 8})\n",
    "spacer = 2.5\n",
    "lines = 10\n",
    "levels=np.linspace(0,lines*spacer,num=(lines+1),endpoint=True)\n",
    "\n",
    "# make the plot \n",
    "fig=plt.figure(figsize=(6,6)) \n",
    "plt.tricontourf(x,y,z, levels)\n",
    "plt.colorbar()\n",
    "plt.xlabel('MA/FA')\n",
    "plt.ylabel('I/Br')\n",
    "plt.title('LASSO Prediction')"
   ]
  },
  {
   "cell_type": "code",
   "execution_count": 90,
   "metadata": {
    "collapsed": false,
    "scrolled": true
   },
   "outputs": [
    {
     "data": {
      "image/png": "[encoded data removed]",
      "text/plain": [
       "<matplotlib.figure.Figure at 0x1f40c118b00>"
      ]
     },
     "metadata": {},
     "output_type": "display_data"
    }
   ],
   "source": [
    "import scipy.interpolate\n",
    "\n",
    "x = feature_1\n",
    "y = feature_2\n",
    "z = lasso_predict_pce\n",
    "# Set up a regular grid of interpolation points\n",
    "#xi, yi = np.linspace(x.min(), x.max(), 20), np.linspace(y.min(), y.max(), 20)\n",
    "xi, yi = np.meshgrid(x, y)\n",
    "\n",
    "# Interpolate\n",
    "rbf = scipy.interpolate.Rbf(x, y, z, function='linear')\n",
    "zi = rbf(xi, yi)\n",
    "\n",
    "plt.imshow(zi, vmin=z.min(), vmax=z.max(), origin='lower',\n",
    "        extent=[x.min(), x.max(), y.min(), y.max()])\n",
    "#plt.scatter(x, y, fmt = 'o')\n",
    "#plt.scatter(x, y, c=z, facecolors='none', edgecolors='k')\n",
    "clb = plt.colorbar()\n",
    "plt.xlabel('MA/FA')\n",
    "plt.ylabel('I/Br')\n",
    "plt.title('LASSO Prediction')\n",
    "clb.set_label('PCE', rotation = 270)\n",
    "plt.show()"
   ]
  },
  {
   "cell_type": "code",
   "execution_count": 91,
   "metadata": {
    "collapsed": false
   },
   "outputs": [
    {
     "data": {
      "text/plain": [
       "array([ 0.  ,  0.05,  0.1 ,  0.15,  0.2 ,  0.25,  0.3 ,  0.35,  0.4 ,\n",
       "        0.45,  0.5 ,  0.55,  0.6 ,  0.65,  0.7 ,  0.75,  0.8 ,  0.85,\n",
       "        0.9 ,  0.95,  1.  ])"
      ]
     },
     "execution_count": 91,
     "metadata": {},
     "output_type": "execute_result"
    }
   ],
   "source": [
    "x=np.linspace(0,1,21)\n",
    "x"
   ]
  },
  {
   "cell_type": "code",
   "execution_count": 78,
   "metadata": {
    "collapsed": false
   },
   "outputs": [
    {
     "data": {
      "text/plain": [
       "array([ 1.  ,  0.95,  0.9 ,  0.85,  0.8 ,  0.75,  0.7 ,  0.65,  0.6 ,\n",
       "        0.55,  0.5 ,  0.45,  0.4 ,  0.35,  0.3 ,  0.25,  0.2 ,  0.15,\n",
       "        0.1 ,  0.05,  0.  ])"
      ]
     },
     "execution_count": 78,
     "metadata": {},
     "output_type": "execute_result"
    }
   ],
   "source": [
    "y=np.linspace(1,0,21)\n",
    "y"
   ]
  },
  {
   "cell_type": "code",
   "execution_count": 79,
   "metadata": {
    "collapsed": false
   },
   "outputs": [
    {
     "data": {
      "text/plain": [
       "array([[ 0.  ,  1.  ],\n",
       "       [ 0.05,  0.95],\n",
       "       [ 0.1 ,  0.9 ],\n",
       "       [ 0.15,  0.85],\n",
       "       [ 0.2 ,  0.8 ],\n",
       "       [ 0.25,  0.75],\n",
       "       [ 0.3 ,  0.7 ],\n",
       "       [ 0.35,  0.65],\n",
       "       [ 0.4 ,  0.6 ],\n",
       "       [ 0.45,  0.55],\n",
       "       [ 0.5 ,  0.5 ],\n",
       "       [ 0.55,  0.45],\n",
       "       [ 0.6 ,  0.4 ],\n",
       "       [ 0.65,  0.35],\n",
       "       [ 0.7 ,  0.3 ],\n",
       "       [ 0.75,  0.25],\n",
       "       [ 0.8 ,  0.2 ],\n",
       "       [ 0.85,  0.15],\n",
       "       [ 0.9 ,  0.1 ],\n",
       "       [ 0.95,  0.05],\n",
       "       [ 1.  ,  0.  ]])"
      ]
     },
     "execution_count": 79,
     "metadata": {},
     "output_type": "execute_result"
    }
   ],
   "source": [
    "c = np.vstack((x, y)).T\n",
    "c"
   ]
  },
  {
   "cell_type": "code",
   "execution_count": 80,
   "metadata": {
    "collapsed": false
   },
   "outputs": [
    {
     "data": {
      "text/plain": [
       "array([ 15.7810343 ,  15.15582662,  14.53061894,  13.90541125,\n",
       "        13.28020357,  12.65499589,  12.0297882 ,  11.40458052,\n",
       "        10.77937284,  10.15416515,   9.52895747,   8.90374979,\n",
       "         8.27854211,   7.65333442,   7.02812674,   6.40291906,\n",
       "         5.77771137,   5.15250369,   4.52729601,   3.90208832,   3.27688064])"
      ]
     },
     "execution_count": 80,
     "metadata": {},
     "output_type": "execute_result"
    }
   ],
   "source": [
    "lasso = lasso.predict(c)\n",
    "lasso"
   ]
  },
  {
   "cell_type": "code",
   "execution_count": null,
   "metadata": {
    "collapsed": true
   },
   "outputs": [],
   "source": []
  }
 ],
 "metadata": {
  "anaconda-cloud": {},
  "kernelspec": {
   "display_name": "Python [default]",
   "language": "python",
   "name": "python3"
  },
  "language_info": {
   "codemirror_mode": {
    "name": "ipython",
    "version": 3
   },
   "file_extension": ".py",
   "mimetype": "text/x-python",
   "name": "python",
   "nbconvert_exporter": "python",
   "pygments_lexer": "ipython3",
   "version": "3.5.2"
  }
 },
 "nbformat": 4,
 "nbformat_minor": 2
}
