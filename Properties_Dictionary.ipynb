{
 "cells": [
  {
   "cell_type": "code",
   "execution_count": 1,
   "metadata": {
    "collapsed": true
   },
   "outputs": [],
   "source": [
    "import numpy as np\n",
    "import pandas as pd"
   ]
  },
  {
   "cell_type": "markdown",
   "metadata": {},
   "source": [
    "Note:<br>\n",
    "IR = Ionic Radius (pm)<br>\n",
    "EA = Electron Affinity (eV)<br>\n",
    "IE = Ionization Energy (eV)<br>\n",
    "IP = Ionic Polarizability (Alpha)<br>\n",
    "AP = Atomic Polarizability (Alpha)<br>"
   ]
  },
  {
   "cell_type": "code",
   "execution_count": 6,
   "metadata": {
    "collapsed": false
   },
   "outputs": [],
   "source": [
    "Cl = {'IR':181, 'EA':3.61, 'IE':12.97, 'IP':16.0858, 'AP':11.5582}\n",
    "Br = {'IR':196, 'EA':3.36, 'IE':11.81, 'IP':20.5166, 'AP':15.4074}\n",
    "I = {'IR':220, 'EA':3.06, 'IE':10.45, 'IP':43.2951, 'AP':28.8659}\n",
    "Al = {'IR': 53.5, 'EA':0.43, 'IE':5.99, 'IP':25.6499, 'AP':46.2}\n",
    "Cs = {'IR':167, 'EA':0.47, 'IE':3.89, 'IP':15.544, 'AP':402}\n",
    "Rb = {'IR':152, 'EA':0.486, 'IE':4.18, 'IP':9, 'AP':319}\n",
    "Pb = {'IR':133, 'EA':0.37, 'IE':7.42, 'IP':13.8008, 'AP':47.1}\n",
    "Sn = {'IR':83, 'EA':1.11, 'IE':7.34, 'IP':15.5813, 'AP':42.4}\n",
    "Ge = {'IR':87, 'EA':1.23, 'IE':7.899, 'IP':11.3784, 'AP':30.9097}\n",
    "Sr = {'IR':132, 'EA':0.05, 'IE':5.69, 'IP':5.792, 'AP':186}\n",
    "Ni = {'IR':83, 'EA':1.16, 'IE':7.64, 'IP':0.0, 'AP':0.0} # missiing data\n",
    "Mg = {'IR':86, 'EA':0.0, 'IE':7.65, 'IP':0.489, 'AP':71.33} # missiing data\n",
    "Fe = {'IR':75, 'EA':0.31, 'IE':7.90, 'IP':0.0, 'AP':0.0} # missiing data\n",
    "Cu = {'IR':87, 'EA':1.24, 'IE':7.73, 'IP':0.0, 'AP':41.65} # missiing data\n",
    "Co = {'IR':79, 'EA':0.6633, 'IE':7.88, 'IP':0.0, 'AP':0.0} # missiing data\n",
    "MA = {'IR':537, 'EA':0.80, 'IE':10.66, 'IP':19.7942, 'AP':25.1017}\n",
    "FA = {'IR':641, 'EA':0.60, 'IE':10.03, 'IP':26.8527, 'AP':32.5342}\n",
    "HA = {'IR':523, 'EA':0.89, 'IE':9.90, 'IP':17.4412, 'AP':22.566}"
   ]
  },
  {
   "cell_type": "code",
   "execution_count": 7,
   "metadata": {
    "collapsed": false
   },
   "outputs": [
    {
     "data": {
      "text/plain": [
       "25.1017"
      ]
     },
     "execution_count": 7,
     "metadata": {},
     "output_type": "execute_result"
    }
   ],
   "source": [
    "MA['AP']"
   ]
  },
  {
   "cell_type": "code",
   "execution_count": null,
   "metadata": {
    "collapsed": true
   },
   "outputs": [],
   "source": []
  }
 ],
 "metadata": {
  "anaconda-cloud": {},
  "kernelspec": {
   "display_name": "Python [default]",
   "language": "python",
   "name": "python3"
  },
  "language_info": {
   "codemirror_mode": {
    "name": "ipython",
    "version": 3
   },
   "file_extension": ".py",
   "mimetype": "text/x-python",
   "name": "python",
   "nbconvert_exporter": "python",
   "pygments_lexer": "ipython3",
   "version": "3.5.2"
  }
 },
 "nbformat": 4,
 "nbformat_minor": 2
}
