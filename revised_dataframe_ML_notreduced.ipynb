{
 "cells": [
  {
   "cell_type": "code",
   "execution_count": 2,
   "metadata": {
    "collapsed": true
   },
   "outputs": [],
   "source": [
    "import numpy as np\n",
    "import pandas as pd\n",
    "import matplotlib.pyplot as plt\n",
    "%matplotlib inline"
   ]
  },
  {
   "cell_type": "code",
   "execution_count": 3,
   "metadata": {
    "collapsed": true
   },
   "outputs": [],
   "source": [
    "data = pd.read_csv('yq_dataframe.csv')"
   ]
  },
  {
   "cell_type": "code",
   "execution_count": 4,
   "metadata": {
    "collapsed": false
   },
   "outputs": [
    {
     "data": {
      "text/html": [
       "<div>\n",
       "<table border=\"1\" class=\"dataframe\">\n",
       "  <thead>\n",
       "    <tr style=\"text-align: right;\">\n",
       "      <th></th>\n",
       "      <th>A_1</th>\n",
       "      <th>A_2</th>\n",
       "      <th>A_3</th>\n",
       "      <th>B_1</th>\n",
       "      <th>B_2</th>\n",
       "      <th>B_3</th>\n",
       "      <th>X_1</th>\n",
       "      <th>X_2</th>\n",
       "      <th>X_3</th>\n",
       "      <th>E_g</th>\n",
       "      <th>HTL</th>\n",
       "      <th>ETL</th>\n",
       "      <th>Voc(volts)</th>\n",
       "      <th>Jsc</th>\n",
       "      <th>Max PCE</th>\n",
       "      <th>A</th>\n",
       "      <th>B</th>\n",
       "      <th>X</th>\n",
       "    </tr>\n",
       "  </thead>\n",
       "  <tbody>\n",
       "    <tr>\n",
       "      <th>0</th>\n",
       "      <td>Cs/0.0625</td>\n",
       "      <td>MA/0.1875</td>\n",
       "      <td>FA/0.75</td>\n",
       "      <td>Pb/1</td>\n",
       "      <td>NaN</td>\n",
       "      <td>NaN</td>\n",
       "      <td>I/0.83</td>\n",
       "      <td>Br/0.17</td>\n",
       "      <td>NaN</td>\n",
       "      <td>NaN</td>\n",
       "      <td>spiro-OMeTAD</td>\n",
       "      <td>TiO2</td>\n",
       "      <td>1.045</td>\n",
       "      <td>20.7</td>\n",
       "      <td>14.3</td>\n",
       "      <td>Cs/MA/FA</td>\n",
       "      <td>Pb</td>\n",
       "      <td>I/Br</td>\n",
       "    </tr>\n",
       "    <tr>\n",
       "      <th>1</th>\n",
       "      <td>Cs/0.0625</td>\n",
       "      <td>MA/0.1875</td>\n",
       "      <td>FA/0.75</td>\n",
       "      <td>Pb/1</td>\n",
       "      <td>NaN</td>\n",
       "      <td>NaN</td>\n",
       "      <td>I/0.83</td>\n",
       "      <td>Br/0.17</td>\n",
       "      <td>NaN</td>\n",
       "      <td>NaN</td>\n",
       "      <td>spiro-OMeTAD</td>\n",
       "      <td>TiO2</td>\n",
       "      <td>1.021</td>\n",
       "      <td>20.9</td>\n",
       "      <td>12.4</td>\n",
       "      <td>Cs/MA/FA</td>\n",
       "      <td>Pb</td>\n",
       "      <td>I/Br</td>\n",
       "    </tr>\n",
       "    <tr>\n",
       "      <th>2</th>\n",
       "      <td>Cs/0.0525</td>\n",
       "      <td>MA/0.1975</td>\n",
       "      <td>FA/0.75</td>\n",
       "      <td>Pb/1</td>\n",
       "      <td>NaN</td>\n",
       "      <td>NaN</td>\n",
       "      <td>I/0.83</td>\n",
       "      <td>Br/0.17</td>\n",
       "      <td>NaN</td>\n",
       "      <td>NaN</td>\n",
       "      <td>spiro-OMeTAD</td>\n",
       "      <td>TiO2</td>\n",
       "      <td>1.054</td>\n",
       "      <td>20.4</td>\n",
       "      <td>15.9</td>\n",
       "      <td>Cs/MA/FA</td>\n",
       "      <td>Pb</td>\n",
       "      <td>I/Br</td>\n",
       "    </tr>\n",
       "    <tr>\n",
       "      <th>3</th>\n",
       "      <td>Cs/0.0525</td>\n",
       "      <td>MA/0.1975</td>\n",
       "      <td>FA/0.75</td>\n",
       "      <td>Pb/1</td>\n",
       "      <td>NaN</td>\n",
       "      <td>NaN</td>\n",
       "      <td>I/0.83</td>\n",
       "      <td>Br/0.17</td>\n",
       "      <td>NaN</td>\n",
       "      <td>NaN</td>\n",
       "      <td>spiro-OMeTAD</td>\n",
       "      <td>TiO2</td>\n",
       "      <td>1.022</td>\n",
       "      <td>20.7</td>\n",
       "      <td>15.2</td>\n",
       "      <td>Cs/MA/FA</td>\n",
       "      <td>Pb</td>\n",
       "      <td>I/Br</td>\n",
       "    </tr>\n",
       "    <tr>\n",
       "      <th>4</th>\n",
       "      <td>Cs/0.0375</td>\n",
       "      <td>MA/0.2125</td>\n",
       "      <td>FA/0.75</td>\n",
       "      <td>Pb/1</td>\n",
       "      <td>NaN</td>\n",
       "      <td>NaN</td>\n",
       "      <td>I/0.83</td>\n",
       "      <td>Br/0.17</td>\n",
       "      <td>NaN</td>\n",
       "      <td>NaN</td>\n",
       "      <td>spiro-OMeTAD</td>\n",
       "      <td>TiO2</td>\n",
       "      <td>1.050</td>\n",
       "      <td>20.9</td>\n",
       "      <td>16.0</td>\n",
       "      <td>Cs/MA/FA</td>\n",
       "      <td>Pb</td>\n",
       "      <td>I/Br</td>\n",
       "    </tr>\n",
       "    <tr>\n",
       "      <th>5</th>\n",
       "      <td>Cs/0.0375</td>\n",
       "      <td>MA/0.2125</td>\n",
       "      <td>FA/0.75</td>\n",
       "      <td>Pb/1</td>\n",
       "      <td>NaN</td>\n",
       "      <td>NaN</td>\n",
       "      <td>I/0.83</td>\n",
       "      <td>Br/0.17</td>\n",
       "      <td>NaN</td>\n",
       "      <td>NaN</td>\n",
       "      <td>spiro-OMeTAD</td>\n",
       "      <td>TiO2</td>\n",
       "      <td>1.060</td>\n",
       "      <td>21.1</td>\n",
       "      <td>16.8</td>\n",
       "      <td>Cs/MA/FA</td>\n",
       "      <td>Pb</td>\n",
       "      <td>I/Br</td>\n",
       "    </tr>\n",
       "    <tr>\n",
       "      <th>6</th>\n",
       "      <td>Cs/0.025</td>\n",
       "      <td>MA/0.225</td>\n",
       "      <td>FA/0.75</td>\n",
       "      <td>Pb/1</td>\n",
       "      <td>NaN</td>\n",
       "      <td>NaN</td>\n",
       "      <td>I/0.83</td>\n",
       "      <td>Br/0.17</td>\n",
       "      <td>NaN</td>\n",
       "      <td>NaN</td>\n",
       "      <td>spiro-OMeTAD</td>\n",
       "      <td>TiO2</td>\n",
       "      <td>1.076</td>\n",
       "      <td>21.0</td>\n",
       "      <td>14.9</td>\n",
       "      <td>Cs/MA/FA</td>\n",
       "      <td>Pb</td>\n",
       "      <td>I/Br</td>\n",
       "    </tr>\n",
       "    <tr>\n",
       "      <th>7</th>\n",
       "      <td>Cs/0.025</td>\n",
       "      <td>MA/0.225</td>\n",
       "      <td>FA/0.75</td>\n",
       "      <td>Pb/1</td>\n",
       "      <td>NaN</td>\n",
       "      <td>NaN</td>\n",
       "      <td>I/0.83</td>\n",
       "      <td>Br/0.17</td>\n",
       "      <td>NaN</td>\n",
       "      <td>NaN</td>\n",
       "      <td>spiro-OMeTAD</td>\n",
       "      <td>TiO2</td>\n",
       "      <td>1.049</td>\n",
       "      <td>20.7</td>\n",
       "      <td>16.3</td>\n",
       "      <td>Cs/MA/FA</td>\n",
       "      <td>Pb</td>\n",
       "      <td>I/Br</td>\n",
       "    </tr>\n",
       "    <tr>\n",
       "      <th>8</th>\n",
       "      <td>Cs/0.0125</td>\n",
       "      <td>MA/0.2375</td>\n",
       "      <td>FA/0.75</td>\n",
       "      <td>Pb/1</td>\n",
       "      <td>NaN</td>\n",
       "      <td>NaN</td>\n",
       "      <td>I/0.83</td>\n",
       "      <td>Br/0.17</td>\n",
       "      <td>NaN</td>\n",
       "      <td>NaN</td>\n",
       "      <td>spiro-OMeTAD</td>\n",
       "      <td>TiO2</td>\n",
       "      <td>0.913</td>\n",
       "      <td>17.9</td>\n",
       "      <td>8.5</td>\n",
       "      <td>Cs/MA/FA</td>\n",
       "      <td>Pb</td>\n",
       "      <td>I/Br</td>\n",
       "    </tr>\n",
       "    <tr>\n",
       "      <th>9</th>\n",
       "      <td>Cs/0.0289</td>\n",
       "      <td>MA/0.1411</td>\n",
       "      <td>FA/0.83</td>\n",
       "      <td>Pb/1</td>\n",
       "      <td>NaN</td>\n",
       "      <td>NaN</td>\n",
       "      <td>I/0.83</td>\n",
       "      <td>Br/0.17</td>\n",
       "      <td>NaN</td>\n",
       "      <td>NaN</td>\n",
       "      <td>spiro-OMeTAD</td>\n",
       "      <td>TiO2</td>\n",
       "      <td>1.061</td>\n",
       "      <td>20.4</td>\n",
       "      <td>15.8</td>\n",
       "      <td>MA/FA</td>\n",
       "      <td>Pb</td>\n",
       "      <td>I/Br</td>\n",
       "    </tr>\n",
       "  </tbody>\n",
       "</table>\n",
       "</div>"
      ],
      "text/plain": [
       "         A_1        A_2      A_3   B_1  B_2  B_3     X_1      X_2  X_3  E_g  \\\n",
       "0  Cs/0.0625  MA/0.1875  FA/0.75  Pb/1  NaN  NaN  I/0.83  Br/0.17  NaN  NaN   \n",
       "1  Cs/0.0625  MA/0.1875  FA/0.75  Pb/1  NaN  NaN  I/0.83  Br/0.17  NaN  NaN   \n",
       "2  Cs/0.0525  MA/0.1975  FA/0.75  Pb/1  NaN  NaN  I/0.83  Br/0.17  NaN  NaN   \n",
       "3  Cs/0.0525  MA/0.1975  FA/0.75  Pb/1  NaN  NaN  I/0.83  Br/0.17  NaN  NaN   \n",
       "4  Cs/0.0375  MA/0.2125  FA/0.75  Pb/1  NaN  NaN  I/0.83  Br/0.17  NaN  NaN   \n",
       "5  Cs/0.0375  MA/0.2125  FA/0.75  Pb/1  NaN  NaN  I/0.83  Br/0.17  NaN  NaN   \n",
       "6   Cs/0.025   MA/0.225  FA/0.75  Pb/1  NaN  NaN  I/0.83  Br/0.17  NaN  NaN   \n",
       "7   Cs/0.025   MA/0.225  FA/0.75  Pb/1  NaN  NaN  I/0.83  Br/0.17  NaN  NaN   \n",
       "8  Cs/0.0125  MA/0.2375  FA/0.75  Pb/1  NaN  NaN  I/0.83  Br/0.17  NaN  NaN   \n",
       "9  Cs/0.0289  MA/0.1411  FA/0.83  Pb/1  NaN  NaN  I/0.83  Br/0.17  NaN  NaN   \n",
       "\n",
       "            HTL   ETL  Voc(volts)    Jsc  Max PCE         A   B     X  \n",
       "0  spiro-OMeTAD  TiO2        1.045  20.7     14.3  Cs/MA/FA  Pb  I/Br  \n",
       "1  spiro-OMeTAD  TiO2        1.021  20.9     12.4  Cs/MA/FA  Pb  I/Br  \n",
       "2  spiro-OMeTAD  TiO2        1.054  20.4     15.9  Cs/MA/FA  Pb  I/Br  \n",
       "3  spiro-OMeTAD  TiO2        1.022  20.7     15.2  Cs/MA/FA  Pb  I/Br  \n",
       "4  spiro-OMeTAD  TiO2        1.050  20.9     16.0  Cs/MA/FA  Pb  I/Br  \n",
       "5  spiro-OMeTAD  TiO2        1.060  21.1     16.8  Cs/MA/FA  Pb  I/Br  \n",
       "6  spiro-OMeTAD  TiO2        1.076  21.0     14.9  Cs/MA/FA  Pb  I/Br  \n",
       "7  spiro-OMeTAD  TiO2        1.049  20.7     16.3  Cs/MA/FA  Pb  I/Br  \n",
       "8  spiro-OMeTAD  TiO2        0.913  17.9      8.5  Cs/MA/FA  Pb  I/Br  \n",
       "9  spiro-OMeTAD  TiO2        1.061  20.4     15.8     MA/FA  Pb  I/Br  "
      ]
     },
     "execution_count": 4,
     "metadata": {},
     "output_type": "execute_result"
    }
   ],
   "source": [
    "data.head(10)"
   ]
  },
  {
   "cell_type": "code",
   "execution_count": 5,
   "metadata": {
    "collapsed": false
   },
   "outputs": [
    {
     "data": {
      "text/plain": [
       "20.800000000000001"
      ]
     },
     "execution_count": 5,
     "metadata": {},
     "output_type": "execute_result"
    }
   ],
   "source": [
    "data['Max PCE'].max()"
   ]
  },
  {
   "cell_type": "code",
   "execution_count": 6,
   "metadata": {
    "collapsed": false
   },
   "outputs": [
    {
     "data": {
      "text/plain": [
       "Int64Index([97], dtype='int64')"
      ]
     },
     "execution_count": 6,
     "metadata": {},
     "output_type": "execute_result"
    }
   ],
   "source": [
    "data.sort_values('Max PCE', ascending=False)[:1].index"
   ]
  },
  {
   "cell_type": "code",
   "execution_count": 7,
   "metadata": {
    "collapsed": false
   },
   "outputs": [
    {
     "data": {
      "text/plain": [
       "A_1                       FA/1\n",
       "A_2                        NaN\n",
       "A_3                        NaN\n",
       "B_1                       Pb/1\n",
       "B_2                        NaN\n",
       "B_3                        NaN\n",
       "X_1                    I/0.952\n",
       "X_2                   Br/0.048\n",
       "X_3                        NaN\n",
       "E_g                        NaN\n",
       "HTL               Spiro-OMeTAD\n",
       "ETL            mesoporous TiO2\n",
       "Voc(volts)                1.16\n",
       "Jsc                       24.6\n",
       "Max PCE                   20.8\n",
       "A                           FA\n",
       "B                           Pb\n",
       "X                            I\n",
       "Name: 97, dtype: object"
      ]
     },
     "execution_count": 7,
     "metadata": {},
     "output_type": "execute_result"
    }
   ],
   "source": [
    "data.loc[97]"
   ]
  },
  {
   "cell_type": "code",
   "execution_count": 8,
   "metadata": {
    "collapsed": true
   },
   "outputs": [],
   "source": [
    "data1 = pd.DataFrame()\n",
    "# split the element and its ratio\n",
    "data1['A1'], data1['A1_ratio'] = data['A_1'].str.split('/',1).str\n",
    "data1['A2'], data1['A2_ratio'] = data['A_2'].str.split('/',1).str\n",
    "data1['A3'], data1['A3_ratio'] = data['A_3'].str.split('/',1).str\n",
    "data1['B1'], data1['B1_ratio'] = data['B_1'].str.split('/',1).str\n",
    "data1['B2'], data1['B2_ratio'] = data['B_2'].str.split('/',1).str\n",
    "data1['X1'], data1['X1_ratio'] = data['X_1'].str.split('/',1).str\n",
    "data1['X2'], data1['X2_ratio'] = data['X_2'].str.split('/',1).str\n",
    "data1['PCE'] = data['Max PCE']\n",
    "data1['A'] = data['A'] \n",
    "data1['B'] = data['B']\n",
    "data1['X'] = data['X']\n",
    "data1 = data1.fillna(0)"
   ]
  },
  {
   "cell_type": "code",
   "execution_count": 9,
   "metadata": {
    "collapsed": false
   },
   "outputs": [
    {
     "data": {
      "text/html": [
       "<div>\n",
       "<table border=\"1\" class=\"dataframe\">\n",
       "  <thead>\n",
       "    <tr style=\"text-align: right;\">\n",
       "      <th></th>\n",
       "      <th>A1</th>\n",
       "      <th>A1_ratio</th>\n",
       "      <th>A2</th>\n",
       "      <th>A2_ratio</th>\n",
       "      <th>A3</th>\n",
       "      <th>A3_ratio</th>\n",
       "      <th>B1</th>\n",
       "      <th>B1_ratio</th>\n",
       "      <th>B2</th>\n",
       "      <th>B2_ratio</th>\n",
       "      <th>X1</th>\n",
       "      <th>X1_ratio</th>\n",
       "      <th>X2</th>\n",
       "      <th>X2_ratio</th>\n",
       "      <th>PCE</th>\n",
       "      <th>A</th>\n",
       "      <th>B</th>\n",
       "      <th>X</th>\n",
       "    </tr>\n",
       "  </thead>\n",
       "  <tbody>\n",
       "    <tr>\n",
       "      <th>0</th>\n",
       "      <td>Cs</td>\n",
       "      <td>0.0625</td>\n",
       "      <td>MA</td>\n",
       "      <td>0.1875</td>\n",
       "      <td>FA</td>\n",
       "      <td>0.75</td>\n",
       "      <td>Pb</td>\n",
       "      <td>1</td>\n",
       "      <td>0</td>\n",
       "      <td>0</td>\n",
       "      <td>I</td>\n",
       "      <td>0.83</td>\n",
       "      <td>Br</td>\n",
       "      <td>0.17</td>\n",
       "      <td>14.3</td>\n",
       "      <td>Cs/MA/FA</td>\n",
       "      <td>Pb</td>\n",
       "      <td>I/Br</td>\n",
       "    </tr>\n",
       "    <tr>\n",
       "      <th>1</th>\n",
       "      <td>Cs</td>\n",
       "      <td>0.0625</td>\n",
       "      <td>MA</td>\n",
       "      <td>0.1875</td>\n",
       "      <td>FA</td>\n",
       "      <td>0.75</td>\n",
       "      <td>Pb</td>\n",
       "      <td>1</td>\n",
       "      <td>0</td>\n",
       "      <td>0</td>\n",
       "      <td>I</td>\n",
       "      <td>0.83</td>\n",
       "      <td>Br</td>\n",
       "      <td>0.17</td>\n",
       "      <td>12.4</td>\n",
       "      <td>Cs/MA/FA</td>\n",
       "      <td>Pb</td>\n",
       "      <td>I/Br</td>\n",
       "    </tr>\n",
       "    <tr>\n",
       "      <th>2</th>\n",
       "      <td>Cs</td>\n",
       "      <td>0.0525</td>\n",
       "      <td>MA</td>\n",
       "      <td>0.1975</td>\n",
       "      <td>FA</td>\n",
       "      <td>0.75</td>\n",
       "      <td>Pb</td>\n",
       "      <td>1</td>\n",
       "      <td>0</td>\n",
       "      <td>0</td>\n",
       "      <td>I</td>\n",
       "      <td>0.83</td>\n",
       "      <td>Br</td>\n",
       "      <td>0.17</td>\n",
       "      <td>15.9</td>\n",
       "      <td>Cs/MA/FA</td>\n",
       "      <td>Pb</td>\n",
       "      <td>I/Br</td>\n",
       "    </tr>\n",
       "    <tr>\n",
       "      <th>3</th>\n",
       "      <td>Cs</td>\n",
       "      <td>0.0525</td>\n",
       "      <td>MA</td>\n",
       "      <td>0.1975</td>\n",
       "      <td>FA</td>\n",
       "      <td>0.75</td>\n",
       "      <td>Pb</td>\n",
       "      <td>1</td>\n",
       "      <td>0</td>\n",
       "      <td>0</td>\n",
       "      <td>I</td>\n",
       "      <td>0.83</td>\n",
       "      <td>Br</td>\n",
       "      <td>0.17</td>\n",
       "      <td>15.2</td>\n",
       "      <td>Cs/MA/FA</td>\n",
       "      <td>Pb</td>\n",
       "      <td>I/Br</td>\n",
       "    </tr>\n",
       "    <tr>\n",
       "      <th>4</th>\n",
       "      <td>Cs</td>\n",
       "      <td>0.0375</td>\n",
       "      <td>MA</td>\n",
       "      <td>0.2125</td>\n",
       "      <td>FA</td>\n",
       "      <td>0.75</td>\n",
       "      <td>Pb</td>\n",
       "      <td>1</td>\n",
       "      <td>0</td>\n",
       "      <td>0</td>\n",
       "      <td>I</td>\n",
       "      <td>0.83</td>\n",
       "      <td>Br</td>\n",
       "      <td>0.17</td>\n",
       "      <td>16.0</td>\n",
       "      <td>Cs/MA/FA</td>\n",
       "      <td>Pb</td>\n",
       "      <td>I/Br</td>\n",
       "    </tr>\n",
       "    <tr>\n",
       "      <th>5</th>\n",
       "      <td>Cs</td>\n",
       "      <td>0.0375</td>\n",
       "      <td>MA</td>\n",
       "      <td>0.2125</td>\n",
       "      <td>FA</td>\n",
       "      <td>0.75</td>\n",
       "      <td>Pb</td>\n",
       "      <td>1</td>\n",
       "      <td>0</td>\n",
       "      <td>0</td>\n",
       "      <td>I</td>\n",
       "      <td>0.83</td>\n",
       "      <td>Br</td>\n",
       "      <td>0.17</td>\n",
       "      <td>16.8</td>\n",
       "      <td>Cs/MA/FA</td>\n",
       "      <td>Pb</td>\n",
       "      <td>I/Br</td>\n",
       "    </tr>\n",
       "    <tr>\n",
       "      <th>6</th>\n",
       "      <td>Cs</td>\n",
       "      <td>0.025</td>\n",
       "      <td>MA</td>\n",
       "      <td>0.225</td>\n",
       "      <td>FA</td>\n",
       "      <td>0.75</td>\n",
       "      <td>Pb</td>\n",
       "      <td>1</td>\n",
       "      <td>0</td>\n",
       "      <td>0</td>\n",
       "      <td>I</td>\n",
       "      <td>0.83</td>\n",
       "      <td>Br</td>\n",
       "      <td>0.17</td>\n",
       "      <td>14.9</td>\n",
       "      <td>Cs/MA/FA</td>\n",
       "      <td>Pb</td>\n",
       "      <td>I/Br</td>\n",
       "    </tr>\n",
       "    <tr>\n",
       "      <th>7</th>\n",
       "      <td>Cs</td>\n",
       "      <td>0.025</td>\n",
       "      <td>MA</td>\n",
       "      <td>0.225</td>\n",
       "      <td>FA</td>\n",
       "      <td>0.75</td>\n",
       "      <td>Pb</td>\n",
       "      <td>1</td>\n",
       "      <td>0</td>\n",
       "      <td>0</td>\n",
       "      <td>I</td>\n",
       "      <td>0.83</td>\n",
       "      <td>Br</td>\n",
       "      <td>0.17</td>\n",
       "      <td>16.3</td>\n",
       "      <td>Cs/MA/FA</td>\n",
       "      <td>Pb</td>\n",
       "      <td>I/Br</td>\n",
       "    </tr>\n",
       "    <tr>\n",
       "      <th>8</th>\n",
       "      <td>Cs</td>\n",
       "      <td>0.0125</td>\n",
       "      <td>MA</td>\n",
       "      <td>0.2375</td>\n",
       "      <td>FA</td>\n",
       "      <td>0.75</td>\n",
       "      <td>Pb</td>\n",
       "      <td>1</td>\n",
       "      <td>0</td>\n",
       "      <td>0</td>\n",
       "      <td>I</td>\n",
       "      <td>0.83</td>\n",
       "      <td>Br</td>\n",
       "      <td>0.17</td>\n",
       "      <td>8.5</td>\n",
       "      <td>Cs/MA/FA</td>\n",
       "      <td>Pb</td>\n",
       "      <td>I/Br</td>\n",
       "    </tr>\n",
       "    <tr>\n",
       "      <th>9</th>\n",
       "      <td>Cs</td>\n",
       "      <td>0.0289</td>\n",
       "      <td>MA</td>\n",
       "      <td>0.1411</td>\n",
       "      <td>FA</td>\n",
       "      <td>0.83</td>\n",
       "      <td>Pb</td>\n",
       "      <td>1</td>\n",
       "      <td>0</td>\n",
       "      <td>0</td>\n",
       "      <td>I</td>\n",
       "      <td>0.83</td>\n",
       "      <td>Br</td>\n",
       "      <td>0.17</td>\n",
       "      <td>15.8</td>\n",
       "      <td>MA/FA</td>\n",
       "      <td>Pb</td>\n",
       "      <td>I/Br</td>\n",
       "    </tr>\n",
       "  </tbody>\n",
       "</table>\n",
       "</div>"
      ],
      "text/plain": [
       "   A1 A1_ratio  A2 A2_ratio  A3 A3_ratio  B1 B1_ratio B2 B2_ratio X1 X1_ratio  \\\n",
       "0  Cs   0.0625  MA   0.1875  FA     0.75  Pb        1  0        0  I     0.83   \n",
       "1  Cs   0.0625  MA   0.1875  FA     0.75  Pb        1  0        0  I     0.83   \n",
       "2  Cs   0.0525  MA   0.1975  FA     0.75  Pb        1  0        0  I     0.83   \n",
       "3  Cs   0.0525  MA   0.1975  FA     0.75  Pb        1  0        0  I     0.83   \n",
       "4  Cs   0.0375  MA   0.2125  FA     0.75  Pb        1  0        0  I     0.83   \n",
       "5  Cs   0.0375  MA   0.2125  FA     0.75  Pb        1  0        0  I     0.83   \n",
       "6  Cs    0.025  MA    0.225  FA     0.75  Pb        1  0        0  I     0.83   \n",
       "7  Cs    0.025  MA    0.225  FA     0.75  Pb        1  0        0  I     0.83   \n",
       "8  Cs   0.0125  MA   0.2375  FA     0.75  Pb        1  0        0  I     0.83   \n",
       "9  Cs   0.0289  MA   0.1411  FA     0.83  Pb        1  0        0  I     0.83   \n",
       "\n",
       "   X2 X2_ratio   PCE         A   B     X  \n",
       "0  Br     0.17  14.3  Cs/MA/FA  Pb  I/Br  \n",
       "1  Br     0.17  12.4  Cs/MA/FA  Pb  I/Br  \n",
       "2  Br     0.17  15.9  Cs/MA/FA  Pb  I/Br  \n",
       "3  Br     0.17  15.2  Cs/MA/FA  Pb  I/Br  \n",
       "4  Br     0.17  16.0  Cs/MA/FA  Pb  I/Br  \n",
       "5  Br     0.17  16.8  Cs/MA/FA  Pb  I/Br  \n",
       "6  Br     0.17  14.9  Cs/MA/FA  Pb  I/Br  \n",
       "7  Br     0.17  16.3  Cs/MA/FA  Pb  I/Br  \n",
       "8  Br     0.17   8.5  Cs/MA/FA  Pb  I/Br  \n",
       "9  Br     0.17  15.8     MA/FA  Pb  I/Br  "
      ]
     },
     "execution_count": 9,
     "metadata": {},
     "output_type": "execute_result"
    }
   ],
   "source": [
    "data1 = data1.fillna(0)\n",
    "data1.head(10)"
   ]
  },
  {
   "cell_type": "code",
   "execution_count": 10,
   "metadata": {
    "collapsed": false
   },
   "outputs": [],
   "source": [
    "data1['A_sum'] = data1['A1_ratio'].astype(float) + data1['A2_ratio'].astype(float) + data1['A3_ratio'].astype(float)\n",
    "data1['B_sum'] = data1['B1_ratio'].astype(float) + data1['B2_ratio'].astype(float)\n",
    "data1['X_sum'] = data1['X1_ratio'].astype(float) + data1['X2_ratio'].astype(float)"
   ]
  },
  {
   "cell_type": "code",
   "execution_count": 11,
   "metadata": {
    "collapsed": false
   },
   "outputs": [
    {
     "data": {
      "text/html": [
       "<div>\n",
       "<table border=\"1\" class=\"dataframe\">\n",
       "  <thead>\n",
       "    <tr style=\"text-align: right;\">\n",
       "      <th></th>\n",
       "      <th>A1</th>\n",
       "      <th>A1_ratio</th>\n",
       "      <th>A2</th>\n",
       "      <th>A2_ratio</th>\n",
       "      <th>A3</th>\n",
       "      <th>A3_ratio</th>\n",
       "      <th>B1</th>\n",
       "      <th>B1_ratio</th>\n",
       "      <th>B2</th>\n",
       "      <th>B2_ratio</th>\n",
       "      <th>...</th>\n",
       "      <th>X1_ratio</th>\n",
       "      <th>X2</th>\n",
       "      <th>X2_ratio</th>\n",
       "      <th>PCE</th>\n",
       "      <th>A</th>\n",
       "      <th>B</th>\n",
       "      <th>X</th>\n",
       "      <th>A_sum</th>\n",
       "      <th>B_sum</th>\n",
       "      <th>X_sum</th>\n",
       "    </tr>\n",
       "  </thead>\n",
       "  <tbody>\n",
       "    <tr>\n",
       "      <th>0</th>\n",
       "      <td>Cs</td>\n",
       "      <td>0.0625</td>\n",
       "      <td>MA</td>\n",
       "      <td>0.1875</td>\n",
       "      <td>FA</td>\n",
       "      <td>0.75</td>\n",
       "      <td>Pb</td>\n",
       "      <td>1</td>\n",
       "      <td>0</td>\n",
       "      <td>0</td>\n",
       "      <td>...</td>\n",
       "      <td>0.83</td>\n",
       "      <td>Br</td>\n",
       "      <td>0.17</td>\n",
       "      <td>14.3</td>\n",
       "      <td>Cs/MA/FA</td>\n",
       "      <td>Pb</td>\n",
       "      <td>I/Br</td>\n",
       "      <td>1.0</td>\n",
       "      <td>1.0</td>\n",
       "      <td>1.0</td>\n",
       "    </tr>\n",
       "    <tr>\n",
       "      <th>1</th>\n",
       "      <td>Cs</td>\n",
       "      <td>0.0625</td>\n",
       "      <td>MA</td>\n",
       "      <td>0.1875</td>\n",
       "      <td>FA</td>\n",
       "      <td>0.75</td>\n",
       "      <td>Pb</td>\n",
       "      <td>1</td>\n",
       "      <td>0</td>\n",
       "      <td>0</td>\n",
       "      <td>...</td>\n",
       "      <td>0.83</td>\n",
       "      <td>Br</td>\n",
       "      <td>0.17</td>\n",
       "      <td>12.4</td>\n",
       "      <td>Cs/MA/FA</td>\n",
       "      <td>Pb</td>\n",
       "      <td>I/Br</td>\n",
       "      <td>1.0</td>\n",
       "      <td>1.0</td>\n",
       "      <td>1.0</td>\n",
       "    </tr>\n",
       "    <tr>\n",
       "      <th>2</th>\n",
       "      <td>Cs</td>\n",
       "      <td>0.0525</td>\n",
       "      <td>MA</td>\n",
       "      <td>0.1975</td>\n",
       "      <td>FA</td>\n",
       "      <td>0.75</td>\n",
       "      <td>Pb</td>\n",
       "      <td>1</td>\n",
       "      <td>0</td>\n",
       "      <td>0</td>\n",
       "      <td>...</td>\n",
       "      <td>0.83</td>\n",
       "      <td>Br</td>\n",
       "      <td>0.17</td>\n",
       "      <td>15.9</td>\n",
       "      <td>Cs/MA/FA</td>\n",
       "      <td>Pb</td>\n",
       "      <td>I/Br</td>\n",
       "      <td>1.0</td>\n",
       "      <td>1.0</td>\n",
       "      <td>1.0</td>\n",
       "    </tr>\n",
       "    <tr>\n",
       "      <th>3</th>\n",
       "      <td>Cs</td>\n",
       "      <td>0.0525</td>\n",
       "      <td>MA</td>\n",
       "      <td>0.1975</td>\n",
       "      <td>FA</td>\n",
       "      <td>0.75</td>\n",
       "      <td>Pb</td>\n",
       "      <td>1</td>\n",
       "      <td>0</td>\n",
       "      <td>0</td>\n",
       "      <td>...</td>\n",
       "      <td>0.83</td>\n",
       "      <td>Br</td>\n",
       "      <td>0.17</td>\n",
       "      <td>15.2</td>\n",
       "      <td>Cs/MA/FA</td>\n",
       "      <td>Pb</td>\n",
       "      <td>I/Br</td>\n",
       "      <td>1.0</td>\n",
       "      <td>1.0</td>\n",
       "      <td>1.0</td>\n",
       "    </tr>\n",
       "    <tr>\n",
       "      <th>4</th>\n",
       "      <td>Cs</td>\n",
       "      <td>0.0375</td>\n",
       "      <td>MA</td>\n",
       "      <td>0.2125</td>\n",
       "      <td>FA</td>\n",
       "      <td>0.75</td>\n",
       "      <td>Pb</td>\n",
       "      <td>1</td>\n",
       "      <td>0</td>\n",
       "      <td>0</td>\n",
       "      <td>...</td>\n",
       "      <td>0.83</td>\n",
       "      <td>Br</td>\n",
       "      <td>0.17</td>\n",
       "      <td>16.0</td>\n",
       "      <td>Cs/MA/FA</td>\n",
       "      <td>Pb</td>\n",
       "      <td>I/Br</td>\n",
       "      <td>1.0</td>\n",
       "      <td>1.0</td>\n",
       "      <td>1.0</td>\n",
       "    </tr>\n",
       "    <tr>\n",
       "      <th>5</th>\n",
       "      <td>Cs</td>\n",
       "      <td>0.0375</td>\n",
       "      <td>MA</td>\n",
       "      <td>0.2125</td>\n",
       "      <td>FA</td>\n",
       "      <td>0.75</td>\n",
       "      <td>Pb</td>\n",
       "      <td>1</td>\n",
       "      <td>0</td>\n",
       "      <td>0</td>\n",
       "      <td>...</td>\n",
       "      <td>0.83</td>\n",
       "      <td>Br</td>\n",
       "      <td>0.17</td>\n",
       "      <td>16.8</td>\n",
       "      <td>Cs/MA/FA</td>\n",
       "      <td>Pb</td>\n",
       "      <td>I/Br</td>\n",
       "      <td>1.0</td>\n",
       "      <td>1.0</td>\n",
       "      <td>1.0</td>\n",
       "    </tr>\n",
       "    <tr>\n",
       "      <th>6</th>\n",
       "      <td>Cs</td>\n",
       "      <td>0.025</td>\n",
       "      <td>MA</td>\n",
       "      <td>0.225</td>\n",
       "      <td>FA</td>\n",
       "      <td>0.75</td>\n",
       "      <td>Pb</td>\n",
       "      <td>1</td>\n",
       "      <td>0</td>\n",
       "      <td>0</td>\n",
       "      <td>...</td>\n",
       "      <td>0.83</td>\n",
       "      <td>Br</td>\n",
       "      <td>0.17</td>\n",
       "      <td>14.9</td>\n",
       "      <td>Cs/MA/FA</td>\n",
       "      <td>Pb</td>\n",
       "      <td>I/Br</td>\n",
       "      <td>1.0</td>\n",
       "      <td>1.0</td>\n",
       "      <td>1.0</td>\n",
       "    </tr>\n",
       "    <tr>\n",
       "      <th>7</th>\n",
       "      <td>Cs</td>\n",
       "      <td>0.025</td>\n",
       "      <td>MA</td>\n",
       "      <td>0.225</td>\n",
       "      <td>FA</td>\n",
       "      <td>0.75</td>\n",
       "      <td>Pb</td>\n",
       "      <td>1</td>\n",
       "      <td>0</td>\n",
       "      <td>0</td>\n",
       "      <td>...</td>\n",
       "      <td>0.83</td>\n",
       "      <td>Br</td>\n",
       "      <td>0.17</td>\n",
       "      <td>16.3</td>\n",
       "      <td>Cs/MA/FA</td>\n",
       "      <td>Pb</td>\n",
       "      <td>I/Br</td>\n",
       "      <td>1.0</td>\n",
       "      <td>1.0</td>\n",
       "      <td>1.0</td>\n",
       "    </tr>\n",
       "    <tr>\n",
       "      <th>8</th>\n",
       "      <td>Cs</td>\n",
       "      <td>0.0125</td>\n",
       "      <td>MA</td>\n",
       "      <td>0.2375</td>\n",
       "      <td>FA</td>\n",
       "      <td>0.75</td>\n",
       "      <td>Pb</td>\n",
       "      <td>1</td>\n",
       "      <td>0</td>\n",
       "      <td>0</td>\n",
       "      <td>...</td>\n",
       "      <td>0.83</td>\n",
       "      <td>Br</td>\n",
       "      <td>0.17</td>\n",
       "      <td>8.5</td>\n",
       "      <td>Cs/MA/FA</td>\n",
       "      <td>Pb</td>\n",
       "      <td>I/Br</td>\n",
       "      <td>1.0</td>\n",
       "      <td>1.0</td>\n",
       "      <td>1.0</td>\n",
       "    </tr>\n",
       "    <tr>\n",
       "      <th>9</th>\n",
       "      <td>Cs</td>\n",
       "      <td>0.0289</td>\n",
       "      <td>MA</td>\n",
       "      <td>0.1411</td>\n",
       "      <td>FA</td>\n",
       "      <td>0.83</td>\n",
       "      <td>Pb</td>\n",
       "      <td>1</td>\n",
       "      <td>0</td>\n",
       "      <td>0</td>\n",
       "      <td>...</td>\n",
       "      <td>0.83</td>\n",
       "      <td>Br</td>\n",
       "      <td>0.17</td>\n",
       "      <td>15.8</td>\n",
       "      <td>MA/FA</td>\n",
       "      <td>Pb</td>\n",
       "      <td>I/Br</td>\n",
       "      <td>1.0</td>\n",
       "      <td>1.0</td>\n",
       "      <td>1.0</td>\n",
       "    </tr>\n",
       "  </tbody>\n",
       "</table>\n",
       "<p>10 rows × 21 columns</p>\n",
       "</div>"
      ],
      "text/plain": [
       "   A1 A1_ratio  A2 A2_ratio  A3 A3_ratio  B1 B1_ratio B2 B2_ratio  ...    \\\n",
       "0  Cs   0.0625  MA   0.1875  FA     0.75  Pb        1  0        0  ...     \n",
       "1  Cs   0.0625  MA   0.1875  FA     0.75  Pb        1  0        0  ...     \n",
       "2  Cs   0.0525  MA   0.1975  FA     0.75  Pb        1  0        0  ...     \n",
       "3  Cs   0.0525  MA   0.1975  FA     0.75  Pb        1  0        0  ...     \n",
       "4  Cs   0.0375  MA   0.2125  FA     0.75  Pb        1  0        0  ...     \n",
       "5  Cs   0.0375  MA   0.2125  FA     0.75  Pb        1  0        0  ...     \n",
       "6  Cs    0.025  MA    0.225  FA     0.75  Pb        1  0        0  ...     \n",
       "7  Cs    0.025  MA    0.225  FA     0.75  Pb        1  0        0  ...     \n",
       "8  Cs   0.0125  MA   0.2375  FA     0.75  Pb        1  0        0  ...     \n",
       "9  Cs   0.0289  MA   0.1411  FA     0.83  Pb        1  0        0  ...     \n",
       "\n",
       "  X1_ratio  X2 X2_ratio   PCE         A   B     X A_sum  B_sum  X_sum  \n",
       "0     0.83  Br     0.17  14.3  Cs/MA/FA  Pb  I/Br   1.0    1.0    1.0  \n",
       "1     0.83  Br     0.17  12.4  Cs/MA/FA  Pb  I/Br   1.0    1.0    1.0  \n",
       "2     0.83  Br     0.17  15.9  Cs/MA/FA  Pb  I/Br   1.0    1.0    1.0  \n",
       "3     0.83  Br     0.17  15.2  Cs/MA/FA  Pb  I/Br   1.0    1.0    1.0  \n",
       "4     0.83  Br     0.17  16.0  Cs/MA/FA  Pb  I/Br   1.0    1.0    1.0  \n",
       "5     0.83  Br     0.17  16.8  Cs/MA/FA  Pb  I/Br   1.0    1.0    1.0  \n",
       "6     0.83  Br     0.17  14.9  Cs/MA/FA  Pb  I/Br   1.0    1.0    1.0  \n",
       "7     0.83  Br     0.17  16.3  Cs/MA/FA  Pb  I/Br   1.0    1.0    1.0  \n",
       "8     0.83  Br     0.17   8.5  Cs/MA/FA  Pb  I/Br   1.0    1.0    1.0  \n",
       "9     0.83  Br     0.17  15.8     MA/FA  Pb  I/Br   1.0    1.0    1.0  \n",
       "\n",
       "[10 rows x 21 columns]"
      ]
     },
     "execution_count": 11,
     "metadata": {},
     "output_type": "execute_result"
    }
   ],
   "source": [
    "data1.head(10)"
   ]
  },
  {
   "cell_type": "code",
   "execution_count": 12,
   "metadata": {
    "collapsed": false
   },
   "outputs": [
    {
     "data": {
      "text/html": [
       "<div>\n",
       "<table border=\"1\" class=\"dataframe\">\n",
       "  <thead>\n",
       "    <tr style=\"text-align: right;\">\n",
       "      <th></th>\n",
       "      <th>A1</th>\n",
       "      <th>A1_ratio</th>\n",
       "      <th>A2</th>\n",
       "      <th>A2_ratio</th>\n",
       "      <th>A3</th>\n",
       "      <th>A3_ratio</th>\n",
       "      <th>B1</th>\n",
       "      <th>B1_ratio</th>\n",
       "      <th>B2</th>\n",
       "      <th>B2_ratio</th>\n",
       "      <th>...</th>\n",
       "      <th>X1_ratio</th>\n",
       "      <th>X2</th>\n",
       "      <th>X2_ratio</th>\n",
       "      <th>PCE</th>\n",
       "      <th>A</th>\n",
       "      <th>B</th>\n",
       "      <th>X</th>\n",
       "      <th>A_sum</th>\n",
       "      <th>B_sum</th>\n",
       "      <th>X_sum</th>\n",
       "    </tr>\n",
       "  </thead>\n",
       "  <tbody>\n",
       "    <tr>\n",
       "      <th>20</th>\n",
       "      <td>Al3+</td>\n",
       "      <td>0.075</td>\n",
       "      <td>MA</td>\n",
       "      <td>1.0</td>\n",
       "      <td>0</td>\n",
       "      <td>0</td>\n",
       "      <td>Pb</td>\n",
       "      <td>1</td>\n",
       "      <td>0</td>\n",
       "      <td>0</td>\n",
       "      <td>...</td>\n",
       "      <td>1.0</td>\n",
       "      <td>0</td>\n",
       "      <td>0</td>\n",
       "      <td>13.6</td>\n",
       "      <td>MA</td>\n",
       "      <td>Pb</td>\n",
       "      <td>I</td>\n",
       "      <td>1.0750</td>\n",
       "      <td>1.0</td>\n",
       "      <td>1.000</td>\n",
       "    </tr>\n",
       "    <tr>\n",
       "      <th>21</th>\n",
       "      <td>Al3+</td>\n",
       "      <td>0.15</td>\n",
       "      <td>MA</td>\n",
       "      <td>1.0</td>\n",
       "      <td>0</td>\n",
       "      <td>0</td>\n",
       "      <td>Pb</td>\n",
       "      <td>1</td>\n",
       "      <td>0</td>\n",
       "      <td>0</td>\n",
       "      <td>...</td>\n",
       "      <td>1.0</td>\n",
       "      <td>0</td>\n",
       "      <td>0</td>\n",
       "      <td>15.8</td>\n",
       "      <td>Al/MA</td>\n",
       "      <td>Pb</td>\n",
       "      <td>I</td>\n",
       "      <td>1.1500</td>\n",
       "      <td>1.0</td>\n",
       "      <td>1.000</td>\n",
       "    </tr>\n",
       "    <tr>\n",
       "      <th>22</th>\n",
       "      <td>Al3+</td>\n",
       "      <td>0.3</td>\n",
       "      <td>MA</td>\n",
       "      <td>1.0</td>\n",
       "      <td>0</td>\n",
       "      <td>0</td>\n",
       "      <td>Pb</td>\n",
       "      <td>1</td>\n",
       "      <td>0</td>\n",
       "      <td>0</td>\n",
       "      <td>...</td>\n",
       "      <td>1.0</td>\n",
       "      <td>0</td>\n",
       "      <td>0</td>\n",
       "      <td>14.2</td>\n",
       "      <td>Al/MA</td>\n",
       "      <td>Pb</td>\n",
       "      <td>I</td>\n",
       "      <td>1.3000</td>\n",
       "      <td>1.0</td>\n",
       "      <td>1.000</td>\n",
       "    </tr>\n",
       "    <tr>\n",
       "      <th>23</th>\n",
       "      <td>Al3+</td>\n",
       "      <td>0.75</td>\n",
       "      <td>MA</td>\n",
       "      <td>1.0</td>\n",
       "      <td>0</td>\n",
       "      <td>0</td>\n",
       "      <td>Pb</td>\n",
       "      <td>1</td>\n",
       "      <td>0</td>\n",
       "      <td>0</td>\n",
       "      <td>...</td>\n",
       "      <td>1.0</td>\n",
       "      <td>0</td>\n",
       "      <td>0</td>\n",
       "      <td>9.8</td>\n",
       "      <td>Al/MA</td>\n",
       "      <td>Pb</td>\n",
       "      <td>I</td>\n",
       "      <td>1.7500</td>\n",
       "      <td>1.0</td>\n",
       "      <td>1.000</td>\n",
       "    </tr>\n",
       "    <tr>\n",
       "      <th>24</th>\n",
       "      <td>Al3+</td>\n",
       "      <td>1.5</td>\n",
       "      <td>MA</td>\n",
       "      <td>1.0</td>\n",
       "      <td>0</td>\n",
       "      <td>0</td>\n",
       "      <td>Pb</td>\n",
       "      <td>1</td>\n",
       "      <td>0</td>\n",
       "      <td>0</td>\n",
       "      <td>...</td>\n",
       "      <td>1.0</td>\n",
       "      <td>0</td>\n",
       "      <td>0</td>\n",
       "      <td>5.5</td>\n",
       "      <td>Al/MA</td>\n",
       "      <td>Pb</td>\n",
       "      <td>I</td>\n",
       "      <td>2.5000</td>\n",
       "      <td>1.0</td>\n",
       "      <td>1.000</td>\n",
       "    </tr>\n",
       "    <tr>\n",
       "      <th>67</th>\n",
       "      <td>FA</td>\n",
       "      <td>0.81</td>\n",
       "      <td>MA</td>\n",
       "      <td>0.15</td>\n",
       "      <td>0</td>\n",
       "      <td>0</td>\n",
       "      <td>Pb</td>\n",
       "      <td>1.0</td>\n",
       "      <td>0</td>\n",
       "      <td>0</td>\n",
       "      <td>...</td>\n",
       "      <td>0.836</td>\n",
       "      <td>Br</td>\n",
       "      <td>0.15</td>\n",
       "      <td>16.1</td>\n",
       "      <td>FA/Cs</td>\n",
       "      <td>Pb</td>\n",
       "      <td>I/SCN</td>\n",
       "      <td>0.9600</td>\n",
       "      <td>1.0</td>\n",
       "      <td>0.986</td>\n",
       "    </tr>\n",
       "    <tr>\n",
       "      <th>68</th>\n",
       "      <td>FA</td>\n",
       "      <td>0.81</td>\n",
       "      <td>MA</td>\n",
       "      <td>0.15</td>\n",
       "      <td>0</td>\n",
       "      <td>0</td>\n",
       "      <td>Pb</td>\n",
       "      <td>1.0</td>\n",
       "      <td>0</td>\n",
       "      <td>0</td>\n",
       "      <td>...</td>\n",
       "      <td>0.836</td>\n",
       "      <td>Br</td>\n",
       "      <td>0.15</td>\n",
       "      <td>17.2</td>\n",
       "      <td>FA/MA</td>\n",
       "      <td>Pb</td>\n",
       "      <td>I/Br</td>\n",
       "      <td>0.9600</td>\n",
       "      <td>1.0</td>\n",
       "      <td>0.986</td>\n",
       "    </tr>\n",
       "    <tr>\n",
       "      <th>104</th>\n",
       "      <td>Al</td>\n",
       "      <td>0.00075</td>\n",
       "      <td>MA</td>\n",
       "      <td>0.99775</td>\n",
       "      <td>0</td>\n",
       "      <td>0</td>\n",
       "      <td>Pb</td>\n",
       "      <td>1</td>\n",
       "      <td>0</td>\n",
       "      <td>0</td>\n",
       "      <td>...</td>\n",
       "      <td>1</td>\n",
       "      <td>0</td>\n",
       "      <td>0</td>\n",
       "      <td>16.4</td>\n",
       "      <td>MA</td>\n",
       "      <td>Pb</td>\n",
       "      <td>I</td>\n",
       "      <td>0.9985</td>\n",
       "      <td>1.0</td>\n",
       "      <td>1.000</td>\n",
       "    </tr>\n",
       "    <tr>\n",
       "      <th>105</th>\n",
       "      <td>Al</td>\n",
       "      <td>0.0015</td>\n",
       "      <td>MA</td>\n",
       "      <td>0.9955</td>\n",
       "      <td>0</td>\n",
       "      <td>0</td>\n",
       "      <td>Pb</td>\n",
       "      <td>1</td>\n",
       "      <td>0</td>\n",
       "      <td>0</td>\n",
       "      <td>...</td>\n",
       "      <td>1</td>\n",
       "      <td>0</td>\n",
       "      <td>0</td>\n",
       "      <td>18.2</td>\n",
       "      <td>Al/MA</td>\n",
       "      <td>Pb</td>\n",
       "      <td>I</td>\n",
       "      <td>0.9970</td>\n",
       "      <td>1.0</td>\n",
       "      <td>1.000</td>\n",
       "    </tr>\n",
       "    <tr>\n",
       "      <th>106</th>\n",
       "      <td>Al</td>\n",
       "      <td>0.003</td>\n",
       "      <td>MA</td>\n",
       "      <td>0.991</td>\n",
       "      <td>0</td>\n",
       "      <td>0</td>\n",
       "      <td>Pb</td>\n",
       "      <td>1</td>\n",
       "      <td>0</td>\n",
       "      <td>0</td>\n",
       "      <td>...</td>\n",
       "      <td>1</td>\n",
       "      <td>0</td>\n",
       "      <td>0</td>\n",
       "      <td>16.6</td>\n",
       "      <td>Al/MA</td>\n",
       "      <td>Pb</td>\n",
       "      <td>I</td>\n",
       "      <td>0.9940</td>\n",
       "      <td>1.0</td>\n",
       "      <td>1.000</td>\n",
       "    </tr>\n",
       "    <tr>\n",
       "      <th>107</th>\n",
       "      <td>Al</td>\n",
       "      <td>0.0075</td>\n",
       "      <td>MA</td>\n",
       "      <td>0.9775</td>\n",
       "      <td>0</td>\n",
       "      <td>0</td>\n",
       "      <td>Pb</td>\n",
       "      <td>1</td>\n",
       "      <td>0</td>\n",
       "      <td>0</td>\n",
       "      <td>...</td>\n",
       "      <td>1</td>\n",
       "      <td>0</td>\n",
       "      <td>0</td>\n",
       "      <td>11.7</td>\n",
       "      <td>Al/MA</td>\n",
       "      <td>Pb</td>\n",
       "      <td>I</td>\n",
       "      <td>0.9850</td>\n",
       "      <td>1.0</td>\n",
       "      <td>1.000</td>\n",
       "    </tr>\n",
       "    <tr>\n",
       "      <th>108</th>\n",
       "      <td>Al</td>\n",
       "      <td>0.015</td>\n",
       "      <td>MA</td>\n",
       "      <td>0.955</td>\n",
       "      <td>0</td>\n",
       "      <td>0</td>\n",
       "      <td>Pb</td>\n",
       "      <td>1</td>\n",
       "      <td>0</td>\n",
       "      <td>0</td>\n",
       "      <td>...</td>\n",
       "      <td>1</td>\n",
       "      <td>0</td>\n",
       "      <td>0</td>\n",
       "      <td>6.7</td>\n",
       "      <td>Al/MA</td>\n",
       "      <td>Pb</td>\n",
       "      <td>I</td>\n",
       "      <td>0.9700</td>\n",
       "      <td>1.0</td>\n",
       "      <td>1.000</td>\n",
       "    </tr>\n",
       "  </tbody>\n",
       "</table>\n",
       "<p>12 rows × 21 columns</p>\n",
       "</div>"
      ],
      "text/plain": [
       "       A1 A1_ratio  A2 A2_ratio A3 A3_ratio  B1 B1_ratio B2 B2_ratio  ...    \\\n",
       "20   Al3+    0.075  MA      1.0  0        0  Pb        1  0        0  ...     \n",
       "21   Al3+     0.15  MA      1.0  0        0  Pb        1  0        0  ...     \n",
       "22   Al3+      0.3  MA      1.0  0        0  Pb        1  0        0  ...     \n",
       "23   Al3+     0.75  MA      1.0  0        0  Pb        1  0        0  ...     \n",
       "24   Al3+      1.5  MA      1.0  0        0  Pb        1  0        0  ...     \n",
       "67     FA     0.81  MA     0.15  0        0  Pb      1.0  0        0  ...     \n",
       "68     FA     0.81  MA     0.15  0        0  Pb      1.0  0        0  ...     \n",
       "104    Al  0.00075  MA  0.99775  0        0  Pb        1  0        0  ...     \n",
       "105    Al   0.0015  MA   0.9955  0        0  Pb        1  0        0  ...     \n",
       "106    Al    0.003  MA    0.991  0        0  Pb        1  0        0  ...     \n",
       "107    Al   0.0075  MA   0.9775  0        0  Pb        1  0        0  ...     \n",
       "108    Al    0.015  MA    0.955  0        0  Pb        1  0        0  ...     \n",
       "\n",
       "    X1_ratio  X2 X2_ratio   PCE      A   B      X   A_sum  B_sum  X_sum  \n",
       "20       1.0   0        0  13.6     MA  Pb      I  1.0750    1.0  1.000  \n",
       "21       1.0   0        0  15.8  Al/MA  Pb      I  1.1500    1.0  1.000  \n",
       "22       1.0   0        0  14.2  Al/MA  Pb      I  1.3000    1.0  1.000  \n",
       "23       1.0   0        0   9.8  Al/MA  Pb      I  1.7500    1.0  1.000  \n",
       "24       1.0   0        0   5.5  Al/MA  Pb      I  2.5000    1.0  1.000  \n",
       "67     0.836  Br     0.15  16.1  FA/Cs  Pb  I/SCN  0.9600    1.0  0.986  \n",
       "68     0.836  Br     0.15  17.2  FA/MA  Pb   I/Br  0.9600    1.0  0.986  \n",
       "104        1   0        0  16.4     MA  Pb      I  0.9985    1.0  1.000  \n",
       "105        1   0        0  18.2  Al/MA  Pb      I  0.9970    1.0  1.000  \n",
       "106        1   0        0  16.6  Al/MA  Pb      I  0.9940    1.0  1.000  \n",
       "107        1   0        0  11.7  Al/MA  Pb      I  0.9850    1.0  1.000  \n",
       "108        1   0        0   6.7  Al/MA  Pb      I  0.9700    1.0  1.000  \n",
       "\n",
       "[12 rows x 21 columns]"
      ]
     },
     "execution_count": 12,
     "metadata": {},
     "output_type": "execute_result"
    }
   ],
   "source": [
    "data1.loc[data1['A_sum']!=1]"
   ]
  },
  {
   "cell_type": "code",
   "execution_count": 13,
   "metadata": {
    "collapsed": false
   },
   "outputs": [
    {
     "data": {
      "text/html": [
       "<div>\n",
       "<table border=\"1\" class=\"dataframe\">\n",
       "  <thead>\n",
       "    <tr style=\"text-align: right;\">\n",
       "      <th></th>\n",
       "      <th>A1</th>\n",
       "      <th>A1_ratio</th>\n",
       "      <th>A2</th>\n",
       "      <th>A2_ratio</th>\n",
       "      <th>A3</th>\n",
       "      <th>A3_ratio</th>\n",
       "      <th>B1</th>\n",
       "      <th>B1_ratio</th>\n",
       "      <th>B2</th>\n",
       "      <th>B2_ratio</th>\n",
       "      <th>...</th>\n",
       "      <th>X1_ratio</th>\n",
       "      <th>X2</th>\n",
       "      <th>X2_ratio</th>\n",
       "      <th>PCE</th>\n",
       "      <th>A</th>\n",
       "      <th>B</th>\n",
       "      <th>X</th>\n",
       "      <th>A_sum</th>\n",
       "      <th>B_sum</th>\n",
       "      <th>X_sum</th>\n",
       "    </tr>\n",
       "  </thead>\n",
       "  <tbody>\n",
       "  </tbody>\n",
       "</table>\n",
       "<p>0 rows × 21 columns</p>\n",
       "</div>"
      ],
      "text/plain": [
       "Empty DataFrame\n",
       "Columns: [A1, A1_ratio, A2, A2_ratio, A3, A3_ratio, B1, B1_ratio, B2, B2_ratio, X1, X1_ratio, X2, X2_ratio, PCE, A, B, X, A_sum, B_sum, X_sum]\n",
       "Index: []\n",
       "\n",
       "[0 rows x 21 columns]"
      ]
     },
     "execution_count": 13,
     "metadata": {},
     "output_type": "execute_result"
    }
   ],
   "source": [
    "data1.loc[data1['B_sum']!=1]"
   ]
  },
  {
   "cell_type": "code",
   "execution_count": 14,
   "metadata": {
    "collapsed": false
   },
   "outputs": [
    {
     "data": {
      "text/html": [
       "<div>\n",
       "<table border=\"1\" class=\"dataframe\">\n",
       "  <thead>\n",
       "    <tr style=\"text-align: right;\">\n",
       "      <th></th>\n",
       "      <th>A1</th>\n",
       "      <th>A1_ratio</th>\n",
       "      <th>A2</th>\n",
       "      <th>A2_ratio</th>\n",
       "      <th>A3</th>\n",
       "      <th>A3_ratio</th>\n",
       "      <th>B1</th>\n",
       "      <th>B1_ratio</th>\n",
       "      <th>B2</th>\n",
       "      <th>B2_ratio</th>\n",
       "      <th>...</th>\n",
       "      <th>X1_ratio</th>\n",
       "      <th>X2</th>\n",
       "      <th>X2_ratio</th>\n",
       "      <th>PCE</th>\n",
       "      <th>A</th>\n",
       "      <th>B</th>\n",
       "      <th>X</th>\n",
       "      <th>A_sum</th>\n",
       "      <th>B_sum</th>\n",
       "      <th>X_sum</th>\n",
       "    </tr>\n",
       "  </thead>\n",
       "  <tbody>\n",
       "    <tr>\n",
       "      <th>36</th>\n",
       "      <td>MA</td>\n",
       "      <td>1.0</td>\n",
       "      <td>0</td>\n",
       "      <td>0</td>\n",
       "      <td>0</td>\n",
       "      <td>0</td>\n",
       "      <td>Pb</td>\n",
       "      <td>0.97</td>\n",
       "      <td>Sn</td>\n",
       "      <td>0.03</td>\n",
       "      <td>...</td>\n",
       "      <td>2.94</td>\n",
       "      <td>Br</td>\n",
       "      <td>0.06</td>\n",
       "      <td>5.24</td>\n",
       "      <td>MA/Cs</td>\n",
       "      <td>Pb</td>\n",
       "      <td>I</td>\n",
       "      <td>1.00</td>\n",
       "      <td>1.0</td>\n",
       "      <td>3.000</td>\n",
       "    </tr>\n",
       "    <tr>\n",
       "      <th>37</th>\n",
       "      <td>MA</td>\n",
       "      <td>1.0</td>\n",
       "      <td>0</td>\n",
       "      <td>0</td>\n",
       "      <td>0</td>\n",
       "      <td>0</td>\n",
       "      <td>PB</td>\n",
       "      <td>0.95</td>\n",
       "      <td>Sn</td>\n",
       "      <td>0.05</td>\n",
       "      <td>...</td>\n",
       "      <td>2.90</td>\n",
       "      <td>Br</td>\n",
       "      <td>0.10</td>\n",
       "      <td>7.59</td>\n",
       "      <td>MA</td>\n",
       "      <td>Pb/Sn</td>\n",
       "      <td>I/Br</td>\n",
       "      <td>1.00</td>\n",
       "      <td>1.0</td>\n",
       "      <td>3.000</td>\n",
       "    </tr>\n",
       "    <tr>\n",
       "      <th>38</th>\n",
       "      <td>MA</td>\n",
       "      <td>1.0</td>\n",
       "      <td>0</td>\n",
       "      <td>0</td>\n",
       "      <td>0</td>\n",
       "      <td>0</td>\n",
       "      <td>PB</td>\n",
       "      <td>0.90</td>\n",
       "      <td>Sn</td>\n",
       "      <td>0.10</td>\n",
       "      <td>...</td>\n",
       "      <td>2.80</td>\n",
       "      <td>Br</td>\n",
       "      <td>0.20</td>\n",
       "      <td>4.74</td>\n",
       "      <td>MA</td>\n",
       "      <td>Pb/Sn</td>\n",
       "      <td>I/Br</td>\n",
       "      <td>1.00</td>\n",
       "      <td>1.0</td>\n",
       "      <td>3.000</td>\n",
       "    </tr>\n",
       "    <tr>\n",
       "      <th>39</th>\n",
       "      <td>Ma</td>\n",
       "      <td>0.95</td>\n",
       "      <td>Cs</td>\n",
       "      <td>0.05</td>\n",
       "      <td>0</td>\n",
       "      <td>0</td>\n",
       "      <td>Pb</td>\n",
       "      <td>0.95</td>\n",
       "      <td>Sn</td>\n",
       "      <td>0.05</td>\n",
       "      <td>...</td>\n",
       "      <td>2.90</td>\n",
       "      <td>Br</td>\n",
       "      <td>0.10</td>\n",
       "      <td>8.25</td>\n",
       "      <td>MA</td>\n",
       "      <td>Pb/Sn</td>\n",
       "      <td>I/Br</td>\n",
       "      <td>1.00</td>\n",
       "      <td>1.0</td>\n",
       "      <td>3.000</td>\n",
       "    </tr>\n",
       "    <tr>\n",
       "      <th>40</th>\n",
       "      <td>MA</td>\n",
       "      <td>0.90</td>\n",
       "      <td>Cs</td>\n",
       "      <td>0.10</td>\n",
       "      <td>0</td>\n",
       "      <td>0</td>\n",
       "      <td>Pb</td>\n",
       "      <td>0.90</td>\n",
       "      <td>Sn</td>\n",
       "      <td>0.10</td>\n",
       "      <td>...</td>\n",
       "      <td>2.80</td>\n",
       "      <td>Br</td>\n",
       "      <td>0.20</td>\n",
       "      <td>6.50</td>\n",
       "      <td>MA/Cs</td>\n",
       "      <td>Pb/Sn</td>\n",
       "      <td>I/Br</td>\n",
       "      <td>1.00</td>\n",
       "      <td>1.0</td>\n",
       "      <td>3.000</td>\n",
       "    </tr>\n",
       "    <tr>\n",
       "      <th>41</th>\n",
       "      <td>Ma</td>\n",
       "      <td>0.95</td>\n",
       "      <td>Cs</td>\n",
       "      <td>0.05</td>\n",
       "      <td>0</td>\n",
       "      <td>0</td>\n",
       "      <td>Pb</td>\n",
       "      <td>0.95</td>\n",
       "      <td>Sn</td>\n",
       "      <td>0.05</td>\n",
       "      <td>...</td>\n",
       "      <td>2.85</td>\n",
       "      <td>Br</td>\n",
       "      <td>0.15</td>\n",
       "      <td>6.50</td>\n",
       "      <td>MA/Cs</td>\n",
       "      <td>Pb/Sn</td>\n",
       "      <td>I/Br</td>\n",
       "      <td>1.00</td>\n",
       "      <td>1.0</td>\n",
       "      <td>3.000</td>\n",
       "    </tr>\n",
       "    <tr>\n",
       "      <th>42</th>\n",
       "      <td>MA</td>\n",
       "      <td>0.90</td>\n",
       "      <td>Cs</td>\n",
       "      <td>0.10</td>\n",
       "      <td>0</td>\n",
       "      <td>0</td>\n",
       "      <td>Pb</td>\n",
       "      <td>0.90</td>\n",
       "      <td>Sn</td>\n",
       "      <td>0.10</td>\n",
       "      <td>...</td>\n",
       "      <td>2.70</td>\n",
       "      <td>Br</td>\n",
       "      <td>0.30</td>\n",
       "      <td>5.94</td>\n",
       "      <td>MA/Cs</td>\n",
       "      <td>Pb/Sn</td>\n",
       "      <td>I/Br</td>\n",
       "      <td>1.00</td>\n",
       "      <td>1.0</td>\n",
       "      <td>3.000</td>\n",
       "    </tr>\n",
       "    <tr>\n",
       "      <th>67</th>\n",
       "      <td>FA</td>\n",
       "      <td>0.81</td>\n",
       "      <td>MA</td>\n",
       "      <td>0.15</td>\n",
       "      <td>0</td>\n",
       "      <td>0</td>\n",
       "      <td>Pb</td>\n",
       "      <td>1.0</td>\n",
       "      <td>0</td>\n",
       "      <td>0</td>\n",
       "      <td>...</td>\n",
       "      <td>0.836</td>\n",
       "      <td>Br</td>\n",
       "      <td>0.15</td>\n",
       "      <td>16.10</td>\n",
       "      <td>FA/Cs</td>\n",
       "      <td>Pb</td>\n",
       "      <td>I/SCN</td>\n",
       "      <td>0.96</td>\n",
       "      <td>1.0</td>\n",
       "      <td>0.986</td>\n",
       "    </tr>\n",
       "    <tr>\n",
       "      <th>68</th>\n",
       "      <td>FA</td>\n",
       "      <td>0.81</td>\n",
       "      <td>MA</td>\n",
       "      <td>0.15</td>\n",
       "      <td>0</td>\n",
       "      <td>0</td>\n",
       "      <td>Pb</td>\n",
       "      <td>1.0</td>\n",
       "      <td>0</td>\n",
       "      <td>0</td>\n",
       "      <td>...</td>\n",
       "      <td>0.836</td>\n",
       "      <td>Br</td>\n",
       "      <td>0.15</td>\n",
       "      <td>17.20</td>\n",
       "      <td>FA/MA</td>\n",
       "      <td>Pb</td>\n",
       "      <td>I/Br</td>\n",
       "      <td>0.96</td>\n",
       "      <td>1.0</td>\n",
       "      <td>0.986</td>\n",
       "    </tr>\n",
       "    <tr>\n",
       "      <th>81</th>\n",
       "      <td>MA</td>\n",
       "      <td>1</td>\n",
       "      <td>0</td>\n",
       "      <td>0</td>\n",
       "      <td>0</td>\n",
       "      <td>0</td>\n",
       "      <td>Pb</td>\n",
       "      <td>0.97</td>\n",
       "      <td>Sb</td>\n",
       "      <td>0.03</td>\n",
       "      <td>...</td>\n",
       "      <td>0.98</td>\n",
       "      <td>Br</td>\n",
       "      <td>0.03</td>\n",
       "      <td>6.47</td>\n",
       "      <td>MA</td>\n",
       "      <td>Pb</td>\n",
       "      <td>I</td>\n",
       "      <td>1.00</td>\n",
       "      <td>1.0</td>\n",
       "      <td>1.010</td>\n",
       "    </tr>\n",
       "  </tbody>\n",
       "</table>\n",
       "<p>10 rows × 21 columns</p>\n",
       "</div>"
      ],
      "text/plain": [
       "    A1 A1_ratio  A2 A2_ratio A3 A3_ratio  B1 B1_ratio  B2 B2_ratio  ...    \\\n",
       "36  MA      1.0   0        0  0        0  Pb     0.97  Sn     0.03  ...     \n",
       "37  MA      1.0   0        0  0        0  PB     0.95  Sn     0.05  ...     \n",
       "38  MA      1.0   0        0  0        0  PB     0.90  Sn     0.10  ...     \n",
       "39  Ma     0.95  Cs     0.05  0        0  Pb     0.95  Sn     0.05  ...     \n",
       "40  MA     0.90  Cs     0.10  0        0  Pb     0.90  Sn     0.10  ...     \n",
       "41  Ma     0.95  Cs     0.05  0        0  Pb     0.95  Sn     0.05  ...     \n",
       "42  MA     0.90  Cs     0.10  0        0  Pb     0.90  Sn     0.10  ...     \n",
       "67  FA     0.81  MA     0.15  0        0  Pb      1.0   0        0  ...     \n",
       "68  FA     0.81  MA     0.15  0        0  Pb      1.0   0        0  ...     \n",
       "81  MA        1   0        0  0        0  Pb     0.97  Sb     0.03  ...     \n",
       "\n",
       "   X1_ratio  X2 X2_ratio    PCE      A      B      X A_sum  B_sum  X_sum  \n",
       "36     2.94  Br     0.06   5.24  MA/Cs     Pb      I  1.00    1.0  3.000  \n",
       "37     2.90  Br     0.10   7.59     MA  Pb/Sn   I/Br  1.00    1.0  3.000  \n",
       "38     2.80  Br     0.20   4.74     MA  Pb/Sn   I/Br  1.00    1.0  3.000  \n",
       "39     2.90  Br     0.10   8.25     MA  Pb/Sn   I/Br  1.00    1.0  3.000  \n",
       "40     2.80  Br     0.20   6.50  MA/Cs  Pb/Sn   I/Br  1.00    1.0  3.000  \n",
       "41     2.85  Br     0.15   6.50  MA/Cs  Pb/Sn   I/Br  1.00    1.0  3.000  \n",
       "42     2.70  Br     0.30   5.94  MA/Cs  Pb/Sn   I/Br  1.00    1.0  3.000  \n",
       "67    0.836  Br     0.15  16.10  FA/Cs     Pb  I/SCN  0.96    1.0  0.986  \n",
       "68    0.836  Br     0.15  17.20  FA/MA     Pb   I/Br  0.96    1.0  0.986  \n",
       "81     0.98  Br     0.03   6.47     MA     Pb      I  1.00    1.0  1.010  \n",
       "\n",
       "[10 rows x 21 columns]"
      ]
     },
     "execution_count": 14,
     "metadata": {},
     "output_type": "execute_result"
    }
   ],
   "source": [
    "data1.loc[data1['X_sum']!=1]"
   ]
  },
  {
   "cell_type": "code",
   "execution_count": 15,
   "metadata": {
    "collapsed": true
   },
   "outputs": [],
   "source": [
    "# load the dataframe with assigned ratio on A, B, and X site\n",
    "df = pd.read_csv('Ratio_dataframe.csv')"
   ]
  },
  {
   "cell_type": "code",
   "execution_count": 16,
   "metadata": {
    "collapsed": false
   },
   "outputs": [
    {
     "data": {
      "text/html": [
       "<div>\n",
       "<table border=\"1\" class=\"dataframe\">\n",
       "  <thead>\n",
       "    <tr style=\"text-align: right;\">\n",
       "      <th></th>\n",
       "      <th>MA/FA</th>\n",
       "      <th>MA</th>\n",
       "      <th>Al/MA</th>\n",
       "      <th>FA/Cs</th>\n",
       "      <th>MA/Cs</th>\n",
       "      <th>FA</th>\n",
       "      <th>MA/HA</th>\n",
       "      <th>FA/Rb</th>\n",
       "      <th>Cs</th>\n",
       "      <th>MA/Ag</th>\n",
       "      <th>...</th>\n",
       "      <th>Pb/Sr</th>\n",
       "      <th>Pb/Zn</th>\n",
       "      <th>Sn</th>\n",
       "      <th>Ge</th>\n",
       "      <th>I/Br</th>\n",
       "      <th>I</th>\n",
       "      <th>I/SCN</th>\n",
       "      <th>I/Cl</th>\n",
       "      <th>Br</th>\n",
       "      <th>PCE</th>\n",
       "    </tr>\n",
       "  </thead>\n",
       "  <tbody>\n",
       "    <tr>\n",
       "      <th>0</th>\n",
       "      <td>0.17</td>\n",
       "      <td>NaN</td>\n",
       "      <td>NaN</td>\n",
       "      <td>NaN</td>\n",
       "      <td>NaN</td>\n",
       "      <td>NaN</td>\n",
       "      <td>NaN</td>\n",
       "      <td>NaN</td>\n",
       "      <td>NaN</td>\n",
       "      <td>NaN</td>\n",
       "      <td>...</td>\n",
       "      <td>NaN</td>\n",
       "      <td>NaN</td>\n",
       "      <td>NaN</td>\n",
       "      <td>NaN</td>\n",
       "      <td>0.83</td>\n",
       "      <td>NaN</td>\n",
       "      <td>NaN</td>\n",
       "      <td>NaN</td>\n",
       "      <td>NaN</td>\n",
       "      <td>13.4</td>\n",
       "    </tr>\n",
       "    <tr>\n",
       "      <th>1</th>\n",
       "      <td>0.17</td>\n",
       "      <td>NaN</td>\n",
       "      <td>NaN</td>\n",
       "      <td>NaN</td>\n",
       "      <td>NaN</td>\n",
       "      <td>NaN</td>\n",
       "      <td>NaN</td>\n",
       "      <td>NaN</td>\n",
       "      <td>NaN</td>\n",
       "      <td>NaN</td>\n",
       "      <td>...</td>\n",
       "      <td>NaN</td>\n",
       "      <td>NaN</td>\n",
       "      <td>NaN</td>\n",
       "      <td>NaN</td>\n",
       "      <td>0.83</td>\n",
       "      <td>NaN</td>\n",
       "      <td>NaN</td>\n",
       "      <td>NaN</td>\n",
       "      <td>NaN</td>\n",
       "      <td>12.9</td>\n",
       "    </tr>\n",
       "    <tr>\n",
       "      <th>2</th>\n",
       "      <td>NaN</td>\n",
       "      <td>1.0</td>\n",
       "      <td>NaN</td>\n",
       "      <td>NaN</td>\n",
       "      <td>NaN</td>\n",
       "      <td>NaN</td>\n",
       "      <td>NaN</td>\n",
       "      <td>NaN</td>\n",
       "      <td>NaN</td>\n",
       "      <td>NaN</td>\n",
       "      <td>...</td>\n",
       "      <td>NaN</td>\n",
       "      <td>NaN</td>\n",
       "      <td>NaN</td>\n",
       "      <td>NaN</td>\n",
       "      <td>NaN</td>\n",
       "      <td>1.0</td>\n",
       "      <td>NaN</td>\n",
       "      <td>NaN</td>\n",
       "      <td>NaN</td>\n",
       "      <td>13.2</td>\n",
       "    </tr>\n",
       "    <tr>\n",
       "      <th>3</th>\n",
       "      <td>NaN</td>\n",
       "      <td>NaN</td>\n",
       "      <td>0.075</td>\n",
       "      <td>NaN</td>\n",
       "      <td>NaN</td>\n",
       "      <td>NaN</td>\n",
       "      <td>NaN</td>\n",
       "      <td>NaN</td>\n",
       "      <td>NaN</td>\n",
       "      <td>NaN</td>\n",
       "      <td>...</td>\n",
       "      <td>NaN</td>\n",
       "      <td>NaN</td>\n",
       "      <td>NaN</td>\n",
       "      <td>NaN</td>\n",
       "      <td>NaN</td>\n",
       "      <td>1.0</td>\n",
       "      <td>NaN</td>\n",
       "      <td>NaN</td>\n",
       "      <td>NaN</td>\n",
       "      <td>13.6</td>\n",
       "    </tr>\n",
       "    <tr>\n",
       "      <th>4</th>\n",
       "      <td>NaN</td>\n",
       "      <td>NaN</td>\n",
       "      <td>0.150</td>\n",
       "      <td>NaN</td>\n",
       "      <td>NaN</td>\n",
       "      <td>NaN</td>\n",
       "      <td>NaN</td>\n",
       "      <td>NaN</td>\n",
       "      <td>NaN</td>\n",
       "      <td>NaN</td>\n",
       "      <td>...</td>\n",
       "      <td>NaN</td>\n",
       "      <td>NaN</td>\n",
       "      <td>NaN</td>\n",
       "      <td>NaN</td>\n",
       "      <td>NaN</td>\n",
       "      <td>1.0</td>\n",
       "      <td>NaN</td>\n",
       "      <td>NaN</td>\n",
       "      <td>NaN</td>\n",
       "      <td>15.8</td>\n",
       "    </tr>\n",
       "  </tbody>\n",
       "</table>\n",
       "<p>5 rows × 29 columns</p>\n",
       "</div>"
      ],
      "text/plain": [
       "   MA/FA   MA  Al/MA  FA/Cs  MA/Cs  FA  MA/HA  FA/Rb  Cs  MA/Ag  ...   Pb/Sr  \\\n",
       "0   0.17  NaN    NaN    NaN    NaN NaN    NaN    NaN NaN    NaN  ...     NaN   \n",
       "1   0.17  NaN    NaN    NaN    NaN NaN    NaN    NaN NaN    NaN  ...     NaN   \n",
       "2    NaN  1.0    NaN    NaN    NaN NaN    NaN    NaN NaN    NaN  ...     NaN   \n",
       "3    NaN  NaN  0.075    NaN    NaN NaN    NaN    NaN NaN    NaN  ...     NaN   \n",
       "4    NaN  NaN  0.150    NaN    NaN NaN    NaN    NaN NaN    NaN  ...     NaN   \n",
       "\n",
       "   Pb/Zn  Sn  Ge  I/Br    I  I/SCN  I/Cl  Br   PCE  \n",
       "0    NaN NaN NaN  0.83  NaN    NaN   NaN NaN  13.4  \n",
       "1    NaN NaN NaN  0.83  NaN    NaN   NaN NaN  12.9  \n",
       "2    NaN NaN NaN   NaN  1.0    NaN   NaN NaN  13.2  \n",
       "3    NaN NaN NaN   NaN  1.0    NaN   NaN NaN  13.6  \n",
       "4    NaN NaN NaN   NaN  1.0    NaN   NaN NaN  15.8  \n",
       "\n",
       "[5 rows x 29 columns]"
      ]
     },
     "execution_count": 16,
     "metadata": {},
     "output_type": "execute_result"
    }
   ],
   "source": [
    "# use the ratio of first compound to represent the pair\n",
    "# for instance MA/FA = 0.17 means MA/FA = 0.17/0.83\n",
    "# the total ratio of each pair for A, B, and X sites should all equal to 1\n",
    "df.head()"
   ]
  },
  {
   "cell_type": "code",
   "execution_count": 17,
   "metadata": {
    "collapsed": false
   },
   "outputs": [
    {
     "data": {
      "text/html": [
       "<div>\n",
       "<table border=\"1\" class=\"dataframe\">\n",
       "  <thead>\n",
       "    <tr style=\"text-align: right;\">\n",
       "      <th></th>\n",
       "      <th>MA/FA</th>\n",
       "      <th>MA</th>\n",
       "      <th>Al/MA</th>\n",
       "      <th>FA/Cs</th>\n",
       "      <th>MA/Cs</th>\n",
       "      <th>FA</th>\n",
       "      <th>MA/HA</th>\n",
       "      <th>FA/Rb</th>\n",
       "      <th>Cs</th>\n",
       "      <th>MA/Ag</th>\n",
       "      <th>...</th>\n",
       "      <th>Pb/Sr</th>\n",
       "      <th>Pb/Zn</th>\n",
       "      <th>Sn</th>\n",
       "      <th>Ge</th>\n",
       "      <th>I/Br</th>\n",
       "      <th>I</th>\n",
       "      <th>I/SCN</th>\n",
       "      <th>I/Cl</th>\n",
       "      <th>Br</th>\n",
       "      <th>PCE</th>\n",
       "    </tr>\n",
       "  </thead>\n",
       "  <tbody>\n",
       "    <tr>\n",
       "      <th>0</th>\n",
       "      <td>0.17</td>\n",
       "      <td>0.0</td>\n",
       "      <td>0.000</td>\n",
       "      <td>0.0</td>\n",
       "      <td>0.0</td>\n",
       "      <td>0.0</td>\n",
       "      <td>0.0</td>\n",
       "      <td>0.0</td>\n",
       "      <td>0.0</td>\n",
       "      <td>0.0</td>\n",
       "      <td>...</td>\n",
       "      <td>0.0</td>\n",
       "      <td>0.0</td>\n",
       "      <td>0.0</td>\n",
       "      <td>0.0</td>\n",
       "      <td>0.83</td>\n",
       "      <td>0.0</td>\n",
       "      <td>0.0</td>\n",
       "      <td>0.0</td>\n",
       "      <td>0.0</td>\n",
       "      <td>13.4</td>\n",
       "    </tr>\n",
       "    <tr>\n",
       "      <th>1</th>\n",
       "      <td>0.17</td>\n",
       "      <td>0.0</td>\n",
       "      <td>0.000</td>\n",
       "      <td>0.0</td>\n",
       "      <td>0.0</td>\n",
       "      <td>0.0</td>\n",
       "      <td>0.0</td>\n",
       "      <td>0.0</td>\n",
       "      <td>0.0</td>\n",
       "      <td>0.0</td>\n",
       "      <td>...</td>\n",
       "      <td>0.0</td>\n",
       "      <td>0.0</td>\n",
       "      <td>0.0</td>\n",
       "      <td>0.0</td>\n",
       "      <td>0.83</td>\n",
       "      <td>0.0</td>\n",
       "      <td>0.0</td>\n",
       "      <td>0.0</td>\n",
       "      <td>0.0</td>\n",
       "      <td>12.9</td>\n",
       "    </tr>\n",
       "    <tr>\n",
       "      <th>2</th>\n",
       "      <td>0.00</td>\n",
       "      <td>1.0</td>\n",
       "      <td>0.000</td>\n",
       "      <td>0.0</td>\n",
       "      <td>0.0</td>\n",
       "      <td>0.0</td>\n",
       "      <td>0.0</td>\n",
       "      <td>0.0</td>\n",
       "      <td>0.0</td>\n",
       "      <td>0.0</td>\n",
       "      <td>...</td>\n",
       "      <td>0.0</td>\n",
       "      <td>0.0</td>\n",
       "      <td>0.0</td>\n",
       "      <td>0.0</td>\n",
       "      <td>0.00</td>\n",
       "      <td>1.0</td>\n",
       "      <td>0.0</td>\n",
       "      <td>0.0</td>\n",
       "      <td>0.0</td>\n",
       "      <td>13.2</td>\n",
       "    </tr>\n",
       "    <tr>\n",
       "      <th>3</th>\n",
       "      <td>0.00</td>\n",
       "      <td>0.0</td>\n",
       "      <td>0.075</td>\n",
       "      <td>0.0</td>\n",
       "      <td>0.0</td>\n",
       "      <td>0.0</td>\n",
       "      <td>0.0</td>\n",
       "      <td>0.0</td>\n",
       "      <td>0.0</td>\n",
       "      <td>0.0</td>\n",
       "      <td>...</td>\n",
       "      <td>0.0</td>\n",
       "      <td>0.0</td>\n",
       "      <td>0.0</td>\n",
       "      <td>0.0</td>\n",
       "      <td>0.00</td>\n",
       "      <td>1.0</td>\n",
       "      <td>0.0</td>\n",
       "      <td>0.0</td>\n",
       "      <td>0.0</td>\n",
       "      <td>13.6</td>\n",
       "    </tr>\n",
       "    <tr>\n",
       "      <th>4</th>\n",
       "      <td>0.00</td>\n",
       "      <td>0.0</td>\n",
       "      <td>0.150</td>\n",
       "      <td>0.0</td>\n",
       "      <td>0.0</td>\n",
       "      <td>0.0</td>\n",
       "      <td>0.0</td>\n",
       "      <td>0.0</td>\n",
       "      <td>0.0</td>\n",
       "      <td>0.0</td>\n",
       "      <td>...</td>\n",
       "      <td>0.0</td>\n",
       "      <td>0.0</td>\n",
       "      <td>0.0</td>\n",
       "      <td>0.0</td>\n",
       "      <td>0.00</td>\n",
       "      <td>1.0</td>\n",
       "      <td>0.0</td>\n",
       "      <td>0.0</td>\n",
       "      <td>0.0</td>\n",
       "      <td>15.8</td>\n",
       "    </tr>\n",
       "  </tbody>\n",
       "</table>\n",
       "<p>5 rows × 29 columns</p>\n",
       "</div>"
      ],
      "text/plain": [
       "   MA/FA   MA  Al/MA  FA/Cs  MA/Cs   FA  MA/HA  FA/Rb   Cs  MA/Ag  ...   \\\n",
       "0   0.17  0.0  0.000    0.0    0.0  0.0    0.0    0.0  0.0    0.0  ...    \n",
       "1   0.17  0.0  0.000    0.0    0.0  0.0    0.0    0.0  0.0    0.0  ...    \n",
       "2   0.00  1.0  0.000    0.0    0.0  0.0    0.0    0.0  0.0    0.0  ...    \n",
       "3   0.00  0.0  0.075    0.0    0.0  0.0    0.0    0.0  0.0    0.0  ...    \n",
       "4   0.00  0.0  0.150    0.0    0.0  0.0    0.0    0.0  0.0    0.0  ...    \n",
       "\n",
       "   Pb/Sr  Pb/Zn   Sn   Ge  I/Br    I  I/SCN  I/Cl   Br   PCE  \n",
       "0    0.0    0.0  0.0  0.0  0.83  0.0    0.0   0.0  0.0  13.4  \n",
       "1    0.0    0.0  0.0  0.0  0.83  0.0    0.0   0.0  0.0  12.9  \n",
       "2    0.0    0.0  0.0  0.0  0.00  1.0    0.0   0.0  0.0  13.2  \n",
       "3    0.0    0.0  0.0  0.0  0.00  1.0    0.0   0.0  0.0  13.6  \n",
       "4    0.0    0.0  0.0  0.0  0.00  1.0    0.0   0.0  0.0  15.8  \n",
       "\n",
       "[5 rows x 29 columns]"
      ]
     },
     "execution_count": 17,
     "metadata": {},
     "output_type": "execute_result"
    }
   ],
   "source": [
    "# replace NA with 0\n",
    "df1 = df.fillna(0)\n",
    "df1.head()"
   ]
  },
  {
   "cell_type": "code",
   "execution_count": 18,
   "metadata": {
    "collapsed": false
   },
   "outputs": [
    {
     "data": {
      "text/plain": [
       "MA/FA     0.17\n",
       "MA        0.00\n",
       "Al/MA     0.00\n",
       "FA/Cs     0.00\n",
       "MA/Cs     0.00\n",
       "FA        0.00\n",
       "MA/HA     0.00\n",
       "FA/Rb     0.00\n",
       "Cs        0.00\n",
       "MA/Ag     0.00\n",
       "Pb        1.00\n",
       "Pb/Sn     0.00\n",
       "Pb/Sb     0.00\n",
       "Pb/Co     0.00\n",
       "Pb/Cu     0.00\n",
       "Pb/Fe     0.00\n",
       "Pb/Mg     0.00\n",
       "Pb/Mn     0.00\n",
       "Pb/Ni     0.00\n",
       "Pb/Sr     0.00\n",
       "Pb/Zn     0.00\n",
       "Sn        0.00\n",
       "Ge        0.00\n",
       "I/Br      0.83\n",
       "I         0.00\n",
       "I/SCN     0.00\n",
       "I/Cl      0.00\n",
       "Br        0.00\n",
       "PCE      12.90\n",
       "Name: 1, dtype: float64"
      ]
     },
     "execution_count": 18,
     "metadata": {},
     "output_type": "execute_result"
    }
   ],
   "source": [
    "df1.loc[1]"
   ]
  },
  {
   "cell_type": "code",
   "execution_count": 19,
   "metadata": {
    "collapsed": false
   },
   "outputs": [
    {
     "data": {
      "text/html": [
       "<div>\n",
       "<table border=\"1\" class=\"dataframe\">\n",
       "  <thead>\n",
       "    <tr style=\"text-align: right;\">\n",
       "      <th></th>\n",
       "      <th>MA/FA</th>\n",
       "      <th>MA</th>\n",
       "      <th>Al/MA</th>\n",
       "      <th>FA/Cs</th>\n",
       "      <th>MA/Cs</th>\n",
       "      <th>FA</th>\n",
       "      <th>MA/HA</th>\n",
       "      <th>FA/Rb</th>\n",
       "      <th>Cs</th>\n",
       "      <th>MA/Ag</th>\n",
       "      <th>...</th>\n",
       "      <th>Pb/Ni</th>\n",
       "      <th>Pb/Sr</th>\n",
       "      <th>Pb/Zn</th>\n",
       "      <th>Sn</th>\n",
       "      <th>Ge</th>\n",
       "      <th>I/Br</th>\n",
       "      <th>I</th>\n",
       "      <th>I/SCN</th>\n",
       "      <th>I/Cl</th>\n",
       "      <th>Br</th>\n",
       "    </tr>\n",
       "  </thead>\n",
       "  <tbody>\n",
       "    <tr>\n",
       "      <th>0</th>\n",
       "      <td>1.0</td>\n",
       "      <td>0.0</td>\n",
       "      <td>0.0</td>\n",
       "      <td>0.0</td>\n",
       "      <td>0.0</td>\n",
       "      <td>0.0</td>\n",
       "      <td>0.0</td>\n",
       "      <td>0.0</td>\n",
       "      <td>0.0</td>\n",
       "      <td>0.0</td>\n",
       "      <td>...</td>\n",
       "      <td>0.0</td>\n",
       "      <td>0.0</td>\n",
       "      <td>0.0</td>\n",
       "      <td>0.0</td>\n",
       "      <td>0.0</td>\n",
       "      <td>1.0</td>\n",
       "      <td>0.0</td>\n",
       "      <td>0.0</td>\n",
       "      <td>0.0</td>\n",
       "      <td>0.0</td>\n",
       "    </tr>\n",
       "    <tr>\n",
       "      <th>1</th>\n",
       "      <td>1.0</td>\n",
       "      <td>0.0</td>\n",
       "      <td>0.0</td>\n",
       "      <td>0.0</td>\n",
       "      <td>0.0</td>\n",
       "      <td>0.0</td>\n",
       "      <td>0.0</td>\n",
       "      <td>0.0</td>\n",
       "      <td>0.0</td>\n",
       "      <td>0.0</td>\n",
       "      <td>...</td>\n",
       "      <td>0.0</td>\n",
       "      <td>0.0</td>\n",
       "      <td>0.0</td>\n",
       "      <td>0.0</td>\n",
       "      <td>0.0</td>\n",
       "      <td>1.0</td>\n",
       "      <td>0.0</td>\n",
       "      <td>0.0</td>\n",
       "      <td>0.0</td>\n",
       "      <td>0.0</td>\n",
       "    </tr>\n",
       "    <tr>\n",
       "      <th>2</th>\n",
       "      <td>0.0</td>\n",
       "      <td>1.0</td>\n",
       "      <td>0.0</td>\n",
       "      <td>0.0</td>\n",
       "      <td>0.0</td>\n",
       "      <td>0.0</td>\n",
       "      <td>0.0</td>\n",
       "      <td>0.0</td>\n",
       "      <td>0.0</td>\n",
       "      <td>0.0</td>\n",
       "      <td>...</td>\n",
       "      <td>0.0</td>\n",
       "      <td>0.0</td>\n",
       "      <td>0.0</td>\n",
       "      <td>0.0</td>\n",
       "      <td>0.0</td>\n",
       "      <td>0.0</td>\n",
       "      <td>1.0</td>\n",
       "      <td>0.0</td>\n",
       "      <td>0.0</td>\n",
       "      <td>0.0</td>\n",
       "    </tr>\n",
       "    <tr>\n",
       "      <th>3</th>\n",
       "      <td>0.0</td>\n",
       "      <td>0.0</td>\n",
       "      <td>1.0</td>\n",
       "      <td>0.0</td>\n",
       "      <td>0.0</td>\n",
       "      <td>0.0</td>\n",
       "      <td>0.0</td>\n",
       "      <td>0.0</td>\n",
       "      <td>0.0</td>\n",
       "      <td>0.0</td>\n",
       "      <td>...</td>\n",
       "      <td>0.0</td>\n",
       "      <td>0.0</td>\n",
       "      <td>0.0</td>\n",
       "      <td>0.0</td>\n",
       "      <td>0.0</td>\n",
       "      <td>0.0</td>\n",
       "      <td>1.0</td>\n",
       "      <td>0.0</td>\n",
       "      <td>0.0</td>\n",
       "      <td>0.0</td>\n",
       "    </tr>\n",
       "    <tr>\n",
       "      <th>4</th>\n",
       "      <td>0.0</td>\n",
       "      <td>0.0</td>\n",
       "      <td>1.0</td>\n",
       "      <td>0.0</td>\n",
       "      <td>0.0</td>\n",
       "      <td>0.0</td>\n",
       "      <td>0.0</td>\n",
       "      <td>0.0</td>\n",
       "      <td>0.0</td>\n",
       "      <td>0.0</td>\n",
       "      <td>...</td>\n",
       "      <td>0.0</td>\n",
       "      <td>0.0</td>\n",
       "      <td>0.0</td>\n",
       "      <td>0.0</td>\n",
       "      <td>0.0</td>\n",
       "      <td>0.0</td>\n",
       "      <td>1.0</td>\n",
       "      <td>0.0</td>\n",
       "      <td>0.0</td>\n",
       "      <td>0.0</td>\n",
       "    </tr>\n",
       "  </tbody>\n",
       "</table>\n",
       "<p>5 rows × 28 columns</p>\n",
       "</div>"
      ],
      "text/plain": [
       "   MA/FA   MA  Al/MA  FA/Cs  MA/Cs   FA  MA/HA  FA/Rb   Cs  MA/Ag ...   Pb/Ni  \\\n",
       "0    1.0  0.0    0.0    0.0    0.0  0.0    0.0    0.0  0.0    0.0 ...     0.0   \n",
       "1    1.0  0.0    0.0    0.0    0.0  0.0    0.0    0.0  0.0    0.0 ...     0.0   \n",
       "2    0.0  1.0    0.0    0.0    0.0  0.0    0.0    0.0  0.0    0.0 ...     0.0   \n",
       "3    0.0  0.0    1.0    0.0    0.0  0.0    0.0    0.0  0.0    0.0 ...     0.0   \n",
       "4    0.0  0.0    1.0    0.0    0.0  0.0    0.0    0.0  0.0    0.0 ...     0.0   \n",
       "\n",
       "   Pb/Sr  Pb/Zn   Sn   Ge  I/Br    I  I/SCN  I/Cl   Br  \n",
       "0    0.0    0.0  0.0  0.0   1.0  0.0    0.0   0.0  0.0  \n",
       "1    0.0    0.0  0.0  0.0   1.0  0.0    0.0   0.0  0.0  \n",
       "2    0.0    0.0  0.0  0.0   0.0  1.0    0.0   0.0  0.0  \n",
       "3    0.0    0.0  0.0  0.0   0.0  1.0    0.0   0.0  0.0  \n",
       "4    0.0    0.0  0.0  0.0   0.0  1.0    0.0   0.0  0.0  \n",
       "\n",
       "[5 rows x 28 columns]"
      ]
     },
     "execution_count": 19,
     "metadata": {},
     "output_type": "execute_result"
    }
   ],
   "source": [
    "# replce all non-zero values to 1 except last 'PCE' column\n",
    "df2 = df1.drop('PCE', axis=1)\n",
    "df2[df2 != 0] = 1\n",
    "df2.head()"
   ]
  },
  {
   "cell_type": "code",
   "execution_count": 20,
   "metadata": {
    "collapsed": false
   },
   "outputs": [
    {
     "data": {
      "text/html": [
       "<div>\n",
       "<table border=\"1\" class=\"dataframe\">\n",
       "  <thead>\n",
       "    <tr style=\"text-align: right;\">\n",
       "      <th></th>\n",
       "      <th>MA/FA</th>\n",
       "      <th>MA</th>\n",
       "      <th>Al/MA</th>\n",
       "      <th>FA/Cs</th>\n",
       "      <th>MA/Cs</th>\n",
       "      <th>FA</th>\n",
       "      <th>MA/HA</th>\n",
       "      <th>FA/Rb</th>\n",
       "      <th>Cs</th>\n",
       "      <th>MA/Ag</th>\n",
       "      <th>...</th>\n",
       "      <th>Pb/Sr</th>\n",
       "      <th>Pb/Zn</th>\n",
       "      <th>Sn</th>\n",
       "      <th>Ge</th>\n",
       "      <th>I/Br</th>\n",
       "      <th>I</th>\n",
       "      <th>I/SCN</th>\n",
       "      <th>I/Cl</th>\n",
       "      <th>Br</th>\n",
       "      <th>PCE</th>\n",
       "    </tr>\n",
       "  </thead>\n",
       "  <tbody>\n",
       "    <tr>\n",
       "      <th>0</th>\n",
       "      <td>1.0</td>\n",
       "      <td>0.0</td>\n",
       "      <td>0.0</td>\n",
       "      <td>0.0</td>\n",
       "      <td>0.0</td>\n",
       "      <td>0.0</td>\n",
       "      <td>0.0</td>\n",
       "      <td>0.0</td>\n",
       "      <td>0.0</td>\n",
       "      <td>0.0</td>\n",
       "      <td>...</td>\n",
       "      <td>0.0</td>\n",
       "      <td>0.0</td>\n",
       "      <td>0.0</td>\n",
       "      <td>0.0</td>\n",
       "      <td>1.0</td>\n",
       "      <td>0.0</td>\n",
       "      <td>0.0</td>\n",
       "      <td>0.0</td>\n",
       "      <td>0.0</td>\n",
       "      <td>13.4</td>\n",
       "    </tr>\n",
       "    <tr>\n",
       "      <th>1</th>\n",
       "      <td>1.0</td>\n",
       "      <td>0.0</td>\n",
       "      <td>0.0</td>\n",
       "      <td>0.0</td>\n",
       "      <td>0.0</td>\n",
       "      <td>0.0</td>\n",
       "      <td>0.0</td>\n",
       "      <td>0.0</td>\n",
       "      <td>0.0</td>\n",
       "      <td>0.0</td>\n",
       "      <td>...</td>\n",
       "      <td>0.0</td>\n",
       "      <td>0.0</td>\n",
       "      <td>0.0</td>\n",
       "      <td>0.0</td>\n",
       "      <td>1.0</td>\n",
       "      <td>0.0</td>\n",
       "      <td>0.0</td>\n",
       "      <td>0.0</td>\n",
       "      <td>0.0</td>\n",
       "      <td>12.9</td>\n",
       "    </tr>\n",
       "    <tr>\n",
       "      <th>2</th>\n",
       "      <td>0.0</td>\n",
       "      <td>1.0</td>\n",
       "      <td>0.0</td>\n",
       "      <td>0.0</td>\n",
       "      <td>0.0</td>\n",
       "      <td>0.0</td>\n",
       "      <td>0.0</td>\n",
       "      <td>0.0</td>\n",
       "      <td>0.0</td>\n",
       "      <td>0.0</td>\n",
       "      <td>...</td>\n",
       "      <td>0.0</td>\n",
       "      <td>0.0</td>\n",
       "      <td>0.0</td>\n",
       "      <td>0.0</td>\n",
       "      <td>0.0</td>\n",
       "      <td>1.0</td>\n",
       "      <td>0.0</td>\n",
       "      <td>0.0</td>\n",
       "      <td>0.0</td>\n",
       "      <td>13.2</td>\n",
       "    </tr>\n",
       "    <tr>\n",
       "      <th>3</th>\n",
       "      <td>0.0</td>\n",
       "      <td>0.0</td>\n",
       "      <td>1.0</td>\n",
       "      <td>0.0</td>\n",
       "      <td>0.0</td>\n",
       "      <td>0.0</td>\n",
       "      <td>0.0</td>\n",
       "      <td>0.0</td>\n",
       "      <td>0.0</td>\n",
       "      <td>0.0</td>\n",
       "      <td>...</td>\n",
       "      <td>0.0</td>\n",
       "      <td>0.0</td>\n",
       "      <td>0.0</td>\n",
       "      <td>0.0</td>\n",
       "      <td>0.0</td>\n",
       "      <td>1.0</td>\n",
       "      <td>0.0</td>\n",
       "      <td>0.0</td>\n",
       "      <td>0.0</td>\n",
       "      <td>13.6</td>\n",
       "    </tr>\n",
       "    <tr>\n",
       "      <th>4</th>\n",
       "      <td>0.0</td>\n",
       "      <td>0.0</td>\n",
       "      <td>1.0</td>\n",
       "      <td>0.0</td>\n",
       "      <td>0.0</td>\n",
       "      <td>0.0</td>\n",
       "      <td>0.0</td>\n",
       "      <td>0.0</td>\n",
       "      <td>0.0</td>\n",
       "      <td>0.0</td>\n",
       "      <td>...</td>\n",
       "      <td>0.0</td>\n",
       "      <td>0.0</td>\n",
       "      <td>0.0</td>\n",
       "      <td>0.0</td>\n",
       "      <td>0.0</td>\n",
       "      <td>1.0</td>\n",
       "      <td>0.0</td>\n",
       "      <td>0.0</td>\n",
       "      <td>0.0</td>\n",
       "      <td>15.8</td>\n",
       "    </tr>\n",
       "  </tbody>\n",
       "</table>\n",
       "<p>5 rows × 29 columns</p>\n",
       "</div>"
      ],
      "text/plain": [
       "   MA/FA   MA  Al/MA  FA/Cs  MA/Cs   FA  MA/HA  FA/Rb   Cs  MA/Ag  ...   \\\n",
       "0    1.0  0.0    0.0    0.0    0.0  0.0    0.0    0.0  0.0    0.0  ...    \n",
       "1    1.0  0.0    0.0    0.0    0.0  0.0    0.0    0.0  0.0    0.0  ...    \n",
       "2    0.0  1.0    0.0    0.0    0.0  0.0    0.0    0.0  0.0    0.0  ...    \n",
       "3    0.0  0.0    1.0    0.0    0.0  0.0    0.0    0.0  0.0    0.0  ...    \n",
       "4    0.0  0.0    1.0    0.0    0.0  0.0    0.0    0.0  0.0    0.0  ...    \n",
       "\n",
       "   Pb/Sr  Pb/Zn   Sn   Ge  I/Br    I  I/SCN  I/Cl   Br   PCE  \n",
       "0    0.0    0.0  0.0  0.0   1.0  0.0    0.0   0.0  0.0  13.4  \n",
       "1    0.0    0.0  0.0  0.0   1.0  0.0    0.0   0.0  0.0  12.9  \n",
       "2    0.0    0.0  0.0  0.0   0.0  1.0    0.0   0.0  0.0  13.2  \n",
       "3    0.0    0.0  0.0  0.0   0.0  1.0    0.0   0.0  0.0  13.6  \n",
       "4    0.0    0.0  0.0  0.0   0.0  1.0    0.0   0.0  0.0  15.8  \n",
       "\n",
       "[5 rows x 29 columns]"
      ]
     },
     "execution_count": 20,
     "metadata": {},
     "output_type": "execute_result"
    }
   ],
   "source": [
    "df2['PCE'] = df1.PCE\n",
    "df2.head()"
   ]
  },
  {
   "cell_type": "code",
   "execution_count": 21,
   "metadata": {
    "collapsed": false
   },
   "outputs": [
    {
     "data": {
      "text/plain": [
       "MA/FA     1.0\n",
       "MA        0.0\n",
       "Al/MA     0.0\n",
       "FA/Cs     0.0\n",
       "MA/Cs     0.0\n",
       "FA        0.0\n",
       "MA/HA     0.0\n",
       "FA/Rb     0.0\n",
       "Cs        0.0\n",
       "MA/Ag     0.0\n",
       "Pb        1.0\n",
       "Pb/Sn     0.0\n",
       "Pb/Sb     0.0\n",
       "Pb/Co     0.0\n",
       "Pb/Cu     0.0\n",
       "Pb/Fe     0.0\n",
       "Pb/Mg     0.0\n",
       "Pb/Mn     0.0\n",
       "Pb/Ni     0.0\n",
       "Pb/Sr     0.0\n",
       "Pb/Zn     0.0\n",
       "Sn        0.0\n",
       "Ge        0.0\n",
       "I/Br      1.0\n",
       "I         0.0\n",
       "I/SCN     0.0\n",
       "I/Cl      0.0\n",
       "Br        0.0\n",
       "PCE      12.9\n",
       "Name: 1, dtype: float64"
      ]
     },
     "execution_count": 21,
     "metadata": {},
     "output_type": "execute_result"
    }
   ],
   "source": [
    "df2.loc[1]"
   ]
  },
  {
   "cell_type": "code",
   "execution_count": 22,
   "metadata": {
    "collapsed": false
   },
   "outputs": [
    {
     "data": {
      "text/html": [
       "<div>\n",
       "<table border=\"1\" class=\"dataframe\">\n",
       "  <thead>\n",
       "    <tr style=\"text-align: right;\">\n",
       "      <th></th>\n",
       "      <th>MA/FA</th>\n",
       "      <th>MA</th>\n",
       "      <th>Al/MA</th>\n",
       "      <th>FA/Cs</th>\n",
       "      <th>MA/Cs</th>\n",
       "      <th>FA</th>\n",
       "      <th>MA/HA</th>\n",
       "      <th>FA/Rb</th>\n",
       "      <th>Cs</th>\n",
       "      <th>MA/Ag</th>\n",
       "      <th>...</th>\n",
       "      <th>Pb/Sr</th>\n",
       "      <th>Pb/Zn</th>\n",
       "      <th>Sn</th>\n",
       "      <th>Ge</th>\n",
       "      <th>I/Br</th>\n",
       "      <th>I</th>\n",
       "      <th>I/SCN</th>\n",
       "      <th>I/Cl</th>\n",
       "      <th>Br</th>\n",
       "      <th>PCE</th>\n",
       "    </tr>\n",
       "  </thead>\n",
       "  <tbody>\n",
       "    <tr>\n",
       "      <th>0</th>\n",
       "      <td>0.17</td>\n",
       "      <td>0.0</td>\n",
       "      <td>0.000</td>\n",
       "      <td>0.0</td>\n",
       "      <td>0.0</td>\n",
       "      <td>0.0</td>\n",
       "      <td>0.0</td>\n",
       "      <td>0.0</td>\n",
       "      <td>0.0</td>\n",
       "      <td>0.0</td>\n",
       "      <td>...</td>\n",
       "      <td>0.0</td>\n",
       "      <td>0.0</td>\n",
       "      <td>0.0</td>\n",
       "      <td>0.0</td>\n",
       "      <td>0.83</td>\n",
       "      <td>0.0</td>\n",
       "      <td>0.0</td>\n",
       "      <td>0.0</td>\n",
       "      <td>0.0</td>\n",
       "      <td>13.4</td>\n",
       "    </tr>\n",
       "    <tr>\n",
       "      <th>1</th>\n",
       "      <td>0.17</td>\n",
       "      <td>0.0</td>\n",
       "      <td>0.000</td>\n",
       "      <td>0.0</td>\n",
       "      <td>0.0</td>\n",
       "      <td>0.0</td>\n",
       "      <td>0.0</td>\n",
       "      <td>0.0</td>\n",
       "      <td>0.0</td>\n",
       "      <td>0.0</td>\n",
       "      <td>...</td>\n",
       "      <td>0.0</td>\n",
       "      <td>0.0</td>\n",
       "      <td>0.0</td>\n",
       "      <td>0.0</td>\n",
       "      <td>0.83</td>\n",
       "      <td>0.0</td>\n",
       "      <td>0.0</td>\n",
       "      <td>0.0</td>\n",
       "      <td>0.0</td>\n",
       "      <td>12.9</td>\n",
       "    </tr>\n",
       "    <tr>\n",
       "      <th>2</th>\n",
       "      <td>0.00</td>\n",
       "      <td>1.0</td>\n",
       "      <td>0.000</td>\n",
       "      <td>0.0</td>\n",
       "      <td>0.0</td>\n",
       "      <td>0.0</td>\n",
       "      <td>0.0</td>\n",
       "      <td>0.0</td>\n",
       "      <td>0.0</td>\n",
       "      <td>0.0</td>\n",
       "      <td>...</td>\n",
       "      <td>0.0</td>\n",
       "      <td>0.0</td>\n",
       "      <td>0.0</td>\n",
       "      <td>0.0</td>\n",
       "      <td>0.00</td>\n",
       "      <td>1.0</td>\n",
       "      <td>0.0</td>\n",
       "      <td>0.0</td>\n",
       "      <td>0.0</td>\n",
       "      <td>13.2</td>\n",
       "    </tr>\n",
       "    <tr>\n",
       "      <th>3</th>\n",
       "      <td>0.00</td>\n",
       "      <td>0.0</td>\n",
       "      <td>0.075</td>\n",
       "      <td>0.0</td>\n",
       "      <td>0.0</td>\n",
       "      <td>0.0</td>\n",
       "      <td>0.0</td>\n",
       "      <td>0.0</td>\n",
       "      <td>0.0</td>\n",
       "      <td>0.0</td>\n",
       "      <td>...</td>\n",
       "      <td>0.0</td>\n",
       "      <td>0.0</td>\n",
       "      <td>0.0</td>\n",
       "      <td>0.0</td>\n",
       "      <td>0.00</td>\n",
       "      <td>1.0</td>\n",
       "      <td>0.0</td>\n",
       "      <td>0.0</td>\n",
       "      <td>0.0</td>\n",
       "      <td>13.6</td>\n",
       "    </tr>\n",
       "    <tr>\n",
       "      <th>4</th>\n",
       "      <td>0.00</td>\n",
       "      <td>0.0</td>\n",
       "      <td>0.150</td>\n",
       "      <td>0.0</td>\n",
       "      <td>0.0</td>\n",
       "      <td>0.0</td>\n",
       "      <td>0.0</td>\n",
       "      <td>0.0</td>\n",
       "      <td>0.0</td>\n",
       "      <td>0.0</td>\n",
       "      <td>...</td>\n",
       "      <td>0.0</td>\n",
       "      <td>0.0</td>\n",
       "      <td>0.0</td>\n",
       "      <td>0.0</td>\n",
       "      <td>0.00</td>\n",
       "      <td>1.0</td>\n",
       "      <td>0.0</td>\n",
       "      <td>0.0</td>\n",
       "      <td>0.0</td>\n",
       "      <td>15.8</td>\n",
       "    </tr>\n",
       "  </tbody>\n",
       "</table>\n",
       "<p>5 rows × 29 columns</p>\n",
       "</div>"
      ],
      "text/plain": [
       "   MA/FA   MA  Al/MA  FA/Cs  MA/Cs   FA  MA/HA  FA/Rb   Cs  MA/Ag  ...   \\\n",
       "0   0.17  0.0  0.000    0.0    0.0  0.0    0.0    0.0  0.0    0.0  ...    \n",
       "1   0.17  0.0  0.000    0.0    0.0  0.0    0.0    0.0  0.0    0.0  ...    \n",
       "2   0.00  1.0  0.000    0.0    0.0  0.0    0.0    0.0  0.0    0.0  ...    \n",
       "3   0.00  0.0  0.075    0.0    0.0  0.0    0.0    0.0  0.0    0.0  ...    \n",
       "4   0.00  0.0  0.150    0.0    0.0  0.0    0.0    0.0  0.0    0.0  ...    \n",
       "\n",
       "   Pb/Sr  Pb/Zn   Sn   Ge  I/Br    I  I/SCN  I/Cl   Br   PCE  \n",
       "0    0.0    0.0  0.0  0.0  0.83  0.0    0.0   0.0  0.0  13.4  \n",
       "1    0.0    0.0  0.0  0.0  0.83  0.0    0.0   0.0  0.0  12.9  \n",
       "2    0.0    0.0  0.0  0.0  0.00  1.0    0.0   0.0  0.0  13.2  \n",
       "3    0.0    0.0  0.0  0.0  0.00  1.0    0.0   0.0  0.0  13.6  \n",
       "4    0.0    0.0  0.0  0.0  0.00  1.0    0.0   0.0  0.0  15.8  \n",
       "\n",
       "[5 rows x 29 columns]"
      ]
     },
     "execution_count": 22,
     "metadata": {},
     "output_type": "execute_result"
    }
   ],
   "source": [
    "df1.head()"
   ]
  },
  {
   "cell_type": "code",
   "execution_count": 23,
   "metadata": {
    "collapsed": false
   },
   "outputs": [
    {
     "data": {
      "text/plain": [
       "231"
      ]
     },
     "execution_count": 23,
     "metadata": {},
     "output_type": "execute_result"
    }
   ],
   "source": [
    "len(df1)"
   ]
  },
  {
   "cell_type": "code",
   "execution_count": 54,
   "metadata": {
    "collapsed": false
   },
   "outputs": [
    {
     "data": {
      "text/plain": [
       "['MA/FA',\n",
       " 'MA',\n",
       " 'Al/MA',\n",
       " 'FA/Cs',\n",
       " 'MA/Cs',\n",
       " 'FA',\n",
       " 'MA/HA',\n",
       " 'FA/Rb',\n",
       " 'Cs',\n",
       " 'MA/Ag',\n",
       " 'Pb',\n",
       " 'Pb/Sn',\n",
       " 'Pb/Sb',\n",
       " 'Pb/Co',\n",
       " 'Pb/Cu',\n",
       " 'Pb/Fe',\n",
       " 'Pb/Mg',\n",
       " 'Pb/Mn',\n",
       " 'Pb/Ni',\n",
       " 'Pb/Sr',\n",
       " 'Pb/Zn',\n",
       " 'Sn',\n",
       " 'Ge',\n",
       " 'I/Br',\n",
       " 'I',\n",
       " 'I/SCN',\n",
       " 'I/Cl',\n",
       " 'Br',\n",
       " 'PCE']"
      ]
     },
     "execution_count": 54,
     "metadata": {},
     "output_type": "execute_result"
    }
   ],
   "source": [
    "list(df1)"
   ]
  },
  {
   "cell_type": "code",
   "execution_count": 52,
   "metadata": {
    "collapsed": false
   },
   "outputs": [
    {
     "data": {
      "text/plain": [
       "<bound method NDFrame.as_matrix of      MA/FA   MA  Al/MA  FA/Cs  MA/Cs   FA  MA/HA  FA/Rb   Cs  MA/Ag  ...    \\\n",
       "0    0.170  0.0  0.000   0.00   0.00  0.0    0.0    0.0  0.0  0.000  ...     \n",
       "1    0.170  0.0  0.000   0.00   0.00  0.0    0.0    0.0  0.0  0.000  ...     \n",
       "2    0.000  1.0  0.000   0.00   0.00  0.0    0.0    0.0  0.0  0.000  ...     \n",
       "3    0.000  0.0  0.075   0.00   0.00  0.0    0.0    0.0  0.0  0.000  ...     \n",
       "4    0.000  0.0  0.150   0.00   0.00  0.0    0.0    0.0  0.0  0.000  ...     \n",
       "5    0.000  0.0  0.300   0.00   0.00  0.0    0.0    0.0  0.0  0.000  ...     \n",
       "6    0.000  0.0  0.750   0.00   0.00  0.0    0.0    0.0  0.0  0.000  ...     \n",
       "7    0.000  0.0  1.500   0.00   0.00  0.0    0.0    0.0  0.0  0.000  ...     \n",
       "8    0.000  0.0  0.000   0.83   0.00  0.0    0.0    0.0  0.0  0.000  ...     \n",
       "9    0.000  1.0  0.000   0.00   0.00  0.0    0.0    0.0  0.0  0.000  ...     \n",
       "10   0.000  1.0  0.000   0.00   0.00  0.0    0.0    0.0  0.0  0.000  ...     \n",
       "11   0.000  1.0  0.000   0.00   0.00  0.0    0.0    0.0  0.0  0.000  ...     \n",
       "12   0.000  1.0  0.000   0.00   0.00  0.0    0.0    0.0  0.0  0.000  ...     \n",
       "13   0.000  1.0  0.000   0.00   0.00  0.0    0.0    0.0  0.0  0.000  ...     \n",
       "14   0.050  0.0  0.000   0.00   0.00  0.0    0.0    0.0  0.0  0.000  ...     \n",
       "15   0.150  0.0  0.000   0.00   0.00  0.0    0.0    0.0  0.0  0.000  ...     \n",
       "16   0.000  1.0  0.000   0.00   0.00  0.0    0.0    0.0  0.0  0.000  ...     \n",
       "17   0.000  0.0  0.000   0.00   0.95  0.0    0.0    0.0  0.0  0.000  ...     \n",
       "18   0.000  1.0  0.000   0.00   0.00  0.0    0.0    0.0  0.0  0.000  ...     \n",
       "19   0.000  1.0  0.000   0.00   0.00  0.0    0.0    0.0  0.0  0.000  ...     \n",
       "20   0.000  1.0  0.000   0.00   0.00  0.0    0.0    0.0  0.0  0.000  ...     \n",
       "21   0.000  0.0  0.000   0.00   0.95  0.0    0.0    0.0  0.0  0.000  ...     \n",
       "22   0.000  0.0  0.000   0.00   0.90  0.0    0.0    0.0  0.0  0.000  ...     \n",
       "23   0.000  0.0  0.000   0.00   0.95  0.0    0.0    0.0  0.0  0.000  ...     \n",
       "24   0.000  0.0  0.000   0.00   0.90  0.0    0.0    0.0  0.0  0.000  ...     \n",
       "25   0.110  0.0  0.000   0.00   0.00  0.0    0.0    0.0  0.0  0.000  ...     \n",
       "26   0.160  0.0  0.000   0.00   0.00  0.0    0.0    0.0  0.0  0.000  ...     \n",
       "27   0.220  0.0  0.000   0.00   0.00  0.0    0.0    0.0  0.0  0.000  ...     \n",
       "28   0.660  0.0  0.000   0.00   0.00  0.0    0.0    0.0  0.0  0.000  ...     \n",
       "29   0.330  0.0  0.000   0.00   0.00  0.0    0.0    0.0  0.0  0.000  ...     \n",
       "..     ...  ...    ...    ...    ...  ...    ...    ...  ...    ...  ...     \n",
       "201  0.667  0.0  0.000   0.00   0.00  0.0    0.0    0.0  0.0  0.000  ...     \n",
       "202  0.833  0.0  0.000   0.00   0.00  0.0    0.0    0.0  0.0  0.000  ...     \n",
       "203  0.000  1.0  0.000   0.00   0.00  0.0    0.0    0.0  0.0  0.000  ...     \n",
       "204  0.000  0.0  0.000   0.00   0.00  1.0    0.0    0.0  0.0  0.000  ...     \n",
       "205  0.167  0.0  0.000   0.00   0.00  0.0    0.0    0.0  0.0  0.000  ...     \n",
       "206  0.333  0.0  0.000   0.00   0.00  0.0    0.0    0.0  0.0  0.000  ...     \n",
       "207  0.500  0.0  0.000   0.00   0.00  0.0    0.0    0.0  0.0  0.000  ...     \n",
       "208  0.667  0.0  0.000   0.00   0.00  0.0    0.0    0.0  0.0  0.000  ...     \n",
       "209  0.833  0.0  0.000   0.00   0.00  0.0    0.0    0.0  0.0  0.000  ...     \n",
       "210  0.000  1.0  0.000   0.00   0.00  0.0    0.0    0.0  0.0  0.000  ...     \n",
       "211  0.000  1.0  0.000   0.00   0.00  0.0    0.0    0.0  0.0  0.000  ...     \n",
       "212  0.750  0.0  0.000   0.00   0.00  0.0    0.0    0.0  0.0  0.000  ...     \n",
       "213  0.500  0.0  0.000   0.00   0.00  0.0    0.0    0.0  0.0  0.000  ...     \n",
       "214  0.250  0.0  0.000   0.00   0.00  0.0    0.0    0.0  0.0  0.000  ...     \n",
       "215  0.000  0.0  0.000   0.00   0.00  1.0    0.0    0.0  0.0  0.000  ...     \n",
       "216  0.000  1.0  0.000   0.00   0.00  0.0    0.0    0.0  0.0  0.000  ...     \n",
       "217  0.000  1.0  0.000   0.00   0.00  0.0    0.0    0.0  0.0  0.000  ...     \n",
       "218  0.000  1.0  0.000   0.00   0.00  0.0    0.0    0.0  0.0  0.000  ...     \n",
       "219  0.000  1.0  0.000   0.00   0.00  0.0    0.0    0.0  0.0  0.000  ...     \n",
       "220  0.000  1.0  0.000   0.00   0.00  0.0    0.0    0.0  0.0  0.000  ...     \n",
       "221  0.500  0.0  0.000   0.00   0.00  0.0    0.0    0.0  0.0  0.000  ...     \n",
       "222  0.000  1.0  0.000   0.00   0.00  0.0    0.0    0.0  0.0  0.000  ...     \n",
       "223  0.000  1.0  0.000   0.00   0.00  0.0    0.0    0.0  0.0  0.000  ...     \n",
       "224  0.000  0.0  0.000   0.00   0.00  0.0    0.0    0.0  0.0  0.995  ...     \n",
       "225  0.000  0.0  0.000   0.00   0.00  0.0    0.0    0.0  0.0  0.990  ...     \n",
       "226  0.000  0.0  0.000   0.00   0.00  0.0    0.0    0.0  0.0  0.975  ...     \n",
       "227  0.000  0.0  0.000   0.00   0.00  0.0    0.0    0.0  0.0  0.950  ...     \n",
       "228  0.000  1.0  0.000   0.00   0.00  0.0    0.0    0.0  0.0  0.000  ...     \n",
       "229  0.000  1.0  0.000   0.00   0.00  0.0    0.0    0.0  0.0  0.000  ...     \n",
       "230  0.000  1.0  0.000   0.00   0.00  0.0    0.0    0.0  0.0  0.000  ...     \n",
       "\n",
       "     Pb/Sr  Pb/Zn   Sn   Ge   I/Br    I  I/SCN   I/Cl   Br    PCE  \n",
       "0    0.000    0.0  0.0  0.0  0.830  0.0    0.0  0.000  0.0  13.40  \n",
       "1    0.000    0.0  0.0  0.0  0.830  0.0    0.0  0.000  0.0  12.90  \n",
       "2    0.000    0.0  0.0  0.0  0.000  1.0    0.0  0.000  0.0  13.20  \n",
       "3    0.000    0.0  0.0  0.0  0.000  1.0    0.0  0.000  0.0  13.60  \n",
       "4    0.000    0.0  0.0  0.0  0.000  1.0    0.0  0.000  0.0  15.80  \n",
       "5    0.000    0.0  0.0  0.0  0.000  1.0    0.0  0.000  0.0  14.20  \n",
       "6    0.000    0.0  0.0  0.0  0.000  1.0    0.0  0.000  0.0   9.80  \n",
       "7    0.000    0.0  0.0  0.0  0.000  1.0    0.0  0.000  0.0   5.50  \n",
       "8    0.000    0.0  0.0  0.0  0.600  0.0    0.0  0.000  0.0  16.80  \n",
       "9    0.000    0.0  0.0  0.0  0.000  1.0    0.0  0.000  0.0   7.50  \n",
       "10   0.000    0.0  0.0  0.0  0.970  0.0    0.0  0.000  0.0  11.20  \n",
       "11   0.000    0.0  0.0  0.0  0.890  0.0    0.0  0.000  0.0  15.80  \n",
       "12   0.000    0.0  0.0  0.0  0.800  0.0    0.0  0.000  0.0  13.80  \n",
       "13   0.000    0.0  0.0  0.0  0.710  0.0    0.0  0.000  0.0   4.60  \n",
       "14   0.000    0.0  0.0  0.0  0.950  0.0    0.0  0.000  0.0  10.10  \n",
       "15   0.000    0.0  0.0  0.0  0.850  0.0    0.0  0.000  0.0  10.90  \n",
       "16   0.000    0.0  0.0  0.0  0.000  1.0    0.0  0.000  0.0   3.38  \n",
       "17   0.000    0.0  0.0  0.0  0.000  1.0    0.0  0.000  0.0   6.59  \n",
       "18   0.000    0.0  0.0  0.0  0.980  0.0    0.0  0.000  0.0   5.24  \n",
       "19   0.000    0.0  0.0  0.0  0.967  0.0    0.0  0.000  0.0   7.59  \n",
       "20   0.000    0.0  0.0  0.0  0.933  0.0    0.0  0.000  0.0   4.74  \n",
       "21   0.000    0.0  0.0  0.0  0.967  0.0    0.0  0.000  0.0   8.25  \n",
       "22   0.000    0.0  0.0  0.0  0.933  0.0    0.0  0.000  0.0   6.50  \n",
       "23   0.000    0.0  0.0  0.0  0.950  0.0    0.0  0.000  0.0   6.50  \n",
       "24   0.000    0.0  0.0  0.0  0.900  0.0    0.0  0.000  0.0   5.94  \n",
       "25   0.000    0.0  0.0  0.0  0.890  0.0    0.0  0.000  0.0  17.80  \n",
       "26   0.000    0.0  0.0  0.0  0.840  0.0    0.0  0.000  0.0  18.30  \n",
       "27   0.000    0.0  0.0  0.0  0.780  0.0    0.0  0.000  0.0  17.00  \n",
       "28   0.000    0.0  0.0  0.0  0.340  0.0    0.0  0.000  0.0  15.90  \n",
       "29   0.000    0.0  0.0  0.0  0.670  0.0    0.0  0.000  0.0  14.90  \n",
       "..     ...    ...  ...  ...    ...  ...    ...    ...  ...    ...  \n",
       "201  0.000    0.0  0.0  0.0  0.167  0.0    0.0  0.000  0.0   2.90  \n",
       "202  0.000    0.0  0.0  0.0  0.167  0.0    0.0  0.000  0.0   2.30  \n",
       "203  0.000    0.0  0.0  0.0  0.167  0.0    0.0  0.000  0.0   3.50  \n",
       "204  0.000    0.0  0.0  0.0  0.000  0.0    0.0  0.000  1.0   5.00  \n",
       "205  0.000    0.0  0.0  0.0  0.000  0.0    0.0  0.000  1.0   6.50  \n",
       "206  0.000    0.0  0.0  0.0  0.000  0.0    0.0  0.000  1.0   5.50  \n",
       "207  0.000    0.0  0.0  0.0  0.000  0.0    0.0  0.000  1.0   7.10  \n",
       "208  0.000    0.0  0.0  0.0  0.000  0.0    0.0  0.000  1.0   6.40  \n",
       "209  0.000    0.0  0.0  0.0  0.000  0.0    0.0  0.000  1.0   7.10  \n",
       "210  0.000    0.0  0.0  0.0  0.000  0.0    0.0  0.000  1.0   5.60  \n",
       "211  0.000    0.0  0.0  0.0  0.000  1.0    0.0  0.000  0.0  14.35  \n",
       "212  0.000    0.0  0.0  0.0  0.000  1.0    0.0  0.000  0.0  13.87  \n",
       "213  0.000    0.0  0.0  0.0  0.000  1.0    0.0  0.000  0.0  14.19  \n",
       "214  0.000    0.0  0.0  0.0  0.000  1.0    0.0  0.000  0.0   7.53  \n",
       "215  0.000    0.0  0.0  0.0  0.000  1.0    0.0  0.000  0.0   7.32  \n",
       "216  0.000    0.0  0.0  0.0  0.000  1.0    0.0  0.000  0.0  14.07  \n",
       "217  0.000    0.0  0.0  0.0  0.000  1.0    0.0  0.000  0.0  14.35  \n",
       "218  0.000    0.0  0.0  0.0  0.000  1.0    0.0  0.000  0.0   3.68  \n",
       "219  0.000    0.0  0.0  0.0  0.000  1.0    0.0  0.000  0.0   2.36  \n",
       "220  0.000    0.0  1.0  0.0  0.000  1.0    0.0  0.000  0.0   0.26  \n",
       "221  0.000    0.0  0.0  0.0  0.000  1.0    0.0  0.000  0.0  14.01  \n",
       "222  0.833    0.0  0.0  0.0  0.000  0.0    0.0  0.833  0.0  15.90  \n",
       "223  0.000    0.0  0.0  0.0  0.000  1.0    0.0  0.000  0.0  16.00  \n",
       "224  0.000    0.0  0.0  0.0  0.000  1.0    0.0  0.000  0.0  18.40  \n",
       "225  0.000    0.0  0.0  0.0  0.000  1.0    0.0  0.000  0.0  17.90  \n",
       "226  0.000    0.0  0.0  0.0  0.000  1.0    0.0  0.000  0.0  15.20  \n",
       "227  0.000    0.0  0.0  0.0  0.000  1.0    0.0  0.000  0.0  13.00  \n",
       "228  0.000    0.0  0.0  0.0  0.000  1.0    0.0  0.000  0.0   3.85  \n",
       "229  0.000    0.0  0.0  0.0  0.000  0.0    0.0  0.600  0.0   6.15  \n",
       "230  0.000    0.0  0.0  0.0  0.000  0.0    0.0  0.333  0.0   3.85  \n",
       "\n",
       "[231 rows x 29 columns]>"
      ]
     },
     "execution_count": 52,
     "metadata": {},
     "output_type": "execute_result"
    }
   ],
   "source": [
    "df1.as_matrix\n"
   ]
  },
  {
   "cell_type": "code",
   "execution_count": 25,
   "metadata": {
    "collapsed": false
   },
   "outputs": [],
   "source": [
    "y=df1['PCE'].values"
   ]
  },
  {
   "cell_type": "code",
   "execution_count": 26,
   "metadata": {
    "collapsed": false
   },
   "outputs": [
    {
     "data": {
      "text/plain": [
       "array([  1.34000000e+01,   1.29000000e+01,   1.32000000e+01,\n",
       "         1.36000000e+01,   1.58000000e+01,   1.42000000e+01,\n",
       "         9.80000000e+00,   5.50000000e+00,   1.68000000e+01,\n",
       "         7.50000000e+00,   1.12000000e+01,   1.58000000e+01,\n",
       "         1.38000000e+01,   4.60000000e+00,   1.01000000e+01,\n",
       "         1.09000000e+01,   3.38000000e+00,   6.59000000e+00,\n",
       "         5.24000000e+00,   7.59000000e+00,   4.74000000e+00,\n",
       "         8.25000000e+00,   6.50000000e+00,   6.50000000e+00,\n",
       "         5.94000000e+00,   1.78000000e+01,   1.83000000e+01,\n",
       "         1.70000000e+01,   1.59000000e+01,   1.49000000e+01,\n",
       "         1.45000000e+01,   1.49000000e+01,   1.59000000e+01,\n",
       "         1.27000000e+01,   1.45700000e+01,   1.52700000e+01,\n",
       "         1.55800000e+01,   1.57800000e+01,   1.64800000e+01,\n",
       "         1.56700000e+01,   1.39700000e+01,   1.56400000e+01,\n",
       "         1.62000000e+01,   1.37200000e+01,   1.10100000e+01,\n",
       "         8.80000000e+00,   1.05000000e+01,   1.11000000e+01,\n",
       "         3.50000000e+00,   1.61000000e+01,   1.72000000e+01,\n",
       "         1.50800000e+01,   1.57000000e+01,   1.64200000e+01,\n",
       "         1.43100000e+01,   1.68400000e+01,   1.74100000e+01,\n",
       "         1.81400000e+01,   1.77400000e+01,   1.66800000e+01,\n",
       "         1.64800000e+01,   5.46000000e+00,   6.47000000e+00,\n",
       "         1.01000000e+01,   1.03000000e+01,   1.16000000e+01,\n",
       "         1.00000000e+01,   7.20000000e+00,   5.50000000e+00,\n",
       "         1.90000000e+00,   1.35600000e+01,   1.71600000e+01,\n",
       "         1.55700000e+01,   1.33000000e+01,   1.24500000e+01,\n",
       "         1.55100000e+01,   8.80000000e+00,   1.93000000e+01,\n",
       "         2.08000000e+01,   1.98000000e+01,   2.00000000e+01,\n",
       "         1.92000000e+01,   1.22000000e+01,   1.09000000e+01,\n",
       "         1.58000000e+01,   1.64000000e+01,   1.82000000e+01,\n",
       "         1.66000000e+01,   1.17000000e+01,   6.70000000e+00,\n",
       "         1.56000000e+01,   1.63100000e+01,   1.67500000e+01,\n",
       "         1.80200000e+01,   1.71100000e+01,   3.83000000e+00,\n",
       "         1.02700000e+01,   1.13700000e+01,   1.11100000e+01,\n",
       "         1.02100000e+01,   8.66000000e+00,   4.14000000e+00,\n",
       "         1.01400000e+01,   8.37000000e+00,   6.57000000e+00,\n",
       "         5.46000000e+00,   8.29000000e+00,   1.78000000e+00,\n",
       "         1.75000000e+00,   2.29000000e+00,   1.00000000e-02,\n",
       "         2.20000000e-01,   9.37000000e+00,   9.71000000e+00,\n",
       "         7.11000000e+00,   1.74000000e+00,   7.60000000e-01,\n",
       "         1.03800000e+01,   1.00200000e+01,   7.17000000e+00,\n",
       "         4.30000000e+00,   6.80000000e-01,   9.95000000e+00,\n",
       "         8.53000000e+00,   6.01000000e+00,   6.00000000e-02,\n",
       "         4.00000000e-02,   2.32000000e+00,   5.30000000e+00,\n",
       "         2.38000000e+00,   4.89000000e+00,   9.25000000e+00,\n",
       "         1.08100000e+01,   9.29000000e+00,   5.58000000e+00,\n",
       "         1.16000000e+00,   2.10000000e-01,   1.06200000e+01,\n",
       "         1.04100000e+01,   7.69000000e+00,   9.88000000e+00,\n",
       "         6.04000000e+00,   5.23000000e+00,   5.48000000e+00,\n",
       "         5.73000000e+00,   4.27000000e+00,   6.07000000e+00,\n",
       "         1.10000000e-01,   2.00000000e-01,   5.80000000e+00,\n",
       "         1.21000000e+01,   1.18000000e+01,   1.30000000e+01,\n",
       "         1.47000000e+01,   1.27000000e+01,   1.05000000e+01,\n",
       "         9.60000000e+00,   8.90000000e+00,   7.80000000e+00,\n",
       "         1.04000000e+01,   1.56900000e+01,   1.73500000e+01,\n",
       "         4.80000000e+00,   1.21000000e+01,   1.39000000e+01,\n",
       "         1.28000000e+01,   1.43000000e+01,   1.18000000e+01,\n",
       "         1.03000000e+01,   9.60000000e+00,   1.74000000e+01,\n",
       "         2.07000000e+01,   1.29000000e+01,   1.10000000e+01,\n",
       "         1.60000000e+01,   1.32000000e+01,   1.90000000e+00,\n",
       "         1.47000000e+01,   1.85000000e+01,   1.53000000e+01,\n",
       "         1.75000000e+01,   1.22000000e+01,   8.50000000e+00,\n",
       "         3.70000000e+00,   1.14000000e+01,   1.17000000e+01,\n",
       "         1.19000000e+01,   1.07000000e+01,   8.70000000e+00,\n",
       "         8.60000000e+00,   7.50000000e+00,   5.80000000e+00,\n",
       "         5.60000000e+00,   7.90000000e+00,   6.20000000e+00,\n",
       "         3.50000000e+00,   6.30000000e+00,   5.00000000e+00,\n",
       "         3.30000000e+00,   3.40000000e+00,   3.90000000e+00,\n",
       "         2.90000000e+00,   2.30000000e+00,   3.50000000e+00,\n",
       "         5.00000000e+00,   6.50000000e+00,   5.50000000e+00,\n",
       "         7.10000000e+00,   6.40000000e+00,   7.10000000e+00,\n",
       "         5.60000000e+00,   1.43500000e+01,   1.38700000e+01,\n",
       "         1.41900000e+01,   7.53000000e+00,   7.32000000e+00,\n",
       "         1.40700000e+01,   1.43500000e+01,   3.68000000e+00,\n",
       "         2.36000000e+00,   2.60000000e-01,   1.40100000e+01,\n",
       "         1.59000000e+01,   1.60000000e+01,   1.84000000e+01,\n",
       "         1.79000000e+01,   1.52000000e+01,   1.30000000e+01,\n",
       "         3.85000000e+00,   6.15000000e+00,   3.85000000e+00])"
      ]
     },
     "execution_count": 26,
     "metadata": {},
     "output_type": "execute_result"
    }
   ],
   "source": [
    "y"
   ]
  },
  {
   "cell_type": "code",
   "execution_count": 27,
   "metadata": {
    "collapsed": false
   },
   "outputs": [],
   "source": [
    "tmpdf1=df1.drop(['PCE'],axis=1)"
   ]
  },
  {
   "cell_type": "code",
   "execution_count": 28,
   "metadata": {
    "collapsed": false
   },
   "outputs": [],
   "source": [
    "X=tmpdf1.as_matrix()"
   ]
  },
  {
   "cell_type": "code",
   "execution_count": 29,
   "metadata": {
    "collapsed": false
   },
   "outputs": [
    {
     "data": {
      "text/plain": [
       "numpy.ndarray"
      ]
     },
     "execution_count": 29,
     "metadata": {},
     "output_type": "execute_result"
    }
   ],
   "source": [
    "type(X)"
   ]
  },
  {
   "cell_type": "code",
   "execution_count": 30,
   "metadata": {
    "collapsed": false
   },
   "outputs": [
    {
     "data": {
      "text/plain": [
       "(231, 28)"
      ]
     },
     "execution_count": 30,
     "metadata": {},
     "output_type": "execute_result"
    }
   ],
   "source": [
    "X.shape"
   ]
  },
  {
   "cell_type": "code",
   "execution_count": 31,
   "metadata": {
    "collapsed": false
   },
   "outputs": [
    {
     "data": {
      "text/plain": [
       "(231,)"
      ]
     },
     "execution_count": 31,
     "metadata": {},
     "output_type": "execute_result"
    }
   ],
   "source": [
    "y.shape"
   ]
  },
  {
   "cell_type": "code",
   "execution_count": 5,
   "metadata": {
    "collapsed": true
   },
   "outputs": [],
   "source": [
    "from sklearn.model_selection import train_test_split"
   ]
  },
  {
   "cell_type": "code",
   "execution_count": 33,
   "metadata": {
    "collapsed": false
   },
   "outputs": [],
   "source": [
    "X_train,X_test,y_train,y_test = train_test_split(X,y,test_size=0.10)"
   ]
  },
  {
   "cell_type": "code",
   "execution_count": 34,
   "metadata": {
    "collapsed": false
   },
   "outputs": [
    {
     "data": {
      "text/plain": [
       "array([ 17.11,  14.31,  10.27,  18.4 ,  10.62,   6.5 ,   4.8 ,  12.8 ,\n",
       "        15.67,  10.21,  11.1 ,   2.3 ,  12.2 ,   8.9 ,  10.9 ,   3.3 ,\n",
       "        11.  ,   7.5 ,  15.2 ,   8.5 ,  11.8 ,  16.68,   8.8 ,  17.16])"
      ]
     },
     "execution_count": 34,
     "metadata": {},
     "output_type": "execute_result"
    }
   ],
   "source": [
    "y_test"
   ]
  },
  {
   "cell_type": "code",
   "execution_count": 4,
   "metadata": {
    "collapsed": true
   },
   "outputs": [],
   "source": [
    "from sklearn.linear_model import Lasso"
   ]
  },
  {
   "cell_type": "code",
   "execution_count": 36,
   "metadata": {
    "collapsed": true
   },
   "outputs": [],
   "source": [
    "from sklearn.model_selection import GridSearchCV"
   ]
  },
  {
   "cell_type": "code",
   "execution_count": 37,
   "metadata": {
    "collapsed": false
   },
   "outputs": [
    {
     "data": {
      "text/plain": [
       "array([  1.75000000e+01,   3.50000000e+00,   5.73000000e+00,\n",
       "         1.04100000e+01,   4.14000000e+00,   1.90000000e+00,\n",
       "         3.83000000e+00,   6.40000000e+00,   1.55100000e+01,\n",
       "         1.79000000e+01,   3.68000000e+00,   1.58000000e+01,\n",
       "         1.17000000e+01,   5.58000000e+00,   3.40000000e+00,\n",
       "         9.25000000e+00,   1.82000000e+01,   1.21000000e+01,\n",
       "         1.00000000e+01,   1.90000000e+00,   1.35600000e+01,\n",
       "         3.38000000e+00,   2.08000000e+01,   1.56000000e+01,\n",
       "         1.50800000e+01,   1.43000000e+01,   1.16000000e+01,\n",
       "         6.70000000e+00,   1.45700000e+01,   5.00000000e+00,\n",
       "         4.00000000e-02,   1.09000000e+01,   1.56900000e+01,\n",
       "         1.11100000e+01,   1.19000000e+01,   1.66000000e+01,\n",
       "         7.32000000e+00,   2.10000000e-01,   6.00000000e-02,\n",
       "         2.00000000e+01,   1.33000000e+01,   2.29000000e+00,\n",
       "         1.16000000e+00,   1.36000000e+01,   1.59000000e+01,\n",
       "         1.74100000e+01,   1.30000000e+01,   5.23000000e+00,\n",
       "         2.00000000e-01,   1.40700000e+01,   6.01000000e+00,\n",
       "         1.72000000e+01,   5.00000000e+00,   5.60000000e+00,\n",
       "         1.63100000e+01,   6.57000000e+00,   7.80000000e+00,\n",
       "         1.03800000e+01,   1.38700000e+01,   1.39000000e+01,\n",
       "         1.01000000e+01,   1.10000000e-01,   1.93000000e+01,\n",
       "         1.05000000e+01,   2.07000000e+01,   1.64000000e+01,\n",
       "         5.80000000e+00,   1.07000000e+01,   1.14000000e+01,\n",
       "         1.68400000e+01,   1.49000000e+01,   7.90000000e+00,\n",
       "         4.89000000e+00,   7.59000000e+00,   7.17000000e+00,\n",
       "         5.94000000e+00,   5.60000000e+00,   9.95000000e+00,\n",
       "         1.92000000e+01,   1.10100000e+01,   1.27000000e+01,\n",
       "         5.46000000e+00,   6.50000000e+00,   1.56400000e+01,\n",
       "         1.08100000e+01,   4.60000000e+00,   5.50000000e+00,\n",
       "         7.20000000e+00,   8.70000000e+00,   1.45000000e+01,\n",
       "         6.07000000e+00,   2.20000000e-01,   1.37200000e+01,\n",
       "         1.38000000e+01,   1.49000000e+01,   6.80000000e-01,\n",
       "         5.50000000e+00,   1.74000000e+01,   6.04000000e+00,\n",
       "         1.00000000e-02,   1.40100000e+01,   7.11000000e+00,\n",
       "         2.32000000e+00,   1.03000000e+01,   1.74000000e+00,\n",
       "         1.61000000e+01,   1.64200000e+01,   1.98000000e+01,\n",
       "         7.60000000e-01,   1.12000000e+01,   1.32000000e+01,\n",
       "         1.57000000e+01,   3.85000000e+00,   8.80000000e+00,\n",
       "         1.39700000e+01,   3.90000000e+00,   6.30000000e+00,\n",
       "         7.53000000e+00,   2.38000000e+00,   1.78000000e+01,\n",
       "         3.85000000e+00,   1.13700000e+01,   8.53000000e+00,\n",
       "         1.18000000e+01,   1.29000000e+01,   1.67500000e+01,\n",
       "         1.53000000e+01,   2.90000000e+00,   7.10000000e+00,\n",
       "         1.80200000e+01,   4.27000000e+00,   1.22000000e+01,\n",
       "         5.50000000e+00,   7.69000000e+00,   1.75000000e+00,\n",
       "         1.05000000e+01,   1.57800000e+01,   1.60000000e+01,\n",
       "         9.60000000e+00,   5.46000000e+00,   8.37000000e+00,\n",
       "         3.50000000e+00,   1.03000000e+01,   1.24500000e+01,\n",
       "         1.43500000e+01,   8.25000000e+00,   6.20000000e+00,\n",
       "         1.64800000e+01,   1.43500000e+01,   1.01400000e+01,\n",
       "         1.85000000e+01,   4.30000000e+00,   7.50000000e+00,\n",
       "         9.37000000e+00,   8.29000000e+00,   1.58000000e+01,\n",
       "         1.30000000e+01,   1.83000000e+01,   1.58000000e+01,\n",
       "         8.60000000e+00,   3.70000000e+00,   4.74000000e+00,\n",
       "         1.70000000e+01,   1.78000000e+00,   8.66000000e+00,\n",
       "         1.21000000e+01,   1.01000000e+01,   6.59000000e+00,\n",
       "         1.62000000e+01,   1.27000000e+01,   1.29000000e+01,\n",
       "         1.17000000e+01,   9.71000000e+00,   6.50000000e+00,\n",
       "         1.68000000e+01,   1.42000000e+01,   1.81400000e+01,\n",
       "         1.04000000e+01,   1.60000000e+01,   1.47000000e+01,\n",
       "         9.88000000e+00,   6.47000000e+00,   9.80000000e+00,\n",
       "         1.34000000e+01,   1.00200000e+01,   5.30000000e+00,\n",
       "         5.80000000e+00,   1.64800000e+01,   9.60000000e+00,\n",
       "         1.52700000e+01,   5.48000000e+00,   1.32000000e+01,\n",
       "         3.50000000e+00,   1.47000000e+01,   1.55700000e+01,\n",
       "         5.24000000e+00,   6.15000000e+00,   1.41900000e+01,\n",
       "         1.55800000e+01,   1.59000000e+01,   1.73500000e+01,\n",
       "         2.36000000e+00,   9.29000000e+00,   1.59000000e+01,\n",
       "         2.60000000e-01,   7.10000000e+00,   1.77400000e+01])"
      ]
     },
     "execution_count": 37,
     "metadata": {},
     "output_type": "execute_result"
    }
   ],
   "source": [
    "y_train.ravel()"
   ]
  },
  {
   "cell_type": "code",
   "execution_count": 38,
   "metadata": {
    "collapsed": true
   },
   "outputs": [],
   "source": [
    " lasso = Lasso(alpha=0.001, fit_intercept=True, normalize=False, precompute=False,\n",
    "        copy_X=True, max_iter=10000, tol=0.00001, positive=False, random_state=None, selection='cyclic')"
   ]
  },
  {
   "cell_type": "code",
   "execution_count": 39,
   "metadata": {
    "collapsed": true
   },
   "outputs": [],
   "source": [
    " alphas = np.array([0.1,0.01,0.001,0.0001])"
   ]
  },
  {
   "cell_type": "code",
   "execution_count": 40,
   "metadata": {
    "collapsed": true
   },
   "outputs": [],
   "source": [
    "gs = GridSearchCV(lasso, param_grid=dict(alpha=alphas))"
   ]
  },
  {
   "cell_type": "code",
   "execution_count": 41,
   "metadata": {
    "collapsed": false
   },
   "outputs": [
    {
     "data": {
      "text/plain": [
       "GridSearchCV(cv=None, error_score='raise',\n",
       "       estimator=Lasso(alpha=0.001, copy_X=True, fit_intercept=True, max_iter=10000,\n",
       "   normalize=False, positive=False, precompute=False, random_state=None,\n",
       "   selection='cyclic', tol=1e-05, warm_start=False),\n",
       "       fit_params={}, iid=True, n_jobs=1,\n",
       "       param_grid={'alpha': array([ 0.1   ,  0.01  ,  0.001 ,  0.0001])},\n",
       "       pre_dispatch='2*n_jobs', refit=True, return_train_score=True,\n",
       "       scoring=None, verbose=0)"
      ]
     },
     "execution_count": 41,
     "metadata": {},
     "output_type": "execute_result"
    }
   ],
   "source": [
    " gs.fit(X_train,y_train)"
   ]
  },
  {
   "cell_type": "code",
   "execution_count": 42,
   "metadata": {
    "collapsed": true
   },
   "outputs": [],
   "source": [
    "lasso.alpha_ = gs.best_params_['alpha']"
   ]
  },
  {
   "cell_type": "code",
   "execution_count": 43,
   "metadata": {
    "collapsed": false
   },
   "outputs": [],
   "source": [
    " obj=lasso.fit(X_train,y_train)"
   ]
  },
  {
   "cell_type": "code",
   "execution_count": 44,
   "metadata": {
    "collapsed": false
   },
   "outputs": [],
   "source": [
    "predict_train=obj.predict(X_train)"
   ]
  },
  {
   "cell_type": "code",
   "execution_count": 45,
   "metadata": {
    "collapsed": false
   },
   "outputs": [
    {
     "data": {
      "text/plain": [
       "<matplotlib.text.Text at 0x11078d198>"
      ]
     },
     "execution_count": 45,
     "metadata": {},
     "output_type": "execute_result"
    },
    {
     "data": {
      "image/png": "[encoded data removed]",
      "text/plain": [
       "<matplotlib.figure.Figure at 0x10e38e198>"
      ]
     },
     "metadata": {},
     "output_type": "display_data"
    }
   ],
   "source": [
    "plt.figure(figsize=(10,8))\n",
    "plt.scatter(y_train,predict_train,s=0.5,color='blue')\n",
    "plt.title('Prediction on training data')\n",
    "plt.plot(np.linspace(0,25,1000),np.linspace(0,25,1000),color='black')\n",
    "plt.xlim((0,25))\n",
    "plt.ylim((0,25))\n",
    "plt.xlabel(\"Experiment($S*m^2/mol$)\")\n",
    "plt.ylabel(\"Prediction($S*m^2/mol$)\")"
   ]
  },
  {
   "cell_type": "code",
   "execution_count": 46,
   "metadata": {
    "collapsed": true
   },
   "outputs": [],
   "source": [
    "predict_test=obj.predict(X_test)"
   ]
  },
  {
   "cell_type": "code",
   "execution_count": 47,
   "metadata": {
    "collapsed": false
   },
   "outputs": [
    {
     "data": {
      "text/plain": [
       "<matplotlib.text.Text at 0x11123a4e0>"
      ]
     },
     "execution_count": 47,
     "metadata": {},
     "output_type": "execute_result"
    },
    {
     "data": {
      "image/png": "[encoded data removed]",
      "text/plain": [
       "<matplotlib.figure.Figure at 0x11121be80>"
      ]
     },
     "metadata": {},
     "output_type": "display_data"
    }
   ],
   "source": [
    "plt.figure(figsize=(10,8))\n",
    "plt.scatter(y_test,predict_test,s=0.5,color='blue')\n",
    "plt.title('Prediction on training data')\n",
    "plt.plot(np.linspace(0,25,1000),np.linspace(0,25,1000),color='black')\n",
    "plt.xlim((0,25))\n",
    "plt.ylim((0,25))\n",
    "plt.xlabel(\"Experiment PCE\")\n",
    "plt.ylabel(\"Prediction PCE\")"
   ]
  },
  {
   "cell_type": "code",
   "execution_count": 48,
   "metadata": {
    "collapsed": false
   },
   "outputs": [
    {
     "data": {
      "text/plain": [
       "0.001"
      ]
     },
     "execution_count": 48,
     "metadata": {},
     "output_type": "execute_result"
    }
   ],
   "source": [
    "lasso.alpha"
   ]
  },
  {
   "cell_type": "code",
   "execution_count": 49,
   "metadata": {
    "collapsed": false
   },
   "outputs": [
    {
     "data": {
      "text/plain": [
       "<bound method BaseEstimator.get_params of Lasso(alpha=0.001, copy_X=True, fit_intercept=True, max_iter=10000,\n",
       "   normalize=False, positive=False, precompute=False, random_state=None,\n",
       "   selection='cyclic', tol=1e-05, warm_start=False)>"
      ]
     },
     "execution_count": 49,
     "metadata": {},
     "output_type": "execute_result"
    }
   ],
   "source": [
    "lasso.get_params"
   ]
  },
  {
   "cell_type": "code",
   "execution_count": 51,
   "metadata": {
    "collapsed": false
   },
   "outputs": [
    {
     "data": {
      "text/plain": [
       "0.6106914438815223"
      ]
     },
     "execution_count": 51,
     "metadata": {},
     "output_type": "execute_result"
    }
   ],
   "source": [
    "lasso.score(X_train,y_train)"
   ]
  },
  {
   "cell_type": "code",
   "execution_count": 55,
   "metadata": {
    "collapsed": false
   },
   "outputs": [
    {
     "data": {
      "text/plain": [
       "0.42214121431374818"
      ]
     },
     "execution_count": 55,
     "metadata": {},
     "output_type": "execute_result"
    }
   ],
   "source": [
    "lasso.score(X_test,y_test)"
   ]
  },
  {
   "cell_type": "code",
   "execution_count": 133,
   "metadata": {
    "collapsed": true
   },
   "outputs": [],
   "source": [
    "rdata1 = pd.read_csv('reduced_dataframe_1.csv')"
   ]
  },
  {
   "cell_type": "code",
   "execution_count": 134,
   "metadata": {
    "collapsed": false
   },
   "outputs": [
    {
     "data": {
      "text/html": [
       "<div>\n",
       "<table border=\"1\" class=\"dataframe\">\n",
       "  <thead>\n",
       "    <tr style=\"text-align: right;\">\n",
       "      <th></th>\n",
       "      <th>MA/FA</th>\n",
       "      <th>MA</th>\n",
       "      <th>Al/MA</th>\n",
       "      <th>FA/Cs</th>\n",
       "      <th>MA/Cs</th>\n",
       "      <th>FA</th>\n",
       "      <th>Pb</th>\n",
       "      <th>Pb/Sn</th>\n",
       "      <th>I/Br</th>\n",
       "      <th>I</th>\n",
       "      <th>I/SCN</th>\n",
       "      <th>I/Cl</th>\n",
       "      <th>Br</th>\n",
       "      <th>PCE</th>\n",
       "    </tr>\n",
       "  </thead>\n",
       "  <tbody>\n",
       "    <tr>\n",
       "      <th>0</th>\n",
       "      <td>0.17</td>\n",
       "      <td>0</td>\n",
       "      <td>0.000</td>\n",
       "      <td>0.0</td>\n",
       "      <td>0.0</td>\n",
       "      <td>0</td>\n",
       "      <td>1</td>\n",
       "      <td>0.0</td>\n",
       "      <td>0.83</td>\n",
       "      <td>0</td>\n",
       "      <td>0.0</td>\n",
       "      <td>0.0</td>\n",
       "      <td>0</td>\n",
       "      <td>13.4</td>\n",
       "    </tr>\n",
       "    <tr>\n",
       "      <th>1</th>\n",
       "      <td>0.17</td>\n",
       "      <td>0</td>\n",
       "      <td>0.000</td>\n",
       "      <td>0.0</td>\n",
       "      <td>0.0</td>\n",
       "      <td>0</td>\n",
       "      <td>1</td>\n",
       "      <td>0.0</td>\n",
       "      <td>0.83</td>\n",
       "      <td>0</td>\n",
       "      <td>0.0</td>\n",
       "      <td>0.0</td>\n",
       "      <td>0</td>\n",
       "      <td>12.9</td>\n",
       "    </tr>\n",
       "    <tr>\n",
       "      <th>2</th>\n",
       "      <td>0.00</td>\n",
       "      <td>1</td>\n",
       "      <td>0.000</td>\n",
       "      <td>0.0</td>\n",
       "      <td>0.0</td>\n",
       "      <td>0</td>\n",
       "      <td>1</td>\n",
       "      <td>0.0</td>\n",
       "      <td>0.00</td>\n",
       "      <td>1</td>\n",
       "      <td>0.0</td>\n",
       "      <td>0.0</td>\n",
       "      <td>0</td>\n",
       "      <td>13.2</td>\n",
       "    </tr>\n",
       "    <tr>\n",
       "      <th>3</th>\n",
       "      <td>0.00</td>\n",
       "      <td>0</td>\n",
       "      <td>0.075</td>\n",
       "      <td>0.0</td>\n",
       "      <td>0.0</td>\n",
       "      <td>0</td>\n",
       "      <td>1</td>\n",
       "      <td>0.0</td>\n",
       "      <td>0.00</td>\n",
       "      <td>1</td>\n",
       "      <td>0.0</td>\n",
       "      <td>0.0</td>\n",
       "      <td>0</td>\n",
       "      <td>13.6</td>\n",
       "    </tr>\n",
       "    <tr>\n",
       "      <th>4</th>\n",
       "      <td>0.00</td>\n",
       "      <td>0</td>\n",
       "      <td>0.150</td>\n",
       "      <td>0.0</td>\n",
       "      <td>0.0</td>\n",
       "      <td>0</td>\n",
       "      <td>1</td>\n",
       "      <td>0.0</td>\n",
       "      <td>0.00</td>\n",
       "      <td>1</td>\n",
       "      <td>0.0</td>\n",
       "      <td>0.0</td>\n",
       "      <td>0</td>\n",
       "      <td>15.8</td>\n",
       "    </tr>\n",
       "  </tbody>\n",
       "</table>\n",
       "</div>"
      ],
      "text/plain": [
       "   MA/FA  MA  Al/MA  FA/Cs  MA/Cs  FA  Pb  Pb/Sn  I/Br  I  I/SCN  I/Cl  Br  \\\n",
       "0   0.17   0  0.000    0.0    0.0   0   1    0.0  0.83  0    0.0   0.0   0   \n",
       "1   0.17   0  0.000    0.0    0.0   0   1    0.0  0.83  0    0.0   0.0   0   \n",
       "2   0.00   1  0.000    0.0    0.0   0   1    0.0  0.00  1    0.0   0.0   0   \n",
       "3   0.00   0  0.075    0.0    0.0   0   1    0.0  0.00  1    0.0   0.0   0   \n",
       "4   0.00   0  0.150    0.0    0.0   0   1    0.0  0.00  1    0.0   0.0   0   \n",
       "\n",
       "    PCE  \n",
       "0  13.4  \n",
       "1  12.9  \n",
       "2  13.2  \n",
       "3  13.6  \n",
       "4  15.8  "
      ]
     },
     "execution_count": 134,
     "metadata": {},
     "output_type": "execute_result"
    }
   ],
   "source": [
    "rdata1.head()"
   ]
  },
  {
   "cell_type": "code",
   "execution_count": 135,
   "metadata": {
    "collapsed": true
   },
   "outputs": [],
   "source": [
    "XX=rdata1.drop(['PCE'],axis=1).as_matrix()"
   ]
  },
  {
   "cell_type": "code",
   "execution_count": 136,
   "metadata": {
    "collapsed": true
   },
   "outputs": [],
   "source": [
    "yy=rdata1['PCE'].values"
   ]
  },
  {
   "cell_type": "code",
   "execution_count": 137,
   "metadata": {
    "collapsed": false
   },
   "outputs": [
    {
     "data": {
      "text/plain": [
       "numpy.ndarray"
      ]
     },
     "execution_count": 137,
     "metadata": {},
     "output_type": "execute_result"
    }
   ],
   "source": [
    "type(XX)"
   ]
  },
  {
   "cell_type": "code",
   "execution_count": 138,
   "metadata": {
    "collapsed": false
   },
   "outputs": [
    {
     "data": {
      "text/plain": [
       "(167, 13)"
      ]
     },
     "execution_count": 138,
     "metadata": {},
     "output_type": "execute_result"
    }
   ],
   "source": [
    "XX.shape"
   ]
  },
  {
   "cell_type": "code",
   "execution_count": 139,
   "metadata": {
    "collapsed": false
   },
   "outputs": [
    {
     "data": {
      "text/plain": [
       "(167,)"
      ]
     },
     "execution_count": 139,
     "metadata": {},
     "output_type": "execute_result"
    }
   ],
   "source": [
    "yy.shape"
   ]
  },
  {
   "cell_type": "code",
   "execution_count": 140,
   "metadata": {
    "collapsed": false
   },
   "outputs": [],
   "source": [
    "XX_train,XX_test,yy_train,yy_test = train_test_split(XX,yy,test_size=0.10)"
   ]
  },
  {
   "cell_type": "code",
   "execution_count": 141,
   "metadata": {
    "collapsed": false
   },
   "outputs": [
    {
     "data": {
      "text/plain": [
       "array([  9.25,  17.2 ,  20.8 ,   6.5 ,  11.1 ,  10.27,  16.6 ,  13.4 ,\n",
       "         9.8 ,  11.9 ,  18.5 ,  13.8 ,  15.8 ,  18.2 ,  16.84,  11.01,\n",
       "        17.4 ,  10.9 ,  14.3 ,  15.64,  10.5 ,  16.48,  12.9 ,   3.85,\n",
       "         3.38,  15.9 ,  12.9 ,  11.2 ,   4.89,   8.8 ,  12.2 ,  15.08,\n",
       "         6.2 ,  14.01,  16.4 ,   5.6 ,  11.7 ,   2.36,   3.85,  16.1 ,\n",
       "        14.2 ,  14.57,   7.53,  15.3 ,   3.5 ,  11.7 ,  18.3 ,  18.14,\n",
       "         8.7 ,   5.  ,  11.8 ,  14.35,  13.97,  19.2 ,   8.8 ,  15.7 ,\n",
       "         7.59,   8.25,  12.8 ,  10.7 ,  17.8 ,  15.9 ,  14.7 ,   6.15,\n",
       "        17.11,  15.69,   5.8 ,   8.6 ,  14.31,   3.7 ,  10.1 ,  13.72,\n",
       "        16.8 ,   4.6 ,  14.19,  19.3 ,  16.68,   7.5 ,   8.9 ,   7.9 ,\n",
       "        15.67,  16.  ,   6.7 ,  13.87,   6.4 ,   2.3 ,   2.32,   3.5 ,\n",
       "         6.59,  11.8 ,  16.75,  14.9 ,   2.9 ,  11.  ,   6.5 ,  17.5 ,\n",
       "        10.1 ,  15.27,  16.48,   7.5 ,  14.35,   7.32,  15.58,  20.7 ,\n",
       "        15.78,  13.56,   3.83,  13.2 ,   7.8 ,   5.24,   3.4 ,   4.8 ,\n",
       "         2.38,  18.02,   5.46,  15.51,  10.4 ,  10.5 ,  12.7 ,   3.5 ,\n",
       "         7.1 ,   6.3 ,  15.8 ,  17.74,  13.2 ,   3.68,  15.6 ,  14.7 ,\n",
       "         3.9 ,  14.5 ,  19.8 ,   1.9 ,  11.4 ,   5.8 ,  14.9 ,   9.6 ,\n",
       "        16.31,  20.  ,   5.  ,  12.7 ,  17.  ,  10.9 ,  10.3 ,  13.  ,\n",
       "         4.74,  13.6 ,   6.5 ,  12.1 ,  17.41,   5.94])"
      ]
     },
     "execution_count": 141,
     "metadata": {},
     "output_type": "execute_result"
    }
   ],
   "source": [
    "yy_train.ravel()"
   ]
  },
  {
   "cell_type": "code",
   "execution_count": 142,
   "metadata": {
    "collapsed": false
   },
   "outputs": [
    {
     "data": {
      "text/plain": [
       "array([ 16.2 ,   5.5 ,   7.1 ,  12.2 ,   3.3 ,  16.42,   5.5 ,   9.6 ,\n",
       "         5.3 ,  15.8 ,  14.07,  12.1 ,  16.  ,  13.9 ,  17.35,   5.6 ,\n",
       "         8.5 ])"
      ]
     },
     "execution_count": 142,
     "metadata": {},
     "output_type": "execute_result"
    }
   ],
   "source": [
    "yy_test.ravel()"
   ]
  },
  {
   "cell_type": "code",
   "execution_count": 143,
   "metadata": {
    "collapsed": true
   },
   "outputs": [],
   "source": [
    "lasso = Lasso(alpha=0.001, fit_intercept=True, normalize=False, precompute=False,\n",
    "        copy_X=True, max_iter=10000, tol=0.00001, positive=False, random_state=None, selection='cyclic')"
   ]
  },
  {
   "cell_type": "code",
   "execution_count": 144,
   "metadata": {
    "collapsed": false
   },
   "outputs": [
    {
     "data": {
      "text/plain": [
       "Lasso(alpha=0.001, copy_X=True, fit_intercept=True, max_iter=10000,\n",
       "   normalize=False, positive=False, precompute=False, random_state=None,\n",
       "   selection='cyclic', tol=1e-05, warm_start=False)"
      ]
     },
     "execution_count": 144,
     "metadata": {},
     "output_type": "execute_result"
    }
   ],
   "source": [
    "lasso.fit(XX_train,yy_train)"
   ]
  },
  {
   "cell_type": "code",
   "execution_count": 145,
   "metadata": {
    "collapsed": true
   },
   "outputs": [],
   "source": [
    "predict_XX_train = lasso.predict(XX_train)"
   ]
  },
  {
   "cell_type": "code",
   "execution_count": 146,
   "metadata": {
    "collapsed": true
   },
   "outputs": [],
   "source": [
    "predict_XX_test=lasso.predict(XX_test)"
   ]
  },
  {
   "cell_type": "code",
   "execution_count": 147,
   "metadata": {
    "collapsed": false
   },
   "outputs": [
    {
     "data": {
      "text/plain": [
       "0.54206390091612411"
      ]
     },
     "execution_count": 147,
     "metadata": {},
     "output_type": "execute_result"
    }
   ],
   "source": [
    "lasso.score(XX_train,yy_train)"
   ]
  },
  {
   "cell_type": "code",
   "execution_count": 148,
   "metadata": {
    "collapsed": false
   },
   "outputs": [
    {
     "data": {
      "text/plain": [
       "0.60648242747111547"
      ]
     },
     "execution_count": 148,
     "metadata": {},
     "output_type": "execute_result"
    }
   ],
   "source": [
    "lasso.score(XX_test,yy_test)"
   ]
  },
  {
   "cell_type": "code",
   "execution_count": 149,
   "metadata": {
    "collapsed": false
   },
   "outputs": [
    {
     "data": {
      "text/plain": [
       "<matplotlib.text.Text at 0x112aa72e8>"
      ]
     },
     "execution_count": 149,
     "metadata": {},
     "output_type": "execute_result"
    },
    {
     "data": {
      "image/png": "[encoded data removed]",
      "text/plain": [
       "<matplotlib.figure.Figure at 0x11121e4e0>"
      ]
     },
     "metadata": {},
     "output_type": "display_data"
    }
   ],
   "source": [
    "plt.figure(figsize=(10,8))\n",
    "plt.scatter(yy_train,predict_XX_train,s=0.5,color='blue')\n",
    "plt.title('Prediction on training data')\n",
    "plt.plot(np.linspace(0,25,1000),np.linspace(0,25,1000),color='black')\n",
    "plt.xlim((0,25))\n",
    "plt.ylim((0,25))\n",
    "plt.xlabel(\"Experiment($S*m^2/mol$)\")\n",
    "plt.ylabel(\"Prediction($S*m^2/mol$)\")"
   ]
  },
  {
   "cell_type": "code",
   "execution_count": 150,
   "metadata": {
    "collapsed": false
   },
   "outputs": [
    {
     "data": {
      "text/plain": [
       "<matplotlib.text.Text at 0x111d930b8>"
      ]
     },
     "execution_count": 150,
     "metadata": {},
     "output_type": "execute_result"
    },
    {
     "data": {
      "image/png": "[encoded data removed]",
      "text/plain": [
       "<matplotlib.figure.Figure at 0x113830438>"
      ]
     },
     "metadata": {},
     "output_type": "display_data"
    }
   ],
   "source": [
    "plt.figure(figsize=(10,8))\n",
    "plt.scatter(yy_test,predict_XX_test,s=0.5,color='blue')\n",
    "plt.title('Prediction on training data')\n",
    "plt.plot(np.linspace(0,25,1000),np.linspace(0,25,1000),color='black')\n",
    "plt.xlim((0,25))\n",
    "plt.ylim((0,25))\n",
    "plt.xlabel(\"Experiment($S*m^2/mol$)\")\n",
    "plt.ylabel(\"Prediction($S*m^2/mol$)\")"
   ]
  },
  {
   "cell_type": "code",
   "execution_count": 33,
   "metadata": {
    "collapsed": false
   },
   "outputs": [
    {
     "data": {
      "text/plain": [
       "Lasso(alpha=1e-07, copy_X=True, fit_intercept=True, max_iter=10000,\n",
       "   normalize=True, positive=False, precompute=False, random_state=None,\n",
       "   selection='cyclic', tol=1e-05, warm_start=False)"
      ]
     },
     "execution_count": 33,
     "metadata": {},
     "output_type": "execute_result"
    }
   ],
   "source": [
    "rdata1 = pd.read_csv('reduced_dataframe_2.csv')\n",
    "XX=rdata1.drop(['PCE'],axis=1).as_matrix()\n",
    "yy=rdata1['PCE'].values\n",
    "XX_train,XX_test,yy_train,yy_test = train_test_split(XX,yy,test_size=0.10)\n",
    "yy_train.ravel()\n",
    "yy_test.ravel()\n",
    "lasso = Lasso(alpha=0.0000001, fit_intercept=True, normalize=True, precompute=False,\n",
    "        copy_X=True, max_iter=10000, tol=0.00001, positive=False, random_state=None, selection='cyclic')\n",
    "lasso.fit(XX_train,yy_train)"
   ]
  },
  {
   "cell_type": "code",
   "execution_count": 34,
   "metadata": {
    "collapsed": false
   },
   "outputs": [
    {
     "data": {
      "text/plain": [
       "0.47748550547668517"
      ]
     },
     "execution_count": 34,
     "metadata": {},
     "output_type": "execute_result"
    }
   ],
   "source": [
    "lasso.score(XX_train,yy_train)"
   ]
  },
  {
   "cell_type": "code",
   "execution_count": 35,
   "metadata": {
    "collapsed": false
   },
   "outputs": [
    {
     "data": {
      "text/plain": [
       "0.21716806086687057"
      ]
     },
     "execution_count": 35,
     "metadata": {},
     "output_type": "execute_result"
    }
   ],
   "source": [
    "lasso.score(XX_test,yy_test)"
   ]
  },
  {
   "cell_type": "code",
   "execution_count": 151,
   "metadata": {
    "collapsed": false
   },
   "outputs": [
    {
     "data": {
      "text/plain": [
       "array([  1.34192122,  -3.35171609,  -4.18731866,   0.9991462 ,\n",
       "        -3.81918706,  -1.04044531,   0.74342919,  -5.355032  ,\n",
       "        17.38040957,  13.07407304,   9.46734083,  16.7504022 ,   5.06817038])"
      ]
     },
     "execution_count": 151,
     "metadata": {},
     "output_type": "execute_result"
    }
   ],
   "source": [
    "lasso.coef_"
   ]
  },
  {
   "cell_type": "code",
   "execution_count": 152,
   "metadata": {
    "collapsed": false
   },
   "outputs": [
    {
     "data": {
      "text/plain": [
       "['MA/FA',\n",
       " 'MA',\n",
       " 'Al/MA',\n",
       " 'FA/Cs',\n",
       " 'MA/Cs',\n",
       " 'FA',\n",
       " 'Pb',\n",
       " 'Pb/Sn',\n",
       " 'I/Br',\n",
       " 'I',\n",
       " 'I/SCN',\n",
       " 'I/Cl',\n",
       " 'Br',\n",
       " 'PCE']"
      ]
     },
     "execution_count": 152,
     "metadata": {},
     "output_type": "execute_result"
    }
   ],
   "source": [
    "list(rdata1)"
   ]
  },
  {
   "cell_type": "code",
   "execution_count": 131,
   "metadata": {
    "collapsed": false
   },
   "outputs": [],
   "source": [
    "from sklearn.svm import SVR\n",
    "svr = SVR(kernel='rbf', degree=3, gamma='auto', coef0=0.0, tol=0.00001,\n",
    "        C=1.0, epsilon=0.01, shrinking=True, cache_size=200, verbose=False, max_iter=100000)"
   ]
  },
  {
   "cell_type": "code",
   "execution_count": 132,
   "metadata": {
    "collapsed": false
   },
   "outputs": [
    {
     "data": {
      "text/plain": [
       "SVR(C=1.0, cache_size=200, coef0=0.0, degree=3, epsilon=0.01, gamma='auto',\n",
       "  kernel='rbf', max_iter=100000, shrinking=True, tol=1e-05, verbose=False)"
      ]
     },
     "execution_count": 132,
     "metadata": {},
     "output_type": "execute_result"
    }
   ],
   "source": [
    "svr.fit(XX_train,yy_train)"
   ]
  },
  {
   "cell_type": "code",
   "execution_count": 108,
   "metadata": {
    "collapsed": false
   },
   "outputs": [
    {
     "data": {
      "text/plain": [
       "0.16290672546862794"
      ]
     },
     "execution_count": 108,
     "metadata": {},
     "output_type": "execute_result"
    }
   ],
   "source": [
    "svr.score(XX_train,yy_train)"
   ]
  },
  {
   "cell_type": "code",
   "execution_count": 109,
   "metadata": {
    "collapsed": false
   },
   "outputs": [
    {
     "data": {
      "text/plain": [
       "0.080155512043944999"
      ]
     },
     "execution_count": 109,
     "metadata": {},
     "output_type": "execute_result"
    }
   ],
   "source": [
    "svr.score(XX_test,yy_test)"
   ]
  },
  {
   "cell_type": "code",
   "execution_count": 110,
   "metadata": {
    "collapsed": true
   },
   "outputs": [],
   "source": [
    "predict_XX_train = svr.predict(XX_train)"
   ]
  },
  {
   "cell_type": "code",
   "execution_count": 111,
   "metadata": {
    "collapsed": false
   },
   "outputs": [
    {
     "data": {
      "text/plain": [
       "<matplotlib.text.Text at 0x112673320>"
      ]
     },
     "execution_count": 111,
     "metadata": {},
     "output_type": "execute_result"
    },
    {
     "data": {
      "image/png": "[encoded data removed]",
      "text/plain": [
       "<matplotlib.figure.Figure at 0x1126226d8>"
      ]
     },
     "metadata": {},
     "output_type": "display_data"
    }
   ],
   "source": [
    "plt.figure(figsize=(10,8))\n",
    "plt.scatter(yy_train,predict_XX_train,s=0.5,color='blue')\n",
    "plt.title('Prediction on training data')\n",
    "plt.plot(np.linspace(0,25,1000),np.linspace(0,25,1000),color='black')\n",
    "plt.xlim((0,25))\n",
    "plt.ylim((0,25))\n",
    "plt.xlabel(\"Experiment($S*m^2/mol$)\")\n",
    "plt.ylabel(\"Prediction($S*m^2/mol$)\")"
   ]
  },
  {
   "cell_type": "code",
   "execution_count": 112,
   "metadata": {
    "collapsed": false
   },
   "outputs": [
    {
     "ename": "ValueError",
     "evalue": "coef_ is only available when using a linear kernel",
     "output_type": "error",
     "traceback": [
      "\u001b[0;31m---------------------------------------------------------------------------\u001b[0m",
      "\u001b[0;31mValueError\u001b[0m                                Traceback (most recent call last)",
      "\u001b[0;32m<ipython-input-112-5c1a87c2a3ae>\u001b[0m in \u001b[0;36m<module>\u001b[0;34m()\u001b[0m\n\u001b[0;32m----> 1\u001b[0;31m \u001b[0msvr\u001b[0m\u001b[0;34m.\u001b[0m\u001b[0mcoef_\u001b[0m\u001b[0;34m\u001b[0m\u001b[0m\n\u001b[0m",
      "\u001b[0;32m/Users/hbliu/miniconda3/lib/python3.5/site-packages/sklearn/svm/base.py\u001b[0m in \u001b[0;36mcoef_\u001b[0;34m(self)\u001b[0m\n\u001b[1;32m    483\u001b[0m     \u001b[0;32mdef\u001b[0m \u001b[0mcoef_\u001b[0m\u001b[0;34m(\u001b[0m\u001b[0mself\u001b[0m\u001b[0;34m)\u001b[0m\u001b[0;34m:\u001b[0m\u001b[0;34m\u001b[0m\u001b[0m\n\u001b[1;32m    484\u001b[0m         \u001b[0;32mif\u001b[0m \u001b[0mself\u001b[0m\u001b[0;34m.\u001b[0m\u001b[0mkernel\u001b[0m \u001b[0;34m!=\u001b[0m \u001b[0;34m'linear'\u001b[0m\u001b[0;34m:\u001b[0m\u001b[0;34m\u001b[0m\u001b[0m\n\u001b[0;32m--> 485\u001b[0;31m             raise ValueError('coef_ is only available when using a '\n\u001b[0m\u001b[1;32m    486\u001b[0m                              'linear kernel')\n\u001b[1;32m    487\u001b[0m \u001b[0;34m\u001b[0m\u001b[0m\n",
      "\u001b[0;31mValueError\u001b[0m: coef_ is only available when using a linear kernel"
     ]
    }
   ],
   "source": []
  },
  {
   "cell_type": "code",
   "execution_count": 153,
   "metadata": {
    "collapsed": true
   },
   "outputs": [],
   "source": [
    "from sklearn.svm import SVR"
   ]
  },
  {
   "cell_type": "code",
   "execution_count": 163,
   "metadata": {
    "collapsed": true
   },
   "outputs": [],
   "source": [
    " svr = SVR(kernel='rbf', C=1e3, degree=2)"
   ]
  },
  {
   "cell_type": "code",
   "execution_count": 164,
   "metadata": {
    "collapsed": false
   },
   "outputs": [
    {
     "data": {
      "text/plain": [
       "SVR(C=1000.0, cache_size=200, coef0=0.0, degree=2, epsilon=0.1, gamma='auto',\n",
       "  kernel='rbf', max_iter=-1, shrinking=True, tol=0.001, verbose=False)"
      ]
     },
     "execution_count": 164,
     "metadata": {},
     "output_type": "execute_result"
    }
   ],
   "source": [
    "svr.fit(XX_train,yy_train)"
   ]
  },
  {
   "cell_type": "code",
   "execution_count": 165,
   "metadata": {
    "collapsed": false
   },
   "outputs": [
    {
     "data": {
      "text/plain": [
       "0.54173697309312652"
      ]
     },
     "execution_count": 165,
     "metadata": {},
     "output_type": "execute_result"
    }
   ],
   "source": [
    "svr.score(XX_train,yy_train)"
   ]
  },
  {
   "cell_type": "code",
   "execution_count": 166,
   "metadata": {
    "collapsed": false
   },
   "outputs": [
    {
     "data": {
      "text/plain": [
       "0.37477590556709306"
      ]
     },
     "execution_count": 166,
     "metadata": {},
     "output_type": "execute_result"
    }
   ],
   "source": [
    "svr.score(XX_test,yy_test)"
   ]
  },
  {
   "cell_type": "code",
   "execution_count": 167,
   "metadata": {
    "collapsed": true
   },
   "outputs": [],
   "source": [
    "predict_XX_train = svr.predict(XX_train)"
   ]
  },
  {
   "cell_type": "code",
   "execution_count": 168,
   "metadata": {
    "collapsed": false
   },
   "outputs": [
    {
     "data": {
      "text/plain": [
       "<matplotlib.text.Text at 0x114229fd0>"
      ]
     },
     "execution_count": 168,
     "metadata": {},
     "output_type": "execute_result"
    },
    {
     "data": {
      "image/png": "[encoded data removed]",
      "text/plain": [
       "<matplotlib.figure.Figure at 0x113fb5c88>"
      ]
     },
     "metadata": {},
     "output_type": "display_data"
    }
   ],
   "source": [
    "plt.figure(figsize=(10,8))\n",
    "plt.scatter(yy_train,predict_XX_train,s=0.5,color='blue')\n",
    "plt.title('Prediction on training data')\n",
    "plt.plot(np.linspace(0,25,1000),np.linspace(0,25,1000),color='black')\n",
    "plt.xlim((0,25))\n",
    "plt.ylim((0,25))\n",
    "plt.xlabel(\"Experiment($S*m^2/mol$)\")\n",
    "plt.ylabel(\"Prediction($S*m^2/mol$)\")"
   ]
  },
  {
   "cell_type": "code",
   "execution_count": 169,
   "metadata": {
    "collapsed": true
   },
   "outputs": [],
   "source": [
    "predict_XX_test = svr.predict(XX_test)"
   ]
  },
  {
   "cell_type": "code",
   "execution_count": 170,
   "metadata": {
    "collapsed": false
   },
   "outputs": [
    {
     "data": {
      "text/plain": [
       "<matplotlib.text.Text at 0x113a8c0f0>"
      ]
     },
     "execution_count": 170,
     "metadata": {},
     "output_type": "execute_result"
    },
    {
     "data": {
      "image/png": "[encoded data removed]",
      "text/plain": [
       "<matplotlib.figure.Figure at 0x1142ba710>"
      ]
     },
     "metadata": {},
     "output_type": "display_data"
    }
   ],
   "source": [
    "plt.figure(figsize=(10,8))\n",
    "plt.scatter(yy_test,predict_XX_test,s=0.5,color='blue')\n",
    "plt.title('Prediction on training data')\n",
    "plt.plot(np.linspace(0,25,1000),np.linspace(0,25,1000),color='black')\n",
    "plt.xlim((0,25))\n",
    "plt.ylim((0,25))\n",
    "plt.xlabel(\"Experiment($S*m^2/mol$)\")\n",
    "plt.ylabel(\"Prediction($S*m^2/mol$)\")"
   ]
  },
  {
   "cell_type": "code",
   "execution_count": 234,
   "metadata": {
    "collapsed": false
   },
   "outputs": [],
   "source": [
    "comb = pd.read_csv('FAMAPbIBr_2.csv')"
   ]
  },
  {
   "cell_type": "code",
   "execution_count": 235,
   "metadata": {
    "collapsed": false
   },
   "outputs": [],
   "source": [
    "combx = comb.drop(['PCE','Pb'],axis=1).as_matrix()"
   ]
  },
  {
   "cell_type": "code",
   "execution_count": 270,
   "metadata": {
    "collapsed": false
   },
   "outputs": [
    {
     "data": {
      "text/plain": [
       "array([[ 0.17 ,  0.83 ],\n",
       "       [ 0.17 ,  0.83 ],\n",
       "       [ 1.   ,  1.   ],\n",
       "       [ 0.   ,  1.   ],\n",
       "       [ 0.   ,  1.   ],\n",
       "       [ 0.   ,  1.   ],\n",
       "       [ 0.   ,  1.   ],\n",
       "       [ 0.   ,  1.   ],\n",
       "       [ 0.   ,  0.6  ],\n",
       "       [ 1.   ,  1.   ],\n",
       "       [ 1.   ,  0.97 ],\n",
       "       [ 1.   ,  0.89 ],\n",
       "       [ 1.   ,  0.8  ],\n",
       "       [ 1.   ,  0.71 ],\n",
       "       [ 0.05 ,  0.95 ],\n",
       "       [ 0.15 ,  0.85 ],\n",
       "       [ 1.   ,  0.   ],\n",
       "       [ 0.   ,  0.   ],\n",
       "       [ 1.   ,  0.98 ],\n",
       "       [ 1.   ,  0.967],\n",
       "       [ 1.   ,  0.933],\n",
       "       [ 0.   ,  0.967],\n",
       "       [ 0.   ,  0.933],\n",
       "       [ 0.   ,  0.95 ],\n",
       "       [ 0.   ,  0.9  ],\n",
       "       [ 0.11 ,  0.89 ],\n",
       "       [ 0.16 ,  0.84 ],\n",
       "       [ 0.22 ,  0.78 ],\n",
       "       [ 0.66 ,  0.34 ],\n",
       "       [ 0.33 ,  0.67 ],\n",
       "       [ 1.   ,  1.   ],\n",
       "       [ 0.   ,  0.95 ],\n",
       "       [ 0.   ,  0.9  ],\n",
       "       [ 0.   ,  0.8  ],\n",
       "       [ 0.   ,  1.   ],\n",
       "       [ 0.1  ,  1.   ],\n",
       "       [ 0.2  ,  1.   ],\n",
       "       [ 0.3  ,  1.   ],\n",
       "       [ 0.4  ,  1.   ],\n",
       "       [ 0.5  ,  1.   ],\n",
       "       [ 0.   ,  1.   ],\n",
       "       [ 0.   ,  0.   ],\n",
       "       [ 0.   ,  0.   ],\n",
       "       [ 0.   ,  0.   ],\n",
       "       [ 0.   ,  0.   ],\n",
       "       [ 0.   ,  0.   ],\n",
       "       [ 0.   ,  0.   ],\n",
       "       [ 0.   ,  0.   ],\n",
       "       [ 0.   ,  0.   ],\n",
       "       [ 0.15 ,  0.836],\n",
       "       [ 0.15 ,  0.836],\n",
       "       [ 1.   ,  1.   ],\n",
       "       [ 0.   ,  0.95 ],\n",
       "       [ 0.   ,  0.9  ],\n",
       "       [ 0.   ,  0.8  ],\n",
       "       [ 0.9  ,  0.   ],\n",
       "       [ 0.85 ,  0.   ],\n",
       "       [ 0.8  ,  0.   ],\n",
       "       [ 0.75 ,  0.   ],\n",
       "       [ 0.7  ,  0.   ],\n",
       "       [ 0.6  ,  0.   ],\n",
       "       [ 1.   ,  1.   ],\n",
       "       [ 1.   ,  1.   ],\n",
       "       [ 0.   ,  1.   ],\n",
       "       [ 0.25 ,  1.   ],\n",
       "       [ 0.15 ,  0.85 ],\n",
       "       [ 0.   ,  1.   ],\n",
       "       [ 0.   ,  0.952],\n",
       "       [ 0.   ,  0.909],\n",
       "       [ 0.   ,  0.862],\n",
       "       [ 0.   ,  0.813],\n",
       "       [ 0.   ,  0.729],\n",
       "       [ 0.   ,  0.649],\n",
       "       [ 1.   ,  1.   ],\n",
       "       [ 0.   ,  1.   ],\n",
       "       [ 0.   ,  1.   ],\n",
       "       [ 0.   ,  1.   ],\n",
       "       [ 0.   ,  1.   ],\n",
       "       [ 0.   ,  1.   ],\n",
       "       [ 1.   ,  1.   ],\n",
       "       [ 1.   ,  0.97 ],\n",
       "       [ 1.   ,  0.963],\n",
       "       [ 1.   ,  0.953],\n",
       "       [ 1.   ,  0.933],\n",
       "       [ 1.   ,  0.667],\n",
       "       [ 1.   ,  1.   ],\n",
       "       [ 1.   ,  1.   ],\n",
       "       [ 1.   ,  1.   ],\n",
       "       [ 1.   ,  1.   ],\n",
       "       [ 1.   ,  1.   ],\n",
       "       [ 1.   ,  1.   ],\n",
       "       [ 0.   ,  0.6  ],\n",
       "       [ 0.   ,  0.6  ],\n",
       "       [ 0.   ,  0.6  ],\n",
       "       [ 0.   ,  0.6  ],\n",
       "       [ 0.   ,  0.6  ],\n",
       "       [ 0.   ,  0.6  ],\n",
       "       [ 0.   ,  0.6  ],\n",
       "       [ 0.   ,  0.6  ],\n",
       "       [ 0.   ,  0.6  ],\n",
       "       [ 0.   ,  0.6  ],\n",
       "       [ 0.   ,  1.   ],\n",
       "       [ 0.   ,  1.   ],\n",
       "       [ 0.   ,  0.947],\n",
       "       [ 0.   ,  1.   ],\n",
       "       [ 0.167,  1.   ],\n",
       "       [ 0.333,  1.   ],\n",
       "       [ 0.5  ,  1.   ],\n",
       "       [ 0.667,  1.   ],\n",
       "       [ 0.833,  1.   ],\n",
       "       [ 1.   ,  1.   ],\n",
       "       [ 0.   ,  0.833],\n",
       "       [ 0.167,  0.833],\n",
       "       [ 0.333,  0.833],\n",
       "       [ 0.5  ,  0.833],\n",
       "       [ 0.667,  0.833],\n",
       "       [ 0.833,  0.833],\n",
       "       [ 1.   ,  0.833],\n",
       "       [ 0.   ,  0.667],\n",
       "       [ 0.167,  0.667],\n",
       "       [ 0.333,  0.667],\n",
       "       [ 0.5  ,  0.667],\n",
       "       [ 0.667,  0.667],\n",
       "       [ 0.833,  0.667],\n",
       "       [ 1.   ,  0.667],\n",
       "       [ 0.   ,  0.5  ],\n",
       "       [ 0.167,  0.5  ],\n",
       "       [ 0.333,  0.5  ],\n",
       "       [ 0.5  ,  0.5  ],\n",
       "       [ 0.667,  0.5  ],\n",
       "       [ 0.833,  0.5  ],\n",
       "       [ 1.   ,  0.5  ],\n",
       "       [ 0.   ,  0.333],\n",
       "       [ 0.167,  0.333],\n",
       "       [ 0.333,  0.333],\n",
       "       [ 0.5  ,  0.333],\n",
       "       [ 0.667,  0.333],\n",
       "       [ 0.833,  0.333],\n",
       "       [ 1.   ,  0.333],\n",
       "       [ 0.   ,  0.167],\n",
       "       [ 0.167,  0.167],\n",
       "       [ 0.333,  0.167],\n",
       "       [ 0.5  ,  0.167],\n",
       "       [ 0.667,  0.167],\n",
       "       [ 0.833,  0.167],\n",
       "       [ 1.   ,  0.167],\n",
       "       [ 0.   ,  0.   ],\n",
       "       [ 0.167,  0.   ],\n",
       "       [ 0.333,  0.   ],\n",
       "       [ 0.5  ,  0.   ],\n",
       "       [ 0.667,  0.   ],\n",
       "       [ 0.833,  0.   ],\n",
       "       [ 1.   ,  0.   ],\n",
       "       [ 1.   ,  1.   ],\n",
       "       [ 0.75 ,  1.   ],\n",
       "       [ 0.5  ,  1.   ],\n",
       "       [ 0.25 ,  1.   ],\n",
       "       [ 0.   ,  1.   ],\n",
       "       [ 1.   ,  1.   ],\n",
       "       [ 1.   ,  1.   ],\n",
       "       [ 1.   ,  1.   ],\n",
       "       [ 1.   ,  1.   ],\n",
       "       [ 0.5  ,  1.   ],\n",
       "       [ 1.   ,  1.   ],\n",
       "       [ 1.   ,  1.   ],\n",
       "       [ 1.   ,  0.   ],\n",
       "       [ 1.   ,  0.   ]])"
      ]
     },
     "execution_count": 270,
     "metadata": {},
     "output_type": "execute_result"
    }
   ],
   "source": [
    "combx"
   ]
  },
  {
   "cell_type": "code",
   "execution_count": 237,
   "metadata": {
    "collapsed": true
   },
   "outputs": [],
   "source": [
    "comby = comb['PCE'].values"
   ]
  },
  {
   "cell_type": "code",
   "execution_count": 312,
   "metadata": {
    "collapsed": true
   },
   "outputs": [],
   "source": [
    " svr = SVR(kernel='rbf', C=1e3, gamma=10000000)"
   ]
  },
  {
   "cell_type": "code",
   "execution_count": 313,
   "metadata": {
    "collapsed": false
   },
   "outputs": [
    {
     "data": {
      "text/plain": [
       "SVR(C=1000.0, cache_size=200, coef0=0.0, degree=3, epsilon=0.1,\n",
       "  gamma=10000000, kernel='rbf', max_iter=-1, shrinking=True, tol=0.001,\n",
       "  verbose=False)"
      ]
     },
     "execution_count": 313,
     "metadata": {},
     "output_type": "execute_result"
    }
   ],
   "source": [
    "svr.fit(combx,comby)"
   ]
  },
  {
   "cell_type": "code",
   "execution_count": 508,
   "metadata": {
    "collapsed": false
   },
   "outputs": [
    {
     "data": {
      "text/plain": [
       "0.63313352204558326"
      ]
     },
     "execution_count": 508,
     "metadata": {},
     "output_type": "execute_result"
    }
   ],
   "source": [
    "svr.score(combx,comby)"
   ]
  },
  {
   "cell_type": "code",
   "execution_count": 315,
   "metadata": {
    "collapsed": true
   },
   "outputs": [],
   "source": [
    "predict_combx = svr.predict(combx)"
   ]
  },
  {
   "cell_type": "code",
   "execution_count": 316,
   "metadata": {
    "collapsed": false
   },
   "outputs": [
    {
     "data": {
      "text/plain": [
       "<matplotlib.text.Text at 0x1189ae710>"
      ]
     },
     "execution_count": 316,
     "metadata": {},
     "output_type": "execute_result"
    },
    {
     "data": {
      "image/png": "[encoded data removed]",
      "text/plain": [
       "<matplotlib.figure.Figure at 0x118fbc7b8>"
      ]
     },
     "metadata": {},
     "output_type": "display_data"
    }
   ],
   "source": [
    "plt.figure(figsize=(10,8))\n",
    "plt.scatter(comby,predict_combx,s=0.5,color='blue')\n",
    "plt.title('Prediction on training data')\n",
    "plt.plot(np.linspace(0,25,1000),np.linspace(0,25,1000),color='black')\n",
    "plt.xlim((0,25))\n",
    "plt.ylim((0,25))\n",
    "plt.xlabel(\"Experiment($S*m^2/mol$)\")\n",
    "plt.ylabel(\"Prediction($S*m^2/mol$)\")"
   ]
  },
  {
   "cell_type": "code",
   "execution_count": 388,
   "metadata": {
    "collapsed": true
   },
   "outputs": [],
   "source": [
    "from sklearn.neural_network import MLPRegressor"
   ]
  },
  {
   "cell_type": "code",
   "execution_count": null,
   "metadata": {
    "collapsed": false
   },
   "outputs": [],
   "source": [
    "mlpgs = GridSearchCV(MLPRegressor(hidden_layer_sizes=(2000,),activation='tanh',solver='lbfgs',max_iter=5000), cv=3,\n",
    "                   param_grid={\"epsilon\": [1e-5,1e-4,1e-3,1e-2,1e-1,1e0, 1e1, 1e2, 1e3,1e4,1e5],\n",
    "                               \"alpha\": [1e-5,1e-4,1e-3,1e-2,1e-1,1e0, 1e1, 1e2, 1e3,1e4,1e5],\n",
    "                               \"learning_rate_init\":[1e-5,1e-4,1e-3,1e-2,1e-1,1e0, 1e1, 1e2]})"
   ]
  },
  {
   "cell_type": "code",
   "execution_count": null,
   "metadata": {
    "collapsed": false
   },
   "outputs": [],
   "source": [
    "mlpgs.fit(combx,comby)\n",
    "mlpgs.score(combx,comby)"
   ]
  },
  {
   "cell_type": "code",
   "execution_count": null,
   "metadata": {
    "collapsed": true
   },
   "outputs": [],
   "source": [
    "predict_combx = mlpgs.predict(combx)"
   ]
  },
  {
   "cell_type": "code",
   "execution_count": null,
   "metadata": {
    "collapsed": false
   },
   "outputs": [],
   "source": [
    "plt.figure(figsize=(10,8))\n",
    "plt.scatter(comby,predict_combx,s=0.5,color='blue')\n",
    "plt.title('Prediction on training data')\n",
    "plt.plot(np.linspace(0,25,1000),np.linspace(0,25,1000),color='black')\n",
    "plt.xlim((0,25))\n",
    "plt.ylim((0,25))\n",
    "plt.xlabel(\"Experiment($S*m^2/mol$)\")\n",
    "plt.ylabel(\"Prediction($S*m^2/mol$)\")"
   ]
  },
  {
   "cell_type": "code",
   "execution_count": 363,
   "metadata": {
    "collapsed": true
   },
   "outputs": [],
   "source": [
    "combsur = comb.drop(['Pb',],axis=1).as_matrix()"
   ]
  },
  {
   "cell_type": "code",
   "execution_count": 231,
   "metadata": {
    "collapsed": false
   },
   "outputs": [
    {
     "data": {
      "text/plain": [
       "array([[  0.17 ,   0.83 ,  13.4  ],\n",
       "       [  0.17 ,   0.83 ,  12.9  ],\n",
       "       [  1.   ,   1.   ,  13.2  ],\n",
       "       [  0.   ,   1.   ,  13.6  ],\n",
       "       [  0.   ,   1.   ,  15.8  ],\n",
       "       [  0.   ,   1.   ,  14.2  ],\n",
       "       [  0.   ,   1.   ,   9.8  ],\n",
       "       [  0.   ,   1.   ,   5.5  ],\n",
       "       [  0.   ,   0.6  ,  16.8  ],\n",
       "       [  1.   ,   1.   ,   7.5  ],\n",
       "       [  1.   ,   0.97 ,  11.2  ],\n",
       "       [  1.   ,   0.89 ,  15.8  ],\n",
       "       [  1.   ,   0.8  ,  13.8  ],\n",
       "       [  1.   ,   0.71 ,   4.6  ],\n",
       "       [  0.05 ,   0.95 ,  10.1  ],\n",
       "       [  0.15 ,   0.85 ,  10.9  ],\n",
       "       [  1.   ,   0.   ,   3.38 ],\n",
       "       [  0.   ,   0.   ,   6.59 ],\n",
       "       [  1.   ,   0.98 ,   5.24 ],\n",
       "       [  1.   ,   0.967,   7.59 ],\n",
       "       [  1.   ,   0.933,   4.74 ],\n",
       "       [  0.   ,   0.967,   8.25 ],\n",
       "       [  0.   ,   0.933,   6.5  ],\n",
       "       [  0.   ,   0.95 ,   6.5  ],\n",
       "       [  0.   ,   0.9  ,   5.94 ],\n",
       "       [  0.11 ,   0.89 ,  17.8  ],\n",
       "       [  0.16 ,   0.84 ,  18.3  ],\n",
       "       [  0.22 ,   0.78 ,  17.   ],\n",
       "       [  0.66 ,   0.34 ,  15.9  ],\n",
       "       [  0.33 ,   0.67 ,  14.9  ],\n",
       "       [  1.   ,   1.   ,  14.5  ],\n",
       "       [  0.   ,   0.95 ,  14.9  ],\n",
       "       [  0.   ,   0.9  ,  15.9  ],\n",
       "       [  0.   ,   0.8  ,  12.7  ],\n",
       "       [  0.   ,   1.   ,  14.57 ],\n",
       "       [  0.1  ,   1.   ,  15.27 ],\n",
       "       [  0.2  ,   1.   ,  15.58 ],\n",
       "       [  0.3  ,   1.   ,  15.78 ],\n",
       "       [  0.4  ,   1.   ,  16.48 ],\n",
       "       [  0.5  ,   1.   ,  15.67 ],\n",
       "       [  0.   ,   1.   ,  13.97 ],\n",
       "       [  0.   ,   0.   ,  15.64 ],\n",
       "       [  0.   ,   0.   ,  16.2  ],\n",
       "       [  0.   ,   0.   ,  13.72 ],\n",
       "       [  0.   ,   0.   ,  11.01 ],\n",
       "       [  0.   ,   0.   ,   8.8  ],\n",
       "       [  0.   ,   0.   ,  10.5  ],\n",
       "       [  0.   ,   0.   ,  11.1  ],\n",
       "       [  0.   ,   0.   ,   3.5  ],\n",
       "       [  0.15 ,   0.836,  16.1  ],\n",
       "       [  0.15 ,   0.836,  17.2  ],\n",
       "       [  1.   ,   1.   ,  15.08 ],\n",
       "       [  0.   ,   0.95 ,  15.7  ],\n",
       "       [  0.   ,   0.9  ,  16.42 ],\n",
       "       [  0.   ,   0.8  ,  14.31 ],\n",
       "       [  0.9  ,   0.   ,  16.84 ],\n",
       "       [  0.85 ,   0.   ,  17.41 ],\n",
       "       [  0.8  ,   0.   ,  18.14 ],\n",
       "       [  0.75 ,   0.   ,  17.74 ],\n",
       "       [  0.7  ,   0.   ,  16.68 ],\n",
       "       [  0.6  ,   0.   ,  16.48 ],\n",
       "       [  1.   ,   1.   ,   5.46 ],\n",
       "       [  1.   ,   1.   ,  10.1  ],\n",
       "       [  0.   ,   1.   ,  13.56 ],\n",
       "       [  0.25 ,   1.   ,  15.51 ],\n",
       "       [  0.15 ,   0.85 ,   8.8  ],\n",
       "       [  0.   ,   1.   ,  19.3  ],\n",
       "       [  0.   ,   0.952,  20.8  ],\n",
       "       [  0.   ,   0.909,  19.8  ],\n",
       "       [  0.   ,   0.862,  20.   ],\n",
       "       [  0.   ,   0.813,  19.2  ],\n",
       "       [  0.   ,   0.729,  12.2  ],\n",
       "       [  0.   ,   0.649,  10.9  ],\n",
       "       [  1.   ,   1.   ,  15.8  ],\n",
       "       [  0.   ,   1.   ,  16.4  ],\n",
       "       [  0.   ,   1.   ,  18.2  ],\n",
       "       [  0.   ,   1.   ,  16.6  ],\n",
       "       [  0.   ,   1.   ,  11.7  ],\n",
       "       [  0.   ,   1.   ,   6.7  ],\n",
       "       [  1.   ,   1.   ,  15.6  ],\n",
       "       [  1.   ,   0.97 ,  16.31 ],\n",
       "       [  1.   ,   0.963,  16.75 ],\n",
       "       [  1.   ,   0.953,  18.02 ],\n",
       "       [  1.   ,   0.933,  17.11 ],\n",
       "       [  1.   ,   0.667,   3.83 ],\n",
       "       [  1.   ,   1.   ,  10.27 ],\n",
       "       [  1.   ,   1.   ,   2.32 ],\n",
       "       [  1.   ,   1.   ,   5.3  ],\n",
       "       [  1.   ,   1.   ,   2.38 ],\n",
       "       [  1.   ,   1.   ,   4.89 ],\n",
       "       [  1.   ,   1.   ,   9.25 ],\n",
       "       [  0.   ,   0.6  ,   5.8  ],\n",
       "       [  0.   ,   0.6  ,  12.1  ],\n",
       "       [  0.   ,   0.6  ,  11.8  ],\n",
       "       [  0.   ,   0.6  ,  13.   ],\n",
       "       [  0.   ,   0.6  ,  14.7  ],\n",
       "       [  0.   ,   0.6  ,  12.7  ],\n",
       "       [  0.   ,   0.6  ,  10.5  ],\n",
       "       [  0.   ,   0.6  ,   9.6  ],\n",
       "       [  0.   ,   0.6  ,   8.9  ],\n",
       "       [  0.   ,   0.6  ,   7.8  ],\n",
       "       [  0.   ,   1.   ,  10.4  ],\n",
       "       [  0.   ,   1.   ,  15.69 ],\n",
       "       [  0.   ,   0.947,  17.35 ],\n",
       "       [  0.   ,   1.   ,   4.8  ],\n",
       "       [  0.167,   1.   ,  12.1  ],\n",
       "       [  0.333,   1.   ,  13.9  ],\n",
       "       [  0.5  ,   1.   ,  12.8  ],\n",
       "       [  0.667,   1.   ,  14.3  ],\n",
       "       [  0.833,   1.   ,  11.8  ],\n",
       "       [  1.   ,   1.   ,  10.3  ],\n",
       "       [  0.   ,   0.833,   9.6  ],\n",
       "       [  0.167,   0.833,  17.4  ],\n",
       "       [  0.333,   0.833,  20.7  ],\n",
       "       [  0.5  ,   0.833,  12.9  ],\n",
       "       [  0.667,   0.833,  11.   ],\n",
       "       [  0.833,   0.833,  16.   ],\n",
       "       [  1.   ,   0.833,  13.2  ],\n",
       "       [  0.   ,   0.667,   1.9  ],\n",
       "       [  0.167,   0.667,  14.7  ],\n",
       "       [  0.333,   0.667,  18.5  ],\n",
       "       [  0.5  ,   0.667,  15.3  ],\n",
       "       [  0.667,   0.667,  17.5  ],\n",
       "       [  0.833,   0.667,  12.2  ],\n",
       "       [  1.   ,   0.667,   8.5  ],\n",
       "       [  0.   ,   0.5  ,   3.7  ],\n",
       "       [  0.167,   0.5  ,  11.4  ],\n",
       "       [  0.333,   0.5  ,  11.7  ],\n",
       "       [  0.5  ,   0.5  ,  11.9  ],\n",
       "       [  0.667,   0.5  ,  10.7  ],\n",
       "       [  0.833,   0.5  ,   8.7  ],\n",
       "       [  1.   ,   0.5  ,   8.6  ],\n",
       "       [  0.   ,   0.333,   7.5  ],\n",
       "       [  0.167,   0.333,   5.8  ],\n",
       "       [  0.333,   0.333,   5.6  ],\n",
       "       [  0.5  ,   0.333,   7.9  ],\n",
       "       [  0.667,   0.333,   6.2  ],\n",
       "       [  0.833,   0.333,   3.5  ],\n",
       "       [  1.   ,   0.333,   6.3  ],\n",
       "       [  0.   ,   0.167,   5.   ],\n",
       "       [  0.167,   0.167,   3.3  ],\n",
       "       [  0.333,   0.167,   3.4  ],\n",
       "       [  0.5  ,   0.167,   3.9  ],\n",
       "       [  0.667,   0.167,   2.9  ],\n",
       "       [  0.833,   0.167,   2.3  ],\n",
       "       [  1.   ,   0.167,   3.5  ],\n",
       "       [  0.   ,   0.   ,   5.   ],\n",
       "       [  0.167,   0.   ,   6.5  ],\n",
       "       [  0.333,   0.   ,   5.5  ],\n",
       "       [  0.5  ,   0.   ,   7.1  ],\n",
       "       [  0.667,   0.   ,   6.4  ],\n",
       "       [  0.833,   0.   ,   7.1  ],\n",
       "       [  1.   ,   0.   ,   5.6  ],\n",
       "       [  1.   ,   1.   ,  14.35 ],\n",
       "       [  0.75 ,   1.   ,  13.87 ],\n",
       "       [  0.5  ,   1.   ,  14.19 ],\n",
       "       [  0.25 ,   1.   ,   7.53 ],\n",
       "       [  0.   ,   1.   ,   7.32 ],\n",
       "       [  1.   ,   1.   ,  14.07 ],\n",
       "       [  1.   ,   1.   ,  14.35 ],\n",
       "       [  1.   ,   1.   ,   3.68 ],\n",
       "       [  1.   ,   1.   ,   2.36 ],\n",
       "       [  0.5  ,   1.   ,  14.01 ],\n",
       "       [  1.   ,   1.   ,  16.   ],\n",
       "       [  1.   ,   1.   ,   3.85 ],\n",
       "       [  1.   ,   0.   ,   6.15 ],\n",
       "       [  1.   ,   0.   ,   3.85 ]])"
      ]
     },
     "execution_count": 231,
     "metadata": {},
     "output_type": "execute_result"
    }
   ],
   "source": [
    "combsur"
   ]
  },
  {
   "cell_type": "code",
   "execution_count": null,
   "metadata": {
    "collapsed": true
   },
   "outputs": [],
   "source": []
  }
 ],
 "metadata": {
  "anaconda-cloud": {},
  "kernelspec": {
   "display_name": "Python [default]",
   "language": "python",
   "name": "python3"
  },
  "language_info": {
   "codemirror_mode": {
    "name": "ipython",
    "version": 3
   },
   "file_extension": ".py",
   "mimetype": "text/x-python",
   "name": "python",
   "nbconvert_exporter": "python",
   "pygments_lexer": "ipython3",
   "version": "3.5.2"
  }
 },
 "nbformat": 4,
 "nbformat_minor": 2
}
