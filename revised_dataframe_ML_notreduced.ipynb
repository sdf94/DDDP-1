{
 "cells": [
  {
   "cell_type": "code",
   "execution_count": 103,
   "metadata": {
    "collapsed": true
   },
   "outputs": [],
   "source": [
    "data = pd.read_csv('yq_dataframe.csv')"
   ]
  },
  {
   "cell_type": "code",
   "execution_count": 104,
   "metadata": {
    "collapsed": false
   },
   "outputs": [
    {
     "data": {
      "text/html": [
       "<div>\n",
       "<table border=\"1\" class=\"dataframe\">\n",
       "  <thead>\n",
       "    <tr style=\"text-align: right;\">\n",
       "      <th></th>\n",
       "      <th>A_1</th>\n",
       "      <th>A_2</th>\n",
       "      <th>A_3</th>\n",
       "      <th>B_1</th>\n",
       "      <th>B_2</th>\n",
       "      <th>B_3</th>\n",
       "      <th>X_1</th>\n",
       "      <th>X_2</th>\n",
       "      <th>X_3</th>\n",
       "      <th>E_g</th>\n",
       "      <th>HTL</th>\n",
       "      <th>ETL</th>\n",
       "      <th>Voc(volts)</th>\n",
       "      <th>Jsc</th>\n",
       "      <th>Max PCE</th>\n",
       "      <th>A</th>\n",
       "      <th>B</th>\n",
       "      <th>X</th>\n",
       "    </tr>\n",
       "  </thead>\n",
       "  <tbody>\n",
       "    <tr>\n",
       "      <th>0</th>\n",
       "      <td>Cs/0.0625</td>\n",
       "      <td>MA/0.1875</td>\n",
       "      <td>FA/0.75</td>\n",
       "      <td>Pb/1</td>\n",
       "      <td>NaN</td>\n",
       "      <td>NaN</td>\n",
       "      <td>I/0.83</td>\n",
       "      <td>Br/0.17</td>\n",
       "      <td>NaN</td>\n",
       "      <td>NaN</td>\n",
       "      <td>spiro-OMeTAD</td>\n",
       "      <td>TiO2</td>\n",
       "      <td>1.045</td>\n",
       "      <td>20.7</td>\n",
       "      <td>14.3</td>\n",
       "      <td>Cs/MA/FA</td>\n",
       "      <td>Pb</td>\n",
       "      <td>I/Br</td>\n",
       "    </tr>\n",
       "    <tr>\n",
       "      <th>1</th>\n",
       "      <td>Cs/0.0625</td>\n",
       "      <td>MA/0.1875</td>\n",
       "      <td>FA/0.75</td>\n",
       "      <td>Pb/1</td>\n",
       "      <td>NaN</td>\n",
       "      <td>NaN</td>\n",
       "      <td>I/0.83</td>\n",
       "      <td>Br/0.17</td>\n",
       "      <td>NaN</td>\n",
       "      <td>NaN</td>\n",
       "      <td>spiro-OMeTAD</td>\n",
       "      <td>TiO2</td>\n",
       "      <td>1.021</td>\n",
       "      <td>20.9</td>\n",
       "      <td>12.4</td>\n",
       "      <td>Cs/MA/FA</td>\n",
       "      <td>Pb</td>\n",
       "      <td>I/Br</td>\n",
       "    </tr>\n",
       "    <tr>\n",
       "      <th>2</th>\n",
       "      <td>Cs/0.0525</td>\n",
       "      <td>MA/0.1975</td>\n",
       "      <td>FA/0.75</td>\n",
       "      <td>Pb/1</td>\n",
       "      <td>NaN</td>\n",
       "      <td>NaN</td>\n",
       "      <td>I/0.83</td>\n",
       "      <td>Br/0.17</td>\n",
       "      <td>NaN</td>\n",
       "      <td>NaN</td>\n",
       "      <td>spiro-OMeTAD</td>\n",
       "      <td>TiO2</td>\n",
       "      <td>1.054</td>\n",
       "      <td>20.4</td>\n",
       "      <td>15.9</td>\n",
       "      <td>Cs/MA/FA</td>\n",
       "      <td>Pb</td>\n",
       "      <td>I/Br</td>\n",
       "    </tr>\n",
       "    <tr>\n",
       "      <th>3</th>\n",
       "      <td>Cs/0.0525</td>\n",
       "      <td>MA/0.1975</td>\n",
       "      <td>FA/0.75</td>\n",
       "      <td>Pb/1</td>\n",
       "      <td>NaN</td>\n",
       "      <td>NaN</td>\n",
       "      <td>I/0.83</td>\n",
       "      <td>Br/0.17</td>\n",
       "      <td>NaN</td>\n",
       "      <td>NaN</td>\n",
       "      <td>spiro-OMeTAD</td>\n",
       "      <td>TiO2</td>\n",
       "      <td>1.022</td>\n",
       "      <td>20.7</td>\n",
       "      <td>15.2</td>\n",
       "      <td>Cs/MA/FA</td>\n",
       "      <td>Pb</td>\n",
       "      <td>I/Br</td>\n",
       "    </tr>\n",
       "    <tr>\n",
       "      <th>4</th>\n",
       "      <td>Cs/0.0375</td>\n",
       "      <td>MA/0.2125</td>\n",
       "      <td>FA/0.75</td>\n",
       "      <td>Pb/1</td>\n",
       "      <td>NaN</td>\n",
       "      <td>NaN</td>\n",
       "      <td>I/0.83</td>\n",
       "      <td>Br/0.17</td>\n",
       "      <td>NaN</td>\n",
       "      <td>NaN</td>\n",
       "      <td>spiro-OMeTAD</td>\n",
       "      <td>TiO2</td>\n",
       "      <td>1.050</td>\n",
       "      <td>20.9</td>\n",
       "      <td>16.0</td>\n",
       "      <td>Cs/MA/FA</td>\n",
       "      <td>Pb</td>\n",
       "      <td>I/Br</td>\n",
       "    </tr>\n",
       "    <tr>\n",
       "      <th>5</th>\n",
       "      <td>Cs/0.0375</td>\n",
       "      <td>MA/0.2125</td>\n",
       "      <td>FA/0.75</td>\n",
       "      <td>Pb/1</td>\n",
       "      <td>NaN</td>\n",
       "      <td>NaN</td>\n",
       "      <td>I/0.83</td>\n",
       "      <td>Br/0.17</td>\n",
       "      <td>NaN</td>\n",
       "      <td>NaN</td>\n",
       "      <td>spiro-OMeTAD</td>\n",
       "      <td>TiO2</td>\n",
       "      <td>1.060</td>\n",
       "      <td>21.1</td>\n",
       "      <td>16.8</td>\n",
       "      <td>Cs/MA/FA</td>\n",
       "      <td>Pb</td>\n",
       "      <td>I/Br</td>\n",
       "    </tr>\n",
       "    <tr>\n",
       "      <th>6</th>\n",
       "      <td>Cs/0.025</td>\n",
       "      <td>MA/0.225</td>\n",
       "      <td>FA/0.75</td>\n",
       "      <td>Pb/1</td>\n",
       "      <td>NaN</td>\n",
       "      <td>NaN</td>\n",
       "      <td>I/0.83</td>\n",
       "      <td>Br/0.17</td>\n",
       "      <td>NaN</td>\n",
       "      <td>NaN</td>\n",
       "      <td>spiro-OMeTAD</td>\n",
       "      <td>TiO2</td>\n",
       "      <td>1.076</td>\n",
       "      <td>21.0</td>\n",
       "      <td>14.9</td>\n",
       "      <td>Cs/MA/FA</td>\n",
       "      <td>Pb</td>\n",
       "      <td>I/Br</td>\n",
       "    </tr>\n",
       "    <tr>\n",
       "      <th>7</th>\n",
       "      <td>Cs/0.025</td>\n",
       "      <td>MA/0.225</td>\n",
       "      <td>FA/0.75</td>\n",
       "      <td>Pb/1</td>\n",
       "      <td>NaN</td>\n",
       "      <td>NaN</td>\n",
       "      <td>I/0.83</td>\n",
       "      <td>Br/0.17</td>\n",
       "      <td>NaN</td>\n",
       "      <td>NaN</td>\n",
       "      <td>spiro-OMeTAD</td>\n",
       "      <td>TiO2</td>\n",
       "      <td>1.049</td>\n",
       "      <td>20.7</td>\n",
       "      <td>16.3</td>\n",
       "      <td>Cs/MA/FA</td>\n",
       "      <td>Pb</td>\n",
       "      <td>I/Br</td>\n",
       "    </tr>\n",
       "    <tr>\n",
       "      <th>8</th>\n",
       "      <td>Cs/0.0125</td>\n",
       "      <td>MA/0.2375</td>\n",
       "      <td>FA/0.75</td>\n",
       "      <td>Pb/1</td>\n",
       "      <td>NaN</td>\n",
       "      <td>NaN</td>\n",
       "      <td>I/0.83</td>\n",
       "      <td>Br/0.17</td>\n",
       "      <td>NaN</td>\n",
       "      <td>NaN</td>\n",
       "      <td>spiro-OMeTAD</td>\n",
       "      <td>TiO2</td>\n",
       "      <td>0.913</td>\n",
       "      <td>17.9</td>\n",
       "      <td>8.5</td>\n",
       "      <td>Cs/MA/FA</td>\n",
       "      <td>Pb</td>\n",
       "      <td>I/Br</td>\n",
       "    </tr>\n",
       "    <tr>\n",
       "      <th>9</th>\n",
       "      <td>Cs/0.0289</td>\n",
       "      <td>MA/0.1411</td>\n",
       "      <td>FA/0.83</td>\n",
       "      <td>Pb/1</td>\n",
       "      <td>NaN</td>\n",
       "      <td>NaN</td>\n",
       "      <td>I/0.83</td>\n",
       "      <td>Br/0.17</td>\n",
       "      <td>NaN</td>\n",
       "      <td>NaN</td>\n",
       "      <td>spiro-OMeTAD</td>\n",
       "      <td>TiO2</td>\n",
       "      <td>1.061</td>\n",
       "      <td>20.4</td>\n",
       "      <td>15.8</td>\n",
       "      <td>MA/FA</td>\n",
       "      <td>Pb</td>\n",
       "      <td>I/Br</td>\n",
       "    </tr>\n",
       "  </tbody>\n",
       "</table>\n",
       "</div>"
      ],
      "text/plain": [
       "         A_1        A_2      A_3   B_1  B_2  B_3     X_1      X_2  X_3  E_g  \\\n",
       "0  Cs/0.0625  MA/0.1875  FA/0.75  Pb/1  NaN  NaN  I/0.83  Br/0.17  NaN  NaN   \n",
       "1  Cs/0.0625  MA/0.1875  FA/0.75  Pb/1  NaN  NaN  I/0.83  Br/0.17  NaN  NaN   \n",
       "2  Cs/0.0525  MA/0.1975  FA/0.75  Pb/1  NaN  NaN  I/0.83  Br/0.17  NaN  NaN   \n",
       "3  Cs/0.0525  MA/0.1975  FA/0.75  Pb/1  NaN  NaN  I/0.83  Br/0.17  NaN  NaN   \n",
       "4  Cs/0.0375  MA/0.2125  FA/0.75  Pb/1  NaN  NaN  I/0.83  Br/0.17  NaN  NaN   \n",
       "5  Cs/0.0375  MA/0.2125  FA/0.75  Pb/1  NaN  NaN  I/0.83  Br/0.17  NaN  NaN   \n",
       "6   Cs/0.025   MA/0.225  FA/0.75  Pb/1  NaN  NaN  I/0.83  Br/0.17  NaN  NaN   \n",
       "7   Cs/0.025   MA/0.225  FA/0.75  Pb/1  NaN  NaN  I/0.83  Br/0.17  NaN  NaN   \n",
       "8  Cs/0.0125  MA/0.2375  FA/0.75  Pb/1  NaN  NaN  I/0.83  Br/0.17  NaN  NaN   \n",
       "9  Cs/0.0289  MA/0.1411  FA/0.83  Pb/1  NaN  NaN  I/0.83  Br/0.17  NaN  NaN   \n",
       "\n",
       "            HTL   ETL  Voc(volts)    Jsc  Max PCE         A   B     X  \n",
       "0  spiro-OMeTAD  TiO2        1.045  20.7     14.3  Cs/MA/FA  Pb  I/Br  \n",
       "1  spiro-OMeTAD  TiO2        1.021  20.9     12.4  Cs/MA/FA  Pb  I/Br  \n",
       "2  spiro-OMeTAD  TiO2        1.054  20.4     15.9  Cs/MA/FA  Pb  I/Br  \n",
       "3  spiro-OMeTAD  TiO2        1.022  20.7     15.2  Cs/MA/FA  Pb  I/Br  \n",
       "4  spiro-OMeTAD  TiO2        1.050  20.9     16.0  Cs/MA/FA  Pb  I/Br  \n",
       "5  spiro-OMeTAD  TiO2        1.060  21.1     16.8  Cs/MA/FA  Pb  I/Br  \n",
       "6  spiro-OMeTAD  TiO2        1.076  21.0     14.9  Cs/MA/FA  Pb  I/Br  \n",
       "7  spiro-OMeTAD  TiO2        1.049  20.7     16.3  Cs/MA/FA  Pb  I/Br  \n",
       "8  spiro-OMeTAD  TiO2        0.913  17.9      8.5  Cs/MA/FA  Pb  I/Br  \n",
       "9  spiro-OMeTAD  TiO2        1.061  20.4     15.8     MA/FA  Pb  I/Br  "
      ]
     },
     "execution_count": 104,
     "metadata": {},
     "output_type": "execute_result"
    }
   ],
   "source": [
    "data.head(10)"
   ]
  },
  {
   "cell_type": "code",
   "execution_count": 105,
   "metadata": {
    "collapsed": false
   },
   "outputs": [
    {
     "data": {
      "text/plain": [
       "20.800000000000001"
      ]
     },
     "execution_count": 105,
     "metadata": {},
     "output_type": "execute_result"
    }
   ],
   "source": [
    "data['Max PCE'].max()"
   ]
  },
  {
   "cell_type": "code",
   "execution_count": 106,
   "metadata": {
    "collapsed": false
   },
   "outputs": [
    {
     "data": {
      "text/plain": [
       "Int64Index([97], dtype='int64')"
      ]
     },
     "execution_count": 106,
     "metadata": {},
     "output_type": "execute_result"
    }
   ],
   "source": [
    "data.sort_values('Max PCE', ascending=False)[:1].index"
   ]
  },
  {
   "cell_type": "code",
   "execution_count": 107,
   "metadata": {
    "collapsed": false
   },
   "outputs": [
    {
     "data": {
      "text/plain": [
       "A_1                       FA/1\n",
       "A_2                        NaN\n",
       "A_3                        NaN\n",
       "B_1                       Pb/1\n",
       "B_2                        NaN\n",
       "B_3                        NaN\n",
       "X_1                    I/0.952\n",
       "X_2                   Br/0.048\n",
       "X_3                        NaN\n",
       "E_g                        NaN\n",
       "HTL               Spiro-OMeTAD\n",
       "ETL            mesoporous TiO2\n",
       "Voc(volts)                1.16\n",
       "Jsc                       24.6\n",
       "Max PCE                   20.8\n",
       "A                           FA\n",
       "B                           Pb\n",
       "X                            I\n",
       "Name: 97, dtype: object"
      ]
     },
     "execution_count": 107,
     "metadata": {},
     "output_type": "execute_result"
    }
   ],
   "source": [
    "data.loc[97]"
   ]
  },
  {
   "cell_type": "code",
   "execution_count": 108,
   "metadata": {
    "collapsed": true
   },
   "outputs": [],
   "source": [
    "data1 = pd.DataFrame()\n",
    "# split the element and its ratio\n",
    "data1['A1'], data1['A1_ratio'] = data['A_1'].str.split('/',1).str\n",
    "data1['A2'], data1['A2_ratio'] = data['A_2'].str.split('/',1).str\n",
    "data1['A3'], data1['A3_ratio'] = data['A_3'].str.split('/',1).str\n",
    "data1['B1'], data1['B1_ratio'] = data['B_1'].str.split('/',1).str\n",
    "data1['B2'], data1['B2_ratio'] = data['B_2'].str.split('/',1).str\n",
    "data1['X1'], data1['X1_ratio'] = data['X_1'].str.split('/',1).str\n",
    "data1['X2'], data1['X2_ratio'] = data['X_2'].str.split('/',1).str\n",
    "data1['PCE'] = data['Max PCE']\n",
    "data1['A'] = data['A'] \n",
    "data1['B'] = data['B']\n",
    "data1['X'] = data['X']\n",
    "data1 = data1.fillna(0)"
   ]
  },
  {
   "cell_type": "code",
   "execution_count": 109,
   "metadata": {
    "collapsed": false
   },
   "outputs": [
    {
     "data": {
      "text/html": [
       "<div>\n",
       "<table border=\"1\" class=\"dataframe\">\n",
       "  <thead>\n",
       "    <tr style=\"text-align: right;\">\n",
       "      <th></th>\n",
       "      <th>A1</th>\n",
       "      <th>A1_ratio</th>\n",
       "      <th>A2</th>\n",
       "      <th>A2_ratio</th>\n",
       "      <th>A3</th>\n",
       "      <th>A3_ratio</th>\n",
       "      <th>B1</th>\n",
       "      <th>B1_ratio</th>\n",
       "      <th>B2</th>\n",
       "      <th>B2_ratio</th>\n",
       "      <th>X1</th>\n",
       "      <th>X1_ratio</th>\n",
       "      <th>X2</th>\n",
       "      <th>X2_ratio</th>\n",
       "      <th>PCE</th>\n",
       "      <th>A</th>\n",
       "      <th>B</th>\n",
       "      <th>X</th>\n",
       "    </tr>\n",
       "  </thead>\n",
       "  <tbody>\n",
       "    <tr>\n",
       "      <th>0</th>\n",
       "      <td>Cs</td>\n",
       "      <td>0.0625</td>\n",
       "      <td>MA</td>\n",
       "      <td>0.1875</td>\n",
       "      <td>FA</td>\n",
       "      <td>0.75</td>\n",
       "      <td>Pb</td>\n",
       "      <td>1</td>\n",
       "      <td>0</td>\n",
       "      <td>0</td>\n",
       "      <td>I</td>\n",
       "      <td>0.83</td>\n",
       "      <td>Br</td>\n",
       "      <td>0.17</td>\n",
       "      <td>14.3</td>\n",
       "      <td>Cs/MA/FA</td>\n",
       "      <td>Pb</td>\n",
       "      <td>I/Br</td>\n",
       "    </tr>\n",
       "    <tr>\n",
       "      <th>1</th>\n",
       "      <td>Cs</td>\n",
       "      <td>0.0625</td>\n",
       "      <td>MA</td>\n",
       "      <td>0.1875</td>\n",
       "      <td>FA</td>\n",
       "      <td>0.75</td>\n",
       "      <td>Pb</td>\n",
       "      <td>1</td>\n",
       "      <td>0</td>\n",
       "      <td>0</td>\n",
       "      <td>I</td>\n",
       "      <td>0.83</td>\n",
       "      <td>Br</td>\n",
       "      <td>0.17</td>\n",
       "      <td>12.4</td>\n",
       "      <td>Cs/MA/FA</td>\n",
       "      <td>Pb</td>\n",
       "      <td>I/Br</td>\n",
       "    </tr>\n",
       "    <tr>\n",
       "      <th>2</th>\n",
       "      <td>Cs</td>\n",
       "      <td>0.0525</td>\n",
       "      <td>MA</td>\n",
       "      <td>0.1975</td>\n",
       "      <td>FA</td>\n",
       "      <td>0.75</td>\n",
       "      <td>Pb</td>\n",
       "      <td>1</td>\n",
       "      <td>0</td>\n",
       "      <td>0</td>\n",
       "      <td>I</td>\n",
       "      <td>0.83</td>\n",
       "      <td>Br</td>\n",
       "      <td>0.17</td>\n",
       "      <td>15.9</td>\n",
       "      <td>Cs/MA/FA</td>\n",
       "      <td>Pb</td>\n",
       "      <td>I/Br</td>\n",
       "    </tr>\n",
       "    <tr>\n",
       "      <th>3</th>\n",
       "      <td>Cs</td>\n",
       "      <td>0.0525</td>\n",
       "      <td>MA</td>\n",
       "      <td>0.1975</td>\n",
       "      <td>FA</td>\n",
       "      <td>0.75</td>\n",
       "      <td>Pb</td>\n",
       "      <td>1</td>\n",
       "      <td>0</td>\n",
       "      <td>0</td>\n",
       "      <td>I</td>\n",
       "      <td>0.83</td>\n",
       "      <td>Br</td>\n",
       "      <td>0.17</td>\n",
       "      <td>15.2</td>\n",
       "      <td>Cs/MA/FA</td>\n",
       "      <td>Pb</td>\n",
       "      <td>I/Br</td>\n",
       "    </tr>\n",
       "    <tr>\n",
       "      <th>4</th>\n",
       "      <td>Cs</td>\n",
       "      <td>0.0375</td>\n",
       "      <td>MA</td>\n",
       "      <td>0.2125</td>\n",
       "      <td>FA</td>\n",
       "      <td>0.75</td>\n",
       "      <td>Pb</td>\n",
       "      <td>1</td>\n",
       "      <td>0</td>\n",
       "      <td>0</td>\n",
       "      <td>I</td>\n",
       "      <td>0.83</td>\n",
       "      <td>Br</td>\n",
       "      <td>0.17</td>\n",
       "      <td>16.0</td>\n",
       "      <td>Cs/MA/FA</td>\n",
       "      <td>Pb</td>\n",
       "      <td>I/Br</td>\n",
       "    </tr>\n",
       "    <tr>\n",
       "      <th>5</th>\n",
       "      <td>Cs</td>\n",
       "      <td>0.0375</td>\n",
       "      <td>MA</td>\n",
       "      <td>0.2125</td>\n",
       "      <td>FA</td>\n",
       "      <td>0.75</td>\n",
       "      <td>Pb</td>\n",
       "      <td>1</td>\n",
       "      <td>0</td>\n",
       "      <td>0</td>\n",
       "      <td>I</td>\n",
       "      <td>0.83</td>\n",
       "      <td>Br</td>\n",
       "      <td>0.17</td>\n",
       "      <td>16.8</td>\n",
       "      <td>Cs/MA/FA</td>\n",
       "      <td>Pb</td>\n",
       "      <td>I/Br</td>\n",
       "    </tr>\n",
       "    <tr>\n",
       "      <th>6</th>\n",
       "      <td>Cs</td>\n",
       "      <td>0.025</td>\n",
       "      <td>MA</td>\n",
       "      <td>0.225</td>\n",
       "      <td>FA</td>\n",
       "      <td>0.75</td>\n",
       "      <td>Pb</td>\n",
       "      <td>1</td>\n",
       "      <td>0</td>\n",
       "      <td>0</td>\n",
       "      <td>I</td>\n",
       "      <td>0.83</td>\n",
       "      <td>Br</td>\n",
       "      <td>0.17</td>\n",
       "      <td>14.9</td>\n",
       "      <td>Cs/MA/FA</td>\n",
       "      <td>Pb</td>\n",
       "      <td>I/Br</td>\n",
       "    </tr>\n",
       "    <tr>\n",
       "      <th>7</th>\n",
       "      <td>Cs</td>\n",
       "      <td>0.025</td>\n",
       "      <td>MA</td>\n",
       "      <td>0.225</td>\n",
       "      <td>FA</td>\n",
       "      <td>0.75</td>\n",
       "      <td>Pb</td>\n",
       "      <td>1</td>\n",
       "      <td>0</td>\n",
       "      <td>0</td>\n",
       "      <td>I</td>\n",
       "      <td>0.83</td>\n",
       "      <td>Br</td>\n",
       "      <td>0.17</td>\n",
       "      <td>16.3</td>\n",
       "      <td>Cs/MA/FA</td>\n",
       "      <td>Pb</td>\n",
       "      <td>I/Br</td>\n",
       "    </tr>\n",
       "    <tr>\n",
       "      <th>8</th>\n",
       "      <td>Cs</td>\n",
       "      <td>0.0125</td>\n",
       "      <td>MA</td>\n",
       "      <td>0.2375</td>\n",
       "      <td>FA</td>\n",
       "      <td>0.75</td>\n",
       "      <td>Pb</td>\n",
       "      <td>1</td>\n",
       "      <td>0</td>\n",
       "      <td>0</td>\n",
       "      <td>I</td>\n",
       "      <td>0.83</td>\n",
       "      <td>Br</td>\n",
       "      <td>0.17</td>\n",
       "      <td>8.5</td>\n",
       "      <td>Cs/MA/FA</td>\n",
       "      <td>Pb</td>\n",
       "      <td>I/Br</td>\n",
       "    </tr>\n",
       "    <tr>\n",
       "      <th>9</th>\n",
       "      <td>Cs</td>\n",
       "      <td>0.0289</td>\n",
       "      <td>MA</td>\n",
       "      <td>0.1411</td>\n",
       "      <td>FA</td>\n",
       "      <td>0.83</td>\n",
       "      <td>Pb</td>\n",
       "      <td>1</td>\n",
       "      <td>0</td>\n",
       "      <td>0</td>\n",
       "      <td>I</td>\n",
       "      <td>0.83</td>\n",
       "      <td>Br</td>\n",
       "      <td>0.17</td>\n",
       "      <td>15.8</td>\n",
       "      <td>MA/FA</td>\n",
       "      <td>Pb</td>\n",
       "      <td>I/Br</td>\n",
       "    </tr>\n",
       "  </tbody>\n",
       "</table>\n",
       "</div>"
      ],
      "text/plain": [
       "   A1 A1_ratio  A2 A2_ratio  A3 A3_ratio  B1 B1_ratio B2 B2_ratio X1 X1_ratio  \\\n",
       "0  Cs   0.0625  MA   0.1875  FA     0.75  Pb        1  0        0  I     0.83   \n",
       "1  Cs   0.0625  MA   0.1875  FA     0.75  Pb        1  0        0  I     0.83   \n",
       "2  Cs   0.0525  MA   0.1975  FA     0.75  Pb        1  0        0  I     0.83   \n",
       "3  Cs   0.0525  MA   0.1975  FA     0.75  Pb        1  0        0  I     0.83   \n",
       "4  Cs   0.0375  MA   0.2125  FA     0.75  Pb        1  0        0  I     0.83   \n",
       "5  Cs   0.0375  MA   0.2125  FA     0.75  Pb        1  0        0  I     0.83   \n",
       "6  Cs    0.025  MA    0.225  FA     0.75  Pb        1  0        0  I     0.83   \n",
       "7  Cs    0.025  MA    0.225  FA     0.75  Pb        1  0        0  I     0.83   \n",
       "8  Cs   0.0125  MA   0.2375  FA     0.75  Pb        1  0        0  I     0.83   \n",
       "9  Cs   0.0289  MA   0.1411  FA     0.83  Pb        1  0        0  I     0.83   \n",
       "\n",
       "   X2 X2_ratio   PCE         A   B     X  \n",
       "0  Br     0.17  14.3  Cs/MA/FA  Pb  I/Br  \n",
       "1  Br     0.17  12.4  Cs/MA/FA  Pb  I/Br  \n",
       "2  Br     0.17  15.9  Cs/MA/FA  Pb  I/Br  \n",
       "3  Br     0.17  15.2  Cs/MA/FA  Pb  I/Br  \n",
       "4  Br     0.17  16.0  Cs/MA/FA  Pb  I/Br  \n",
       "5  Br     0.17  16.8  Cs/MA/FA  Pb  I/Br  \n",
       "6  Br     0.17  14.9  Cs/MA/FA  Pb  I/Br  \n",
       "7  Br     0.17  16.3  Cs/MA/FA  Pb  I/Br  \n",
       "8  Br     0.17   8.5  Cs/MA/FA  Pb  I/Br  \n",
       "9  Br     0.17  15.8     MA/FA  Pb  I/Br  "
      ]
     },
     "execution_count": 109,
     "metadata": {},
     "output_type": "execute_result"
    }
   ],
   "source": [
    "data1 = data1.fillna(0)\n",
    "data1.head(10)"
   ]
  },
  {
   "cell_type": "code",
   "execution_count": 110,
   "metadata": {
    "collapsed": false
   },
   "outputs": [],
   "source": [
    "data1['A_sum'] = data1['A1_ratio'].astype(float) + data1['A2_ratio'].astype(float) + data1['A3_ratio'].astype(float)\n",
    "data1['B_sum'] = data1['B1_ratio'].astype(float) + data1['B2_ratio'].astype(float)\n",
    "data1['X_sum'] = data1['X1_ratio'].astype(float) + data1['X2_ratio'].astype(float)"
   ]
  },
  {
   "cell_type": "code",
   "execution_count": 111,
   "metadata": {
    "collapsed": false
   },
   "outputs": [
    {
     "data": {
      "text/html": [
       "<div>\n",
       "<table border=\"1\" class=\"dataframe\">\n",
       "  <thead>\n",
       "    <tr style=\"text-align: right;\">\n",
       "      <th></th>\n",
       "      <th>A1</th>\n",
       "      <th>A1_ratio</th>\n",
       "      <th>A2</th>\n",
       "      <th>A2_ratio</th>\n",
       "      <th>A3</th>\n",
       "      <th>A3_ratio</th>\n",
       "      <th>B1</th>\n",
       "      <th>B1_ratio</th>\n",
       "      <th>B2</th>\n",
       "      <th>B2_ratio</th>\n",
       "      <th>...</th>\n",
       "      <th>X1_ratio</th>\n",
       "      <th>X2</th>\n",
       "      <th>X2_ratio</th>\n",
       "      <th>PCE</th>\n",
       "      <th>A</th>\n",
       "      <th>B</th>\n",
       "      <th>X</th>\n",
       "      <th>A_sum</th>\n",
       "      <th>B_sum</th>\n",
       "      <th>X_sum</th>\n",
       "    </tr>\n",
       "  </thead>\n",
       "  <tbody>\n",
       "    <tr>\n",
       "      <th>0</th>\n",
       "      <td>Cs</td>\n",
       "      <td>0.0625</td>\n",
       "      <td>MA</td>\n",
       "      <td>0.1875</td>\n",
       "      <td>FA</td>\n",
       "      <td>0.75</td>\n",
       "      <td>Pb</td>\n",
       "      <td>1</td>\n",
       "      <td>0</td>\n",
       "      <td>0</td>\n",
       "      <td>...</td>\n",
       "      <td>0.83</td>\n",
       "      <td>Br</td>\n",
       "      <td>0.17</td>\n",
       "      <td>14.3</td>\n",
       "      <td>Cs/MA/FA</td>\n",
       "      <td>Pb</td>\n",
       "      <td>I/Br</td>\n",
       "      <td>1.0</td>\n",
       "      <td>1.0</td>\n",
       "      <td>1.0</td>\n",
       "    </tr>\n",
       "    <tr>\n",
       "      <th>1</th>\n",
       "      <td>Cs</td>\n",
       "      <td>0.0625</td>\n",
       "      <td>MA</td>\n",
       "      <td>0.1875</td>\n",
       "      <td>FA</td>\n",
       "      <td>0.75</td>\n",
       "      <td>Pb</td>\n",
       "      <td>1</td>\n",
       "      <td>0</td>\n",
       "      <td>0</td>\n",
       "      <td>...</td>\n",
       "      <td>0.83</td>\n",
       "      <td>Br</td>\n",
       "      <td>0.17</td>\n",
       "      <td>12.4</td>\n",
       "      <td>Cs/MA/FA</td>\n",
       "      <td>Pb</td>\n",
       "      <td>I/Br</td>\n",
       "      <td>1.0</td>\n",
       "      <td>1.0</td>\n",
       "      <td>1.0</td>\n",
       "    </tr>\n",
       "    <tr>\n",
       "      <th>2</th>\n",
       "      <td>Cs</td>\n",
       "      <td>0.0525</td>\n",
       "      <td>MA</td>\n",
       "      <td>0.1975</td>\n",
       "      <td>FA</td>\n",
       "      <td>0.75</td>\n",
       "      <td>Pb</td>\n",
       "      <td>1</td>\n",
       "      <td>0</td>\n",
       "      <td>0</td>\n",
       "      <td>...</td>\n",
       "      <td>0.83</td>\n",
       "      <td>Br</td>\n",
       "      <td>0.17</td>\n",
       "      <td>15.9</td>\n",
       "      <td>Cs/MA/FA</td>\n",
       "      <td>Pb</td>\n",
       "      <td>I/Br</td>\n",
       "      <td>1.0</td>\n",
       "      <td>1.0</td>\n",
       "      <td>1.0</td>\n",
       "    </tr>\n",
       "    <tr>\n",
       "      <th>3</th>\n",
       "      <td>Cs</td>\n",
       "      <td>0.0525</td>\n",
       "      <td>MA</td>\n",
       "      <td>0.1975</td>\n",
       "      <td>FA</td>\n",
       "      <td>0.75</td>\n",
       "      <td>Pb</td>\n",
       "      <td>1</td>\n",
       "      <td>0</td>\n",
       "      <td>0</td>\n",
       "      <td>...</td>\n",
       "      <td>0.83</td>\n",
       "      <td>Br</td>\n",
       "      <td>0.17</td>\n",
       "      <td>15.2</td>\n",
       "      <td>Cs/MA/FA</td>\n",
       "      <td>Pb</td>\n",
       "      <td>I/Br</td>\n",
       "      <td>1.0</td>\n",
       "      <td>1.0</td>\n",
       "      <td>1.0</td>\n",
       "    </tr>\n",
       "    <tr>\n",
       "      <th>4</th>\n",
       "      <td>Cs</td>\n",
       "      <td>0.0375</td>\n",
       "      <td>MA</td>\n",
       "      <td>0.2125</td>\n",
       "      <td>FA</td>\n",
       "      <td>0.75</td>\n",
       "      <td>Pb</td>\n",
       "      <td>1</td>\n",
       "      <td>0</td>\n",
       "      <td>0</td>\n",
       "      <td>...</td>\n",
       "      <td>0.83</td>\n",
       "      <td>Br</td>\n",
       "      <td>0.17</td>\n",
       "      <td>16.0</td>\n",
       "      <td>Cs/MA/FA</td>\n",
       "      <td>Pb</td>\n",
       "      <td>I/Br</td>\n",
       "      <td>1.0</td>\n",
       "      <td>1.0</td>\n",
       "      <td>1.0</td>\n",
       "    </tr>\n",
       "    <tr>\n",
       "      <th>5</th>\n",
       "      <td>Cs</td>\n",
       "      <td>0.0375</td>\n",
       "      <td>MA</td>\n",
       "      <td>0.2125</td>\n",
       "      <td>FA</td>\n",
       "      <td>0.75</td>\n",
       "      <td>Pb</td>\n",
       "      <td>1</td>\n",
       "      <td>0</td>\n",
       "      <td>0</td>\n",
       "      <td>...</td>\n",
       "      <td>0.83</td>\n",
       "      <td>Br</td>\n",
       "      <td>0.17</td>\n",
       "      <td>16.8</td>\n",
       "      <td>Cs/MA/FA</td>\n",
       "      <td>Pb</td>\n",
       "      <td>I/Br</td>\n",
       "      <td>1.0</td>\n",
       "      <td>1.0</td>\n",
       "      <td>1.0</td>\n",
       "    </tr>\n",
       "    <tr>\n",
       "      <th>6</th>\n",
       "      <td>Cs</td>\n",
       "      <td>0.025</td>\n",
       "      <td>MA</td>\n",
       "      <td>0.225</td>\n",
       "      <td>FA</td>\n",
       "      <td>0.75</td>\n",
       "      <td>Pb</td>\n",
       "      <td>1</td>\n",
       "      <td>0</td>\n",
       "      <td>0</td>\n",
       "      <td>...</td>\n",
       "      <td>0.83</td>\n",
       "      <td>Br</td>\n",
       "      <td>0.17</td>\n",
       "      <td>14.9</td>\n",
       "      <td>Cs/MA/FA</td>\n",
       "      <td>Pb</td>\n",
       "      <td>I/Br</td>\n",
       "      <td>1.0</td>\n",
       "      <td>1.0</td>\n",
       "      <td>1.0</td>\n",
       "    </tr>\n",
       "    <tr>\n",
       "      <th>7</th>\n",
       "      <td>Cs</td>\n",
       "      <td>0.025</td>\n",
       "      <td>MA</td>\n",
       "      <td>0.225</td>\n",
       "      <td>FA</td>\n",
       "      <td>0.75</td>\n",
       "      <td>Pb</td>\n",
       "      <td>1</td>\n",
       "      <td>0</td>\n",
       "      <td>0</td>\n",
       "      <td>...</td>\n",
       "      <td>0.83</td>\n",
       "      <td>Br</td>\n",
       "      <td>0.17</td>\n",
       "      <td>16.3</td>\n",
       "      <td>Cs/MA/FA</td>\n",
       "      <td>Pb</td>\n",
       "      <td>I/Br</td>\n",
       "      <td>1.0</td>\n",
       "      <td>1.0</td>\n",
       "      <td>1.0</td>\n",
       "    </tr>\n",
       "    <tr>\n",
       "      <th>8</th>\n",
       "      <td>Cs</td>\n",
       "      <td>0.0125</td>\n",
       "      <td>MA</td>\n",
       "      <td>0.2375</td>\n",
       "      <td>FA</td>\n",
       "      <td>0.75</td>\n",
       "      <td>Pb</td>\n",
       "      <td>1</td>\n",
       "      <td>0</td>\n",
       "      <td>0</td>\n",
       "      <td>...</td>\n",
       "      <td>0.83</td>\n",
       "      <td>Br</td>\n",
       "      <td>0.17</td>\n",
       "      <td>8.5</td>\n",
       "      <td>Cs/MA/FA</td>\n",
       "      <td>Pb</td>\n",
       "      <td>I/Br</td>\n",
       "      <td>1.0</td>\n",
       "      <td>1.0</td>\n",
       "      <td>1.0</td>\n",
       "    </tr>\n",
       "    <tr>\n",
       "      <th>9</th>\n",
       "      <td>Cs</td>\n",
       "      <td>0.0289</td>\n",
       "      <td>MA</td>\n",
       "      <td>0.1411</td>\n",
       "      <td>FA</td>\n",
       "      <td>0.83</td>\n",
       "      <td>Pb</td>\n",
       "      <td>1</td>\n",
       "      <td>0</td>\n",
       "      <td>0</td>\n",
       "      <td>...</td>\n",
       "      <td>0.83</td>\n",
       "      <td>Br</td>\n",
       "      <td>0.17</td>\n",
       "      <td>15.8</td>\n",
       "      <td>MA/FA</td>\n",
       "      <td>Pb</td>\n",
       "      <td>I/Br</td>\n",
       "      <td>1.0</td>\n",
       "      <td>1.0</td>\n",
       "      <td>1.0</td>\n",
       "    </tr>\n",
       "  </tbody>\n",
       "</table>\n",
       "<p>10 rows × 21 columns</p>\n",
       "</div>"
      ],
      "text/plain": [
       "   A1 A1_ratio  A2 A2_ratio  A3 A3_ratio  B1 B1_ratio B2 B2_ratio  ...    \\\n",
       "0  Cs   0.0625  MA   0.1875  FA     0.75  Pb        1  0        0  ...     \n",
       "1  Cs   0.0625  MA   0.1875  FA     0.75  Pb        1  0        0  ...     \n",
       "2  Cs   0.0525  MA   0.1975  FA     0.75  Pb        1  0        0  ...     \n",
       "3  Cs   0.0525  MA   0.1975  FA     0.75  Pb        1  0        0  ...     \n",
       "4  Cs   0.0375  MA   0.2125  FA     0.75  Pb        1  0        0  ...     \n",
       "5  Cs   0.0375  MA   0.2125  FA     0.75  Pb        1  0        0  ...     \n",
       "6  Cs    0.025  MA    0.225  FA     0.75  Pb        1  0        0  ...     \n",
       "7  Cs    0.025  MA    0.225  FA     0.75  Pb        1  0        0  ...     \n",
       "8  Cs   0.0125  MA   0.2375  FA     0.75  Pb        1  0        0  ...     \n",
       "9  Cs   0.0289  MA   0.1411  FA     0.83  Pb        1  0        0  ...     \n",
       "\n",
       "  X1_ratio  X2 X2_ratio   PCE         A   B     X A_sum  B_sum  X_sum  \n",
       "0     0.83  Br     0.17  14.3  Cs/MA/FA  Pb  I/Br   1.0    1.0    1.0  \n",
       "1     0.83  Br     0.17  12.4  Cs/MA/FA  Pb  I/Br   1.0    1.0    1.0  \n",
       "2     0.83  Br     0.17  15.9  Cs/MA/FA  Pb  I/Br   1.0    1.0    1.0  \n",
       "3     0.83  Br     0.17  15.2  Cs/MA/FA  Pb  I/Br   1.0    1.0    1.0  \n",
       "4     0.83  Br     0.17  16.0  Cs/MA/FA  Pb  I/Br   1.0    1.0    1.0  \n",
       "5     0.83  Br     0.17  16.8  Cs/MA/FA  Pb  I/Br   1.0    1.0    1.0  \n",
       "6     0.83  Br     0.17  14.9  Cs/MA/FA  Pb  I/Br   1.0    1.0    1.0  \n",
       "7     0.83  Br     0.17  16.3  Cs/MA/FA  Pb  I/Br   1.0    1.0    1.0  \n",
       "8     0.83  Br     0.17   8.5  Cs/MA/FA  Pb  I/Br   1.0    1.0    1.0  \n",
       "9     0.83  Br     0.17  15.8     MA/FA  Pb  I/Br   1.0    1.0    1.0  \n",
       "\n",
       "[10 rows x 21 columns]"
      ]
     },
     "execution_count": 111,
     "metadata": {},
     "output_type": "execute_result"
    }
   ],
   "source": [
    "data1.head(10)"
   ]
  },
  {
   "cell_type": "code",
   "execution_count": 112,
   "metadata": {
    "collapsed": false
   },
   "outputs": [
    {
     "data": {
      "text/html": [
       "<div>\n",
       "<table border=\"1\" class=\"dataframe\">\n",
       "  <thead>\n",
       "    <tr style=\"text-align: right;\">\n",
       "      <th></th>\n",
       "      <th>A1</th>\n",
       "      <th>A1_ratio</th>\n",
       "      <th>A2</th>\n",
       "      <th>A2_ratio</th>\n",
       "      <th>A3</th>\n",
       "      <th>A3_ratio</th>\n",
       "      <th>B1</th>\n",
       "      <th>B1_ratio</th>\n",
       "      <th>B2</th>\n",
       "      <th>B2_ratio</th>\n",
       "      <th>...</th>\n",
       "      <th>X1_ratio</th>\n",
       "      <th>X2</th>\n",
       "      <th>X2_ratio</th>\n",
       "      <th>PCE</th>\n",
       "      <th>A</th>\n",
       "      <th>B</th>\n",
       "      <th>X</th>\n",
       "      <th>A_sum</th>\n",
       "      <th>B_sum</th>\n",
       "      <th>X_sum</th>\n",
       "    </tr>\n",
       "  </thead>\n",
       "  <tbody>\n",
       "    <tr>\n",
       "      <th>20</th>\n",
       "      <td>Al3+</td>\n",
       "      <td>0.075</td>\n",
       "      <td>MA</td>\n",
       "      <td>1.0</td>\n",
       "      <td>0</td>\n",
       "      <td>0</td>\n",
       "      <td>Pb</td>\n",
       "      <td>1</td>\n",
       "      <td>0</td>\n",
       "      <td>0</td>\n",
       "      <td>...</td>\n",
       "      <td>1.0</td>\n",
       "      <td>0</td>\n",
       "      <td>0</td>\n",
       "      <td>13.6</td>\n",
       "      <td>MA</td>\n",
       "      <td>Pb</td>\n",
       "      <td>I</td>\n",
       "      <td>1.0750</td>\n",
       "      <td>1.0</td>\n",
       "      <td>1.000</td>\n",
       "    </tr>\n",
       "    <tr>\n",
       "      <th>21</th>\n",
       "      <td>Al3+</td>\n",
       "      <td>0.15</td>\n",
       "      <td>MA</td>\n",
       "      <td>1.0</td>\n",
       "      <td>0</td>\n",
       "      <td>0</td>\n",
       "      <td>Pb</td>\n",
       "      <td>1</td>\n",
       "      <td>0</td>\n",
       "      <td>0</td>\n",
       "      <td>...</td>\n",
       "      <td>1.0</td>\n",
       "      <td>0</td>\n",
       "      <td>0</td>\n",
       "      <td>15.8</td>\n",
       "      <td>Al/MA</td>\n",
       "      <td>Pb</td>\n",
       "      <td>I</td>\n",
       "      <td>1.1500</td>\n",
       "      <td>1.0</td>\n",
       "      <td>1.000</td>\n",
       "    </tr>\n",
       "    <tr>\n",
       "      <th>22</th>\n",
       "      <td>Al3+</td>\n",
       "      <td>0.3</td>\n",
       "      <td>MA</td>\n",
       "      <td>1.0</td>\n",
       "      <td>0</td>\n",
       "      <td>0</td>\n",
       "      <td>Pb</td>\n",
       "      <td>1</td>\n",
       "      <td>0</td>\n",
       "      <td>0</td>\n",
       "      <td>...</td>\n",
       "      <td>1.0</td>\n",
       "      <td>0</td>\n",
       "      <td>0</td>\n",
       "      <td>14.2</td>\n",
       "      <td>Al/MA</td>\n",
       "      <td>Pb</td>\n",
       "      <td>I</td>\n",
       "      <td>1.3000</td>\n",
       "      <td>1.0</td>\n",
       "      <td>1.000</td>\n",
       "    </tr>\n",
       "    <tr>\n",
       "      <th>23</th>\n",
       "      <td>Al3+</td>\n",
       "      <td>0.75</td>\n",
       "      <td>MA</td>\n",
       "      <td>1.0</td>\n",
       "      <td>0</td>\n",
       "      <td>0</td>\n",
       "      <td>Pb</td>\n",
       "      <td>1</td>\n",
       "      <td>0</td>\n",
       "      <td>0</td>\n",
       "      <td>...</td>\n",
       "      <td>1.0</td>\n",
       "      <td>0</td>\n",
       "      <td>0</td>\n",
       "      <td>9.8</td>\n",
       "      <td>Al/MA</td>\n",
       "      <td>Pb</td>\n",
       "      <td>I</td>\n",
       "      <td>1.7500</td>\n",
       "      <td>1.0</td>\n",
       "      <td>1.000</td>\n",
       "    </tr>\n",
       "    <tr>\n",
       "      <th>24</th>\n",
       "      <td>Al3+</td>\n",
       "      <td>1.5</td>\n",
       "      <td>MA</td>\n",
       "      <td>1.0</td>\n",
       "      <td>0</td>\n",
       "      <td>0</td>\n",
       "      <td>Pb</td>\n",
       "      <td>1</td>\n",
       "      <td>0</td>\n",
       "      <td>0</td>\n",
       "      <td>...</td>\n",
       "      <td>1.0</td>\n",
       "      <td>0</td>\n",
       "      <td>0</td>\n",
       "      <td>5.5</td>\n",
       "      <td>Al/MA</td>\n",
       "      <td>Pb</td>\n",
       "      <td>I</td>\n",
       "      <td>2.5000</td>\n",
       "      <td>1.0</td>\n",
       "      <td>1.000</td>\n",
       "    </tr>\n",
       "    <tr>\n",
       "      <th>67</th>\n",
       "      <td>FA</td>\n",
       "      <td>0.81</td>\n",
       "      <td>MA</td>\n",
       "      <td>0.15</td>\n",
       "      <td>0</td>\n",
       "      <td>0</td>\n",
       "      <td>Pb</td>\n",
       "      <td>1.0</td>\n",
       "      <td>0</td>\n",
       "      <td>0</td>\n",
       "      <td>...</td>\n",
       "      <td>0.836</td>\n",
       "      <td>Br</td>\n",
       "      <td>0.15</td>\n",
       "      <td>16.1</td>\n",
       "      <td>FA/Cs</td>\n",
       "      <td>Pb</td>\n",
       "      <td>I/SCN</td>\n",
       "      <td>0.9600</td>\n",
       "      <td>1.0</td>\n",
       "      <td>0.986</td>\n",
       "    </tr>\n",
       "    <tr>\n",
       "      <th>68</th>\n",
       "      <td>FA</td>\n",
       "      <td>0.81</td>\n",
       "      <td>MA</td>\n",
       "      <td>0.15</td>\n",
       "      <td>0</td>\n",
       "      <td>0</td>\n",
       "      <td>Pb</td>\n",
       "      <td>1.0</td>\n",
       "      <td>0</td>\n",
       "      <td>0</td>\n",
       "      <td>...</td>\n",
       "      <td>0.836</td>\n",
       "      <td>Br</td>\n",
       "      <td>0.15</td>\n",
       "      <td>17.2</td>\n",
       "      <td>FA/MA</td>\n",
       "      <td>Pb</td>\n",
       "      <td>I/Br</td>\n",
       "      <td>0.9600</td>\n",
       "      <td>1.0</td>\n",
       "      <td>0.986</td>\n",
       "    </tr>\n",
       "    <tr>\n",
       "      <th>104</th>\n",
       "      <td>Al</td>\n",
       "      <td>0.00075</td>\n",
       "      <td>MA</td>\n",
       "      <td>0.99775</td>\n",
       "      <td>0</td>\n",
       "      <td>0</td>\n",
       "      <td>Pb</td>\n",
       "      <td>1</td>\n",
       "      <td>0</td>\n",
       "      <td>0</td>\n",
       "      <td>...</td>\n",
       "      <td>1</td>\n",
       "      <td>0</td>\n",
       "      <td>0</td>\n",
       "      <td>16.4</td>\n",
       "      <td>MA</td>\n",
       "      <td>Pb</td>\n",
       "      <td>I</td>\n",
       "      <td>0.9985</td>\n",
       "      <td>1.0</td>\n",
       "      <td>1.000</td>\n",
       "    </tr>\n",
       "    <tr>\n",
       "      <th>105</th>\n",
       "      <td>Al</td>\n",
       "      <td>0.0015</td>\n",
       "      <td>MA</td>\n",
       "      <td>0.9955</td>\n",
       "      <td>0</td>\n",
       "      <td>0</td>\n",
       "      <td>Pb</td>\n",
       "      <td>1</td>\n",
       "      <td>0</td>\n",
       "      <td>0</td>\n",
       "      <td>...</td>\n",
       "      <td>1</td>\n",
       "      <td>0</td>\n",
       "      <td>0</td>\n",
       "      <td>18.2</td>\n",
       "      <td>Al/MA</td>\n",
       "      <td>Pb</td>\n",
       "      <td>I</td>\n",
       "      <td>0.9970</td>\n",
       "      <td>1.0</td>\n",
       "      <td>1.000</td>\n",
       "    </tr>\n",
       "    <tr>\n",
       "      <th>106</th>\n",
       "      <td>Al</td>\n",
       "      <td>0.003</td>\n",
       "      <td>MA</td>\n",
       "      <td>0.991</td>\n",
       "      <td>0</td>\n",
       "      <td>0</td>\n",
       "      <td>Pb</td>\n",
       "      <td>1</td>\n",
       "      <td>0</td>\n",
       "      <td>0</td>\n",
       "      <td>...</td>\n",
       "      <td>1</td>\n",
       "      <td>0</td>\n",
       "      <td>0</td>\n",
       "      <td>16.6</td>\n",
       "      <td>Al/MA</td>\n",
       "      <td>Pb</td>\n",
       "      <td>I</td>\n",
       "      <td>0.9940</td>\n",
       "      <td>1.0</td>\n",
       "      <td>1.000</td>\n",
       "    </tr>\n",
       "    <tr>\n",
       "      <th>107</th>\n",
       "      <td>Al</td>\n",
       "      <td>0.0075</td>\n",
       "      <td>MA</td>\n",
       "      <td>0.9775</td>\n",
       "      <td>0</td>\n",
       "      <td>0</td>\n",
       "      <td>Pb</td>\n",
       "      <td>1</td>\n",
       "      <td>0</td>\n",
       "      <td>0</td>\n",
       "      <td>...</td>\n",
       "      <td>1</td>\n",
       "      <td>0</td>\n",
       "      <td>0</td>\n",
       "      <td>11.7</td>\n",
       "      <td>Al/MA</td>\n",
       "      <td>Pb</td>\n",
       "      <td>I</td>\n",
       "      <td>0.9850</td>\n",
       "      <td>1.0</td>\n",
       "      <td>1.000</td>\n",
       "    </tr>\n",
       "    <tr>\n",
       "      <th>108</th>\n",
       "      <td>Al</td>\n",
       "      <td>0.015</td>\n",
       "      <td>MA</td>\n",
       "      <td>0.955</td>\n",
       "      <td>0</td>\n",
       "      <td>0</td>\n",
       "      <td>Pb</td>\n",
       "      <td>1</td>\n",
       "      <td>0</td>\n",
       "      <td>0</td>\n",
       "      <td>...</td>\n",
       "      <td>1</td>\n",
       "      <td>0</td>\n",
       "      <td>0</td>\n",
       "      <td>6.7</td>\n",
       "      <td>Al/MA</td>\n",
       "      <td>Pb</td>\n",
       "      <td>I</td>\n",
       "      <td>0.9700</td>\n",
       "      <td>1.0</td>\n",
       "      <td>1.000</td>\n",
       "    </tr>\n",
       "  </tbody>\n",
       "</table>\n",
       "<p>12 rows × 21 columns</p>\n",
       "</div>"
      ],
      "text/plain": [
       "       A1 A1_ratio  A2 A2_ratio A3 A3_ratio  B1 B1_ratio B2 B2_ratio  ...    \\\n",
       "20   Al3+    0.075  MA      1.0  0        0  Pb        1  0        0  ...     \n",
       "21   Al3+     0.15  MA      1.0  0        0  Pb        1  0        0  ...     \n",
       "22   Al3+      0.3  MA      1.0  0        0  Pb        1  0        0  ...     \n",
       "23   Al3+     0.75  MA      1.0  0        0  Pb        1  0        0  ...     \n",
       "24   Al3+      1.5  MA      1.0  0        0  Pb        1  0        0  ...     \n",
       "67     FA     0.81  MA     0.15  0        0  Pb      1.0  0        0  ...     \n",
       "68     FA     0.81  MA     0.15  0        0  Pb      1.0  0        0  ...     \n",
       "104    Al  0.00075  MA  0.99775  0        0  Pb        1  0        0  ...     \n",
       "105    Al   0.0015  MA   0.9955  0        0  Pb        1  0        0  ...     \n",
       "106    Al    0.003  MA    0.991  0        0  Pb        1  0        0  ...     \n",
       "107    Al   0.0075  MA   0.9775  0        0  Pb        1  0        0  ...     \n",
       "108    Al    0.015  MA    0.955  0        0  Pb        1  0        0  ...     \n",
       "\n",
       "    X1_ratio  X2 X2_ratio   PCE      A   B      X   A_sum  B_sum  X_sum  \n",
       "20       1.0   0        0  13.6     MA  Pb      I  1.0750    1.0  1.000  \n",
       "21       1.0   0        0  15.8  Al/MA  Pb      I  1.1500    1.0  1.000  \n",
       "22       1.0   0        0  14.2  Al/MA  Pb      I  1.3000    1.0  1.000  \n",
       "23       1.0   0        0   9.8  Al/MA  Pb      I  1.7500    1.0  1.000  \n",
       "24       1.0   0        0   5.5  Al/MA  Pb      I  2.5000    1.0  1.000  \n",
       "67     0.836  Br     0.15  16.1  FA/Cs  Pb  I/SCN  0.9600    1.0  0.986  \n",
       "68     0.836  Br     0.15  17.2  FA/MA  Pb   I/Br  0.9600    1.0  0.986  \n",
       "104        1   0        0  16.4     MA  Pb      I  0.9985    1.0  1.000  \n",
       "105        1   0        0  18.2  Al/MA  Pb      I  0.9970    1.0  1.000  \n",
       "106        1   0        0  16.6  Al/MA  Pb      I  0.9940    1.0  1.000  \n",
       "107        1   0        0  11.7  Al/MA  Pb      I  0.9850    1.0  1.000  \n",
       "108        1   0        0   6.7  Al/MA  Pb      I  0.9700    1.0  1.000  \n",
       "\n",
       "[12 rows x 21 columns]"
      ]
     },
     "execution_count": 112,
     "metadata": {},
     "output_type": "execute_result"
    }
   ],
   "source": [
    "data1.loc[data1['A_sum']!=1]"
   ]
  },
  {
   "cell_type": "code",
   "execution_count": 113,
   "metadata": {
    "collapsed": false
   },
   "outputs": [
    {
     "data": {
      "text/html": [
       "<div>\n",
       "<table border=\"1\" class=\"dataframe\">\n",
       "  <thead>\n",
       "    <tr style=\"text-align: right;\">\n",
       "      <th></th>\n",
       "      <th>A1</th>\n",
       "      <th>A1_ratio</th>\n",
       "      <th>A2</th>\n",
       "      <th>A2_ratio</th>\n",
       "      <th>A3</th>\n",
       "      <th>A3_ratio</th>\n",
       "      <th>B1</th>\n",
       "      <th>B1_ratio</th>\n",
       "      <th>B2</th>\n",
       "      <th>B2_ratio</th>\n",
       "      <th>...</th>\n",
       "      <th>X1_ratio</th>\n",
       "      <th>X2</th>\n",
       "      <th>X2_ratio</th>\n",
       "      <th>PCE</th>\n",
       "      <th>A</th>\n",
       "      <th>B</th>\n",
       "      <th>X</th>\n",
       "      <th>A_sum</th>\n",
       "      <th>B_sum</th>\n",
       "      <th>X_sum</th>\n",
       "    </tr>\n",
       "  </thead>\n",
       "  <tbody>\n",
       "  </tbody>\n",
       "</table>\n",
       "<p>0 rows × 21 columns</p>\n",
       "</div>"
      ],
      "text/plain": [
       "Empty DataFrame\n",
       "Columns: [A1, A1_ratio, A2, A2_ratio, A3, A3_ratio, B1, B1_ratio, B2, B2_ratio, X1, X1_ratio, X2, X2_ratio, PCE, A, B, X, A_sum, B_sum, X_sum]\n",
       "Index: []\n",
       "\n",
       "[0 rows x 21 columns]"
      ]
     },
     "execution_count": 113,
     "metadata": {},
     "output_type": "execute_result"
    }
   ],
   "source": [
    "data1.loc[data1['B_sum']!=1]"
   ]
  },
  {
   "cell_type": "code",
   "execution_count": 114,
   "metadata": {
    "collapsed": false
   },
   "outputs": [
    {
     "data": {
      "text/html": [
       "<div>\n",
       "<table border=\"1\" class=\"dataframe\">\n",
       "  <thead>\n",
       "    <tr style=\"text-align: right;\">\n",
       "      <th></th>\n",
       "      <th>A1</th>\n",
       "      <th>A1_ratio</th>\n",
       "      <th>A2</th>\n",
       "      <th>A2_ratio</th>\n",
       "      <th>A3</th>\n",
       "      <th>A3_ratio</th>\n",
       "      <th>B1</th>\n",
       "      <th>B1_ratio</th>\n",
       "      <th>B2</th>\n",
       "      <th>B2_ratio</th>\n",
       "      <th>...</th>\n",
       "      <th>X1_ratio</th>\n",
       "      <th>X2</th>\n",
       "      <th>X2_ratio</th>\n",
       "      <th>PCE</th>\n",
       "      <th>A</th>\n",
       "      <th>B</th>\n",
       "      <th>X</th>\n",
       "      <th>A_sum</th>\n",
       "      <th>B_sum</th>\n",
       "      <th>X_sum</th>\n",
       "    </tr>\n",
       "  </thead>\n",
       "  <tbody>\n",
       "    <tr>\n",
       "      <th>36</th>\n",
       "      <td>MA</td>\n",
       "      <td>1.0</td>\n",
       "      <td>0</td>\n",
       "      <td>0</td>\n",
       "      <td>0</td>\n",
       "      <td>0</td>\n",
       "      <td>Pb</td>\n",
       "      <td>0.97</td>\n",
       "      <td>Sn</td>\n",
       "      <td>0.03</td>\n",
       "      <td>...</td>\n",
       "      <td>2.94</td>\n",
       "      <td>Br</td>\n",
       "      <td>0.06</td>\n",
       "      <td>5.24</td>\n",
       "      <td>MA/Cs</td>\n",
       "      <td>Pb</td>\n",
       "      <td>I</td>\n",
       "      <td>1.00</td>\n",
       "      <td>1.0</td>\n",
       "      <td>3.000</td>\n",
       "    </tr>\n",
       "    <tr>\n",
       "      <th>37</th>\n",
       "      <td>MA</td>\n",
       "      <td>1.0</td>\n",
       "      <td>0</td>\n",
       "      <td>0</td>\n",
       "      <td>0</td>\n",
       "      <td>0</td>\n",
       "      <td>PB</td>\n",
       "      <td>0.95</td>\n",
       "      <td>Sn</td>\n",
       "      <td>0.05</td>\n",
       "      <td>...</td>\n",
       "      <td>2.90</td>\n",
       "      <td>Br</td>\n",
       "      <td>0.10</td>\n",
       "      <td>7.59</td>\n",
       "      <td>MA</td>\n",
       "      <td>Pb/Sn</td>\n",
       "      <td>I/Br</td>\n",
       "      <td>1.00</td>\n",
       "      <td>1.0</td>\n",
       "      <td>3.000</td>\n",
       "    </tr>\n",
       "    <tr>\n",
       "      <th>38</th>\n",
       "      <td>MA</td>\n",
       "      <td>1.0</td>\n",
       "      <td>0</td>\n",
       "      <td>0</td>\n",
       "      <td>0</td>\n",
       "      <td>0</td>\n",
       "      <td>PB</td>\n",
       "      <td>0.90</td>\n",
       "      <td>Sn</td>\n",
       "      <td>0.10</td>\n",
       "      <td>...</td>\n",
       "      <td>2.80</td>\n",
       "      <td>Br</td>\n",
       "      <td>0.20</td>\n",
       "      <td>4.74</td>\n",
       "      <td>MA</td>\n",
       "      <td>Pb/Sn</td>\n",
       "      <td>I/Br</td>\n",
       "      <td>1.00</td>\n",
       "      <td>1.0</td>\n",
       "      <td>3.000</td>\n",
       "    </tr>\n",
       "    <tr>\n",
       "      <th>39</th>\n",
       "      <td>Ma</td>\n",
       "      <td>0.95</td>\n",
       "      <td>Cs</td>\n",
       "      <td>0.05</td>\n",
       "      <td>0</td>\n",
       "      <td>0</td>\n",
       "      <td>Pb</td>\n",
       "      <td>0.95</td>\n",
       "      <td>Sn</td>\n",
       "      <td>0.05</td>\n",
       "      <td>...</td>\n",
       "      <td>2.90</td>\n",
       "      <td>Br</td>\n",
       "      <td>0.10</td>\n",
       "      <td>8.25</td>\n",
       "      <td>MA</td>\n",
       "      <td>Pb/Sn</td>\n",
       "      <td>I/Br</td>\n",
       "      <td>1.00</td>\n",
       "      <td>1.0</td>\n",
       "      <td>3.000</td>\n",
       "    </tr>\n",
       "    <tr>\n",
       "      <th>40</th>\n",
       "      <td>MA</td>\n",
       "      <td>0.90</td>\n",
       "      <td>Cs</td>\n",
       "      <td>0.10</td>\n",
       "      <td>0</td>\n",
       "      <td>0</td>\n",
       "      <td>Pb</td>\n",
       "      <td>0.90</td>\n",
       "      <td>Sn</td>\n",
       "      <td>0.10</td>\n",
       "      <td>...</td>\n",
       "      <td>2.80</td>\n",
       "      <td>Br</td>\n",
       "      <td>0.20</td>\n",
       "      <td>6.50</td>\n",
       "      <td>MA/Cs</td>\n",
       "      <td>Pb/Sn</td>\n",
       "      <td>I/Br</td>\n",
       "      <td>1.00</td>\n",
       "      <td>1.0</td>\n",
       "      <td>3.000</td>\n",
       "    </tr>\n",
       "    <tr>\n",
       "      <th>41</th>\n",
       "      <td>Ma</td>\n",
       "      <td>0.95</td>\n",
       "      <td>Cs</td>\n",
       "      <td>0.05</td>\n",
       "      <td>0</td>\n",
       "      <td>0</td>\n",
       "      <td>Pb</td>\n",
       "      <td>0.95</td>\n",
       "      <td>Sn</td>\n",
       "      <td>0.05</td>\n",
       "      <td>...</td>\n",
       "      <td>2.85</td>\n",
       "      <td>Br</td>\n",
       "      <td>0.15</td>\n",
       "      <td>6.50</td>\n",
       "      <td>MA/Cs</td>\n",
       "      <td>Pb/Sn</td>\n",
       "      <td>I/Br</td>\n",
       "      <td>1.00</td>\n",
       "      <td>1.0</td>\n",
       "      <td>3.000</td>\n",
       "    </tr>\n",
       "    <tr>\n",
       "      <th>42</th>\n",
       "      <td>MA</td>\n",
       "      <td>0.90</td>\n",
       "      <td>Cs</td>\n",
       "      <td>0.10</td>\n",
       "      <td>0</td>\n",
       "      <td>0</td>\n",
       "      <td>Pb</td>\n",
       "      <td>0.90</td>\n",
       "      <td>Sn</td>\n",
       "      <td>0.10</td>\n",
       "      <td>...</td>\n",
       "      <td>2.70</td>\n",
       "      <td>Br</td>\n",
       "      <td>0.30</td>\n",
       "      <td>5.94</td>\n",
       "      <td>MA/Cs</td>\n",
       "      <td>Pb/Sn</td>\n",
       "      <td>I/Br</td>\n",
       "      <td>1.00</td>\n",
       "      <td>1.0</td>\n",
       "      <td>3.000</td>\n",
       "    </tr>\n",
       "    <tr>\n",
       "      <th>67</th>\n",
       "      <td>FA</td>\n",
       "      <td>0.81</td>\n",
       "      <td>MA</td>\n",
       "      <td>0.15</td>\n",
       "      <td>0</td>\n",
       "      <td>0</td>\n",
       "      <td>Pb</td>\n",
       "      <td>1.0</td>\n",
       "      <td>0</td>\n",
       "      <td>0</td>\n",
       "      <td>...</td>\n",
       "      <td>0.836</td>\n",
       "      <td>Br</td>\n",
       "      <td>0.15</td>\n",
       "      <td>16.10</td>\n",
       "      <td>FA/Cs</td>\n",
       "      <td>Pb</td>\n",
       "      <td>I/SCN</td>\n",
       "      <td>0.96</td>\n",
       "      <td>1.0</td>\n",
       "      <td>0.986</td>\n",
       "    </tr>\n",
       "    <tr>\n",
       "      <th>68</th>\n",
       "      <td>FA</td>\n",
       "      <td>0.81</td>\n",
       "      <td>MA</td>\n",
       "      <td>0.15</td>\n",
       "      <td>0</td>\n",
       "      <td>0</td>\n",
       "      <td>Pb</td>\n",
       "      <td>1.0</td>\n",
       "      <td>0</td>\n",
       "      <td>0</td>\n",
       "      <td>...</td>\n",
       "      <td>0.836</td>\n",
       "      <td>Br</td>\n",
       "      <td>0.15</td>\n",
       "      <td>17.20</td>\n",
       "      <td>FA/MA</td>\n",
       "      <td>Pb</td>\n",
       "      <td>I/Br</td>\n",
       "      <td>0.96</td>\n",
       "      <td>1.0</td>\n",
       "      <td>0.986</td>\n",
       "    </tr>\n",
       "    <tr>\n",
       "      <th>81</th>\n",
       "      <td>MA</td>\n",
       "      <td>1</td>\n",
       "      <td>0</td>\n",
       "      <td>0</td>\n",
       "      <td>0</td>\n",
       "      <td>0</td>\n",
       "      <td>Pb</td>\n",
       "      <td>0.97</td>\n",
       "      <td>Sb</td>\n",
       "      <td>0.03</td>\n",
       "      <td>...</td>\n",
       "      <td>0.98</td>\n",
       "      <td>Br</td>\n",
       "      <td>0.03</td>\n",
       "      <td>6.47</td>\n",
       "      <td>MA</td>\n",
       "      <td>Pb</td>\n",
       "      <td>I</td>\n",
       "      <td>1.00</td>\n",
       "      <td>1.0</td>\n",
       "      <td>1.010</td>\n",
       "    </tr>\n",
       "  </tbody>\n",
       "</table>\n",
       "<p>10 rows × 21 columns</p>\n",
       "</div>"
      ],
      "text/plain": [
       "    A1 A1_ratio  A2 A2_ratio A3 A3_ratio  B1 B1_ratio  B2 B2_ratio  ...    \\\n",
       "36  MA      1.0   0        0  0        0  Pb     0.97  Sn     0.03  ...     \n",
       "37  MA      1.0   0        0  0        0  PB     0.95  Sn     0.05  ...     \n",
       "38  MA      1.0   0        0  0        0  PB     0.90  Sn     0.10  ...     \n",
       "39  Ma     0.95  Cs     0.05  0        0  Pb     0.95  Sn     0.05  ...     \n",
       "40  MA     0.90  Cs     0.10  0        0  Pb     0.90  Sn     0.10  ...     \n",
       "41  Ma     0.95  Cs     0.05  0        0  Pb     0.95  Sn     0.05  ...     \n",
       "42  MA     0.90  Cs     0.10  0        0  Pb     0.90  Sn     0.10  ...     \n",
       "67  FA     0.81  MA     0.15  0        0  Pb      1.0   0        0  ...     \n",
       "68  FA     0.81  MA     0.15  0        0  Pb      1.0   0        0  ...     \n",
       "81  MA        1   0        0  0        0  Pb     0.97  Sb     0.03  ...     \n",
       "\n",
       "   X1_ratio  X2 X2_ratio    PCE      A      B      X A_sum  B_sum  X_sum  \n",
       "36     2.94  Br     0.06   5.24  MA/Cs     Pb      I  1.00    1.0  3.000  \n",
       "37     2.90  Br     0.10   7.59     MA  Pb/Sn   I/Br  1.00    1.0  3.000  \n",
       "38     2.80  Br     0.20   4.74     MA  Pb/Sn   I/Br  1.00    1.0  3.000  \n",
       "39     2.90  Br     0.10   8.25     MA  Pb/Sn   I/Br  1.00    1.0  3.000  \n",
       "40     2.80  Br     0.20   6.50  MA/Cs  Pb/Sn   I/Br  1.00    1.0  3.000  \n",
       "41     2.85  Br     0.15   6.50  MA/Cs  Pb/Sn   I/Br  1.00    1.0  3.000  \n",
       "42     2.70  Br     0.30   5.94  MA/Cs  Pb/Sn   I/Br  1.00    1.0  3.000  \n",
       "67    0.836  Br     0.15  16.10  FA/Cs     Pb  I/SCN  0.96    1.0  0.986  \n",
       "68    0.836  Br     0.15  17.20  FA/MA     Pb   I/Br  0.96    1.0  0.986  \n",
       "81     0.98  Br     0.03   6.47     MA     Pb      I  1.00    1.0  1.010  \n",
       "\n",
       "[10 rows x 21 columns]"
      ]
     },
     "execution_count": 114,
     "metadata": {},
     "output_type": "execute_result"
    }
   ],
   "source": [
    "data1.loc[data1['X_sum']!=1]"
   ]
  },
  {
   "cell_type": "code",
   "execution_count": 115,
   "metadata": {
    "collapsed": false
   },
   "outputs": [],
   "source": [
    "rdata1 = pd.read_csv('FAMAPbIBr_2.csv')"
   ]
  },
  {
   "cell_type": "code",
   "execution_count": 116,
   "metadata": {
    "collapsed": false
   },
   "outputs": [
    {
     "data": {
      "text/html": [
       "<div>\n",
       "<table border=\"1\" class=\"dataframe\">\n",
       "  <thead>\n",
       "    <tr style=\"text-align: right;\">\n",
       "      <th></th>\n",
       "      <th>MA/FA</th>\n",
       "      <th>Pb</th>\n",
       "      <th>I/Br</th>\n",
       "      <th>PCE</th>\n",
       "    </tr>\n",
       "  </thead>\n",
       "  <tbody>\n",
       "    <tr>\n",
       "      <th>0</th>\n",
       "      <td>0.17</td>\n",
       "      <td>1</td>\n",
       "      <td>0.83</td>\n",
       "      <td>13.4</td>\n",
       "    </tr>\n",
       "    <tr>\n",
       "      <th>1</th>\n",
       "      <td>0.17</td>\n",
       "      <td>1</td>\n",
       "      <td>0.83</td>\n",
       "      <td>12.9</td>\n",
       "    </tr>\n",
       "    <tr>\n",
       "      <th>2</th>\n",
       "      <td>1.00</td>\n",
       "      <td>1</td>\n",
       "      <td>1.00</td>\n",
       "      <td>13.2</td>\n",
       "    </tr>\n",
       "    <tr>\n",
       "      <th>3</th>\n",
       "      <td>0.00</td>\n",
       "      <td>1</td>\n",
       "      <td>1.00</td>\n",
       "      <td>13.6</td>\n",
       "    </tr>\n",
       "    <tr>\n",
       "      <th>4</th>\n",
       "      <td>0.00</td>\n",
       "      <td>1</td>\n",
       "      <td>1.00</td>\n",
       "      <td>15.8</td>\n",
       "    </tr>\n",
       "  </tbody>\n",
       "</table>\n",
       "</div>"
      ],
      "text/plain": [
       "   MA/FA  Pb  I/Br   PCE\n",
       "0   0.17   1  0.83  13.4\n",
       "1   0.17   1  0.83  12.9\n",
       "2   1.00   1  1.00  13.2\n",
       "3   0.00   1  1.00  13.6\n",
       "4   0.00   1  1.00  15.8"
      ]
     },
     "execution_count": 116,
     "metadata": {},
     "output_type": "execute_result"
    }
   ],
   "source": [
    "rdata1.head()"
   ]
  },
  {
   "cell_type": "code",
   "execution_count": 117,
   "metadata": {
    "collapsed": true
   },
   "outputs": [],
   "source": [
    "XX=rdata1.drop(['PCE'],axis=1).as_matrix()"
   ]
  },
  {
   "cell_type": "code",
   "execution_count": 118,
   "metadata": {
    "collapsed": true
   },
   "outputs": [],
   "source": [
    "yy=rdata1['PCE'].values"
   ]
  },
  {
   "cell_type": "code",
   "execution_count": 119,
   "metadata": {
    "collapsed": false
   },
   "outputs": [
    {
     "data": {
      "text/plain": [
       "numpy.ndarray"
      ]
     },
     "execution_count": 119,
     "metadata": {},
     "output_type": "execute_result"
    }
   ],
   "source": [
    "type(XX)"
   ]
  },
  {
   "cell_type": "code",
   "execution_count": 120,
   "metadata": {
    "collapsed": false
   },
   "outputs": [
    {
     "data": {
      "text/plain": [
       "(167, 3)"
      ]
     },
     "execution_count": 120,
     "metadata": {},
     "output_type": "execute_result"
    }
   ],
   "source": [
    "XX.shape"
   ]
  },
  {
   "cell_type": "code",
   "execution_count": 121,
   "metadata": {
    "collapsed": false
   },
   "outputs": [
    {
     "data": {
      "text/plain": [
       "(167,)"
      ]
     },
     "execution_count": 121,
     "metadata": {},
     "output_type": "execute_result"
    }
   ],
   "source": [
    "yy.shape"
   ]
  },
  {
   "cell_type": "code",
   "execution_count": 122,
   "metadata": {
    "collapsed": false
   },
   "outputs": [],
   "source": [
    "XX_train,XX_test,yy_train,yy_test = train_test_split(XX,yy,test_size=0.10)"
   ]
  },
  {
   "cell_type": "code",
   "execution_count": 123,
   "metadata": {
    "collapsed": false
   },
   "outputs": [
    {
     "data": {
      "text/plain": [
       "array([ 14.35,  10.3 ,  12.7 ,  13.4 ,   5.  ,  11.7 ,  16.68,  11.01,\n",
       "        10.9 ,  12.8 ,   5.6 ,   5.5 ,  14.7 ,   3.5 ,  13.2 ,   3.3 ,\n",
       "         3.5 ,   1.9 ,  15.8 ,  14.9 ,   7.53,  12.2 ,   9.8 ,  17.35,\n",
       "        16.  ,   7.5 ,   6.5 ,  13.2 ,   6.4 ,  15.9 ,   6.5 ,  14.3 ,\n",
       "        11.4 ,   3.4 ,  12.1 ,   6.2 ,   3.38,  14.35,  10.7 ,  10.1 ,\n",
       "         6.15,   4.74,  14.19,   5.46,  11.9 ,  16.42,  10.9 ,  12.2 ,\n",
       "        16.48,   2.36,  17.74,  13.6 ,  14.01,   5.6 ,  17.5 ,  15.3 ,\n",
       "         5.3 ,  15.69,  15.08,  18.14,  16.1 ,   3.9 ,   2.38,  14.07,\n",
       "        12.1 ,   4.8 ,   8.8 ,  15.9 ,  13.9 ,  20.7 ,   5.8 ,  15.8 ,\n",
       "         7.9 ,   3.5 ,   5.5 ,  15.8 ,  15.51,  12.9 ,   3.85,   8.5 ,\n",
       "        20.  ,   7.59,   3.68,   7.32,   2.9 ,   7.1 ,  14.57,  13.72,\n",
       "        15.67,   3.83,  15.58,  19.3 ,  14.7 ,   4.6 ,  19.8 ,  11.2 ,\n",
       "        10.5 ,  13.87,  10.1 ,   5.94,  15.7 ,  15.64,   6.3 ,  17.41,\n",
       "         6.59,  16.48,  16.75,  10.5 ,  17.11,  14.31,   4.89,  11.7 ,\n",
       "        15.27,  17.4 ,  10.4 ,  16.31,   9.6 ,   3.7 ,  16.6 ,  20.8 ,\n",
       "         9.6 ,  13.97,   8.25,  14.9 ,  16.  ,  13.8 ,  13.56,   5.24,\n",
       "         5.  ,   8.7 ,  12.7 ,  18.5 ,  16.8 ,  18.3 ,   7.1 ,  18.2 ,\n",
       "        17.8 ,   7.5 ,  11.1 ,  16.84,   8.8 ,   5.8 ,  15.6 ,   8.6 ,\n",
       "         3.85,  10.27,   6.5 ,   9.25,  19.2 ,  11.8 ])"
      ]
     },
     "execution_count": 123,
     "metadata": {},
     "output_type": "execute_result"
    }
   ],
   "source": [
    "yy_train.ravel()"
   ]
  },
  {
   "cell_type": "code",
   "execution_count": 124,
   "metadata": {
    "collapsed": false
   },
   "outputs": [
    {
     "data": {
      "text/plain": [
       "array([ 16.4 ,  13.  ,  16.2 ,  17.  ,  11.8 ,   2.32,  12.9 ,  11.  ,\n",
       "         2.3 ,  14.5 ,   6.7 ,   7.8 ,  18.02,  15.78,  17.2 ,   8.9 ,\n",
       "        14.2 ])"
      ]
     },
     "execution_count": 124,
     "metadata": {},
     "output_type": "execute_result"
    }
   ],
   "source": [
    "yy_test.ravel()"
   ]
  },
  {
   "cell_type": "code",
   "execution_count": 125,
   "metadata": {
    "collapsed": true
   },
   "outputs": [],
   "source": [
    "lasso = Lasso(alpha=0.001, fit_intercept=True, normalize=False, precompute=False,\n",
    "        copy_X=True, max_iter=10000, tol=0.00001, positive=False, random_state=None, selection='cyclic')"
   ]
  },
  {
   "cell_type": "code",
   "execution_count": 126,
   "metadata": {
    "collapsed": false
   },
   "outputs": [
    {
     "data": {
      "text/plain": [
       "Lasso(alpha=0.001, copy_X=True, fit_intercept=True, max_iter=10000,\n",
       "   normalize=False, positive=False, precompute=False, random_state=None,\n",
       "   selection='cyclic', tol=1e-05, warm_start=False)"
      ]
     },
     "execution_count": 126,
     "metadata": {},
     "output_type": "execute_result"
    }
   ],
   "source": [
    "lasso.fit(XX_train,yy_train)"
   ]
  },
  {
   "cell_type": "code",
   "execution_count": 127,
   "metadata": {
    "collapsed": true
   },
   "outputs": [],
   "source": [
    "predict_XX_train = lasso.predict(XX_train)"
   ]
  },
  {
   "cell_type": "code",
   "execution_count": 128,
   "metadata": {
    "collapsed": true
   },
   "outputs": [],
   "source": [
    "predict_XX_test=lasso.predict(XX_test)"
   ]
  },
  {
   "cell_type": "code",
   "execution_count": 129,
   "metadata": {
    "collapsed": false
   },
   "outputs": [
    {
     "data": {
      "text/plain": [
       "0.24248160788037032"
      ]
     },
     "execution_count": 129,
     "metadata": {},
     "output_type": "execute_result"
    }
   ],
   "source": [
    "lasso.score(XX_train,yy_train)"
   ]
  },
  {
   "cell_type": "code",
   "execution_count": 130,
   "metadata": {
    "collapsed": false
   },
   "outputs": [
    {
     "data": {
      "text/plain": [
       "0.27927843141344866"
      ]
     },
     "execution_count": 130,
     "metadata": {},
     "output_type": "execute_result"
    }
   ],
   "source": [
    "lasso.score(XX_test,yy_test)"
   ]
  },
  {
   "cell_type": "code",
   "execution_count": 131,
   "metadata": {
    "collapsed": false
   },
   "outputs": [
    {
     "data": {
      "text/plain": [
       "<matplotlib.text.Text at 0x11599a630>"
      ]
     },
     "execution_count": 131,
     "metadata": {},
     "output_type": "execute_result"
    },
    {
     "data": {
      "image/png": "[encoded data removed]",
      "text/plain": [
       "<matplotlib.figure.Figure at 0x115960940>"
      ]
     },
     "metadata": {},
     "output_type": "display_data"
    }
   ],
   "source": [
    "plt.figure(figsize=(10,8))\n",
    "plt.scatter(yy_train,predict_XX_train,s=0.5,color='blue')\n",
    "plt.title('Prediction on training data')\n",
    "plt.plot(np.linspace(0,25,1000),np.linspace(0,25,1000),color='black')\n",
    "plt.xlim((0,25))\n",
    "plt.ylim((0,25))\n",
    "plt.xlabel(\"Experiment($S*m^2/mol$)\")\n",
    "plt.ylabel(\"Prediction($S*m^2/mol$)\")"
   ]
  },
  {
   "cell_type": "code",
   "execution_count": 132,
   "metadata": {
    "collapsed": false
   },
   "outputs": [
    {
     "data": {
      "text/plain": [
       "<matplotlib.text.Text at 0x115d3b400>"
      ]
     },
     "execution_count": 132,
     "metadata": {},
     "output_type": "execute_result"
    },
    {
     "data": {
      "image/png": "[encoded data removed]",
      "text/plain": [
       "<matplotlib.figure.Figure at 0x115993f28>"
      ]
     },
     "metadata": {},
     "output_type": "display_data"
    }
   ],
   "source": [
    "plt.figure(figsize=(10,8))\n",
    "plt.scatter(yy_test,predict_XX_test,s=0.5,color='blue')\n",
    "plt.title('Prediction on training data')\n",
    "plt.plot(np.linspace(0,25,1000),np.linspace(0,25,1000),color='black')\n",
    "plt.xlim((0,25))\n",
    "plt.ylim((0,25))\n",
    "plt.xlabel(\"Experiment($S*m^2/mol$)\")\n",
    "plt.ylabel(\"Prediction($S*m^2/mol$)\")"
   ]
  },
  {
   "cell_type": "code",
   "execution_count": 133,
   "metadata": {
    "collapsed": false
   },
   "outputs": [
    {
     "data": {
      "text/plain": [
       "0.24248160788037032"
      ]
     },
     "execution_count": 133,
     "metadata": {},
     "output_type": "execute_result"
    }
   ],
   "source": [
    "lasso.score(XX_train,yy_train)"
   ]
  },
  {
   "cell_type": "code",
   "execution_count": 134,
   "metadata": {
    "collapsed": false
   },
   "outputs": [
    {
     "data": {
      "text/plain": [
       "0.27927843141344866"
      ]
     },
     "execution_count": 134,
     "metadata": {},
     "output_type": "execute_result"
    }
   ],
   "source": [
    "lasso.score(XX_test,yy_test)"
   ]
  },
  {
   "cell_type": "code",
   "execution_count": 135,
   "metadata": {
    "collapsed": false
   },
   "outputs": [
    {
     "data": {
      "text/plain": [
       "array([-1.23450152,  5.54625282,  5.58522754])"
      ]
     },
     "execution_count": 135,
     "metadata": {},
     "output_type": "execute_result"
    }
   ],
   "source": [
    "lasso.coef_"
   ]
  },
  {
   "cell_type": "code",
   "execution_count": 136,
   "metadata": {
    "collapsed": false
   },
   "outputs": [
    {
     "data": {
      "text/plain": [
       "['MA/FA', 'Pb', 'I/Br', 'PCE']"
      ]
     },
     "execution_count": 136,
     "metadata": {},
     "output_type": "execute_result"
    }
   ],
   "source": [
    "list(rdata1)"
   ]
  },
  {
   "cell_type": "code",
   "execution_count": 137,
   "metadata": {
    "collapsed": false
   },
   "outputs": [],
   "source": [
    "svr = SVR(kernel='rbf', degree=3, gamma='auto', coef0=0.0, tol=0.00001,\n",
    "        C=1.0, epsilon=0.01, shrinking=True, cache_size=200, verbose=False, max_iter=100000)"
   ]
  },
  {
   "cell_type": "code",
   "execution_count": 138,
   "metadata": {
    "collapsed": false
   },
   "outputs": [
    {
     "data": {
      "text/plain": [
       "SVR(C=1.0, cache_size=200, coef0=0.0, degree=3, epsilon=0.01, gamma='auto',\n",
       "  kernel='rbf', max_iter=100000, shrinking=True, tol=1e-05, verbose=False)"
      ]
     },
     "execution_count": 138,
     "metadata": {},
     "output_type": "execute_result"
    }
   ],
   "source": [
    "svr.fit(XX_train,yy_train)"
   ]
  },
  {
   "cell_type": "code",
   "execution_count": 139,
   "metadata": {
    "collapsed": false
   },
   "outputs": [
    {
     "data": {
      "text/plain": [
       "0.24588842830996646"
      ]
     },
     "execution_count": 139,
     "metadata": {},
     "output_type": "execute_result"
    }
   ],
   "source": [
    "svr.score(XX_train,yy_train)"
   ]
  },
  {
   "cell_type": "code",
   "execution_count": 140,
   "metadata": {
    "collapsed": false
   },
   "outputs": [
    {
     "data": {
      "text/plain": [
       "0.26379433313167255"
      ]
     },
     "execution_count": 140,
     "metadata": {},
     "output_type": "execute_result"
    }
   ],
   "source": [
    "svr.score(XX_test,yy_test)"
   ]
  },
  {
   "cell_type": "code",
   "execution_count": 141,
   "metadata": {
    "collapsed": true
   },
   "outputs": [],
   "source": [
    "predict_XX_train = svr.predict(XX_train)"
   ]
  },
  {
   "cell_type": "code",
   "execution_count": 142,
   "metadata": {
    "collapsed": false
   },
   "outputs": [
    {
     "data": {
      "text/plain": [
       "<matplotlib.text.Text at 0x113aa7780>"
      ]
     },
     "execution_count": 142,
     "metadata": {},
     "output_type": "execute_result"
    },
    {
     "data": {
      "image/png": "[encoded data removed]",
      "text/plain": [
       "<matplotlib.figure.Figure at 0x1144594a8>"
      ]
     },
     "metadata": {},
     "output_type": "display_data"
    }
   ],
   "source": [
    "plt.figure(figsize=(10,8))\n",
    "plt.scatter(yy_train,predict_XX_train,s=0.5,color='blue')\n",
    "plt.title('Prediction on training data')\n",
    "plt.plot(np.linspace(0,25,1000),np.linspace(0,25,1000),color='black')\n",
    "plt.xlim((0,25))\n",
    "plt.ylim((0,25))\n",
    "plt.xlabel(\"Experiment($S*m^2/mol$)\")\n",
    "plt.ylabel(\"Prediction($S*m^2/mol$)\")"
   ]
  },
  {
   "cell_type": "code",
   "execution_count": 143,
   "metadata": {
    "collapsed": true
   },
   "outputs": [],
   "source": [
    " svr = SVR(kernel='rbf', C=1e3, degree=2)"
   ]
  },
  {
   "cell_type": "code",
   "execution_count": 144,
   "metadata": {
    "collapsed": false
   },
   "outputs": [
    {
     "data": {
      "text/plain": [
       "SVR(C=1000.0, cache_size=200, coef0=0.0, degree=2, epsilon=0.1, gamma='auto',\n",
       "  kernel='rbf', max_iter=-1, shrinking=True, tol=0.001, verbose=False)"
      ]
     },
     "execution_count": 144,
     "metadata": {},
     "output_type": "execute_result"
    }
   ],
   "source": [
    "svr.fit(XX_train,yy_train)"
   ]
  },
  {
   "cell_type": "code",
   "execution_count": 145,
   "metadata": {
    "collapsed": false
   },
   "outputs": [
    {
     "data": {
      "text/plain": [
       "0.32933942100068914"
      ]
     },
     "execution_count": 145,
     "metadata": {},
     "output_type": "execute_result"
    }
   ],
   "source": [
    "svr.score(XX_train,yy_train)"
   ]
  },
  {
   "cell_type": "code",
   "execution_count": 146,
   "metadata": {
    "collapsed": false
   },
   "outputs": [
    {
     "data": {
      "text/plain": [
       "0.30977860267348656"
      ]
     },
     "execution_count": 146,
     "metadata": {},
     "output_type": "execute_result"
    }
   ],
   "source": [
    "svr.score(XX_test,yy_test)"
   ]
  },
  {
   "cell_type": "code",
   "execution_count": 147,
   "metadata": {
    "collapsed": true
   },
   "outputs": [],
   "source": [
    "predict_XX_train = svr.predict(XX_train)"
   ]
  },
  {
   "cell_type": "code",
   "execution_count": 148,
   "metadata": {
    "collapsed": false
   },
   "outputs": [
    {
     "data": {
      "text/plain": [
       "<matplotlib.text.Text at 0x115d2b470>"
      ]
     },
     "execution_count": 148,
     "metadata": {},
     "output_type": "execute_result"
    },
    {
     "data": {
      "image/png": "[encoded data removed]",
      "text/plain": [
       "<matplotlib.figure.Figure at 0x115d304a8>"
      ]
     },
     "metadata": {},
     "output_type": "display_data"
    }
   ],
   "source": [
    "plt.figure(figsize=(10,8))\n",
    "plt.scatter(yy_train,predict_XX_train,s=0.5,color='blue')\n",
    "plt.title('Prediction on training data')\n",
    "plt.plot(np.linspace(0,25,1000),np.linspace(0,25,1000),color='black')\n",
    "plt.xlim((0,25))\n",
    "plt.ylim((0,25))\n",
    "plt.xlabel(\"Experiment($S*m^2/mol$)\")\n",
    "plt.ylabel(\"Prediction($S*m^2/mol$)\")"
   ]
  },
  {
   "cell_type": "code",
   "execution_count": 149,
   "metadata": {
    "collapsed": true
   },
   "outputs": [],
   "source": [
    "predict_XX_test = svr.predict(XX_test)"
   ]
  },
  {
   "cell_type": "code",
   "execution_count": 150,
   "metadata": {
    "collapsed": false
   },
   "outputs": [
    {
     "data": {
      "text/plain": [
       "<matplotlib.text.Text at 0x11647b2b0>"
      ]
     },
     "execution_count": 150,
     "metadata": {},
     "output_type": "execute_result"
    },
    {
     "data": {
      "image/png": "[encoded data removed]",
      "text/plain": [
       "<matplotlib.figure.Figure at 0x1164b1320>"
      ]
     },
     "metadata": {},
     "output_type": "display_data"
    }
   ],
   "source": [
    "plt.figure(figsize=(10,8))\n",
    "plt.scatter(yy_test,predict_XX_test,s=0.5,color='blue')\n",
    "plt.title('Prediction on training data')\n",
    "plt.plot(np.linspace(0,25,1000),np.linspace(0,25,1000),color='black')\n",
    "plt.xlim((0,25))\n",
    "plt.ylim((0,25))\n",
    "plt.xlabel(\"Experiment($S*m^2/mol$)\")\n",
    "plt.ylabel(\"Prediction($S*m^2/mol$)\")"
   ]
  },
  {
   "cell_type": "code",
   "execution_count": 151,
   "metadata": {
    "collapsed": false
   },
   "outputs": [],
   "source": [
    "comb = pd.read_csv('FAMAPbIBr_2.csv')"
   ]
  },
  {
   "cell_type": "code",
   "execution_count": 152,
   "metadata": {
    "collapsed": false
   },
   "outputs": [],
   "source": [
    "combx = comb.drop(['PCE','Pb'],axis=1).as_matrix()"
   ]
  },
  {
   "cell_type": "code",
   "execution_count": 153,
   "metadata": {
    "collapsed": false
   },
   "outputs": [
    {
     "data": {
      "text/plain": [
       "array([[ 0.17 ,  0.83 ],\n",
       "       [ 0.17 ,  0.83 ],\n",
       "       [ 1.   ,  1.   ],\n",
       "       [ 0.   ,  1.   ],\n",
       "       [ 0.   ,  1.   ],\n",
       "       [ 0.   ,  1.   ],\n",
       "       [ 0.   ,  1.   ],\n",
       "       [ 0.   ,  1.   ],\n",
       "       [ 0.   ,  0.6  ],\n",
       "       [ 1.   ,  1.   ],\n",
       "       [ 1.   ,  0.97 ],\n",
       "       [ 1.   ,  0.89 ],\n",
       "       [ 1.   ,  0.8  ],\n",
       "       [ 1.   ,  0.71 ],\n",
       "       [ 0.05 ,  0.95 ],\n",
       "       [ 0.15 ,  0.85 ],\n",
       "       [ 1.   ,  0.   ],\n",
       "       [ 0.   ,  0.   ],\n",
       "       [ 1.   ,  0.98 ],\n",
       "       [ 1.   ,  0.967],\n",
       "       [ 1.   ,  0.933],\n",
       "       [ 0.   ,  0.967],\n",
       "       [ 0.   ,  0.933],\n",
       "       [ 0.   ,  0.95 ],\n",
       "       [ 0.   ,  0.9  ],\n",
       "       [ 0.11 ,  0.89 ],\n",
       "       [ 0.16 ,  0.84 ],\n",
       "       [ 0.22 ,  0.78 ],\n",
       "       [ 0.66 ,  0.34 ],\n",
       "       [ 0.33 ,  0.67 ],\n",
       "       [ 1.   ,  1.   ],\n",
       "       [ 0.   ,  0.95 ],\n",
       "       [ 0.   ,  0.9  ],\n",
       "       [ 0.   ,  0.8  ],\n",
       "       [ 0.   ,  1.   ],\n",
       "       [ 0.1  ,  1.   ],\n",
       "       [ 0.2  ,  1.   ],\n",
       "       [ 0.3  ,  1.   ],\n",
       "       [ 0.4  ,  1.   ],\n",
       "       [ 0.5  ,  1.   ],\n",
       "       [ 0.   ,  1.   ],\n",
       "       [ 0.   ,  0.   ],\n",
       "       [ 0.   ,  0.   ],\n",
       "       [ 0.   ,  0.   ],\n",
       "       [ 0.   ,  0.   ],\n",
       "       [ 0.   ,  0.   ],\n",
       "       [ 0.   ,  0.   ],\n",
       "       [ 0.   ,  0.   ],\n",
       "       [ 0.   ,  0.   ],\n",
       "       [ 0.15 ,  0.836],\n",
       "       [ 0.15 ,  0.836],\n",
       "       [ 1.   ,  1.   ],\n",
       "       [ 0.   ,  0.95 ],\n",
       "       [ 0.   ,  0.9  ],\n",
       "       [ 0.   ,  0.8  ],\n",
       "       [ 0.9  ,  0.   ],\n",
       "       [ 0.85 ,  0.   ],\n",
       "       [ 0.8  ,  0.   ],\n",
       "       [ 0.75 ,  0.   ],\n",
       "       [ 0.7  ,  0.   ],\n",
       "       [ 0.6  ,  0.   ],\n",
       "       [ 1.   ,  1.   ],\n",
       "       [ 1.   ,  1.   ],\n",
       "       [ 0.   ,  1.   ],\n",
       "       [ 0.25 ,  1.   ],\n",
       "       [ 0.15 ,  0.85 ],\n",
       "       [ 0.   ,  1.   ],\n",
       "       [ 0.   ,  0.952],\n",
       "       [ 0.   ,  0.909],\n",
       "       [ 0.   ,  0.862],\n",
       "       [ 0.   ,  0.813],\n",
       "       [ 0.   ,  0.729],\n",
       "       [ 0.   ,  0.649],\n",
       "       [ 1.   ,  1.   ],\n",
       "       [ 0.   ,  1.   ],\n",
       "       [ 0.   ,  1.   ],\n",
       "       [ 0.   ,  1.   ],\n",
       "       [ 0.   ,  1.   ],\n",
       "       [ 0.   ,  1.   ],\n",
       "       [ 1.   ,  1.   ],\n",
       "       [ 1.   ,  0.97 ],\n",
       "       [ 1.   ,  0.963],\n",
       "       [ 1.   ,  0.953],\n",
       "       [ 1.   ,  0.933],\n",
       "       [ 1.   ,  0.667],\n",
       "       [ 1.   ,  1.   ],\n",
       "       [ 1.   ,  1.   ],\n",
       "       [ 1.   ,  1.   ],\n",
       "       [ 1.   ,  1.   ],\n",
       "       [ 1.   ,  1.   ],\n",
       "       [ 1.   ,  1.   ],\n",
       "       [ 0.   ,  0.6  ],\n",
       "       [ 0.   ,  0.6  ],\n",
       "       [ 0.   ,  0.6  ],\n",
       "       [ 0.   ,  0.6  ],\n",
       "       [ 0.   ,  0.6  ],\n",
       "       [ 0.   ,  0.6  ],\n",
       "       [ 0.   ,  0.6  ],\n",
       "       [ 0.   ,  0.6  ],\n",
       "       [ 0.   ,  0.6  ],\n",
       "       [ 0.   ,  0.6  ],\n",
       "       [ 0.   ,  1.   ],\n",
       "       [ 0.   ,  1.   ],\n",
       "       [ 0.   ,  0.947],\n",
       "       [ 0.   ,  1.   ],\n",
       "       [ 0.167,  1.   ],\n",
       "       [ 0.333,  1.   ],\n",
       "       [ 0.5  ,  1.   ],\n",
       "       [ 0.667,  1.   ],\n",
       "       [ 0.833,  1.   ],\n",
       "       [ 1.   ,  1.   ],\n",
       "       [ 0.   ,  0.833],\n",
       "       [ 0.167,  0.833],\n",
       "       [ 0.333,  0.833],\n",
       "       [ 0.5  ,  0.833],\n",
       "       [ 0.667,  0.833],\n",
       "       [ 0.833,  0.833],\n",
       "       [ 1.   ,  0.833],\n",
       "       [ 0.   ,  0.667],\n",
       "       [ 0.167,  0.667],\n",
       "       [ 0.333,  0.667],\n",
       "       [ 0.5  ,  0.667],\n",
       "       [ 0.667,  0.667],\n",
       "       [ 0.833,  0.667],\n",
       "       [ 1.   ,  0.667],\n",
       "       [ 0.   ,  0.5  ],\n",
       "       [ 0.167,  0.5  ],\n",
       "       [ 0.333,  0.5  ],\n",
       "       [ 0.5  ,  0.5  ],\n",
       "       [ 0.667,  0.5  ],\n",
       "       [ 0.833,  0.5  ],\n",
       "       [ 1.   ,  0.5  ],\n",
       "       [ 0.   ,  0.333],\n",
       "       [ 0.167,  0.333],\n",
       "       [ 0.333,  0.333],\n",
       "       [ 0.5  ,  0.333],\n",
       "       [ 0.667,  0.333],\n",
       "       [ 0.833,  0.333],\n",
       "       [ 1.   ,  0.333],\n",
       "       [ 0.   ,  0.167],\n",
       "       [ 0.167,  0.167],\n",
       "       [ 0.333,  0.167],\n",
       "       [ 0.5  ,  0.167],\n",
       "       [ 0.667,  0.167],\n",
       "       [ 0.833,  0.167],\n",
       "       [ 1.   ,  0.167],\n",
       "       [ 0.   ,  0.   ],\n",
       "       [ 0.167,  0.   ],\n",
       "       [ 0.333,  0.   ],\n",
       "       [ 0.5  ,  0.   ],\n",
       "       [ 0.667,  0.   ],\n",
       "       [ 0.833,  0.   ],\n",
       "       [ 1.   ,  0.   ],\n",
       "       [ 1.   ,  1.   ],\n",
       "       [ 0.75 ,  1.   ],\n",
       "       [ 0.5  ,  1.   ],\n",
       "       [ 0.25 ,  1.   ],\n",
       "       [ 0.   ,  1.   ],\n",
       "       [ 1.   ,  1.   ],\n",
       "       [ 1.   ,  1.   ],\n",
       "       [ 1.   ,  1.   ],\n",
       "       [ 1.   ,  1.   ],\n",
       "       [ 0.5  ,  1.   ],\n",
       "       [ 1.   ,  1.   ],\n",
       "       [ 1.   ,  1.   ],\n",
       "       [ 1.   ,  0.   ],\n",
       "       [ 1.   ,  0.   ]])"
      ]
     },
     "execution_count": 153,
     "metadata": {},
     "output_type": "execute_result"
    }
   ],
   "source": [
    "combx"
   ]
  },
  {
   "cell_type": "code",
   "execution_count": 154,
   "metadata": {
    "collapsed": true
   },
   "outputs": [],
   "source": [
    "comby = comb['PCE'].values"
   ]
  },
  {
   "cell_type": "code",
   "execution_count": 155,
   "metadata": {
    "collapsed": false
   },
   "outputs": [],
   "source": [
    "svr = SVR(kernel='rbf', C=1e3, gamma=10000000)"
   ]
  },
  {
   "cell_type": "code",
   "execution_count": 156,
   "metadata": {
    "collapsed": false
   },
   "outputs": [
    {
     "data": {
      "text/plain": [
       "SVR(C=1000.0, cache_size=200, coef0=0.0, degree=3, epsilon=0.1,\n",
       "  gamma=10000000, kernel='rbf', max_iter=-1, shrinking=True, tol=0.001,\n",
       "  verbose=False)"
      ]
     },
     "execution_count": 156,
     "metadata": {},
     "output_type": "execute_result"
    }
   ],
   "source": [
    "svr.fit(combx,comby)"
   ]
  },
  {
   "cell_type": "code",
   "execution_count": 157,
   "metadata": {
    "collapsed": false
   },
   "outputs": [
    {
     "data": {
      "text/plain": [
       "0.63313352204558326"
      ]
     },
     "execution_count": 157,
     "metadata": {},
     "output_type": "execute_result"
    }
   ],
   "source": [
    "svr.score(combx,comby)"
   ]
  },
  {
   "cell_type": "code",
   "execution_count": 158,
   "metadata": {
    "collapsed": true
   },
   "outputs": [],
   "source": [
    "predict_combx = svr.predict(combx)"
   ]
  },
  {
   "cell_type": "code",
   "execution_count": 159,
   "metadata": {
    "collapsed": false
   },
   "outputs": [
    {
     "data": {
      "text/plain": [
       "<matplotlib.text.Text at 0x116ab96a0>"
      ]
     },
     "execution_count": 159,
     "metadata": {},
     "output_type": "execute_result"
    },
    {
     "data": {
      "image/png": "[encoded data removed]",
      "text/plain": [
       "<matplotlib.figure.Figure at 0x116ac7ba8>"
      ]
     },
     "metadata": {},
     "output_type": "display_data"
    }
   ],
   "source": [
    "plt.figure(figsize=(10,8))\n",
    "plt.scatter(comby,predict_combx,s=0.5,color='blue')\n",
    "plt.title('Prediction on training data')\n",
    "plt.plot(np.linspace(0,25,1000),np.linspace(0,25,1000),color='black')\n",
    "plt.xlim((0,25))\n",
    "plt.ylim((0,25))\n",
    "plt.xlabel(\"Experiment($S*m^2/mol$)\")\n",
    "plt.ylabel(\"Prediction($S*m^2/mol$)\")"
   ]
  },
  {
   "cell_type": "code",
   "execution_count": 163,
   "metadata": {
    "collapsed": false
   },
   "outputs": [],
   "source": [
    "mlpgs = GridSearchCV(MLPRegressor(hidden_layer_sizes=(200,),activation='tanh',solver='lbfgs',max_iter=5000), cv=3,\n",
    "                   param_grid={\"epsilon\": [1e-5,1e-4,1e-3,1e-2,1e-1,1e0, 1e1, 1e2, 1e3,1e4,1e5],\n",
    "                               \"alpha\": [1e-5,1e-4,1e-3,1e-2,1e-1,1e0, 1e1, 1e2, 1e3,1e4,1e5],\n",
    "                               \"learning_rate_init\":[1e-5,1e-4,1e-3,1e-2,1e-1,1e0, 1e1, 1e2]})"
   ]
  },
  {
   "cell_type": "code",
   "execution_count": 164,
   "metadata": {
    "collapsed": false
   },
   "outputs": [
    {
     "ename": "KeyboardInterrupt",
     "evalue": "",
     "output_type": "error",
     "traceback": [
      "\u001b[0;31m---------------------------------------------------------------------------\u001b[0m",
      "\u001b[0;31mKeyboardInterrupt\u001b[0m                         Traceback (most recent call last)",
      "\u001b[0;32m<ipython-input-164-e48d7b763239>\u001b[0m in \u001b[0;36m<module>\u001b[0;34m()\u001b[0m\n\u001b[0;32m----> 1\u001b[0;31m \u001b[0mmlpgs\u001b[0m\u001b[0;34m.\u001b[0m\u001b[0mfit\u001b[0m\u001b[0;34m(\u001b[0m\u001b[0mcombx\u001b[0m\u001b[0;34m,\u001b[0m\u001b[0mcomby\u001b[0m\u001b[0;34m)\u001b[0m\u001b[0;34m\u001b[0m\u001b[0m\n\u001b[0m\u001b[1;32m      2\u001b[0m \u001b[0mmlpgs\u001b[0m\u001b[0;34m.\u001b[0m\u001b[0mscore\u001b[0m\u001b[0;34m(\u001b[0m\u001b[0mcombx\u001b[0m\u001b[0;34m,\u001b[0m\u001b[0mcomby\u001b[0m\u001b[0;34m)\u001b[0m\u001b[0;34m\u001b[0m\u001b[0m\n",
      "\u001b[0;32m/Users/SarahsAdventure/miniconda3/lib/python3.5/site-packages/sklearn/model_selection/_search.py\u001b[0m in \u001b[0;36mfit\u001b[0;34m(self, X, y, groups)\u001b[0m\n\u001b[1;32m    943\u001b[0m             \u001b[0mtrain\u001b[0m\u001b[0;34m/\u001b[0m\u001b[0mtest\u001b[0m \u001b[0mset\u001b[0m\u001b[0;34m.\u001b[0m\u001b[0;34m\u001b[0m\u001b[0m\n\u001b[1;32m    944\u001b[0m         \"\"\"\n\u001b[0;32m--> 945\u001b[0;31m         \u001b[0;32mreturn\u001b[0m \u001b[0mself\u001b[0m\u001b[0;34m.\u001b[0m\u001b[0m_fit\u001b[0m\u001b[0;34m(\u001b[0m\u001b[0mX\u001b[0m\u001b[0;34m,\u001b[0m \u001b[0my\u001b[0m\u001b[0;34m,\u001b[0m \u001b[0mgroups\u001b[0m\u001b[0;34m,\u001b[0m \u001b[0mParameterGrid\u001b[0m\u001b[0;34m(\u001b[0m\u001b[0mself\u001b[0m\u001b[0;34m.\u001b[0m\u001b[0mparam_grid\u001b[0m\u001b[0;34m)\u001b[0m\u001b[0;34m)\u001b[0m\u001b[0;34m\u001b[0m\u001b[0m\n\u001b[0m\u001b[1;32m    946\u001b[0m \u001b[0;34m\u001b[0m\u001b[0m\n\u001b[1;32m    947\u001b[0m \u001b[0;34m\u001b[0m\u001b[0m\n",
      "\u001b[0;32m/Users/SarahsAdventure/miniconda3/lib/python3.5/site-packages/sklearn/model_selection/_search.py\u001b[0m in \u001b[0;36m_fit\u001b[0;34m(self, X, y, groups, parameter_iterable)\u001b[0m\n\u001b[1;32m    562\u001b[0m                                   \u001b[0mreturn_times\u001b[0m\u001b[0;34m=\u001b[0m\u001b[0;32mTrue\u001b[0m\u001b[0;34m,\u001b[0m \u001b[0mreturn_parameters\u001b[0m\u001b[0;34m=\u001b[0m\u001b[0;32mTrue\u001b[0m\u001b[0;34m,\u001b[0m\u001b[0;34m\u001b[0m\u001b[0m\n\u001b[1;32m    563\u001b[0m                                   error_score=self.error_score)\n\u001b[0;32m--> 564\u001b[0;31m           \u001b[0;32mfor\u001b[0m \u001b[0mparameters\u001b[0m \u001b[0;32min\u001b[0m \u001b[0mparameter_iterable\u001b[0m\u001b[0;34m\u001b[0m\u001b[0m\n\u001b[0m\u001b[1;32m    565\u001b[0m           for train, test in cv_iter)\n\u001b[1;32m    566\u001b[0m \u001b[0;34m\u001b[0m\u001b[0m\n",
      "\u001b[0;32m/Users/SarahsAdventure/miniconda3/lib/python3.5/site-packages/sklearn/externals/joblib/parallel.py\u001b[0m in \u001b[0;36m__call__\u001b[0;34m(self, iterable)\u001b[0m\n\u001b[1;32m    756\u001b[0m             \u001b[0;31m# was dispatched. In particular this covers the edge\u001b[0m\u001b[0;34m\u001b[0m\u001b[0;34m\u001b[0m\u001b[0m\n\u001b[1;32m    757\u001b[0m             \u001b[0;31m# case of Parallel used with an exhausted iterator.\u001b[0m\u001b[0;34m\u001b[0m\u001b[0;34m\u001b[0m\u001b[0m\n\u001b[0;32m--> 758\u001b[0;31m             \u001b[0;32mwhile\u001b[0m \u001b[0mself\u001b[0m\u001b[0;34m.\u001b[0m\u001b[0mdispatch_one_batch\u001b[0m\u001b[0;34m(\u001b[0m\u001b[0miterator\u001b[0m\u001b[0;34m)\u001b[0m\u001b[0;34m:\u001b[0m\u001b[0;34m\u001b[0m\u001b[0m\n\u001b[0m\u001b[1;32m    759\u001b[0m                 \u001b[0mself\u001b[0m\u001b[0;34m.\u001b[0m\u001b[0m_iterating\u001b[0m \u001b[0;34m=\u001b[0m \u001b[0;32mTrue\u001b[0m\u001b[0;34m\u001b[0m\u001b[0m\n\u001b[1;32m    760\u001b[0m             \u001b[0;32melse\u001b[0m\u001b[0;34m:\u001b[0m\u001b[0;34m\u001b[0m\u001b[0m\n",
      "\u001b[0;32m/Users/SarahsAdventure/miniconda3/lib/python3.5/site-packages/sklearn/externals/joblib/parallel.py\u001b[0m in \u001b[0;36mdispatch_one_batch\u001b[0;34m(self, iterator)\u001b[0m\n\u001b[1;32m    606\u001b[0m                 \u001b[0;32mreturn\u001b[0m \u001b[0;32mFalse\u001b[0m\u001b[0;34m\u001b[0m\u001b[0m\n\u001b[1;32m    607\u001b[0m             \u001b[0;32melse\u001b[0m\u001b[0;34m:\u001b[0m\u001b[0;34m\u001b[0m\u001b[0m\n\u001b[0;32m--> 608\u001b[0;31m                 \u001b[0mself\u001b[0m\u001b[0;34m.\u001b[0m\u001b[0m_dispatch\u001b[0m\u001b[0;34m(\u001b[0m\u001b[0mtasks\u001b[0m\u001b[0;34m)\u001b[0m\u001b[0;34m\u001b[0m\u001b[0m\n\u001b[0m\u001b[1;32m    609\u001b[0m                 \u001b[0;32mreturn\u001b[0m \u001b[0;32mTrue\u001b[0m\u001b[0;34m\u001b[0m\u001b[0m\n\u001b[1;32m    610\u001b[0m \u001b[0;34m\u001b[0m\u001b[0m\n",
      "\u001b[0;32m/Users/SarahsAdventure/miniconda3/lib/python3.5/site-packages/sklearn/externals/joblib/parallel.py\u001b[0m in \u001b[0;36m_dispatch\u001b[0;34m(self, batch)\u001b[0m\n\u001b[1;32m    569\u001b[0m         \u001b[0mdispatch_timestamp\u001b[0m \u001b[0;34m=\u001b[0m \u001b[0mtime\u001b[0m\u001b[0;34m.\u001b[0m\u001b[0mtime\u001b[0m\u001b[0;34m(\u001b[0m\u001b[0;34m)\u001b[0m\u001b[0;34m\u001b[0m\u001b[0m\n\u001b[1;32m    570\u001b[0m         \u001b[0mcb\u001b[0m \u001b[0;34m=\u001b[0m \u001b[0mBatchCompletionCallBack\u001b[0m\u001b[0;34m(\u001b[0m\u001b[0mdispatch_timestamp\u001b[0m\u001b[0;34m,\u001b[0m \u001b[0mlen\u001b[0m\u001b[0;34m(\u001b[0m\u001b[0mbatch\u001b[0m\u001b[0;34m)\u001b[0m\u001b[0;34m,\u001b[0m \u001b[0mself\u001b[0m\u001b[0;34m)\u001b[0m\u001b[0;34m\u001b[0m\u001b[0m\n\u001b[0;32m--> 571\u001b[0;31m         \u001b[0mjob\u001b[0m \u001b[0;34m=\u001b[0m \u001b[0mself\u001b[0m\u001b[0;34m.\u001b[0m\u001b[0m_backend\u001b[0m\u001b[0;34m.\u001b[0m\u001b[0mapply_async\u001b[0m\u001b[0;34m(\u001b[0m\u001b[0mbatch\u001b[0m\u001b[0;34m,\u001b[0m \u001b[0mcallback\u001b[0m\u001b[0;34m=\u001b[0m\u001b[0mcb\u001b[0m\u001b[0;34m)\u001b[0m\u001b[0;34m\u001b[0m\u001b[0m\n\u001b[0m\u001b[1;32m    572\u001b[0m         \u001b[0mself\u001b[0m\u001b[0;34m.\u001b[0m\u001b[0m_jobs\u001b[0m\u001b[0;34m.\u001b[0m\u001b[0mappend\u001b[0m\u001b[0;34m(\u001b[0m\u001b[0mjob\u001b[0m\u001b[0;34m)\u001b[0m\u001b[0;34m\u001b[0m\u001b[0m\n\u001b[1;32m    573\u001b[0m \u001b[0;34m\u001b[0m\u001b[0m\n",
      "\u001b[0;32m/Users/SarahsAdventure/miniconda3/lib/python3.5/site-packages/sklearn/externals/joblib/_parallel_backends.py\u001b[0m in \u001b[0;36mapply_async\u001b[0;34m(self, func, callback)\u001b[0m\n\u001b[1;32m    107\u001b[0m     \u001b[0;32mdef\u001b[0m \u001b[0mapply_async\u001b[0m\u001b[0;34m(\u001b[0m\u001b[0mself\u001b[0m\u001b[0;34m,\u001b[0m \u001b[0mfunc\u001b[0m\u001b[0;34m,\u001b[0m \u001b[0mcallback\u001b[0m\u001b[0;34m=\u001b[0m\u001b[0;32mNone\u001b[0m\u001b[0;34m)\u001b[0m\u001b[0;34m:\u001b[0m\u001b[0;34m\u001b[0m\u001b[0m\n\u001b[1;32m    108\u001b[0m         \u001b[0;34m\"\"\"Schedule a func to be run\"\"\"\u001b[0m\u001b[0;34m\u001b[0m\u001b[0m\n\u001b[0;32m--> 109\u001b[0;31m         \u001b[0mresult\u001b[0m \u001b[0;34m=\u001b[0m \u001b[0mImmediateResult\u001b[0m\u001b[0;34m(\u001b[0m\u001b[0mfunc\u001b[0m\u001b[0;34m)\u001b[0m\u001b[0;34m\u001b[0m\u001b[0m\n\u001b[0m\u001b[1;32m    110\u001b[0m         \u001b[0;32mif\u001b[0m \u001b[0mcallback\u001b[0m\u001b[0;34m:\u001b[0m\u001b[0;34m\u001b[0m\u001b[0m\n\u001b[1;32m    111\u001b[0m             \u001b[0mcallback\u001b[0m\u001b[0;34m(\u001b[0m\u001b[0mresult\u001b[0m\u001b[0;34m)\u001b[0m\u001b[0;34m\u001b[0m\u001b[0m\n",
      "\u001b[0;32m/Users/SarahsAdventure/miniconda3/lib/python3.5/site-packages/sklearn/externals/joblib/_parallel_backends.py\u001b[0m in \u001b[0;36m__init__\u001b[0;34m(self, batch)\u001b[0m\n\u001b[1;32m    324\u001b[0m         \u001b[0;31m# Don't delay the application, to avoid keeping the input\u001b[0m\u001b[0;34m\u001b[0m\u001b[0;34m\u001b[0m\u001b[0m\n\u001b[1;32m    325\u001b[0m         \u001b[0;31m# arguments in memory\u001b[0m\u001b[0;34m\u001b[0m\u001b[0;34m\u001b[0m\u001b[0m\n\u001b[0;32m--> 326\u001b[0;31m         \u001b[0mself\u001b[0m\u001b[0;34m.\u001b[0m\u001b[0mresults\u001b[0m \u001b[0;34m=\u001b[0m \u001b[0mbatch\u001b[0m\u001b[0;34m(\u001b[0m\u001b[0;34m)\u001b[0m\u001b[0;34m\u001b[0m\u001b[0m\n\u001b[0m\u001b[1;32m    327\u001b[0m \u001b[0;34m\u001b[0m\u001b[0m\n\u001b[1;32m    328\u001b[0m     \u001b[0;32mdef\u001b[0m \u001b[0mget\u001b[0m\u001b[0;34m(\u001b[0m\u001b[0mself\u001b[0m\u001b[0;34m)\u001b[0m\u001b[0;34m:\u001b[0m\u001b[0;34m\u001b[0m\u001b[0m\n",
      "\u001b[0;32m/Users/SarahsAdventure/miniconda3/lib/python3.5/site-packages/sklearn/externals/joblib/parallel.py\u001b[0m in \u001b[0;36m__call__\u001b[0;34m(self)\u001b[0m\n\u001b[1;32m    129\u001b[0m \u001b[0;34m\u001b[0m\u001b[0m\n\u001b[1;32m    130\u001b[0m     \u001b[0;32mdef\u001b[0m \u001b[0m__call__\u001b[0m\u001b[0;34m(\u001b[0m\u001b[0mself\u001b[0m\u001b[0;34m)\u001b[0m\u001b[0;34m:\u001b[0m\u001b[0;34m\u001b[0m\u001b[0m\n\u001b[0;32m--> 131\u001b[0;31m         \u001b[0;32mreturn\u001b[0m \u001b[0;34m[\u001b[0m\u001b[0mfunc\u001b[0m\u001b[0;34m(\u001b[0m\u001b[0;34m*\u001b[0m\u001b[0margs\u001b[0m\u001b[0;34m,\u001b[0m \u001b[0;34m**\u001b[0m\u001b[0mkwargs\u001b[0m\u001b[0;34m)\u001b[0m \u001b[0;32mfor\u001b[0m \u001b[0mfunc\u001b[0m\u001b[0;34m,\u001b[0m \u001b[0margs\u001b[0m\u001b[0;34m,\u001b[0m \u001b[0mkwargs\u001b[0m \u001b[0;32min\u001b[0m \u001b[0mself\u001b[0m\u001b[0;34m.\u001b[0m\u001b[0mitems\u001b[0m\u001b[0;34m]\u001b[0m\u001b[0;34m\u001b[0m\u001b[0m\n\u001b[0m\u001b[1;32m    132\u001b[0m \u001b[0;34m\u001b[0m\u001b[0m\n\u001b[1;32m    133\u001b[0m     \u001b[0;32mdef\u001b[0m \u001b[0m__len__\u001b[0m\u001b[0;34m(\u001b[0m\u001b[0mself\u001b[0m\u001b[0;34m)\u001b[0m\u001b[0;34m:\u001b[0m\u001b[0;34m\u001b[0m\u001b[0m\n",
      "\u001b[0;32m/Users/SarahsAdventure/miniconda3/lib/python3.5/site-packages/sklearn/externals/joblib/parallel.py\u001b[0m in \u001b[0;36m<listcomp>\u001b[0;34m(.0)\u001b[0m\n\u001b[1;32m    129\u001b[0m \u001b[0;34m\u001b[0m\u001b[0m\n\u001b[1;32m    130\u001b[0m     \u001b[0;32mdef\u001b[0m \u001b[0m__call__\u001b[0m\u001b[0;34m(\u001b[0m\u001b[0mself\u001b[0m\u001b[0;34m)\u001b[0m\u001b[0;34m:\u001b[0m\u001b[0;34m\u001b[0m\u001b[0m\n\u001b[0;32m--> 131\u001b[0;31m         \u001b[0;32mreturn\u001b[0m \u001b[0;34m[\u001b[0m\u001b[0mfunc\u001b[0m\u001b[0;34m(\u001b[0m\u001b[0;34m*\u001b[0m\u001b[0margs\u001b[0m\u001b[0;34m,\u001b[0m \u001b[0;34m**\u001b[0m\u001b[0mkwargs\u001b[0m\u001b[0;34m)\u001b[0m \u001b[0;32mfor\u001b[0m \u001b[0mfunc\u001b[0m\u001b[0;34m,\u001b[0m \u001b[0margs\u001b[0m\u001b[0;34m,\u001b[0m \u001b[0mkwargs\u001b[0m \u001b[0;32min\u001b[0m \u001b[0mself\u001b[0m\u001b[0;34m.\u001b[0m\u001b[0mitems\u001b[0m\u001b[0;34m]\u001b[0m\u001b[0;34m\u001b[0m\u001b[0m\n\u001b[0m\u001b[1;32m    132\u001b[0m \u001b[0;34m\u001b[0m\u001b[0m\n\u001b[1;32m    133\u001b[0m     \u001b[0;32mdef\u001b[0m \u001b[0m__len__\u001b[0m\u001b[0;34m(\u001b[0m\u001b[0mself\u001b[0m\u001b[0;34m)\u001b[0m\u001b[0;34m:\u001b[0m\u001b[0;34m\u001b[0m\u001b[0m\n",
      "\u001b[0;32m/Users/SarahsAdventure/miniconda3/lib/python3.5/site-packages/sklearn/model_selection/_validation.py\u001b[0m in \u001b[0;36m_fit_and_score\u001b[0;34m(estimator, X, y, scorer, train, test, verbose, parameters, fit_params, return_train_score, return_parameters, return_n_test_samples, return_times, error_score)\u001b[0m\n\u001b[1;32m    236\u001b[0m             \u001b[0mestimator\u001b[0m\u001b[0;34m.\u001b[0m\u001b[0mfit\u001b[0m\u001b[0;34m(\u001b[0m\u001b[0mX_train\u001b[0m\u001b[0;34m,\u001b[0m \u001b[0;34m**\u001b[0m\u001b[0mfit_params\u001b[0m\u001b[0;34m)\u001b[0m\u001b[0;34m\u001b[0m\u001b[0m\n\u001b[1;32m    237\u001b[0m         \u001b[0;32melse\u001b[0m\u001b[0;34m:\u001b[0m\u001b[0;34m\u001b[0m\u001b[0m\n\u001b[0;32m--> 238\u001b[0;31m             \u001b[0mestimator\u001b[0m\u001b[0;34m.\u001b[0m\u001b[0mfit\u001b[0m\u001b[0;34m(\u001b[0m\u001b[0mX_train\u001b[0m\u001b[0;34m,\u001b[0m \u001b[0my_train\u001b[0m\u001b[0;34m,\u001b[0m \u001b[0;34m**\u001b[0m\u001b[0mfit_params\u001b[0m\u001b[0;34m)\u001b[0m\u001b[0;34m\u001b[0m\u001b[0m\n\u001b[0m\u001b[1;32m    239\u001b[0m \u001b[0;34m\u001b[0m\u001b[0m\n\u001b[1;32m    240\u001b[0m     \u001b[0;32mexcept\u001b[0m \u001b[0mException\u001b[0m \u001b[0;32mas\u001b[0m \u001b[0me\u001b[0m\u001b[0;34m:\u001b[0m\u001b[0;34m\u001b[0m\u001b[0m\n",
      "\u001b[0;32m/Users/SarahsAdventure/miniconda3/lib/python3.5/site-packages/sklearn/neural_network/multilayer_perceptron.py\u001b[0m in \u001b[0;36mfit\u001b[0;34m(self, X, y)\u001b[0m\n\u001b[1;32m    616\u001b[0m         \u001b[0mself\u001b[0m \u001b[0;34m:\u001b[0m \u001b[0mreturns\u001b[0m \u001b[0ma\u001b[0m \u001b[0mtrained\u001b[0m \u001b[0mMLP\u001b[0m \u001b[0mmodel\u001b[0m\u001b[0;34m.\u001b[0m\u001b[0;34m\u001b[0m\u001b[0m\n\u001b[1;32m    617\u001b[0m         \"\"\"\n\u001b[0;32m--> 618\u001b[0;31m         \u001b[0;32mreturn\u001b[0m \u001b[0mself\u001b[0m\u001b[0;34m.\u001b[0m\u001b[0m_fit\u001b[0m\u001b[0;34m(\u001b[0m\u001b[0mX\u001b[0m\u001b[0;34m,\u001b[0m \u001b[0my\u001b[0m\u001b[0;34m,\u001b[0m \u001b[0mincremental\u001b[0m\u001b[0;34m=\u001b[0m\u001b[0;32mFalse\u001b[0m\u001b[0;34m)\u001b[0m\u001b[0;34m\u001b[0m\u001b[0m\n\u001b[0m\u001b[1;32m    619\u001b[0m \u001b[0;34m\u001b[0m\u001b[0m\n\u001b[1;32m    620\u001b[0m     \u001b[0;34m@\u001b[0m\u001b[0mproperty\u001b[0m\u001b[0;34m\u001b[0m\u001b[0m\n",
      "\u001b[0;32m/Users/SarahsAdventure/miniconda3/lib/python3.5/site-packages/sklearn/neural_network/multilayer_perceptron.py\u001b[0m in \u001b[0;36m_fit\u001b[0;34m(self, X, y, incremental)\u001b[0m\n\u001b[1;32m    380\u001b[0m         \u001b[0;32melif\u001b[0m \u001b[0mself\u001b[0m\u001b[0;34m.\u001b[0m\u001b[0msolver\u001b[0m \u001b[0;34m==\u001b[0m \u001b[0;34m'lbfgs'\u001b[0m\u001b[0;34m:\u001b[0m\u001b[0;34m\u001b[0m\u001b[0m\n\u001b[1;32m    381\u001b[0m             self._fit_lbfgs(X, y, activations, deltas, coef_grads,\n\u001b[0;32m--> 382\u001b[0;31m                             intercept_grads, layer_units)\n\u001b[0m\u001b[1;32m    383\u001b[0m         \u001b[0;32mreturn\u001b[0m \u001b[0mself\u001b[0m\u001b[0;34m\u001b[0m\u001b[0m\n\u001b[1;32m    384\u001b[0m \u001b[0;34m\u001b[0m\u001b[0m\n",
      "\u001b[0;32m/Users/SarahsAdventure/miniconda3/lib/python3.5/site-packages/sklearn/neural_network/multilayer_perceptron.py\u001b[0m in \u001b[0;36m_fit_lbfgs\u001b[0;34m(self, X, y, activations, deltas, coef_grads, intercept_grads, layer_units)\u001b[0m\n\u001b[1;32m    467\u001b[0m             \u001b[0miprint\u001b[0m\u001b[0;34m=\u001b[0m\u001b[0miprint\u001b[0m\u001b[0;34m,\u001b[0m\u001b[0;34m\u001b[0m\u001b[0m\n\u001b[1;32m    468\u001b[0m             \u001b[0mpgtol\u001b[0m\u001b[0;34m=\u001b[0m\u001b[0mself\u001b[0m\u001b[0;34m.\u001b[0m\u001b[0mtol\u001b[0m\u001b[0;34m,\u001b[0m\u001b[0;34m\u001b[0m\u001b[0m\n\u001b[0;32m--> 469\u001b[0;31m             args=(X, y, activations, deltas, coef_grads, intercept_grads))\n\u001b[0m\u001b[1;32m    470\u001b[0m \u001b[0;34m\u001b[0m\u001b[0m\n\u001b[1;32m    471\u001b[0m         \u001b[0mself\u001b[0m\u001b[0;34m.\u001b[0m\u001b[0m_unpack\u001b[0m\u001b[0;34m(\u001b[0m\u001b[0moptimal_parameters\u001b[0m\u001b[0;34m)\u001b[0m\u001b[0;34m\u001b[0m\u001b[0m\n",
      "\u001b[0;32m/Users/SarahsAdventure/miniconda3/lib/python3.5/site-packages/scipy/optimize/lbfgsb.py\u001b[0m in \u001b[0;36mfmin_l_bfgs_b\u001b[0;34m(func, x0, fprime, args, approx_grad, bounds, m, factr, pgtol, epsilon, iprint, maxfun, maxiter, disp, callback, maxls)\u001b[0m\n\u001b[1;32m    191\u001b[0m \u001b[0;34m\u001b[0m\u001b[0m\n\u001b[1;32m    192\u001b[0m     res = _minimize_lbfgsb(fun, x0, args=args, jac=jac, bounds=bounds,\n\u001b[0;32m--> 193\u001b[0;31m                            **opts)\n\u001b[0m\u001b[1;32m    194\u001b[0m     d = {'grad': res['jac'],\n\u001b[1;32m    195\u001b[0m          \u001b[0;34m'task'\u001b[0m\u001b[0;34m:\u001b[0m \u001b[0mres\u001b[0m\u001b[0;34m[\u001b[0m\u001b[0;34m'message'\u001b[0m\u001b[0;34m]\u001b[0m\u001b[0;34m,\u001b[0m\u001b[0;34m\u001b[0m\u001b[0m\n",
      "\u001b[0;32m/Users/SarahsAdventure/miniconda3/lib/python3.5/site-packages/scipy/optimize/lbfgsb.py\u001b[0m in \u001b[0;36m_minimize_lbfgsb\u001b[0;34m(fun, x0, args, jac, bounds, disp, maxcor, ftol, gtol, eps, maxfun, maxiter, iprint, callback, maxls, **unknown_options)\u001b[0m\n\u001b[1;32m    326\u001b[0m             \u001b[0;31m# until the completion of the current minimization iteration.\u001b[0m\u001b[0;34m\u001b[0m\u001b[0;34m\u001b[0m\u001b[0m\n\u001b[1;32m    327\u001b[0m             \u001b[0;31m# Overwrite f and g:\u001b[0m\u001b[0;34m\u001b[0m\u001b[0;34m\u001b[0m\u001b[0m\n\u001b[0;32m--> 328\u001b[0;31m             \u001b[0mf\u001b[0m\u001b[0;34m,\u001b[0m \u001b[0mg\u001b[0m \u001b[0;34m=\u001b[0m \u001b[0mfunc_and_grad\u001b[0m\u001b[0;34m(\u001b[0m\u001b[0mx\u001b[0m\u001b[0;34m)\u001b[0m\u001b[0;34m\u001b[0m\u001b[0m\n\u001b[0m\u001b[1;32m    329\u001b[0m         \u001b[0;32melif\u001b[0m \u001b[0mtask_str\u001b[0m\u001b[0;34m.\u001b[0m\u001b[0mstartswith\u001b[0m\u001b[0;34m(\u001b[0m\u001b[0;34mb'NEW_X'\u001b[0m\u001b[0;34m)\u001b[0m\u001b[0;34m:\u001b[0m\u001b[0;34m\u001b[0m\u001b[0m\n\u001b[1;32m    330\u001b[0m             \u001b[0;31m# new iteration\u001b[0m\u001b[0;34m\u001b[0m\u001b[0;34m\u001b[0m\u001b[0m\n",
      "\u001b[0;32m/Users/SarahsAdventure/miniconda3/lib/python3.5/site-packages/scipy/optimize/lbfgsb.py\u001b[0m in \u001b[0;36mfunc_and_grad\u001b[0;34m(x)\u001b[0m\n\u001b[1;32m    276\u001b[0m     \u001b[0;32melse\u001b[0m\u001b[0;34m:\u001b[0m\u001b[0;34m\u001b[0m\u001b[0m\n\u001b[1;32m    277\u001b[0m         \u001b[0;32mdef\u001b[0m \u001b[0mfunc_and_grad\u001b[0m\u001b[0;34m(\u001b[0m\u001b[0mx\u001b[0m\u001b[0;34m)\u001b[0m\u001b[0;34m:\u001b[0m\u001b[0;34m\u001b[0m\u001b[0m\n\u001b[0;32m--> 278\u001b[0;31m             \u001b[0mf\u001b[0m \u001b[0;34m=\u001b[0m \u001b[0mfun\u001b[0m\u001b[0;34m(\u001b[0m\u001b[0mx\u001b[0m\u001b[0;34m,\u001b[0m \u001b[0;34m*\u001b[0m\u001b[0margs\u001b[0m\u001b[0;34m)\u001b[0m\u001b[0;34m\u001b[0m\u001b[0m\n\u001b[0m\u001b[1;32m    279\u001b[0m             \u001b[0mg\u001b[0m \u001b[0;34m=\u001b[0m \u001b[0mjac\u001b[0m\u001b[0;34m(\u001b[0m\u001b[0mx\u001b[0m\u001b[0;34m,\u001b[0m \u001b[0;34m*\u001b[0m\u001b[0margs\u001b[0m\u001b[0;34m)\u001b[0m\u001b[0;34m\u001b[0m\u001b[0m\n\u001b[1;32m    280\u001b[0m             \u001b[0;32mreturn\u001b[0m \u001b[0mf\u001b[0m\u001b[0;34m,\u001b[0m \u001b[0mg\u001b[0m\u001b[0;34m\u001b[0m\u001b[0m\n",
      "\u001b[0;32m/Users/SarahsAdventure/miniconda3/lib/python3.5/site-packages/scipy/optimize/optimize.py\u001b[0m in \u001b[0;36mfunction_wrapper\u001b[0;34m(*wrapper_args)\u001b[0m\n\u001b[1;32m    290\u001b[0m     \u001b[0;32mdef\u001b[0m \u001b[0mfunction_wrapper\u001b[0m\u001b[0;34m(\u001b[0m\u001b[0;34m*\u001b[0m\u001b[0mwrapper_args\u001b[0m\u001b[0;34m)\u001b[0m\u001b[0;34m:\u001b[0m\u001b[0;34m\u001b[0m\u001b[0m\n\u001b[1;32m    291\u001b[0m         \u001b[0mncalls\u001b[0m\u001b[0;34m[\u001b[0m\u001b[0;36m0\u001b[0m\u001b[0;34m]\u001b[0m \u001b[0;34m+=\u001b[0m \u001b[0;36m1\u001b[0m\u001b[0;34m\u001b[0m\u001b[0m\n\u001b[0;32m--> 292\u001b[0;31m         \u001b[0;32mreturn\u001b[0m \u001b[0mfunction\u001b[0m\u001b[0;34m(\u001b[0m\u001b[0;34m*\u001b[0m\u001b[0;34m(\u001b[0m\u001b[0mwrapper_args\u001b[0m \u001b[0;34m+\u001b[0m \u001b[0margs\u001b[0m\u001b[0;34m)\u001b[0m\u001b[0;34m)\u001b[0m\u001b[0;34m\u001b[0m\u001b[0m\n\u001b[0m\u001b[1;32m    293\u001b[0m \u001b[0;34m\u001b[0m\u001b[0m\n\u001b[1;32m    294\u001b[0m     \u001b[0;32mreturn\u001b[0m \u001b[0mncalls\u001b[0m\u001b[0;34m,\u001b[0m \u001b[0mfunction_wrapper\u001b[0m\u001b[0;34m\u001b[0m\u001b[0m\n",
      "\u001b[0;32m/Users/SarahsAdventure/miniconda3/lib/python3.5/site-packages/scipy/optimize/optimize.py\u001b[0m in \u001b[0;36m__call__\u001b[0;34m(self, x, *args)\u001b[0m\n\u001b[1;32m     61\u001b[0m     \u001b[0;32mdef\u001b[0m \u001b[0m__call__\u001b[0m\u001b[0;34m(\u001b[0m\u001b[0mself\u001b[0m\u001b[0;34m,\u001b[0m \u001b[0mx\u001b[0m\u001b[0;34m,\u001b[0m \u001b[0;34m*\u001b[0m\u001b[0margs\u001b[0m\u001b[0;34m)\u001b[0m\u001b[0;34m:\u001b[0m\u001b[0;34m\u001b[0m\u001b[0m\n\u001b[1;32m     62\u001b[0m         \u001b[0mself\u001b[0m\u001b[0;34m.\u001b[0m\u001b[0mx\u001b[0m \u001b[0;34m=\u001b[0m \u001b[0mnumpy\u001b[0m\u001b[0;34m.\u001b[0m\u001b[0masarray\u001b[0m\u001b[0;34m(\u001b[0m\u001b[0mx\u001b[0m\u001b[0;34m)\u001b[0m\u001b[0;34m.\u001b[0m\u001b[0mcopy\u001b[0m\u001b[0;34m(\u001b[0m\u001b[0;34m)\u001b[0m\u001b[0;34m\u001b[0m\u001b[0m\n\u001b[0;32m---> 63\u001b[0;31m         \u001b[0mfg\u001b[0m \u001b[0;34m=\u001b[0m \u001b[0mself\u001b[0m\u001b[0;34m.\u001b[0m\u001b[0mfun\u001b[0m\u001b[0;34m(\u001b[0m\u001b[0mx\u001b[0m\u001b[0;34m,\u001b[0m \u001b[0;34m*\u001b[0m\u001b[0margs\u001b[0m\u001b[0;34m)\u001b[0m\u001b[0;34m\u001b[0m\u001b[0m\n\u001b[0m\u001b[1;32m     64\u001b[0m         \u001b[0mself\u001b[0m\u001b[0;34m.\u001b[0m\u001b[0mjac\u001b[0m \u001b[0;34m=\u001b[0m \u001b[0mfg\u001b[0m\u001b[0;34m[\u001b[0m\u001b[0;36m1\u001b[0m\u001b[0;34m]\u001b[0m\u001b[0;34m\u001b[0m\u001b[0m\n\u001b[1;32m     65\u001b[0m         \u001b[0;32mreturn\u001b[0m \u001b[0mfg\u001b[0m\u001b[0;34m[\u001b[0m\u001b[0;36m0\u001b[0m\u001b[0;34m]\u001b[0m\u001b[0;34m\u001b[0m\u001b[0m\n",
      "\u001b[0;32m/Users/SarahsAdventure/miniconda3/lib/python3.5/site-packages/sklearn/neural_network/multilayer_perceptron.py\u001b[0m in \u001b[0;36m_loss_grad_lbfgs\u001b[0;34m(self, packed_coef_inter, X, y, activations, deltas, coef_grads, intercept_grads)\u001b[0m\n\u001b[1;32m    174\u001b[0m \u001b[0;34m\u001b[0m\u001b[0m\n\u001b[1;32m    175\u001b[0m         \"\"\"\n\u001b[0;32m--> 176\u001b[0;31m         \u001b[0mself\u001b[0m\u001b[0;34m.\u001b[0m\u001b[0m_unpack\u001b[0m\u001b[0;34m(\u001b[0m\u001b[0mpacked_coef_inter\u001b[0m\u001b[0;34m)\u001b[0m\u001b[0;34m\u001b[0m\u001b[0m\n\u001b[0m\u001b[1;32m    177\u001b[0m         loss, coef_grads, intercept_grads = self._backprop(\n\u001b[1;32m    178\u001b[0m             X, y, activations, deltas, coef_grads, intercept_grads)\n",
      "\u001b[0;32m/Users/SarahsAdventure/miniconda3/lib/python3.5/site-packages/sklearn/neural_network/multilayer_perceptron.py\u001b[0m in \u001b[0;36m_unpack\u001b[0;34m(self, packed_parameters)\u001b[0m\n\u001b[1;32m     79\u001b[0m         \u001b[0;32mfor\u001b[0m \u001b[0mi\u001b[0m \u001b[0;32min\u001b[0m \u001b[0mrange\u001b[0m\u001b[0;34m(\u001b[0m\u001b[0mself\u001b[0m\u001b[0;34m.\u001b[0m\u001b[0mn_layers_\u001b[0m \u001b[0;34m-\u001b[0m \u001b[0;36m1\u001b[0m\u001b[0;34m)\u001b[0m\u001b[0;34m:\u001b[0m\u001b[0;34m\u001b[0m\u001b[0m\n\u001b[1;32m     80\u001b[0m             \u001b[0mstart\u001b[0m\u001b[0;34m,\u001b[0m \u001b[0mend\u001b[0m\u001b[0;34m,\u001b[0m \u001b[0mshape\u001b[0m \u001b[0;34m=\u001b[0m \u001b[0mself\u001b[0m\u001b[0;34m.\u001b[0m\u001b[0m_coef_indptr\u001b[0m\u001b[0;34m[\u001b[0m\u001b[0mi\u001b[0m\u001b[0;34m]\u001b[0m\u001b[0;34m\u001b[0m\u001b[0m\n\u001b[0;32m---> 81\u001b[0;31m             \u001b[0mself\u001b[0m\u001b[0;34m.\u001b[0m\u001b[0mcoefs_\u001b[0m\u001b[0;34m[\u001b[0m\u001b[0mi\u001b[0m\u001b[0;34m]\u001b[0m \u001b[0;34m=\u001b[0m \u001b[0mnp\u001b[0m\u001b[0;34m.\u001b[0m\u001b[0mreshape\u001b[0m\u001b[0;34m(\u001b[0m\u001b[0mpacked_parameters\u001b[0m\u001b[0;34m[\u001b[0m\u001b[0mstart\u001b[0m\u001b[0;34m:\u001b[0m\u001b[0mend\u001b[0m\u001b[0;34m]\u001b[0m\u001b[0;34m,\u001b[0m \u001b[0mshape\u001b[0m\u001b[0;34m)\u001b[0m\u001b[0;34m\u001b[0m\u001b[0m\n\u001b[0m\u001b[1;32m     82\u001b[0m \u001b[0;34m\u001b[0m\u001b[0m\n\u001b[1;32m     83\u001b[0m             \u001b[0mstart\u001b[0m\u001b[0;34m,\u001b[0m \u001b[0mend\u001b[0m \u001b[0;34m=\u001b[0m \u001b[0mself\u001b[0m\u001b[0;34m.\u001b[0m\u001b[0m_intercept_indptr\u001b[0m\u001b[0;34m[\u001b[0m\u001b[0mi\u001b[0m\u001b[0;34m]\u001b[0m\u001b[0;34m\u001b[0m\u001b[0m\n",
      "\u001b[0;32m/Users/SarahsAdventure/miniconda3/lib/python3.5/site-packages/numpy/core/fromnumeric.py\u001b[0m in \u001b[0;36mreshape\u001b[0;34m(a, newshape, order)\u001b[0m\n\u001b[1;32m    222\u001b[0m     \u001b[0;32mexcept\u001b[0m \u001b[0mAttributeError\u001b[0m\u001b[0;34m:\u001b[0m\u001b[0;34m\u001b[0m\u001b[0m\n\u001b[1;32m    223\u001b[0m         \u001b[0;32mreturn\u001b[0m \u001b[0m_wrapit\u001b[0m\u001b[0;34m(\u001b[0m\u001b[0ma\u001b[0m\u001b[0;34m,\u001b[0m \u001b[0;34m'reshape'\u001b[0m\u001b[0;34m,\u001b[0m \u001b[0mnewshape\u001b[0m\u001b[0;34m,\u001b[0m \u001b[0morder\u001b[0m\u001b[0;34m=\u001b[0m\u001b[0morder\u001b[0m\u001b[0;34m)\u001b[0m\u001b[0;34m\u001b[0m\u001b[0m\n\u001b[0;32m--> 224\u001b[0;31m     \u001b[0;32mreturn\u001b[0m \u001b[0mreshape\u001b[0m\u001b[0;34m(\u001b[0m\u001b[0mnewshape\u001b[0m\u001b[0;34m,\u001b[0m \u001b[0morder\u001b[0m\u001b[0;34m=\u001b[0m\u001b[0morder\u001b[0m\u001b[0;34m)\u001b[0m\u001b[0;34m\u001b[0m\u001b[0m\n\u001b[0m\u001b[1;32m    225\u001b[0m \u001b[0;34m\u001b[0m\u001b[0m\n\u001b[1;32m    226\u001b[0m \u001b[0;34m\u001b[0m\u001b[0m\n",
      "\u001b[0;31mKeyboardInterrupt\u001b[0m: "
     ]
    }
   ],
   "source": [
    "mlpgs.fit(combx,comby)\n",
    "mlpgs.score(combx,comby)"
   ]
  },
  {
   "cell_type": "code",
   "execution_count": null,
   "metadata": {
    "collapsed": true
   },
   "outputs": [],
   "source": [
    "predict_combx = mlpgs.predict(combx)"
   ]
  },
  {
   "cell_type": "code",
   "execution_count": null,
   "metadata": {
    "collapsed": false
   },
   "outputs": [],
   "source": [
    "plt.figure(figsize=(10,8))\n",
    "plt.scatter(comby,predict_combx,s=0.5,color='blue')\n",
    "plt.title('Prediction on training data')\n",
    "plt.plot(np.linspace(0,25,1000),np.linspace(0,25,1000),color='black')\n",
    "plt.xlim((0,25))\n",
    "plt.ylim((0,25))\n",
    "plt.xlabel(\"Experiment($S*m^2/mol$)\")\n",
    "plt.ylabel(\"Prediction($S*m^2/mol$)\")"
   ]
  },
  {
   "cell_type": "code",
   "execution_count": null,
   "metadata": {
    "collapsed": true
   },
   "outputs": [],
   "source": [
    "combsur = comb.drop(['Pb',],axis=1).as_matrix()"
   ]
  },
  {
   "cell_type": "code",
   "execution_count": null,
   "metadata": {
    "collapsed": false
   },
   "outputs": [],
   "source": [
    "combsur"
   ]
  },
  {
   "cell_type": "code",
   "execution_count": null,
   "metadata": {
    "collapsed": true
   },
   "outputs": [],
   "source": []
  }
 ],
 "metadata": {
  "anaconda-cloud": {},
  "kernelspec": {
   "display_name": "Python [default]",
   "language": "python",
   "name": "python3"
  },
  "language_info": {
   "codemirror_mode": {
    "name": "ipython",
    "version": 3
   },
   "file_extension": ".py",
   "mimetype": "text/x-python",
   "name": "python",
   "nbconvert_exporter": "python",
   "pygments_lexer": "ipython3",
   "version": "3.5.0"
  }
 },
 "nbformat": 4,
 "nbformat_minor": 2
}
